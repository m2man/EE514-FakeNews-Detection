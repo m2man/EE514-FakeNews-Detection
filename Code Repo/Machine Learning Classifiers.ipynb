{
 "cells": [
  {
   "cell_type": "markdown",
   "metadata": {},
   "source": [
    "# Machine Learning Classifiers\n",
    "Run several machine learning classifiers (SVM, RF, Logistic Regression) with 24 basic features as well as BOW and TFIDF embedding features. Also calculate feature importance from RF, and feature selection on Logistic Regression"
   ]
  },
  {
   "cell_type": "code",
   "execution_count": 1,
   "metadata": {},
   "outputs": [
    {
     "name": "stderr",
     "output_type": "stream",
     "text": [
      "/home/nmduy/anaconda3/envs/graph/lib/python3.7/site-packages/sklearn/utils/deprecation.py:143: FutureWarning: The sklearn.metrics.ranking module is  deprecated in version 0.22 and will be removed in version 0.24. The corresponding classes / functions should instead be imported from sklearn.metrics. Anything that cannot be imported from sklearn.metrics is now part of the private API.\n",
      "  warnings.warn(message, FutureWarning)\n"
     ]
    }
   ],
   "source": [
    "import seaborn as sns\n",
    "import matplotlib.pyplot as plt\n",
    "\n",
    "from myfunctions import *\n",
    "from sklearn.feature_extraction.text import CountVectorizer\n",
    "from sklearn.feature_extraction.text import TfidfVectorizer\n",
    "from sklearn.preprocessing import StandardScaler\n",
    "import joblib\n",
    "\n",
    "from sklearn.model_selection import GridSearchCV\n",
    "from sklearn.linear_model import LogisticRegression\n",
    "from sklearn.neural_network import MLPClassifier\n",
    "from sklearn.ensemble import RandomForestClassifier\n",
    "from sklearn.inspection import permutation_importance\n",
    "from sklearn.pipeline import make_pipeline, Pipeline\n",
    "from sklearn.svm import SVC\n",
    "\n",
    "# Normalize data function\n",
    "def normalize_data(X, list_mean=[], list_std=[]):\n",
    "    nrow, ncol = X.shape\n",
    "    if len(list_mean) == 0 or len(list_std) == 0:\n",
    "        x_mean = np.asarray(np.mean(X, axis=0))\n",
    "        x_std = np.std(X, axis=0)\n",
    "        list_mean = list(x_mean)\n",
    "        list_std = list(x_std)\n",
    "    else:\n",
    "        x_mean = np.asarray(list_mean)\n",
    "        x_std = np.asarray(list_std)\n",
    "    x_mean = x_mean.reshape(1,-1)\n",
    "    x_std = x_std.reshape(1, -1)\n",
    "    x_mean = np.repeat(x_mean, nrow, axis=0)\n",
    "    x_std = np.repeat(x_std, nrow, axis=0)\n",
    "    X_norm = (X - x_mean) / x_std\n",
    "    return X_norm, list_mean, list_std"
   ]
  },
  {
   "cell_type": "markdown",
   "metadata": {
    "heading_collapsed": true
   },
   "source": [
    "# Extract Features\n",
    "This section to extract 24 features from the dataset. Warning: take a while to finish. Therefore I extracted and save into joblib files (Can skip this part)"
   ]
  },
  {
   "cell_type": "code",
   "execution_count": 3,
   "metadata": {
    "hidden": true
   },
   "outputs": [
    {
     "name": "stdout",
     "output_type": "stream",
     "text": [
      "===== TRAINING SAMPLES =====\n",
      "Total Sample: 17171\n",
      "Sarcastic: 8180 (47.64%)\n",
      "Not Sarcastic: 8991 (52.36%)\n",
      "===== VALIDATING SAMPLES =====\n",
      "Total Sample: 4293\n",
      "Sarcastic: 2045 (47.64%)\n",
      "Not Sarcastic: 2248 (52.36%)\n",
      "===== TESTING SAMPLES =====\n",
      "Total Sample: 7155\n",
      "Sarcastic: 3409 (47.65%)\n",
      "Not Sarcastic: 3746 (52.35%)\n"
     ]
    }
   ],
   "source": [
    "data_full = pd.read_json('fake_news.json', lines=True)\n",
    "data_full = data_full.drop(columns=['article_link']) # remove link column\n",
    "df_train_f, df_test = split_dataframe(data_full, test_size=0.25, seed=1509)\n",
    "df_train, df_validate = split_dataframe(df_train_f, test_size=0.2, seed=1309)\n",
    "\n",
    "# Proportion of each subsets\n",
    "list_label = df_train['is_sarcastic'].tolist()\n",
    "numb_total = len(list_label)\n",
    "numb_sarcastic = np.sum(np.asarray(list_label))\n",
    "numb_not_sarcastic = numb_total - numb_sarcastic\n",
    "print(f'===== TRAINING SAMPLES =====\\nTotal Sample: {numb_total}\\nSarcastic: {numb_sarcastic} ({np.round(numb_sarcastic/numb_total*100,2)}%)\\nNot Sarcastic: {numb_not_sarcastic} ({np.round(numb_not_sarcastic/numb_total*100,2)}%)')\n",
    "\n",
    "list_label = df_validate['is_sarcastic'].tolist()\n",
    "numb_total = len(list_label)\n",
    "numb_sarcastic = np.sum(np.asarray(list_label))\n",
    "numb_not_sarcastic = numb_total - numb_sarcastic\n",
    "print(f'===== VALIDATING SAMPLES =====\\nTotal Sample: {numb_total}\\nSarcastic: {numb_sarcastic} ({np.round(numb_sarcastic/numb_total*100,2)}%)\\nNot Sarcastic: {numb_not_sarcastic} ({np.round(numb_not_sarcastic/numb_total*100,2)}%)')\n",
    "\n",
    "list_label = df_test['is_sarcastic'].tolist()\n",
    "numb_total = len(list_label)\n",
    "numb_sarcastic = np.sum(np.asarray(list_label))\n",
    "numb_not_sarcastic = numb_total - numb_sarcastic\n",
    "print(f'===== TESTING SAMPLES =====\\nTotal Sample: {numb_total}\\nSarcastic: {numb_sarcastic} ({np.round(numb_sarcastic/numb_total*100,2)}%)\\nNot Sarcastic: {numb_not_sarcastic} ({np.round(numb_not_sarcastic/numb_total*100,2)}%)')\n",
    "\n",
    "data_train = df_train.copy()\n",
    "data_train_f = df_train_f.copy()\n",
    "data_val = df_validate.copy()\n",
    "data_test = df_test.copy()"
   ]
  },
  {
   "cell_type": "code",
   "execution_count": 4,
   "metadata": {
    "hidden": true
   },
   "outputs": [],
   "source": [
    "def extract_feature_basic(data_input):\n",
    "    '''\n",
    "    Input: data is the dataframe with only is_sarcastic and headline column\n",
    "    Output: data with full features (except headline column)\n",
    "    '''\n",
    "    data = data_input.copy()\n",
    "    data['len_headline'] = data.headline.apply(lambda row: count_word(row)) # count words in title\n",
    "    data['headline_s1'] = data.headline.apply(lambda row: remove_symbol(row))\n",
    "    data['len_headline_s1'] = data.headline_s1.apply(lambda row: count_word(row))    \n",
    "    \n",
    "    data['len_char_s1'] = data.headline_s1.apply(lambda row: len(row))\n",
    "    data['len_char_headline'] = data.headline.apply(lambda row: len(row))\n",
    "    data['count_symbol'] = data.len_char_headline - data.len_char_s1\n",
    "    data['count_symbol_norm'] = data.count_symbol / data.len_char_headline\n",
    "    \n",
    "    data['headline_s2'] = data.headline_s1.apply(lambda row: lemmatize_word(row, 'v'))\n",
    "    data['headline_s2'] = data.headline_s2.apply(lambda row: lemmatize_word(row, 'n'))\n",
    "    data['len_headline_s2'] = data.headline_s2.apply(lambda row: count_word(row))\n",
    "    data['count_lemmatized'] = count_lemmatized_word(data, 'headline_s1', 'headline_s2')\n",
    "    data['ratio_lemmatized'] = data['count_lemmatized'] / data['len_headline_s1']\n",
    "    data['headline_s3'] = data.headline_s2.apply(lambda row: remove_stop_words(row))\n",
    "    data['len_headline_s3'] = data.headline_s3.apply(lambda row: count_word(row))\n",
    "    data['numb_stopwords'] = data['len_headline_s2'] - data['len_headline_s3']\n",
    "    data['ratio_stopwords'] = data['numb_stopwords'] / data['len_headline_s2']\n",
    "    data['min_len_word'] = data.headline_s1.apply(lambda row: min_len_word(row))\n",
    "    data['max_len_word'] = data.headline_s1.apply(lambda row: max_len_word(row))\n",
    "    data['avg_len_word'] = data.headline_s1.apply(lambda row: avg_len_word(row))\n",
    "    data['max_syl_word'] = data.headline_s1.apply(lambda row: max_syl_word(row))\n",
    "    data['avg_syl_word'] = data.headline_s1.apply(lambda row: avg_syl_word(row))\n",
    "    data['numb_syl'] = data.headline_s1.apply(lambda row: count_syllable(row))\n",
    "    data['norm_numb_syl'] = data.numb_syl / data.len_headline_s1\n",
    "    data['flesch_grade_score'] = data.headline.apply(lambda row: textstat.flesch_kincaid_grade(row))\n",
    "    data['ari_score'] = data.headline.apply(lambda row: textstat.automated_readability_index(row))\n",
    "    data['coleman_score'] = data.headline.apply(lambda row: textstat.coleman_liau_index(row))\n",
    "    data['linsear_score'] = data.headline.apply(lambda row: textstat.linsear_write_formula(row))\n",
    "    data['dale_score'] = data.headline.apply(lambda row: textstat.dale_chall_readability_score(row))\n",
    "    data['standard_score'] = data.headline.apply(lambda row: textstat.text_standard(row, float_output=True))\n",
    "    data['numb_NN'] = data.headline.apply(lambda row: count_noun(row))\n",
    "    data['numb_VED'] = data.headline.apply(lambda row: count_verb_past(row))\n",
    "    data['numb_VB'] = data.headline.apply(lambda row: count_verb_present(row))\n",
    "    data['numb_VING'] = data.headline.apply(lambda row: count_verb_ing(row))\n",
    "    data['numb_ADJ'] = data.headline.apply(lambda row: count_adj(row))\n",
    "    data['numb_ADV'] = data.headline.apply(lambda row: count_adv(row))\n",
    "    data['numb_DT'] = data.headline.apply(lambda row: count_DT(row))\n",
    "    data['numb_CD'] = data.headline.apply(lambda row: count_CD(row))\n",
    "    data['numb_PR'] = data.headline.apply(lambda row: count_pronoun(row))\n",
    "    data['norm_numb_NN'] = data['numb_NN'] / data['len_headline']\n",
    "    data['norm_numb_VED'] = data['numb_VED'] / data['len_headline']\n",
    "    data['norm_numb_VB'] = data['numb_VB'] / data['len_headline']\n",
    "    data['norm_numb_VING'] = data['numb_VING'] / data['len_headline']\n",
    "    data['norm_numb_ADJ'] = data['numb_ADJ'] / data['len_headline']\n",
    "    data['norm_numb_ADV'] = data['numb_ADV'] / data['len_headline']\n",
    "    data['norm_numb_DT'] = data['numb_DT'] / data['len_headline']\n",
    "    data['norm_numb_CD'] = data['numb_CD'] / data['len_headline']\n",
    "    data['norm_numb_PR'] = data['numb_PR'] / data['len_headline']\n",
    "        \n",
    "    data_ft = data.drop(columns=['numb_syl', 'count_symbol', 'len_char_s1', 'len_char_headline',\n",
    "                                 'count_lemmatized', 'numb_stopwords', 'norm_numb_syl',\n",
    "                                 'len_headline_s1', 'len_headline_s2', 'len_headline_s3', \n",
    "                                 'headline', 'headline_s1', 'headline_s2', 'headline_s3', \n",
    "                                 'numb_NN', 'numb_VED', 'numb_VB', 'numb_VING', \n",
    "                                 'numb_ADJ', 'numb_ADV', 'numb_DT', 'numb_CD', 'numb_PR'])\n",
    "    \n",
    "    return data_ft"
   ]
  },
  {
   "cell_type": "code",
   "execution_count": 6,
   "metadata": {
    "hidden": true
   },
   "outputs": [
    {
     "data": {
      "text/plain": [
       "['data_train_f_basic_ft.joblib']"
      ]
     },
     "execution_count": 6,
     "metadata": {},
     "output_type": "execute_result"
    }
   ],
   "source": [
    "data_train_ft = extract_feature_basic(data_train)\n",
    "data_train_ft = extract_feature_basic(data_train_f)\n",
    "data_val_ft = extract_feature_basic(data_val)\n",
    "data_test_ft = extract_feature_basic(data_test)\n",
    "\n",
    "joblib.dump(data_train_ft, 'data_train_basic_ft.joblib')\n",
    "joblib.dump(data_train_ft, 'data_train_f_basic_ft.joblib')\n",
    "joblib.dump(data_val_ft, 'data_val_basic_ft.joblib')\n",
    "joblib.dump(data_test_ft, 'data_test_basic_ft.joblib')"
   ]
  },
  {
   "cell_type": "markdown",
   "metadata": {
    "heading_collapsed": true
   },
   "source": [
    "# Prepare Features\n",
    "Load extracted features from joblib and create X and Y matrix"
   ]
  },
  {
   "cell_type": "code",
   "execution_count": 2,
   "metadata": {
    "hidden": true
   },
   "outputs": [],
   "source": [
    "data_train_f_ft = joblib.load('data_train_f_basic_ft.joblib')\n",
    "data_train_ft = joblib.load('data_train_basic_ft.joblib')\n",
    "data_val_ft = joblib.load('data_val_basic_ft.joblib')\n",
    "data_test_ft = joblib.load('data_test_basic_ft.joblib')"
   ]
  },
  {
   "cell_type": "code",
   "execution_count": 3,
   "metadata": {
    "hidden": true
   },
   "outputs": [],
   "source": [
    "X_train_f = data_train_f_ft.drop(columns=['is_sarcastic'])\n",
    "y_train_f = data_train_f_ft['is_sarcastic']\n",
    "X_train_f = np.asarray(X_train_f)\n",
    "y_train_f = np.asarray(y_train_f)\n",
    "\n",
    "X_train = data_train_ft.drop(columns=['is_sarcastic'])\n",
    "y_train = data_train_ft['is_sarcastic']\n",
    "X_train = np.asarray(X_train)\n",
    "y_train = np.asarray(y_train)\n",
    "\n",
    "X_val = data_val_ft.drop(columns=['is_sarcastic'])\n",
    "y_val = data_val_ft['is_sarcastic']\n",
    "X_val = np.asarray(X_val)\n",
    "y_val = np.asarray(y_val)\n",
    "\n",
    "X_test = data_test_ft.drop(columns=['is_sarcastic'])\n",
    "y_test = data_test_ft['is_sarcastic']\n",
    "X_test = np.asarray(X_test)\n",
    "y_test = np.asarray(y_test)\n",
    "\n",
    "feature_names = list(data_val_ft.drop(columns=['is_sarcastic']).columns)"
   ]
  },
  {
   "cell_type": "markdown",
   "metadata": {},
   "source": [
    "# Basic Features\n",
    "Run classifiers with 24 basic features. All were run with cross validation GridSearch to find the best hyper-parameters. Note that I ran the cross validation on the combined set of training and validating data. Then chose the best parameters to train again on training set and evaluate on validating set"
   ]
  },
  {
   "cell_type": "markdown",
   "metadata": {
    "heading_collapsed": true
   },
   "source": [
    "## Random Forest\n",
    "This include plotting feature importance "
   ]
  },
  {
   "cell_type": "code",
   "execution_count": 9,
   "metadata": {
    "hidden": true
   },
   "outputs": [
    {
     "name": "stdout",
     "output_type": "stream",
     "text": [
      "Fitting 5 folds for each of 180 candidates, totalling 900 fits\n"
     ]
    },
    {
     "name": "stderr",
     "output_type": "stream",
     "text": [
      "[Parallel(n_jobs=-1)]: Using backend LokyBackend with 16 concurrent workers.\n",
      "[Parallel(n_jobs=-1)]: Done  18 tasks      | elapsed:    5.8s\n",
      "[Parallel(n_jobs=-1)]: Done 168 tasks      | elapsed:   50.0s\n",
      "[Parallel(n_jobs=-1)]: Done 418 tasks      | elapsed:  2.9min\n",
      "[Parallel(n_jobs=-1)]: Done 768 tasks      | elapsed:  6.4min\n",
      "[Parallel(n_jobs=-1)]: Done 900 out of 900 | elapsed:  7.8min finished\n"
     ]
    },
    {
     "name": "stdout",
     "output_type": "stream",
     "text": [
      "Best OOB Score: 0.7258664541791846\n",
      "Best paras: {'max_depth': 15, 'min_samples_leaf': 2, 'min_samples_split': 7, 'n_estimators': 500}\n"
     ]
    }
   ],
   "source": [
    "hypara = {\n",
    "    'max_depth': [5, 10, 15, 20, 25, 30],\n",
    "    'n_estimators': [100, 200, 300, 400, 500],\n",
    "    'min_samples_split': [5, 7, 10],\n",
    "    'min_samples_leaf': [2, 5],\n",
    "}\n",
    "\n",
    "model_cv_rf = GridSearchCV(RandomForestClassifier(random_state=1509), hypara, verbose=1, n_jobs=-1)\n",
    "model_cv_rf.fit(X_train_f, y_train_f);\n",
    "print(f\"Best OOB Score: {model_cv_rf.best_score_}\")\n",
    "print(f\"Best paras: {model_cv_rf.best_params_}\")"
   ]
  },
  {
   "cell_type": "code",
   "execution_count": 4,
   "metadata": {
    "hidden": true
   },
   "outputs": [
    {
     "name": "stdout",
     "output_type": "stream",
     "text": [
      "Train Result:\n",
      "{'accuracy': 0.9014035292062198, 'precision': 0.8864529965447396, 'recall': 0.9095354523227384, 'f1': 0.897845893923852, 'tp': 7440, 'tn': 8038, 'fp': 953, 'fn': 740, 'auc': 0.9711388514295333}\n",
      "Validate Result:\n",
      "{'accuracy': 0.7239692522711391, 'precision': 0.7049571020019065, 'recall': 0.7232273838630807, 'f1': 0.713975380159305, 'tp': 1479, 'tn': 1629, 'fp': 619, 'fn': 566, 'auc': 0.803400577748001}\n"
     ]
    }
   ],
   "source": [
    "hypara = {\n",
    "    'random_state': 1509,\n",
    "    'max_depth': 15,\n",
    "    'n_estimators': 500,\n",
    "    'min_samples_split': 7,\n",
    "    'min_samples_leaf': 2,\n",
    "}\n",
    "model_rf = RandomForestClassifier(**hypara)\n",
    "model_rf.fit(X_train, y_train);\n",
    "\n",
    "\n",
    "train_pred = model_rf.predict_proba(X_train)\n",
    "train_pred = train_pred[:,1]\n",
    "metrics = calculate_metric(y_train, train_pred)\n",
    "print('Train Result:')\n",
    "print(metrics)\n",
    "\n",
    "val_pred = model_rf.predict_proba(X_val)\n",
    "val_pred = val_pred[:,1]\n",
    "metrics = calculate_metric(y_val, val_pred)\n",
    "print('Validate Result:')\n",
    "print(metrics)\n"
   ]
  },
  {
   "cell_type": "code",
   "execution_count": 5,
   "metadata": {
    "hidden": true
   },
   "outputs": [],
   "source": [
    "result = permutation_importance(model_rf, X_train, y_train, n_repeats=10,\n",
    "                                random_state=1509, n_jobs=-1)\n",
    "sorted_idx = result.importances_mean.argsort()"
   ]
  },
  {
   "cell_type": "code",
   "execution_count": 18,
   "metadata": {
    "hidden": true
   },
   "outputs": [
    {
     "data": {
      "text/html": [
       "<div>\n",
       "<style scoped>\n",
       "    .dataframe tbody tr th:only-of-type {\n",
       "        vertical-align: middle;\n",
       "    }\n",
       "\n",
       "    .dataframe tbody tr th {\n",
       "        vertical-align: top;\n",
       "    }\n",
       "\n",
       "    .dataframe thead th {\n",
       "        text-align: right;\n",
       "    }\n",
       "</style>\n",
       "<table border=\"1\" class=\"dataframe\">\n",
       "  <thead>\n",
       "    <tr style=\"text-align: right;\">\n",
       "      <th></th>\n",
       "      <th>max_syl_word</th>\n",
       "      <th>norm_numb_CD</th>\n",
       "      <th>max_len_word</th>\n",
       "      <th>standard_score</th>\n",
       "      <th>avg_syl_word</th>\n",
       "      <th>norm_numb_PR</th>\n",
       "      <th>linsear_score</th>\n",
       "      <th>avg_len_word</th>\n",
       "      <th>flesch_grade_score</th>\n",
       "      <th>coleman_score</th>\n",
       "      <th>...</th>\n",
       "      <th>norm_numb_VB</th>\n",
       "      <th>min_len_word</th>\n",
       "      <th>dale_score</th>\n",
       "      <th>norm_numb_NN</th>\n",
       "      <th>len_headline</th>\n",
       "      <th>norm_numb_ADJ</th>\n",
       "      <th>norm_numb_ADV</th>\n",
       "      <th>ratio_stopwords</th>\n",
       "      <th>count_symbol_norm</th>\n",
       "      <th>norm_numb_DT</th>\n",
       "    </tr>\n",
       "  </thead>\n",
       "  <tbody>\n",
       "    <tr>\n",
       "      <th>0</th>\n",
       "      <td>0.006756</td>\n",
       "      <td>0.009959</td>\n",
       "      <td>0.014152</td>\n",
       "      <td>0.017355</td>\n",
       "      <td>0.022247</td>\n",
       "      <td>0.025799</td>\n",
       "      <td>0.025217</td>\n",
       "      <td>0.026848</td>\n",
       "      <td>0.026091</td>\n",
       "      <td>0.026440</td>\n",
       "      <td>...</td>\n",
       "      <td>0.030808</td>\n",
       "      <td>0.031448</td>\n",
       "      <td>0.033778</td>\n",
       "      <td>0.033137</td>\n",
       "      <td>0.035409</td>\n",
       "      <td>0.035583</td>\n",
       "      <td>0.055093</td>\n",
       "      <td>0.055209</td>\n",
       "      <td>0.088288</td>\n",
       "      <td>0.106051</td>\n",
       "    </tr>\n",
       "    <tr>\n",
       "      <th>1</th>\n",
       "      <td>0.007454</td>\n",
       "      <td>0.010774</td>\n",
       "      <td>0.014676</td>\n",
       "      <td>0.017704</td>\n",
       "      <td>0.021606</td>\n",
       "      <td>0.025042</td>\n",
       "      <td>0.025974</td>\n",
       "      <td>0.027139</td>\n",
       "      <td>0.027197</td>\n",
       "      <td>0.027022</td>\n",
       "      <td>...</td>\n",
       "      <td>0.030924</td>\n",
       "      <td>0.031332</td>\n",
       "      <td>0.033836</td>\n",
       "      <td>0.033603</td>\n",
       "      <td>0.036224</td>\n",
       "      <td>0.036923</td>\n",
       "      <td>0.051832</td>\n",
       "      <td>0.056199</td>\n",
       "      <td>0.087531</td>\n",
       "      <td>0.107682</td>\n",
       "    </tr>\n",
       "    <tr>\n",
       "      <th>2</th>\n",
       "      <td>0.007338</td>\n",
       "      <td>0.009202</td>\n",
       "      <td>0.013977</td>\n",
       "      <td>0.017530</td>\n",
       "      <td>0.021082</td>\n",
       "      <td>0.024402</td>\n",
       "      <td>0.025275</td>\n",
       "      <td>0.026149</td>\n",
       "      <td>0.026382</td>\n",
       "      <td>0.025566</td>\n",
       "      <td>...</td>\n",
       "      <td>0.031623</td>\n",
       "      <td>0.032380</td>\n",
       "      <td>0.031681</td>\n",
       "      <td>0.035117</td>\n",
       "      <td>0.035700</td>\n",
       "      <td>0.038437</td>\n",
       "      <td>0.051599</td>\n",
       "      <td>0.057131</td>\n",
       "      <td>0.087240</td>\n",
       "      <td>0.106866</td>\n",
       "    </tr>\n",
       "    <tr>\n",
       "      <th>3</th>\n",
       "      <td>0.007804</td>\n",
       "      <td>0.009551</td>\n",
       "      <td>0.013744</td>\n",
       "      <td>0.017355</td>\n",
       "      <td>0.023295</td>\n",
       "      <td>0.025974</td>\n",
       "      <td>0.025566</td>\n",
       "      <td>0.027838</td>\n",
       "      <td>0.026731</td>\n",
       "      <td>0.027255</td>\n",
       "      <td>...</td>\n",
       "      <td>0.031973</td>\n",
       "      <td>0.031973</td>\n",
       "      <td>0.033545</td>\n",
       "      <td>0.034418</td>\n",
       "      <td>0.036399</td>\n",
       "      <td>0.037622</td>\n",
       "      <td>0.052530</td>\n",
       "      <td>0.055559</td>\n",
       "      <td>0.086425</td>\n",
       "      <td>0.105469</td>\n",
       "    </tr>\n",
       "    <tr>\n",
       "      <th>4</th>\n",
       "      <td>0.007746</td>\n",
       "      <td>0.010483</td>\n",
       "      <td>0.012638</td>\n",
       "      <td>0.018636</td>\n",
       "      <td>0.021373</td>\n",
       "      <td>0.025392</td>\n",
       "      <td>0.026323</td>\n",
       "      <td>0.026556</td>\n",
       "      <td>0.026556</td>\n",
       "      <td>0.026149</td>\n",
       "      <td>...</td>\n",
       "      <td>0.030051</td>\n",
       "      <td>0.033778</td>\n",
       "      <td>0.033778</td>\n",
       "      <td>0.033953</td>\n",
       "      <td>0.036632</td>\n",
       "      <td>0.038029</td>\n",
       "      <td>0.053055</td>\n",
       "      <td>0.055734</td>\n",
       "      <td>0.086308</td>\n",
       "      <td>0.108439</td>\n",
       "    </tr>\n",
       "  </tbody>\n",
       "</table>\n",
       "<p>5 rows × 24 columns</p>\n",
       "</div>"
      ],
      "text/plain": [
       "   max_syl_word  norm_numb_CD  max_len_word  standard_score  avg_syl_word  \\\n",
       "0      0.006756      0.009959      0.014152        0.017355      0.022247   \n",
       "1      0.007454      0.010774      0.014676        0.017704      0.021606   \n",
       "2      0.007338      0.009202      0.013977        0.017530      0.021082   \n",
       "3      0.007804      0.009551      0.013744        0.017355      0.023295   \n",
       "4      0.007746      0.010483      0.012638        0.018636      0.021373   \n",
       "\n",
       "   norm_numb_PR  linsear_score  avg_len_word  flesch_grade_score  \\\n",
       "0      0.025799       0.025217      0.026848            0.026091   \n",
       "1      0.025042       0.025974      0.027139            0.027197   \n",
       "2      0.024402       0.025275      0.026149            0.026382   \n",
       "3      0.025974       0.025566      0.027838            0.026731   \n",
       "4      0.025392       0.026323      0.026556            0.026556   \n",
       "\n",
       "   coleman_score  ...  norm_numb_VB  min_len_word  dale_score  norm_numb_NN  \\\n",
       "0       0.026440  ...      0.030808      0.031448    0.033778      0.033137   \n",
       "1       0.027022  ...      0.030924      0.031332    0.033836      0.033603   \n",
       "2       0.025566  ...      0.031623      0.032380    0.031681      0.035117   \n",
       "3       0.027255  ...      0.031973      0.031973    0.033545      0.034418   \n",
       "4       0.026149  ...      0.030051      0.033778    0.033778      0.033953   \n",
       "\n",
       "   len_headline  norm_numb_ADJ  norm_numb_ADV  ratio_stopwords  \\\n",
       "0      0.035409       0.035583       0.055093         0.055209   \n",
       "1      0.036224       0.036923       0.051832         0.056199   \n",
       "2      0.035700       0.038437       0.051599         0.057131   \n",
       "3      0.036399       0.037622       0.052530         0.055559   \n",
       "4      0.036632       0.038029       0.053055         0.055734   \n",
       "\n",
       "   count_symbol_norm  norm_numb_DT  \n",
       "0           0.088288      0.106051  \n",
       "1           0.087531      0.107682  \n",
       "2           0.087240      0.106866  \n",
       "3           0.086425      0.105469  \n",
       "4           0.086308      0.108439  \n",
       "\n",
       "[5 rows x 24 columns]"
      ]
     },
     "execution_count": 18,
     "metadata": {},
     "output_type": "execute_result"
    }
   ],
   "source": [
    "values = result.importances[sorted_idx].T\n",
    "labels= np.asarray(feature_names)[sorted_idx]\n",
    "ft_imp_df = pd.DataFrame()\n",
    "for idx in range(values.shape[1]):\n",
    "    ft_imp_df[labels[idx]] = values[:,idx]\n",
    "ft_imp_df.head()"
   ]
  },
  {
   "cell_type": "code",
   "execution_count": 25,
   "metadata": {
    "hidden": true
   },
   "outputs": [
    {
     "data": {
      "image/png": "[encoded data removed]",
      "text/plain": [
       "<Figure size 1584x864 with 1 Axes>"
      ]
     },
     "metadata": {
      "needs_background": "light"
     },
     "output_type": "display_data"
    }
   ],
   "source": [
    "plt.figure(figsize=(22,12))\n",
    "\n",
    "sns.boxplot(data=ft_imp_df, orient=\"h\", color=\"#35dbd0\")\n",
    "plt.xlabel('Feature importance', fontsize=20)\n",
    "plt.ylabel('Feature Names', fontsize=20)\n",
    "plt.tick_params(axis='both', which='major', labelsize=17)\n",
    "plt.savefig('../figures/RF_Ft_Imp.png', bbox_inches='tight', transparent=False, dpi=350)\n",
    "# Show the plot\n",
    "plt.show()"
   ]
  },
  {
   "cell_type": "markdown",
   "metadata": {
    "heading_collapsed": true
   },
   "source": [
    "## Logistic Regression"
   ]
  },
  {
   "cell_type": "code",
   "execution_count": 34,
   "metadata": {
    "hidden": true
   },
   "outputs": [
    {
     "name": "stdout",
     "output_type": "stream",
     "text": [
      "Fitting 5 folds for each of 10 candidates, totalling 50 fits\n"
     ]
    },
    {
     "name": "stderr",
     "output_type": "stream",
     "text": [
      "[Parallel(n_jobs=-1)]: Using backend LokyBackend with 16 concurrent workers.\n",
      "[Parallel(n_jobs=-1)]: Done  18 tasks      | elapsed:   32.6s\n",
      "[Parallel(n_jobs=-1)]: Done  50 out of  50 | elapsed:  1.1min finished\n"
     ]
    },
    {
     "name": "stdout",
     "output_type": "stream",
     "text": [
      "Best CV Score: 0.6978198432655167\n",
      "Best paras: {'C': 10, 'penalty': 'l1'}\n"
     ]
    },
    {
     "name": "stderr",
     "output_type": "stream",
     "text": [
      "/home/nmduy/anaconda3/envs/graph/lib/python3.7/site-packages/sklearn/linear_model/_sag.py:330: ConvergenceWarning: The max_iter was reached which means the coef_ did not converge\n",
      "  \"the coef_ did not converge\", ConvergenceWarning)\n"
     ]
    }
   ],
   "source": [
    "X_train_f_norm, _, _ = normalize_data(X_train_f, [], [])\n",
    "\n",
    "hypara = {\n",
    "    'penalty': ['l1', 'l2'],\n",
    "    'C': [10, 20, 30, 40, 50],\n",
    "}\n",
    "\n",
    "model_cv_lr = GridSearchCV(LogisticRegression(max_iter=2000, tol=1e-5, solver='saga', random_state=1509), hypara, verbose=1, n_jobs=-1)\n",
    "model_cv_lr.fit(X_train_f_norm, y_train_f);\n",
    "print(f\"Best CV Score: {model_cv_lr.best_score_}\")\n",
    "print(f\"Best paras: {model_cv_lr.best_params_}\")"
   ]
  },
  {
   "cell_type": "code",
   "execution_count": 35,
   "metadata": {
    "hidden": true
   },
   "outputs": [
    {
     "name": "stdout",
     "output_type": "stream",
     "text": [
      "Train Result:\n",
      "{'accuracy': 0.6980956263467474, 'precision': 0.6743482309124768, 'recall': 0.7083129584352078, 'f1': 0.6909134271404722, 'tp': 5794, 'tn': 6193, 'fp': 2798, 'fn': 2386, 'auc': 0.765356051514704}\n",
      "Validate Result:\n",
      "{'accuracy': 0.7037037037037037, 'precision': 0.6778647031753336, 'recall': 0.7202933985330073, 'f1': 0.6984352773826459, 'tp': 1473, 'tn': 1548, 'fp': 700, 'fn': 572, 'auc': 0.7718948220205519}\n"
     ]
    }
   ],
   "source": [
    "X_train_norm, x_mean, x_std = normalize_data(X_train, [], [])\n",
    "X_val_norm, _, _ = normalize_data(X_val, x_mean, x_std)\n",
    "\n",
    "\n",
    "hypara = {\n",
    "    'penalty': 'l1',\n",
    "    'C': 10,\n",
    "    'max_iter': 5000,\n",
    "    'tol': 1e-5,\n",
    "    'solver': 'saga',\n",
    "    'random_state': 1509\n",
    "}\n",
    "\n",
    "model_lr = LogisticRegression(**hypara)\n",
    "model_lr.fit(X_train_norm, y_train);\n",
    "\n",
    "train_pred = model_lr.predict_proba(X_train_norm)\n",
    "train_pred = train_pred[:,1]\n",
    "metrics = calculate_metric(y_train, train_pred)\n",
    "print('Train Result:')\n",
    "print(metrics)\n",
    "\n",
    "val_pred = model_lr.predict_proba(X_val_norm)\n",
    "val_pred = val_pred[:,1]\n",
    "metrics = calculate_metric(y_val, val_pred)\n",
    "print('Validate Result:')\n",
    "print(metrics)"
   ]
  },
  {
   "cell_type": "markdown",
   "metadata": {
    "heading_collapsed": true
   },
   "source": [
    "## SVM"
   ]
  },
  {
   "cell_type": "code",
   "execution_count": 24,
   "metadata": {
    "hidden": true
   },
   "outputs": [
    {
     "name": "stdout",
     "output_type": "stream",
     "text": [
      "[10.04607715  0.01744879  0.21414481  0.26219142  2.17005218  9.47647223\n",
      "  5.2931261   3.03158777  1.56733191  6.87450149  9.04673873 11.50190645\n",
      "  5.30590757  8.63816949  7.6771804   0.41238513  0.03349773  0.10202515\n",
      "  0.03292514  0.22984578  0.04233041  0.04136632  0.01851094  0.02594399]\n",
      "Fitting 5 folds for each of 6 candidates, totalling 30 fits\n"
     ]
    },
    {
     "name": "stderr",
     "output_type": "stream",
     "text": [
      "[Parallel(n_jobs=-1)]: Using backend LokyBackend with 16 concurrent workers.\n",
      "[Parallel(n_jobs=-1)]: Done  30 out of  30 | elapsed:  1.5min remaining:    0.0s\n",
      "[Parallel(n_jobs=-1)]: Done  30 out of  30 | elapsed:  1.5min finished\n"
     ]
    },
    {
     "name": "stdout",
     "output_type": "stream",
     "text": [
      "Best CV Score: 0.7273574702440457\n",
      "Best paras: {'C': 1}\n"
     ]
    },
    {
     "name": "stderr",
     "output_type": "stream",
     "text": [
      "/home/nmduy/anaconda3/envs/graph/lib/python3.7/site-packages/sklearn/svm/_base.py:249: ConvergenceWarning: Solver terminated early (max_iter=10000).  Consider pre-processing your data with StandardScaler or MinMaxScaler.\n",
      "  % self.max_iter, ConvergenceWarning)\n"
     ]
    }
   ],
   "source": [
    "# SVM need normalization\n",
    "X_train_f_norm, _, _ = normalize_data(X_train_f, [], [])\n",
    "\n",
    "hypara = {\n",
    "    'C': [0.1, 1, 5, 10, 20, 50]\n",
    "}\n",
    "\n",
    "model_cv_svm = GridSearchCV(SVC(max_iter=10000, tol=1e-5, random_state=1509), hypara, verbose=1, n_jobs=-1)\n",
    "model_cv_svm.fit(X_train_f_norm, y_train_f);\n",
    "print(f\"Best CV Score: {model_cv_svm.best_score_}\")\n",
    "print(f\"Best paras: {model_cv_svm.best_params_}\")"
   ]
  },
  {
   "cell_type": "code",
   "execution_count": 29,
   "metadata": {
    "hidden": true
   },
   "outputs": [
    {
     "name": "stdout",
     "output_type": "stream",
     "text": [
      "Train Result:\n",
      "{'accuracy': 0.7682138489313377, 'precision': 0.7556610664718773, 'recall': 0.75880195599022, 'f1': 0.7572282542393558, 'tp': 6207, 'tn': 6984, 'fp': 2007, 'fn': 1973, 'auc': 0.8500696431285945}\n",
      "Validate Result:\n",
      "{'accuracy': 0.7370137433030515, 'precision': 0.726061204343534, 'recall': 0.7193154034229828, 'f1': 0.7226725620240727, 'tp': 1471, 'tn': 1693, 'fp': 555, 'fn': 574, 'auc': 0.8060060994179015}\n"
     ]
    }
   ],
   "source": [
    "# SVM need normalization\n",
    "X_train_norm, x_mean, x_std = normalize_data(X_train, [], [])\n",
    "X_val_norm, _, _ = normalize_data(X_val, x_mean, x_std)\n",
    "\n",
    "hypara = {\n",
    "    'C': 1,\n",
    "    'random_state': 1509,\n",
    "    'max_iter':50000,\n",
    "    'tol' : 1e-5\n",
    "}\n",
    "model_svm = SVC(**hypara, probability=True)\n",
    "model_svm.fit(X_train_norm, y_train);\n",
    "\n",
    "train_pred = model_svm.predict_proba(X_train_norm)\n",
    "train_pred = train_pred[:,1]\n",
    "metrics = calculate_metric(y_train, train_pred)\n",
    "print('Train Result:')\n",
    "print(metrics)\n",
    "\n",
    "val_pred = model_svm.predict_proba(X_val_norm)\n",
    "val_pred = val_pred[:,1]\n",
    "metrics = calculate_metric(y_val, val_pred)\n",
    "print('Validate Result:')\n",
    "print(metrics)"
   ]
  },
  {
   "cell_type": "markdown",
   "metadata": {
    "heading_collapsed": true
   },
   "source": [
    "## MLP\n",
    "This part use the built-in class of scikit-learn (hence just basic structure)"
   ]
  },
  {
   "cell_type": "code",
   "execution_count": 32,
   "metadata": {
    "hidden": true
   },
   "outputs": [
    {
     "name": "stdout",
     "output_type": "stream",
     "text": [
      "Fitting 5 folds for each of 20 candidates, totalling 100 fits\n"
     ]
    },
    {
     "name": "stderr",
     "output_type": "stream",
     "text": [
      "[Parallel(n_jobs=-1)]: Using backend LokyBackend with 16 concurrent workers.\n",
      "[Parallel(n_jobs=-1)]: Done  18 tasks      | elapsed:    9.0s\n",
      "[Parallel(n_jobs=-1)]: Done 100 out of 100 | elapsed:   43.6s finished\n"
     ]
    },
    {
     "name": "stdout",
     "output_type": "stream",
     "text": [
      "Best OOB Score: 0.7319229227058331\n",
      "Best paras: {'hidden_layer_sizes': (16,), 'learning_rate_init': 0.005}\n"
     ]
    }
   ],
   "source": [
    "X_train_f_norm, _, _ = normalize_data(X_train_f, [], [])\n",
    "\n",
    "hypara = {\n",
    "    'hidden_layer_sizes': 1,\n",
    "    'learning_rate_init': [0.005, 0.001, 0.01, 0.05],\n",
    "    \n",
    "}\n",
    "\n",
    "model_cv_mlp = GridSearchCV(MLPClassifier(max_iter=2000, random_state=1509), hypara, verbose=1, n_jobs=-1)\n",
    "model_cv_mlp.fit(X_train_f_norm, y_train_f);\n",
    "print(f\"Best OOB Score: {model_cv_mlp.best_score_}\")\n",
    "print(f\"Best paras: {model_cv_mlp.best_params_}\")"
   ]
  },
  {
   "cell_type": "code",
   "execution_count": 33,
   "metadata": {
    "hidden": true
   },
   "outputs": [
    {
     "name": "stdout",
     "output_type": "stream",
     "text": [
      "Train Result:\n",
      "{'accuracy': 0.7498107273892027, 'precision': 0.7363680623174295, 'recall': 0.7396088019559902, 'f1': 0.7379848743595999, 'tp': 6050, 'tn': 6825, 'fp': 2166, 'fn': 2130, 'auc': 0.8311534843727183}\n",
      "Validate Result:\n",
      "{'accuracy': 0.7246680642907058, 'precision': 0.7110024449877751, 'recall': 0.7110024449877751, 'f1': 0.7110024449877751, 'tp': 1454, 'tn': 1657, 'fp': 591, 'fn': 591, 'auc': 0.8029846687955171}\n"
     ]
    }
   ],
   "source": [
    "# SVM need normalization\n",
    "X_train_norm, x_mean, x_std = normalize_data(X_train, [], [])\n",
    "X_val_norm, _, _ = normalize_data(X_val, x_mean, x_std)\n",
    "\n",
    "hypara = {\n",
    "    'hidden_layer_sizes': (16,),\n",
    "    'learning_rate_init': 0.005,\n",
    "}\n",
    "model_mlp = MLPClassifier(**hypara, max_iter=2000, random_state=1509)\n",
    "model_mlp.fit(X_train_norm, y_train);\n",
    "\n",
    "train_pred = model_mlp.predict_proba(X_train_norm)\n",
    "train_pred = train_pred[:,1]\n",
    "metrics = calculate_metric(y_train, train_pred)\n",
    "print('Train Result:')\n",
    "print(metrics)\n",
    "\n",
    "val_pred = model_mlp.predict_proba(X_val_norm)\n",
    "val_pred = val_pred[:,1]\n",
    "metrics = calculate_metric(y_val, val_pred)\n",
    "print('Validate Result:')\n",
    "print(metrics)"
   ]
  },
  {
   "cell_type": "markdown",
   "metadata": {
    "heading_collapsed": true
   },
   "source": [
    "## Feature selection with Logistic Regression\n",
    "Run Logistic regression with L1 loss to check which features having coefficient as 0 making them became less useful and can be eliminated. However none of them have 0!"
   ]
  },
  {
   "cell_type": "code",
   "execution_count": 34,
   "metadata": {
    "hidden": true
   },
   "outputs": [
    {
     "name": "stdout",
     "output_type": "stream",
     "text": [
      "Fitting 5 folds for each of 7 candidates, totalling 35 fits\n"
     ]
    },
    {
     "name": "stderr",
     "output_type": "stream",
     "text": [
      "[Parallel(n_jobs=-1)]: Using backend LokyBackend with 16 concurrent workers.\n",
      "[Parallel(n_jobs=-1)]: Done  35 out of  35 | elapsed:   58.8s finished\n"
     ]
    },
    {
     "name": "stdout",
     "output_type": "stream",
     "text": [
      "Best CV Score: 0.6839826705907817\n",
      "Best paras: {'C': 20, 'penalty': 'l1'}\n"
     ]
    },
    {
     "name": "stderr",
     "output_type": "stream",
     "text": [
      "/home/nmduy/anaconda3/envs/graph/lib/python3.7/site-packages/sklearn/linear_model/_sag.py:330: ConvergenceWarning: The max_iter was reached which means the coef_ did not converge\n",
      "  \"the coef_ did not converge\", ConvergenceWarning)\n"
     ]
    }
   ],
   "source": [
    "hypara = {\n",
    "    'penalty': ['l1'],\n",
    "    'C': [1, 5, 10, 20, 30, 40, 50],\n",
    "}\n",
    "\n",
    "model_cv_lr = GridSearchCV(LogisticRegression(max_iter=2000, tol=1e-5, solver='saga', random_state=1509), hypara, verbose=1, n_jobs=-1)\n",
    "model_cv_lr.fit(X_train_f, y_train_f);\n",
    "print(f\"Best CV Score: {model_cv_lr.best_score_}\")\n",
    "print(f\"Best paras: {model_cv_lr.best_params_}\")"
   ]
  },
  {
   "cell_type": "code",
   "execution_count": 38,
   "metadata": {
    "hidden": true
   },
   "outputs": [
    {
     "name": "stdout",
     "output_type": "stream",
     "text": [
      "Train Result:\n",
      "{'accuracy': 0.6980956263467474, 'precision': 0.6743482309124768, 'recall': 0.7083129584352078, 'f1': 0.6909134271404722, 'tp': 5794, 'tn': 6193, 'fp': 2798, 'fn': 2386, 'auc': 0.765356051514704}\n",
      "Validate Result:\n",
      "{'accuracy': 0.7037037037037037, 'precision': 0.6778647031753336, 'recall': 0.7202933985330073, 'f1': 0.6984352773826459, 'tp': 1473, 'tn': 1548, 'fp': 700, 'fn': 572, 'auc': 0.7718948220205519}\n"
     ]
    }
   ],
   "source": [
    "X_train_norm, x_mean, x_std = normalize_data(X_train, [], [])\n",
    "X_val_norm, _, _ = normalize_data(X_val, x_mean, x_std)\n",
    "\n",
    "\n",
    "hypara = {\n",
    "    'penalty': 'l1',\n",
    "    'C': 10,\n",
    "    'max_iter': 5000,\n",
    "    'tol': 1e-5,\n",
    "    'solver': 'saga',\n",
    "    'random_state': 1509\n",
    "}\n",
    "\n",
    "model_lr = LogisticRegression(**hypara)\n",
    "model_lr.fit(X_train_norm, y_train);\n",
    "\n",
    "train_pred = model_lr.predict_proba(X_train_norm)\n",
    "train_pred = train_pred[:,1]\n",
    "metrics = calculate_metric(y_train, train_pred)\n",
    "print('Train Result:')\n",
    "print(metrics)\n",
    "\n",
    "val_pred = model_lr.predict_proba(X_val_norm)\n",
    "val_pred = val_pred[:,1]\n",
    "metrics = calculate_metric(y_val, val_pred)\n",
    "print('Validate Result:')\n",
    "print(metrics)"
   ]
  },
  {
   "cell_type": "code",
   "execution_count": 46,
   "metadata": {
    "hidden": true
   },
   "outputs": [],
   "source": [
    "# Logistic regression coefficient\n",
    "imp_word_idx = list(np.argsort(np.abs(model_lr.coef_[0]))[::-1])"
   ]
  },
  {
   "cell_type": "code",
   "execution_count": 47,
   "metadata": {
    "hidden": true
   },
   "outputs": [
    {
     "data": {
      "text/plain": [
       "array([ 5.09517654, -4.85841987, -1.31408215, -1.06862329,  0.86270645,\n",
       "       -0.61646543, -0.53866337, -0.44428294,  0.34963795, -0.29535175,\n",
       "        0.28947385,  0.28833098,  0.28712512, -0.2297851 , -0.18486482,\n",
       "        0.17865078, -0.15272407,  0.124895  ,  0.10939153, -0.08837382,\n",
       "       -0.06434122,  0.05604005,  0.04307724, -0.0377157 ])"
      ]
     },
     "execution_count": 47,
     "metadata": {},
     "output_type": "execute_result"
    }
   ],
   "source": [
    "values = model_lr.coef_[0][imp_word_idx]\n",
    "labels = np.asarray(feature_names)[imp_word_idx]\n",
    "values"
   ]
  },
  {
   "cell_type": "code",
   "execution_count": 48,
   "metadata": {
    "hidden": true
   },
   "outputs": [
    {
     "data": {
      "text/plain": [
       "array(['ari_score', 'avg_len_word', 'len_headline', 'count_symbol_norm',\n",
       "       'avg_syl_word', 'norm_numb_DT', 'coleman_score',\n",
       "       'flesch_grade_score', 'norm_numb_ADV', 'ratio_stopwords',\n",
       "       'norm_numb_VED', 'norm_numb_VING', 'norm_numb_ADJ', 'dale_score',\n",
       "       'max_syl_word', 'max_len_word', 'norm_numb_PR', 'norm_numb_VB',\n",
       "       'norm_numb_NN', 'standard_score', 'norm_numb_CD', 'linsear_score',\n",
       "       'min_len_word', 'ratio_lemmatized'], dtype='<U18')"
      ]
     },
     "execution_count": 48,
     "metadata": {},
     "output_type": "execute_result"
    }
   ],
   "source": [
    "labels"
   ]
  },
  {
   "cell_type": "markdown",
   "metadata": {
    "heading_collapsed": true
   },
   "source": [
    "# Embedding Features - BOW\n",
    "BOW embedding features. Try on both original sentences and lemmatised headlines. This section has feature selection with Logistic Regression to find useless words that having coefficients of 0 (can be discarded)"
   ]
  },
  {
   "cell_type": "code",
   "execution_count": 2,
   "metadata": {
    "hidden": true
   },
   "outputs": [
    {
     "name": "stdout",
     "output_type": "stream",
     "text": [
      "===== TRAINING SAMPLES =====\n",
      "Total Sample: 17171\n",
      "Sarcastic: 8180 (47.64%)\n",
      "Not Sarcastic: 8991 (52.36%)\n",
      "===== VALIDATING SAMPLES =====\n",
      "Total Sample: 4293\n",
      "Sarcastic: 2045 (47.64%)\n",
      "Not Sarcastic: 2248 (52.36%)\n",
      "===== TESTING SAMPLES =====\n",
      "Total Sample: 7155\n",
      "Sarcastic: 3409 (47.65%)\n",
      "Not Sarcastic: 3746 (52.35%)\n"
     ]
    }
   ],
   "source": [
    "data_full = pd.read_json('fake_news.json', lines=True)\n",
    "data_full = data_full.drop(columns=['article_link']) # remove link column\n",
    "df_train_f, df_test = split_dataframe(data_full, test_size=0.25, seed=1509)\n",
    "df_train, df_validate = split_dataframe(df_train_f, test_size=0.2, seed=1309)\n",
    "\n",
    "# Proportion of each subsets\n",
    "list_label = df_train['is_sarcastic'].tolist()\n",
    "numb_total = len(list_label)\n",
    "numb_sarcastic = np.sum(np.asarray(list_label))\n",
    "numb_not_sarcastic = numb_total - numb_sarcastic\n",
    "print(f'===== TRAINING SAMPLES =====\\nTotal Sample: {numb_total}\\nSarcastic: {numb_sarcastic} ({np.round(numb_sarcastic/numb_total*100,2)}%)\\nNot Sarcastic: {numb_not_sarcastic} ({np.round(numb_not_sarcastic/numb_total*100,2)}%)')\n",
    "\n",
    "list_label = df_validate['is_sarcastic'].tolist()\n",
    "numb_total = len(list_label)\n",
    "numb_sarcastic = np.sum(np.asarray(list_label))\n",
    "numb_not_sarcastic = numb_total - numb_sarcastic\n",
    "print(f'===== VALIDATING SAMPLES =====\\nTotal Sample: {numb_total}\\nSarcastic: {numb_sarcastic} ({np.round(numb_sarcastic/numb_total*100,2)}%)\\nNot Sarcastic: {numb_not_sarcastic} ({np.round(numb_not_sarcastic/numb_total*100,2)}%)')\n",
    "\n",
    "list_label = df_test['is_sarcastic'].tolist()\n",
    "numb_total = len(list_label)\n",
    "numb_sarcastic = np.sum(np.asarray(list_label))\n",
    "numb_not_sarcastic = numb_total - numb_sarcastic\n",
    "print(f'===== TESTING SAMPLES =====\\nTotal Sample: {numb_total}\\nSarcastic: {numb_sarcastic} ({np.round(numb_sarcastic/numb_total*100,2)}%)\\nNot Sarcastic: {numb_not_sarcastic} ({np.round(numb_not_sarcastic/numb_total*100,2)}%)')\n",
    "\n",
    "data_train = df_train.copy()\n",
    "data_train_f = df_train_f.copy()\n",
    "data_val = df_validate.copy()\n",
    "data_test = df_test.copy()\n",
    "\n",
    "data_train = df_train\n",
    "data_train['headline'] = data_train.headline.apply(lambda row: row.lower())\n",
    "data_train['headline_s1'] = data_train.headline.apply(lambda row: remove_symbol(row))\n",
    "data_train['headline_s2'] = data_train.headline_s1.apply(lambda row: lemmatize_word(row, 'v'))\n",
    "data_train['headline_s2'] = data_train.headline_s2.apply(lambda row: lemmatize_word(row, 'n'))\n",
    "#data_train = data_train.drop(columns=['headline', 'headline_s1'])\n",
    "\n",
    "data_train_f = df_train_f\n",
    "data_train_f['headline'] = data_train_f.headline.apply(lambda row: row.lower())\n",
    "data_train_f['headline_s1'] = data_train_f.headline.apply(lambda row: remove_symbol(row))\n",
    "data_train_f['headline_s2'] = data_train_f.headline_s1.apply(lambda row: lemmatize_word(row, 'v'))\n",
    "data_train_f['headline_s2'] = data_train_f.headline_s2.apply(lambda row: lemmatize_word(row, 'n'))\n",
    "\n",
    "data_val = df_validate\n",
    "data_val['headline'] = data_val.headline.apply(lambda row: row.lower())\n",
    "data_val['headline_s1'] = data_val.headline.apply(lambda row: remove_symbol(row))\n",
    "data_val['headline_s2'] = data_val.headline_s1.apply(lambda row: lemmatize_word(row, 'v'))\n",
    "data_val['headline_s2'] = data_val.headline_s2.apply(lambda row: lemmatize_word(row, 'n'))\n",
    "#data_val = data_val.drop(columns=['headline', 'headline_s1'])\n",
    "\n",
    "data_test = df_test\n",
    "data_test['headline'] = data_test.headline.apply(lambda row: row.lower())\n",
    "data_test['headline_s1'] = data_test.headline.apply(lambda row: remove_symbol(row))\n",
    "data_test['headline_s2'] = data_test.headline_s1.apply(lambda row: lemmatize_word(row, 'v'))\n",
    "data_test['headline_s2'] = data_test.headline_s2.apply(lambda row: lemmatize_word(row, 'n'))"
   ]
  },
  {
   "cell_type": "markdown",
   "metadata": {
    "heading_collapsed": true,
    "hidden": true
   },
   "source": [
    "## Raw Sentence\n",
    "Also have feature selection with Logistic Regression in this section"
   ]
  },
  {
   "cell_type": "code",
   "execution_count": 3,
   "metadata": {
    "hidden": true,
    "scrolled": true
   },
   "outputs": [
    {
     "name": "stderr",
     "output_type": "stream",
     "text": [
      "/home/nmduy/anaconda3/envs/graph/lib/python3.7/site-packages/sklearn/feature_extraction/text.py:484: UserWarning: The parameter 'token_pattern' will not be used since 'tokenizer' is not None'\n",
      "  warnings.warn(\"The parameter 'token_pattern' will not be used\"\n"
     ]
    }
   ],
   "source": [
    "vectorizer = CountVectorizer(tokenizer=lambda text: text.split())\n",
    "all_string = data_train.headline_s1.tolist()\n",
    "\n",
    "# tokenize and build vocab\n",
    "vectorizer.fit(all_string)\n",
    "\n",
    "vocab = {k: v for k, v in sorted(vectorizer.vocabulary_.items(), key=lambda item: item[1])}\n",
    "vocab = list(vocab)\n",
    "\n",
    "# encode document\n",
    "X_train_f = vectorizer.transform(data_train_f.headline_s1.tolist())\n",
    "y_train_f = data_train_f.is_sarcastic.to_numpy()\n",
    "\n",
    "X_train = vectorizer.transform(data_train.headline_s1.tolist())\n",
    "y_train = data_train.is_sarcastic.to_numpy()\n",
    "\n",
    "X_val = vectorizer.transform(data_val.headline_s1.tolist())\n",
    "y_val = data_val.is_sarcastic.to_numpy()"
   ]
  },
  {
   "cell_type": "markdown",
   "metadata": {
    "heading_collapsed": true,
    "hidden": true
   },
   "source": [
    "### Logistic Regression"
   ]
  },
  {
   "cell_type": "code",
   "execution_count": 4,
   "metadata": {
    "hidden": true
   },
   "outputs": [
    {
     "name": "stdout",
     "output_type": "stream",
     "text": [
      "Fitting 5 folds for each of 10 candidates, totalling 50 fits\n"
     ]
    },
    {
     "name": "stderr",
     "output_type": "stream",
     "text": [
      "[Parallel(n_jobs=-1)]: Using backend LokyBackend with 16 concurrent workers.\n",
      "[Parallel(n_jobs=-1)]: Done  18 tasks      | elapsed:    1.5s\n",
      "[Parallel(n_jobs=-1)]: Done  50 out of  50 | elapsed:    3.3s finished\n"
     ]
    },
    {
     "name": "stdout",
     "output_type": "stream",
     "text": [
      "Best CV Score: 0.8454159212346157\n",
      "Best paras: {'C': 1, 'penalty': 'l2'}\n"
     ]
    }
   ],
   "source": [
    "## LR\n",
    "hypara = {\n",
    "    'penalty': ['l1', 'l2'],\n",
    "    'C': [0.1, 1, 5, 10, 20],\n",
    "}\n",
    "\n",
    "model_cv_lr = GridSearchCV(LogisticRegression(max_iter=5000, tol=1e-4, solver='liblinear', random_state=1509), hypara, verbose=1, n_jobs=-1)\n",
    "model_cv_lr.fit(X_train_f, y_train_f);\n",
    "print(f\"Best CV Score: {model_cv_lr.best_score_}\")\n",
    "print(f\"Best paras: {model_cv_lr.best_params_}\")"
   ]
  },
  {
   "cell_type": "code",
   "execution_count": 5,
   "metadata": {
    "hidden": true
   },
   "outputs": [
    {
     "name": "stdout",
     "output_type": "stream",
     "text": [
      "Train Result:\n",
      "{'accuracy': 0.9721041290548017, 'precision': 0.9735579879473619, 'recall': 0.9677261613691932, 'f1': 0.9706333149408375, 'tp': 7916, 'tn': 8776, 'fp': 215, 'fn': 264, 'auc': 0.9947238327705593}\n",
      "Validate Result:\n",
      "{'accuracy': 0.8474260423945958, 'precision': 0.8420275590551181, 'recall': 0.8366748166259169, 'f1': 0.8393426539121902, 'tp': 1711, 'tn': 1927, 'fp': 321, 'fn': 334, 'auc': 0.9219143993248006}\n"
     ]
    }
   ],
   "source": [
    "## LR\n",
    "hypara = {\n",
    "    'penalty': 'l2',\n",
    "    'C': 1,\n",
    "    'max_iter': 5000,\n",
    "    'tol': 1e-5,\n",
    "    'solver': 'liblinear',\n",
    "    'random_state': 1509\n",
    "}\n",
    "\n",
    "model_lr = LogisticRegression(**hypara)\n",
    "model_lr.fit(X_train, y_train);\n",
    "\n",
    "train_pred = model_lr.predict_proba(X_train)\n",
    "train_pred = train_pred[:,1]\n",
    "metrics = calculate_metric(y_train, train_pred)\n",
    "print('Train Result:')\n",
    "print(metrics)\n",
    "\n",
    "val_pred = model_lr.predict_proba(X_val)\n",
    "val_pred = val_pred[:,1]\n",
    "metrics = calculate_metric(y_val, val_pred)\n",
    "print('Validate Result:')\n",
    "print(metrics)"
   ]
  },
  {
   "cell_type": "markdown",
   "metadata": {
    "heading_collapsed": true,
    "hidden": true
   },
   "source": [
    "### Random Forest"
   ]
  },
  {
   "cell_type": "code",
   "execution_count": 6,
   "metadata": {
    "hidden": true
   },
   "outputs": [
    {
     "name": "stdout",
     "output_type": "stream",
     "text": [
      "Fitting 5 folds for each of 36 candidates, totalling 180 fits\n"
     ]
    },
    {
     "name": "stderr",
     "output_type": "stream",
     "text": [
      "[Parallel(n_jobs=-1)]: Using backend LokyBackend with 16 concurrent workers.\n",
      "[Parallel(n_jobs=-1)]: Done  18 tasks      | elapsed:   21.5s\n",
      "[Parallel(n_jobs=-1)]: Done 180 out of 180 | elapsed:  4.0min finished\n"
     ]
    },
    {
     "name": "stdout",
     "output_type": "stream",
     "text": [
      "Best OOB Score: 0.7631848829962037\n",
      "Best paras: {'max_depth': 20, 'min_samples_leaf': 2, 'min_samples_split': 5, 'n_estimators': 400}\n"
     ]
    }
   ],
   "source": [
    "## RF\n",
    "hypara = {\n",
    "    'max_depth': [15, 20],\n",
    "    'n_estimators': [300, 400, 500],\n",
    "    'min_samples_split': [5, 7, 10],\n",
    "    'min_samples_leaf': [2, 5],\n",
    "}\n",
    "\n",
    "model_cv_rf = GridSearchCV(RandomForestClassifier(random_state=1509), hypara, verbose=1, n_jobs=-1)\n",
    "model_cv_rf.fit(X_train_f, y_train_f);\n",
    "print(f\"Best OOB Score: {model_cv_rf.best_score_}\")\n",
    "print(f\"Best paras: {model_cv_rf.best_params_}\")"
   ]
  },
  {
   "cell_type": "code",
   "execution_count": 7,
   "metadata": {
    "hidden": true
   },
   "outputs": [
    {
     "name": "stdout",
     "output_type": "stream",
     "text": [
      "Train Result:\n",
      "{'accuracy': 0.7798031564847708, 'precision': 0.9073902574550843, 'recall': 0.5988997555012225, 'f1': 0.7215553428087489, 'tp': 4899, 'tn': 8491, 'fp': 500, 'fn': 3281, 'auc': 0.9077895472217666}\n",
      "Validate Result:\n",
      "{'accuracy': 0.7579781038900536, 'precision': 0.8839694656488549, 'recall': 0.5662591687041565, 'f1': 0.6903129657228018, 'tp': 1158, 'tn': 2096, 'fp': 152, 'fn': 887, 'auc': 0.8865448450782658}\n"
     ]
    }
   ],
   "source": [
    "hypara = {\n",
    "    'random_state': 1509,\n",
    "    'max_depth': 20,\n",
    "    'n_estimators': 400,\n",
    "    'min_samples_split': 5,\n",
    "    'min_samples_leaf': 2,\n",
    "}\n",
    "model_rf = RandomForestClassifier(**hypara)\n",
    "model_rf.fit(X_train, y_train);\n",
    "\n",
    "\n",
    "train_pred = model_rf.predict_proba(X_train)\n",
    "train_pred = train_pred[:,1]\n",
    "metrics = calculate_metric(y_train, train_pred)\n",
    "print('Train Result:')\n",
    "print(metrics)\n",
    "\n",
    "val_pred = model_rf.predict_proba(X_val)\n",
    "val_pred = val_pred[:,1]\n",
    "metrics = calculate_metric(y_val, val_pred)\n",
    "print('Validate Result:')\n",
    "print(metrics)\n"
   ]
  },
  {
   "cell_type": "markdown",
   "metadata": {
    "heading_collapsed": true,
    "hidden": true
   },
   "source": [
    "### SVM"
   ]
  },
  {
   "cell_type": "code",
   "execution_count": 8,
   "metadata": {
    "hidden": true
   },
   "outputs": [
    {
     "name": "stdout",
     "output_type": "stream",
     "text": [
      "Fitting 5 folds for each of 6 candidates, totalling 30 fits\n"
     ]
    },
    {
     "name": "stderr",
     "output_type": "stream",
     "text": [
      "[Parallel(n_jobs=-1)]: Using backend LokyBackend with 16 concurrent workers.\n",
      "[Parallel(n_jobs=-1)]: Done  30 out of  30 | elapsed:  1.4min remaining:    0.0s\n",
      "[Parallel(n_jobs=-1)]: Done  30 out of  30 | elapsed:  1.4min finished\n"
     ]
    },
    {
     "name": "stdout",
     "output_type": "stream",
     "text": [
      "Best CV Score: 0.8527303707958664\n",
      "Best paras: {'C': 20}\n"
     ]
    },
    {
     "name": "stderr",
     "output_type": "stream",
     "text": [
      "/home/nmduy/anaconda3/envs/graph/lib/python3.7/site-packages/sklearn/svm/_base.py:249: ConvergenceWarning: Solver terminated early (max_iter=5000).  Consider pre-processing your data with StandardScaler or MinMaxScaler.\n",
      "  % self.max_iter, ConvergenceWarning)\n"
     ]
    }
   ],
   "source": [
    "hypara = {\n",
    "    'C': [0.1, 1, 5, 10, 20, 50]\n",
    "}\n",
    "\n",
    "model_cv_svm = GridSearchCV(SVC(max_iter=5000, tol=1e-4, random_state=1509), hypara, verbose=1, n_jobs=-1)\n",
    "model_cv_svm.fit(X_train_f, y_train_f);\n",
    "print(f\"Best CV Score: {model_cv_svm.best_score_}\")\n",
    "print(f\"Best paras: {model_cv_svm.best_params_}\")"
   ]
  },
  {
   "cell_type": "code",
   "execution_count": 9,
   "metadata": {
    "hidden": true
   },
   "outputs": [
    {
     "name": "stdout",
     "output_type": "stream",
     "text": [
      "Train Result:\n",
      "{'accuracy': 1.0, 'precision': 1.0, 'recall': 1.0, 'f1': 1.0, 'tp': 8180, 'tn': 8991, 'fp': 0, 'fn': 0, 'auc': 1.0}\n",
      "Validate Result:\n",
      "{'accuracy': 0.8457954810156068, 'precision': 0.8466165413533835, 'recall': 0.8259168704156479, 'f1': 0.8361386138613861, 'tp': 1689, 'tn': 1942, 'fp': 306, 'fn': 356, 'auc': 0.9241927624881449}\n"
     ]
    }
   ],
   "source": [
    "hypara = {\n",
    "    'C': 20,\n",
    "    'random_state': 1509,\n",
    "    'max_iter':5000,\n",
    "    'tol' : 1e-4\n",
    "}\n",
    "model_svm = SVC(**hypara, probability=True)\n",
    "model_svm.fit(X_train, y_train);\n",
    "\n",
    "train_pred = model_svm.predict_proba(X_train)\n",
    "train_pred = train_pred[:,1]\n",
    "metrics = calculate_metric(y_train, train_pred)\n",
    "print('Train Result:')\n",
    "print(metrics)\n",
    "\n",
    "val_pred = model_svm.predict_proba(X_val)\n",
    "val_pred = val_pred[:,1]\n",
    "metrics = calculate_metric(y_val, val_pred)\n",
    "print('Validate Result:')\n",
    "print(metrics)"
   ]
  },
  {
   "cell_type": "markdown",
   "metadata": {
    "heading_collapsed": true,
    "hidden": true
   },
   "source": [
    "### Feature Selection with Logistic Regression\n",
    "Run LR model again with L1 to find useless words. Then I removed them and train LR again (with L1 again). The result show that the metrics remain exactly the same. \n",
    "\n",
    "I also train other classifiers again after remove useless words. The result slightly decrease but still acceptable"
   ]
  },
  {
   "cell_type": "code",
   "execution_count": 4,
   "metadata": {
    "hidden": true
   },
   "outputs": [
    {
     "name": "stdout",
     "output_type": "stream",
     "text": [
      "Fitting 5 folds for each of 5 candidates, totalling 25 fits\n"
     ]
    },
    {
     "name": "stderr",
     "output_type": "stream",
     "text": [
      "[Parallel(n_jobs=-1)]: Using backend LokyBackend with 16 concurrent workers.\n"
     ]
    },
    {
     "name": "stdout",
     "output_type": "stream",
     "text": [
      "Best CV Score: 0.835305908814909\n",
      "Best paras: {'C': 1, 'penalty': 'l1'}\n"
     ]
    },
    {
     "name": "stderr",
     "output_type": "stream",
     "text": [
      "[Parallel(n_jobs=-1)]: Done  20 out of  25 | elapsed:    1.5s remaining:    0.4s\n",
      "[Parallel(n_jobs=-1)]: Done  25 out of  25 | elapsed:    1.6s finished\n"
     ]
    }
   ],
   "source": [
    "## LR\n",
    "hypara = {\n",
    "    'penalty': ['l1'],\n",
    "    'C': [0.1, 1, 5, 10, 20],\n",
    "}\n",
    "\n",
    "model_cv_lr = GridSearchCV(LogisticRegression(max_iter=5000, tol=1e-4, solver='liblinear', random_state=1509), hypara, verbose=1, n_jobs=-1)\n",
    "model_cv_lr.fit(X_train_f, y_train_f);\n",
    "print(f\"Best CV Score: {model_cv_lr.best_score_}\")\n",
    "print(f\"Best paras: {model_cv_lr.best_params_}\")"
   ]
  },
  {
   "cell_type": "code",
   "execution_count": 5,
   "metadata": {
    "hidden": true
   },
   "outputs": [
    {
     "name": "stdout",
     "output_type": "stream",
     "text": [
      "Train Result:\n",
      "{'accuracy': 0.9157300099004135, 'precision': 0.9053582179409994, 'recall': 0.9191931540342299, 'f1': 0.9122232332423414, 'tp': 7519, 'tn': 8205, 'fp': 786, 'fn': 661, 'auc': 0.9735526072119388}\n",
      "Validate Result:\n",
      "{'accuracy': 0.831819240624272, 'precision': 0.8145506419400856, 'recall': 0.8376528117359413, 'f1': 0.8259402121504339, 'tp': 1713, 'tn': 1858, 'fp': 390, 'fn': 332, 'auc': 0.9104491686171461}\n"
     ]
    }
   ],
   "source": [
    "## LR\n",
    "hypara = {\n",
    "    'penalty': 'l1',\n",
    "    'C': 1,\n",
    "    'max_iter': 5000,\n",
    "    'tol': 1e-5,\n",
    "    'solver': 'liblinear',\n",
    "    'random_state': 1509\n",
    "}\n",
    "\n",
    "model_lr = LogisticRegression(**hypara)\n",
    "model_lr.fit(X_train, y_train);\n",
    "\n",
    "train_pred = model_lr.predict_proba(X_train)\n",
    "train_pred = train_pred[:,1]\n",
    "metrics = calculate_metric(y_train, train_pred)\n",
    "print('Train Result:')\n",
    "print(metrics)\n",
    "\n",
    "val_pred = model_lr.predict_proba(X_val)\n",
    "val_pred = val_pred[:,1]\n",
    "metrics = calculate_metric(y_val, val_pred)\n",
    "print('Validate Result:')\n",
    "print(metrics)"
   ]
  },
  {
   "cell_type": "code",
   "execution_count": 6,
   "metadata": {
    "hidden": true
   },
   "outputs": [],
   "source": [
    "# Logistic regression coefficient\n",
    "imp_word_idx = list(np.argsort(np.abs(model_lr.coef_[0]))[::-1])\n",
    "values = model_lr.coef_[0][imp_word_idx]\n",
    "labels = np.asarray(vocab)[imp_word_idx]"
   ]
  },
  {
   "cell_type": "code",
   "execution_count": 18,
   "metadata": {
    "hidden": true
   },
   "outputs": [
    {
     "name": "stdout",
     "output_type": "stream",
     "text": [
      "Total vocab with 0 coefficient: 20658 words\n",
      "Some example of useless vocab: ['farm', 'farenthold', 'farmer', 'fargo', 'farley', 'doorstops', 'fares', 'door', 'fark', 'farleys']\n",
      "Some example of good vocab: ['onion', 'area', 'fucking', 'wondering', 'prose', 'reddit', 'subconscious', 'fuck', 'bitch', 'nation']\n"
     ]
    }
   ],
   "source": [
    "useless_idx = np.where(values==0)[0]\n",
    "keep_idx = np.where(values!=0)[0]\n",
    "discard_vocab = labels[useless_idx].tolist()\n",
    "keep_vocab = labels[keep_idx].tolist()\n",
    "print(f'Total vocab with 0 coefficient: {len(discard_vocab)} words')\n",
    "print(f\"Some example of useless vocab: {discard_vocab[:10]}\")\n",
    "print(f\"Some example of good vocab: {keep_vocab[0:10]}\")"
   ]
  },
  {
   "cell_type": "code",
   "execution_count": 40,
   "metadata": {
    "hidden": true
   },
   "outputs": [
    {
     "data": {
      "text/plain": [
       "['selected_vocab_s1.joblib']"
      ]
     },
     "execution_count": 40,
     "metadata": {},
     "output_type": "execute_result"
    }
   ],
   "source": [
    "joblib.dump(keep_vocab, 'selected_vocab_s1.joblib')"
   ]
  },
  {
   "cell_type": "code",
   "execution_count": 14,
   "metadata": {
    "hidden": true
   },
   "outputs": [],
   "source": [
    "# Train Again\n",
    "vectorizer = CountVectorizer(tokenizer=lambda text: text.split())\n",
    "all_string = ' '.join(keep_vocab)\n",
    "# tokenize and build vocab\n",
    "vectorizer.fit([all_string])\n",
    "\n",
    "keep_vocab = {k: v for k, v in sorted(vectorizer.vocabulary_.items(), key=lambda item: item[1])}\n",
    "keep_vocab = list(keep_vocab)\n",
    "\n",
    "# encode document\n",
    "X_train_f = vectorizer.transform(data_train_f.headline_s1.tolist())\n",
    "y_train_f = data_train_f.is_sarcastic.to_numpy()\n",
    "\n",
    "X_train = vectorizer.transform(data_train.headline_s1.tolist())\n",
    "y_train = data_train.is_sarcastic.to_numpy()\n",
    "\n",
    "X_val = vectorizer.transform(data_val.headline_s1.tolist())\n",
    "y_val = data_val.is_sarcastic.to_numpy()"
   ]
  },
  {
   "cell_type": "code",
   "execution_count": 16,
   "metadata": {
    "hidden": true
   },
   "outputs": [
    {
     "data": {
      "text/plain": [
       "(17171, 2457)"
      ]
     },
     "execution_count": 16,
     "metadata": {},
     "output_type": "execute_result"
    }
   ],
   "source": [
    "X_train.shape"
   ]
  },
  {
   "cell_type": "code",
   "execution_count": 20,
   "metadata": {
    "hidden": true
   },
   "outputs": [
    {
     "name": "stdout",
     "output_type": "stream",
     "text": [
      "Fitting 5 folds for each of 10 candidates, totalling 50 fits\n"
     ]
    },
    {
     "name": "stderr",
     "output_type": "stream",
     "text": [
      "[Parallel(n_jobs=-1)]: Using backend LokyBackend with 16 concurrent workers.\n",
      "[Parallel(n_jobs=-1)]: Done  18 tasks      | elapsed:    1.1s\n",
      "[Parallel(n_jobs=-1)]: Done  50 out of  50 | elapsed:    1.8s finished\n"
     ]
    },
    {
     "name": "stdout",
     "output_type": "stream",
     "text": [
      "Best CV Score: 0.8682446597540938\n",
      "Best paras: {'C': 5, 'penalty': 'l2'}\n"
     ]
    }
   ],
   "source": [
    "## LR\n",
    "hypara = {\n",
    "    'penalty': ['l1', 'l2'],\n",
    "    'C': [0.1, 1, 5, 10, 20],\n",
    "}\n",
    "\n",
    "model_cv_lr = GridSearchCV(LogisticRegression(max_iter=5000, tol=1e-4, solver='liblinear', random_state=1509), hypara, verbose=1, n_jobs=-1)\n",
    "model_cv_lr.fit(X_train_f, y_train_f);\n",
    "print(f\"Best CV Score: {model_cv_lr.best_score_}\")\n",
    "print(f\"Best paras: {model_cv_lr.best_params_}\")"
   ]
  },
  {
   "cell_type": "code",
   "execution_count": 21,
   "metadata": {
    "hidden": true
   },
   "outputs": [
    {
     "name": "stdout",
     "output_type": "stream",
     "text": [
      "Train Result:\n",
      "{'accuracy': 0.9429270281288219, 'precision': 0.9382761139517897, 'recall': 0.9421760391198044, 'f1': 0.9402220324508967, 'tp': 7707, 'tn': 8484, 'fp': 507, 'fn': 473, 'auc': 0.9866183624537332}\n",
      "Validate Result:\n",
      "{'accuracy': 0.8336827393431167, 'precision': 0.824159766195811, 'recall': 0.8273838630806846, 'f1': 0.8257686676427526, 'tp': 1692, 'tn': 1887, 'fp': 361, 'fn': 353, 'auc': 0.9097709237877298}\n"
     ]
    }
   ],
   "source": [
    "## LR\n",
    "hypara = {\n",
    "    'penalty': 'l2',\n",
    "    'C': 5,\n",
    "    'max_iter': 5000,\n",
    "    'tol': 1e-5,\n",
    "    'solver': 'liblinear',\n",
    "    'random_state': 1509\n",
    "}\n",
    "\n",
    "model_lr = LogisticRegression(**hypara)\n",
    "model_lr.fit(X_train, y_train);\n",
    "\n",
    "train_pred = model_lr.predict_proba(X_train)\n",
    "train_pred = train_pred[:,1]\n",
    "metrics = calculate_metric(y_train, train_pred)\n",
    "print('Train Result:')\n",
    "print(metrics)\n",
    "\n",
    "val_pred = model_lr.predict_proba(X_val)\n",
    "val_pred = val_pred[:,1]\n",
    "metrics = calculate_metric(y_val, val_pred)\n",
    "print('Validate Result:')\n",
    "print(metrics)"
   ]
  },
  {
   "cell_type": "code",
   "execution_count": 22,
   "metadata": {
    "hidden": true
   },
   "outputs": [
    {
     "name": "stdout",
     "output_type": "stream",
     "text": [
      "Fitting 5 folds for each of 36 candidates, totalling 180 fits\n"
     ]
    },
    {
     "name": "stderr",
     "output_type": "stream",
     "text": [
      "[Parallel(n_jobs=-1)]: Using backend LokyBackend with 16 concurrent workers.\n",
      "[Parallel(n_jobs=-1)]: Done  18 tasks      | elapsed:    5.2s\n",
      "[Parallel(n_jobs=-1)]: Done 180 out of 180 | elapsed:   41.9s finished\n"
     ]
    },
    {
     "name": "stdout",
     "output_type": "stream",
     "text": [
      "Best OOB Score: 0.7840574363129124\n",
      "Best paras: {'max_depth': 20, 'min_samples_leaf': 2, 'min_samples_split': 5, 'n_estimators': 500}\n"
     ]
    }
   ],
   "source": [
    "## RF\n",
    "hypara = {\n",
    "    'max_depth': [15, 20],\n",
    "    'n_estimators': [300, 400, 500],\n",
    "    'min_samples_split': [5, 7, 10],\n",
    "    'min_samples_leaf': [2, 5],\n",
    "}\n",
    "\n",
    "model_cv_rf = GridSearchCV(RandomForestClassifier(random_state=1509), hypara, verbose=1, n_jobs=-1)\n",
    "model_cv_rf.fit(X_train_f, y_train_f);\n",
    "print(f\"Best OOB Score: {model_cv_rf.best_score_}\")\n",
    "print(f\"Best paras: {model_cv_rf.best_params_}\")"
   ]
  },
  {
   "cell_type": "code",
   "execution_count": 23,
   "metadata": {
    "hidden": true
   },
   "outputs": [
    {
     "name": "stdout",
     "output_type": "stream",
     "text": [
      "Train Result:\n",
      "{'accuracy': 0.8020499679692504, 'precision': 0.7602046369870469, 'recall': 0.8537897310513447, 'f1': 0.804283986871653, 'tp': 6984, 'tn': 6788, 'fp': 2203, 'fn': 1196, 'auc': 0.8890408814138779}\n",
      "Validate Result:\n",
      "{'accuracy': 0.7868623340321453, 'precision': 0.7456521739130435, 'recall': 0.8386308068459658, 'f1': 0.7894131185270425, 'tp': 1715, 'tn': 1663, 'fp': 585, 'fn': 330, 'auc': 0.8663697804731616}\n"
     ]
    }
   ],
   "source": [
    "hypara = {\n",
    "    'random_state': 1509,\n",
    "    'max_depth': 20,\n",
    "    'n_estimators': 500,\n",
    "    'min_samples_split': 5,\n",
    "    'min_samples_leaf': 2,\n",
    "}\n",
    "model_rf = RandomForestClassifier(**hypara)\n",
    "model_rf.fit(X_train, y_train);\n",
    "\n",
    "\n",
    "train_pred = model_rf.predict_proba(X_train)\n",
    "train_pred = train_pred[:,1]\n",
    "metrics = calculate_metric(y_train, train_pred)\n",
    "print('Train Result:')\n",
    "print(metrics)\n",
    "\n",
    "val_pred = model_rf.predict_proba(X_val)\n",
    "val_pred = val_pred[:,1]\n",
    "metrics = calculate_metric(y_val, val_pred)\n",
    "print('Validate Result:')\n",
    "print(metrics)\n"
   ]
  },
  {
   "cell_type": "code",
   "execution_count": 24,
   "metadata": {
    "hidden": true
   },
   "outputs": [
    {
     "name": "stdout",
     "output_type": "stream",
     "text": [
      "Fitting 5 folds for each of 6 candidates, totalling 30 fits\n"
     ]
    },
    {
     "name": "stderr",
     "output_type": "stream",
     "text": [
      "[Parallel(n_jobs=-1)]: Using backend LokyBackend with 16 concurrent workers.\n",
      "[Parallel(n_jobs=-1)]: Done  30 out of  30 | elapsed:   48.1s remaining:    0.0s\n",
      "[Parallel(n_jobs=-1)]: Done  30 out of  30 | elapsed:   48.1s finished\n"
     ]
    },
    {
     "name": "stdout",
     "output_type": "stream",
     "text": [
      "Best CV Score: 0.8580416243612948\n",
      "Best paras: {'C': 5}\n"
     ]
    },
    {
     "name": "stderr",
     "output_type": "stream",
     "text": [
      "/home/nmduy/anaconda3/envs/graph/lib/python3.7/site-packages/sklearn/svm/_base.py:249: ConvergenceWarning: Solver terminated early (max_iter=5000).  Consider pre-processing your data with StandardScaler or MinMaxScaler.\n",
      "  % self.max_iter, ConvergenceWarning)\n"
     ]
    }
   ],
   "source": [
    "hypara = {\n",
    "    'C': [0.1, 1, 5, 10, 20, 50]\n",
    "}\n",
    "\n",
    "model_cv_svm = GridSearchCV(SVC(max_iter=5000, tol=1e-4, random_state=1509), hypara, verbose=1, n_jobs=-1)\n",
    "model_cv_svm.fit(X_train_f, y_train_f);\n",
    "print(f\"Best CV Score: {model_cv_svm.best_score_}\")\n",
    "print(f\"Best paras: {model_cv_svm.best_params_}\")"
   ]
  },
  {
   "cell_type": "code",
   "execution_count": 25,
   "metadata": {
    "hidden": true
   },
   "outputs": [
    {
     "name": "stdout",
     "output_type": "stream",
     "text": [
      "Train Result:\n",
      "{'accuracy': 0.9910313901345291, 'precision': 0.9844278126508933, 'recall': 0.9969437652811736, 'f1': 0.9906462585034013, 'tp': 8155, 'tn': 8862, 'fp': 129, 'fn': 25, 'auc': 0.9992170790730965}\n",
      "Validate Result:\n",
      "{'accuracy': 0.8346144887025391, 'precision': 0.8257686676427526, 'recall': 0.8273838630806846, 'f1': 0.8265754763067904, 'tp': 1692, 'tn': 1891, 'fp': 357, 'fn': 353, 'auc': 0.9091772964177883}\n"
     ]
    }
   ],
   "source": [
    "hypara = {\n",
    "    'C': 5,\n",
    "    'random_state': 1509,\n",
    "    'max_iter':5000,\n",
    "    'tol' : 1e-4\n",
    "}\n",
    "model_svm = SVC(**hypara, probability=True)\n",
    "model_svm.fit(X_train, y_train);\n",
    "\n",
    "train_pred = model_svm.predict_proba(X_train)\n",
    "train_pred = train_pred[:,1]\n",
    "metrics = calculate_metric(y_train, train_pred)\n",
    "print('Train Result:')\n",
    "print(metrics)\n",
    "\n",
    "val_pred = model_svm.predict_proba(X_val)\n",
    "val_pred = val_pred[:,1]\n",
    "metrics = calculate_metric(y_val, val_pred)\n",
    "print('Validate Result:')\n",
    "print(metrics)"
   ]
  },
  {
   "cell_type": "code",
   "execution_count": 29,
   "metadata": {
    "hidden": true
   },
   "outputs": [],
   "source": [
    "from deep_pytorch import *\n",
    "datasetTrain = EncodingDataset(X_train.toarray(), y_train)\n",
    "datasetVal = EncodingDataset(X_val.toarray(), y_val)"
   ]
  },
  {
   "cell_type": "code",
   "execution_count": 36,
   "metadata": {
    "hidden": true
   },
   "outputs": [
    {
     "name": "stdout",
     "output_type": "stream",
     "text": [
      "TRAIN FROM SCRATCH\n",
      "Training 0/49\n",
      "Total iteration: 9\n",
      "Epoch 1/50 [16122020-003307] [SAVE]\n",
      "AccVal: 0.7693920335429769\n",
      "AUCVal: 0.888049034621375\n",
      "Precision: 0.865557849407196\n",
      "Recall: 0.6107579469680786\n",
      "F1Val: 0.7161697486777903\n",
      "LossVal: 0.6674820780754089\n",
      "LossTrain: 0.6730867293145921\n",
      "----------\n",
      "\n",
      "Training 1/49\n",
      "Total iteration: 9\n",
      "Epoch 2/50 [16122020-003308] [SAVE]\n",
      "AccVal: 0.8152806894945259\n",
      "AUCVal: 0.9062917105343298\n",
      "Precision: 0.8485523462295532\n",
      "Recall: 0.7452322840690613\n",
      "F1Val: 0.7935433869302214\n",
      "LossVal: 0.6333475311597189\n",
      "LossTrain: 0.44506992565260994\n",
      "----------\n",
      "\n",
      "Training 2/49\n",
      "Total iteration: 9\n",
      "Epoch 3/50 [16122020-003308] [SAVE]\n",
      "AccVal: 0.8383414861402283\n",
      "AUCVal: 0.9130179284601798\n",
      "Precision: 0.8312898278236389\n",
      "Recall: 0.8288508653640747\n",
      "F1Val: 0.8300685252151679\n",
      "LossVal: 0.5865205923716227\n",
      "LossTrain: 0.3682912124527825\n",
      "----------\n",
      "\n",
      "Training 3/49\n",
      "Total iteration: 9\n",
      "Epoch 4/50 [16122020-003309] [SAVE]\n",
      "AccVal: 0.8411367342184952\n",
      "AUCVal: 0.9167056400038285\n",
      "Precision: 0.8293861746788025\n",
      "Recall: 0.8391197919845581\n",
      "F1Val: 0.8342246214737004\n",
      "LossVal: 0.5252510706583658\n",
      "LossTrain: 0.3234518865744273\n",
      "----------\n",
      "\n",
      "Training 4/49\n",
      "Total iteration: 9\n",
      "Epoch 5/50 [16122020-003309] [SAVE]\n",
      "AccVal: 0.8450966689960401\n",
      "AUCVal: 0.9182633408452175\n",
      "Precision: 0.8346265554428101\n",
      "Recall: 0.8415647745132446\n",
      "F1Val: 0.8380813053750963\n",
      "LossVal: 0.4590103526910146\n",
      "LossTrain: 0.29339638021257186\n",
      "----------\n",
      "\n",
      "Training 5/49\n",
      "Total iteration: 9\n",
      "Epoch 6/50 [16122020-003310] [SAVE]\n",
      "AccVal: 0.8436990449569066\n",
      "AUCVal: 0.918913959923083\n",
      "Precision: 0.8334951400756836\n",
      "Recall: 0.8396087884902954\n",
      "F1Val: 0.8365407944159241\n",
      "LossVal: 0.4061262309551239\n",
      "LossTrain: 0.2569777336385515\n",
      "----------\n",
      "\n",
      "Training 6/49\n",
      "Total iteration: 9\n",
      "Epoch 7/50 [16122020-003310] [SAVE]\n",
      "AccVal: 0.8457954810156068\n",
      "AUCVal: 0.91925612769623\n",
      "Precision: 0.833253026008606\n",
      "Recall: 0.8454767465591431\n",
      "F1Val: 0.8393203825922919\n",
      "LossVal: 0.3825349609057109\n",
      "LossTrain: 0.24255349073145124\n",
      "----------\n",
      "\n",
      "Training 7/49\n",
      "Total iteration: 9\n",
      "Epoch 8/50 [16122020-003311] [SAVE]\n",
      "AccVal: 0.8471931050547403\n",
      "AUCVal: 0.9193519477242471\n",
      "Precision: 0.8346987962722778\n",
      "Recall: 0.846943736076355\n",
      "F1Val: 0.8407766851923535\n",
      "LossVal: 0.3842524588108063\n",
      "LossTrain: 0.22116479443179238\n",
      "----------\n",
      "\n",
      "Training 8/49\n",
      "Total iteration: 9\n",
      "Epoch 9/50 [16122020-003311]\n",
      "AccVal: 0.8446307943163289\n",
      "AUCVal: 0.9187057879212381\n",
      "Precision: 0.837084174156189\n",
      "Recall: 0.8366748094558716\n",
      "F1Val: 0.8368794417452212\n",
      "LossVal: 0.3957587281862895\n",
      "LossTrain: 0.20839484367105696\n",
      "----------\n",
      "\n",
      "Training 9/49\n",
      "Total iteration: 9\n",
      "Epoch 10/50 [16122020-003312]\n",
      "AccVal: 0.8453296063358956\n",
      "AUCVal: 0.9180666977003193\n",
      "Precision: 0.8393120169639587\n",
      "Recall: 0.8352078199386597\n",
      "F1Val: 0.8372549186226153\n",
      "LossVal: 0.4066128134727478\n",
      "LossTrain: 0.1960540513197581\n",
      "----------\n",
      "\n",
      "Training 10/49\n",
      "Total iteration: 9\n",
      "Epoch 11/50 [16122020-003313]\n",
      "AccVal: 0.8436990449569066\n",
      "AUCVal: 0.9175974949751585\n",
      "Precision: 0.83544921875\n",
      "Recall: 0.8366748094558716\n",
      "F1Val: 0.8360615649518701\n",
      "LossVal: 0.4158221284548442\n",
      "LossTrain: 0.1856090956264072\n",
      "----------\n",
      "\n",
      "Training 11/49\n",
      "Total iteration: 9\n",
      "Epoch    12: reducing learning rate of group 0 to 5.0000e-04.\n",
      "Epoch 12/50 [16122020-003313]\n",
      "AccVal: 0.8425343582576287\n",
      "AUCVal: 0.9173756188603399\n",
      "Precision: 0.8330900073051453\n",
      "Recall: 0.8371638059616089\n",
      "F1Val: 0.8351219683775666\n",
      "LossVal: 0.42574918270111084\n",
      "LossTrain: 0.17259563422865337\n",
      "----------\n",
      "\n",
      "Training 12/49\n",
      "Total iteration: 9\n",
      "Epoch 13/50 [16122020-003314]\n",
      "AccVal: 0.8425343582576287\n",
      "AUCVal: 0.9172905663496593\n",
      "Precision: 0.8340653777122498\n",
      "Recall: 0.835696816444397\n",
      "F1Val: 0.8348803298831938\n",
      "LossVal: 0.4304898182551066\n",
      "LossTrain: 0.16613306601842245\n",
      "----------\n",
      "\n",
      "Training 13/49\n",
      "Total iteration: 9\n",
      "Epoch 14/50 [16122020-003314]\n",
      "AccVal: 0.8413696715583509\n",
      "AUCVal: 0.9170528108658389\n",
      "Precision: 0.8323586583137512\n",
      "Recall: 0.8352078199386597\n",
      "F1Val: 0.8337807753214679\n",
      "LossVal: 0.4352426429589589\n",
      "LossTrain: 0.16438356869750553\n",
      "----------\n",
      "\n",
      "Training 14/49\n",
      "Total iteration: 9\n",
      "Epoch 15/50 [16122020-003315]\n",
      "AccVal: 0.8420684835779175\n",
      "AUCVal: 0.91691750994092\n",
      "Precision: 0.8316351175308228\n",
      "Recall: 0.8381417989730835\n",
      "F1Val: 0.8348757808388889\n",
      "LossVal: 0.44071192542711896\n",
      "LossTrain: 0.16045788758330876\n",
      "----------\n",
      "\n",
      "Training 15/49\n",
      "Total iteration: 9\n",
      "Epoch    16: reducing learning rate of group 0 to 2.5000e-04.\n",
      "Epoch 16/50 [16122020-003315]\n",
      "AccVal: 0.8423014209177732\n",
      "AUCVal: 0.9166018802913103\n",
      "Precision: 0.8326848149299622\n",
      "Recall: 0.8371638059616089\n",
      "F1Val: 0.8349182737037648\n",
      "LossVal: 0.44592533508936566\n",
      "LossTrain: 0.1542210711373223\n",
      "----------\n",
      "\n",
      "Training 16/49\n",
      "Total iteration: 9\n",
      "Epoch 17/50 [16122020-003316]\n",
      "AccVal: 0.8427672955974843\n",
      "AUCVal: 0.9165316195216175\n",
      "Precision: 0.8341463208198547\n",
      "Recall: 0.8361858129501343\n",
      "F1Val: 0.8351647919626408\n",
      "LossVal: 0.4484313527743022\n",
      "LossTrain: 0.14787195126215616\n",
      "----------\n",
      "\n",
      "Training 17/49\n",
      "Total iteration: 9\n",
      "Epoch 18/50 [16122020-003316]\n",
      "AccVal: 0.8427672955974843\n",
      "AUCVal: 0.9165538071330995\n",
      "Precision: 0.834799587726593\n",
      "Recall: 0.8352078199386597\n",
      "F1Val: 0.835003624134259\n",
      "LossVal: 0.4507147471110026\n",
      "LossTrain: 0.1446773045592838\n",
      "----------\n",
      "\n",
      "Training 18/49\n",
      "Total iteration: 9\n",
      "Epoch 19/50 [16122020-003317]\n",
      "AccVal: 0.8425343582576287\n",
      "AUCVal: 0.9165808890706436\n",
      "Precision: 0.8340653777122498\n",
      "Recall: 0.835696816444397\n",
      "F1Val: 0.8348803298831938\n",
      "LossVal: 0.45294613639513653\n",
      "LossTrain: 0.14297264400455686\n",
      "----------\n",
      "\n",
      "Training 19/49\n",
      "Total iteration: 9\n",
      "Epoch    20: reducing learning rate of group 0 to 1.2500e-04.\n",
      "Epoch 20/50 [16122020-003317]\n",
      "AccVal: 0.8436990449569066\n",
      "AUCVal: 0.9166678993117491\n",
      "Precision: 0.8344693183898926\n",
      "Recall: 0.8381417989730835\n",
      "F1Val: 0.8363015269273362\n",
      "LossVal: 0.45480648676554364\n",
      "LossTrain: 0.1410479090280003\n",
      "----------\n",
      "\n",
      "Training 20/49\n",
      "Total iteration: 9\n",
      "Epoch 21/50 [16122020-003318]\n",
      "AccVal: 0.843466107617051\n",
      "AUCVal: 0.9166956338261014\n",
      "Precision: 0.8337384462356567\n",
      "Recall: 0.8386307954788208\n",
      "F1Val: 0.8361774648176155\n",
      "LossVal: 0.45622390508651733\n",
      "LossTrain: 0.14114457865556082\n",
      "----------\n",
      "\n",
      "Training 21/49\n",
      "Total iteration: 9\n",
      "Epoch 22/50 [16122020-003318]\n",
      "AccVal: 0.8430002329373398\n",
      "AUCVal: 0.9167154286559529\n",
      "Precision: 0.8332523107528687\n",
      "Recall: 0.8381417989730835\n",
      "F1Val: 0.8356899030204165\n",
      "LossVal: 0.45721401770909625\n",
      "LossTrain: 0.13674431376987034\n",
      "----------\n",
      "\n",
      "Training 22/49\n",
      "Total iteration: 9\n",
      "Epoch 23/50 [16122020-003319]\n",
      "AccVal: 0.8425343582576287\n",
      "AUCVal: 0.9166869328019909\n",
      "Precision: 0.8334144949913025\n",
      "Recall: 0.8366748094558716\n",
      "F1Val: 0.8350414996659137\n",
      "LossVal: 0.45813868443171185\n",
      "LossTrain: 0.13301550017462838\n",
      "----------\n",
      "\n",
      "Training 23/49\n",
      "Total iteration: 9\n",
      "Epoch    24: reducing learning rate of group 0 to 1.0000e-04.\n",
      "Epoch 24/50 [16122020-003320]\n",
      "AccVal: 0.8425343582576287\n",
      "AUCVal: 0.916637445727362\n",
      "Precision: 0.8330900073051453\n",
      "Recall: 0.8371638059616089\n",
      "F1Val: 0.8351219683775666\n",
      "LossVal: 0.45945702989896137\n",
      "LossTrain: 0.12975804342163932\n",
      "----------\n",
      "\n",
      "Training 24/49\n",
      "Total iteration: 9\n",
      "Epoch 25/50 [16122020-003320]\n",
      "AccVal: 0.8425343582576287\n",
      "AUCVal: 0.9166136266738595\n",
      "Precision: 0.8334144949913025\n",
      "Recall: 0.8366748094558716\n",
      "F1Val: 0.8350414996659137\n",
      "LossVal: 0.46073100964228314\n",
      "LossTrain: 0.13554391182131237\n",
      "----------\n",
      "\n",
      "Training 25/49\n",
      "Total iteration: 9\n",
      "Epoch 26/50 [16122020-003321]\n",
      "AccVal: 0.8430002329373398\n",
      "AUCVal: 0.916576429795787\n",
      "Precision: 0.8342272043228149\n",
      "Recall: 0.8366748094558716\n",
      "F1Val: 0.8354492142136394\n",
      "LossVal: 0.46194274226824444\n",
      "LossTrain: 0.13159128692415026\n",
      "----------\n",
      "\n",
      "Training 26/49\n",
      "Total iteration: 9\n",
      "Epoch 27/50 [16122020-003321]\n",
      "AccVal: 0.841835546238062\n",
      "AUCVal: 0.9165459762114001\n",
      "Precision: 0.8331707119941711\n",
      "Recall: 0.8352078199386597\n",
      "F1Val: 0.8341879924988976\n",
      "LossVal: 0.4629048804442088\n",
      "LossTrain: 0.13156351778242323\n",
      "----------\n",
      "\n",
      "Training 27/49\n",
      "Total iteration: 9\n",
      "Epoch 28/50 [16122020-003322]\n",
      "AccVal: 0.8420684835779175\n",
      "AUCVal: 0.9165483689930305\n",
      "Precision: 0.8335773348808289\n",
      "Recall: 0.8352078199386597\n",
      "F1Val: 0.8343918106800483\n",
      "LossVal: 0.46367939313252765\n",
      "LossTrain: 0.12831349422534308\n",
      "----------\n",
      "\n",
      "Training 28/49\n",
      "Total iteration: 9\n",
      "Epoch 29/50 [16122020-003322]\n",
      "AccVal: 0.841835546238062\n",
      "AUCVal: 0.9165364050848785\n",
      "Precision: 0.83349609375\n",
      "Recall: 0.8347188234329224\n",
      "F1Val: 0.8341070104873644\n",
      "LossVal: 0.46445178985595703\n",
      "LossTrain: 0.12752137747075823\n",
      "----------\n",
      "\n",
      "Training 29/49\n",
      "Total iteration: 9\n"
     ]
    },
    {
     "name": "stdout",
     "output_type": "stream",
     "text": [
      "Epoch 30/50 [16122020-003323]\n",
      "AccVal: 0.841835546238062\n",
      "AUCVal: 0.916500948411628\n",
      "Precision: 0.8341487050056458\n",
      "Recall: 0.8337408304214478\n",
      "F1Val: 0.8339446880393163\n",
      "LossVal: 0.46546528736750287\n",
      "LossTrain: 0.125530401037799\n",
      "----------\n",
      "\n",
      "Training 30/49\n",
      "Total iteration: 9\n",
      "Epoch 31/50 [16122020-003323]\n",
      "AccVal: 0.8423014209177732\n",
      "AUCVal: 0.9164205727014069\n",
      "Precision: 0.8343108296394348\n",
      "Recall: 0.8347188234329224\n",
      "F1Val: 0.8345147468668794\n",
      "LossVal: 0.4667538305123647\n",
      "LossTrain: 0.1259064334962103\n",
      "----------\n",
      "\n",
      "Training 31/49\n",
      "Total iteration: 9\n",
      "Epoch 32/50 [16122020-003324]\n",
      "AccVal: 0.8430002329373398\n",
      "AUCVal: 0.9163497681177074\n",
      "Precision: 0.8348802924156189\n",
      "Recall: 0.835696816444397\n",
      "F1Val: 0.8352883846870636\n",
      "LossVal: 0.46822287638982135\n",
      "LossTrain: 0.12323390195767085\n",
      "----------\n",
      "\n",
      "Training 32/49\n",
      "Total iteration: 9\n",
      "Epoch 33/50 [16122020-003324]\n",
      "AccVal: 0.8425343582576287\n",
      "AUCVal: 0.9162936465121944\n",
      "Precision: 0.8347188234329224\n",
      "Recall: 0.8347188234329224\n",
      "F1Val: 0.8347188234329224\n",
      "LossVal: 0.4694278339544932\n",
      "LossTrain: 0.1218420449230406\n",
      "----------\n",
      "\n",
      "Early stopping: 25 epoch not decrease the loss\n"
     ]
    }
   ],
   "source": [
    "model_mlp = ModelMLP(datasetTrain=datasetTrain, datasetVal=datasetVal, batch_size=2048, optimizer_choice='adam', \n",
    "                     init_lr=0.001, layers=[X_train.shape[1], 512, 1], weight_decay=1e-3,\n",
    "                     dropout=0.9, batchnorm=True, checkpoint=None, model_name='BOW_Raw_Light')\n",
    "model_mlp.train(numb_epoch=50)"
   ]
  },
  {
   "cell_type": "code",
   "execution_count": 38,
   "metadata": {
    "hidden": true
   },
   "outputs": [
    {
     "data": {
      "text/plain": [
       "{'accuracy': 0.9767631471667346,\n",
       " 'precision': 0.97485656,\n",
       " 'recall': 0.97640586,\n",
       " 'f1': 0.9756305623514359,\n",
       " 'tp': 7987,\n",
       " 'tn': 8785,\n",
       " 'fp': 206,\n",
       " 'fn': 193,\n",
       " 'auc': 0.9974219397338115}"
      ]
     },
     "execution_count": 38,
     "metadata": {},
     "output_type": "execute_result"
    }
   ],
   "source": [
    "dataloader = make_dalaloader(datasetTrain, batch_size=1024)\n",
    "metrics = model_mlp.evaluate(dataloader)\n",
    "metrics"
   ]
  },
  {
   "cell_type": "markdown",
   "metadata": {
    "heading_collapsed": true,
    "hidden": true
   },
   "source": [
    "## Lemmatized Sentence"
   ]
  },
  {
   "cell_type": "code",
   "execution_count": 8,
   "metadata": {
    "hidden": true
   },
   "outputs": [
    {
     "name": "stderr",
     "output_type": "stream",
     "text": [
      "/home/nmduy/anaconda3/envs/graph/lib/python3.7/site-packages/sklearn/feature_extraction/text.py:484: UserWarning: The parameter 'token_pattern' will not be used since 'tokenizer' is not None'\n",
      "  warnings.warn(\"The parameter 'token_pattern' will not be used\"\n"
     ]
    }
   ],
   "source": [
    "vectorizer = CountVectorizer(tokenizer=lambda text: text.split())\n",
    "all_string = data_train.headline_s2.tolist()\n",
    "\n",
    "# tokenize and build vocab\n",
    "vectorizer.fit(all_string)\n",
    "\n",
    "vocab = {k: v for k, v in sorted(vectorizer.vocabulary_.items(), key=lambda item: item[1])}\n",
    "vocab = list(vocab)\n",
    "\n",
    "# encode document\n",
    "X_train_f = vectorizer.transform(data_train_f.headline_s2.tolist())\n",
    "y_train_f = data_train_f.is_sarcastic.to_numpy()\n",
    "\n",
    "X_train = vectorizer.transform(data_train.headline_s2.tolist())\n",
    "y_train = data_train.is_sarcastic.to_numpy()\n",
    "\n",
    "X_val = vectorizer.transform(data_val.headline_s2.tolist())\n",
    "y_val = data_val.is_sarcastic.to_numpy()"
   ]
  },
  {
   "cell_type": "markdown",
   "metadata": {
    "hidden": true
   },
   "source": [
    "### Logistic Regression"
   ]
  },
  {
   "cell_type": "code",
   "execution_count": 9,
   "metadata": {
    "hidden": true
   },
   "outputs": [
    {
     "name": "stdout",
     "output_type": "stream",
     "text": [
      "Fitting 5 folds for each of 10 candidates, totalling 50 fits\n"
     ]
    },
    {
     "name": "stderr",
     "output_type": "stream",
     "text": [
      "[Parallel(n_jobs=-1)]: Using backend LokyBackend with 16 concurrent workers.\n",
      "[Parallel(n_jobs=-1)]: Done  18 tasks      | elapsed:    1.5s\n",
      "[Parallel(n_jobs=-1)]: Done  50 out of  50 | elapsed:    3.1s finished\n"
     ]
    },
    {
     "name": "stdout",
     "output_type": "stream",
     "text": [
      "Best CV Score: 0.8380546345521406\n",
      "Best paras: {'C': 1, 'penalty': 'l2'}\n"
     ]
    }
   ],
   "source": [
    "## LR\n",
    "hypara = {\n",
    "    'penalty': ['l1', 'l2'],\n",
    "    'C': [0.1, 1, 5, 10, 20],\n",
    "}\n",
    "\n",
    "model_cv_lr = GridSearchCV(LogisticRegression(max_iter=5000, tol=1e-4, solver='liblinear', random_state=1509), hypara, verbose=1, n_jobs=-1)\n",
    "model_cv_lr.fit(X_train_f, y_train_f);\n",
    "print(f\"Best CV Score: {model_cv_lr.best_score_}\")\n",
    "print(f\"Best paras: {model_cv_lr.best_params_}\")"
   ]
  },
  {
   "cell_type": "code",
   "execution_count": 10,
   "metadata": {
    "hidden": true
   },
   "outputs": [
    {
     "name": "stdout",
     "output_type": "stream",
     "text": [
      "Train Result:\n",
      "{'accuracy': 0.9555063770310407, 'precision': 0.9539666993143977, 'recall': 0.9525672371638142, 'f1': 0.9532664546121851, 'tp': 7792, 'tn': 8615, 'fp': 376, 'fn': 388, 'auc': 0.9900906475614435}\n",
      "Validate Result:\n",
      "{'accuracy': 0.8346144887025391, 'precision': 0.8257686676427526, 'recall': 0.8273838630806846, 'f1': 0.8265754763067904, 'tp': 1692, 'tn': 1891, 'fp': 357, 'fn': 353, 'auc': 0.9108975976472431}\n"
     ]
    }
   ],
   "source": [
    "## LR\n",
    "hypara = {\n",
    "    'penalty': 'l2',\n",
    "    'C': 1,\n",
    "    'max_iter': 5000,\n",
    "    'tol': 1e-5,\n",
    "    'solver': 'liblinear',\n",
    "    'random_state': 1509\n",
    "}\n",
    "\n",
    "model_lr = LogisticRegression(**hypara)\n",
    "model_lr.fit(X_train, y_train);\n",
    "\n",
    "train_pred = model_lr.predict_proba(X_train)\n",
    "train_pred = train_pred[:,1]\n",
    "metrics = calculate_metric(y_train, train_pred)\n",
    "print('Train Result:')\n",
    "print(metrics)\n",
    "\n",
    "val_pred = model_lr.predict_proba(X_val)\n",
    "val_pred = val_pred[:,1]\n",
    "metrics = calculate_metric(y_val, val_pred)\n",
    "print('Validate Result:')\n",
    "print(metrics)"
   ]
  },
  {
   "cell_type": "markdown",
   "metadata": {
    "hidden": true
   },
   "source": [
    "### Random Forest"
   ]
  },
  {
   "cell_type": "code",
   "execution_count": 11,
   "metadata": {
    "hidden": true
   },
   "outputs": [
    {
     "name": "stdout",
     "output_type": "stream",
     "text": [
      "Fitting 5 folds for each of 96 candidates, totalling 480 fits\n"
     ]
    },
    {
     "name": "stderr",
     "output_type": "stream",
     "text": [
      "[Parallel(n_jobs=-1)]: Using backend LokyBackend with 16 concurrent workers.\n",
      "[Parallel(n_jobs=-1)]: Done  18 tasks      | elapsed:    6.5s\n",
      "[Parallel(n_jobs=-1)]: Done 168 tasks      | elapsed:  1.1min\n",
      "[Parallel(n_jobs=-1)]: Done 418 tasks      | elapsed:  4.1min\n",
      "[Parallel(n_jobs=-1)]: Done 480 out of 480 | elapsed:  5.1min finished\n"
     ]
    },
    {
     "name": "stdout",
     "output_type": "stream",
     "text": [
      "Best OOB Score: 0.7650482188977092\n",
      "Best paras: {'max_depth': 20, 'min_samples_leaf': 2, 'min_samples_split': 7, 'n_estimators': 400}\n"
     ]
    }
   ],
   "source": [
    "## RF\n",
    "hypara = {\n",
    "    'max_depth': [5, 10, 15, 20],\n",
    "    'n_estimators': [200, 300, 400, 500],\n",
    "    'min_samples_split': [5, 7, 10],\n",
    "    'min_samples_leaf': [2, 5],\n",
    "}\n",
    "\n",
    "model_cv_rf = GridSearchCV(RandomForestClassifier(random_state=1509), hypara, verbose=1, n_jobs=-1)\n",
    "model_cv_rf.fit(X_train_f, y_train_f);\n",
    "print(f\"Best OOB Score: {model_cv_rf.best_score_}\")\n",
    "print(f\"Best paras: {model_cv_rf.best_params_}\")"
   ]
  },
  {
   "cell_type": "code",
   "execution_count": 12,
   "metadata": {
    "hidden": true
   },
   "outputs": [
    {
     "name": "stdout",
     "output_type": "stream",
     "text": [
      "Train Result:\n",
      "{'accuracy': 0.783472133247918, 'precision': 0.8877302745915885, 'recall': 0.6244498777506112, 'f1': 0.7331706616908282, 'tp': 5108, 'tn': 8345, 'fp': 646, 'fn': 3072, 'auc': 0.9014643684706167}\n",
      "Validate Result:\n",
      "{'accuracy': 0.7654320987654321, 'precision': 0.8634453781512605, 'recall': 0.6029339853300734, 'f1': 0.7100489490354163, 'tp': 1233, 'tn': 2053, 'fp': 195, 'fn': 812, 'auc': 0.8795621644667577}\n"
     ]
    }
   ],
   "source": [
    "hypara = {\n",
    "    'random_state': 1509,\n",
    "    'max_depth': 20,\n",
    "    'n_estimators': 400,\n",
    "    'min_samples_split': 7,\n",
    "    'min_samples_leaf': 2,\n",
    "}\n",
    "model_rf = RandomForestClassifier(**hypara)\n",
    "model_rf.fit(X_train, y_train);\n",
    "\n",
    "\n",
    "train_pred = model_rf.predict_proba(X_train)\n",
    "train_pred = train_pred[:,1]\n",
    "metrics = calculate_metric(y_train, train_pred)\n",
    "print('Train Result:')\n",
    "print(metrics)\n",
    "\n",
    "val_pred = model_rf.predict_proba(X_val)\n",
    "val_pred = val_pred[:,1]\n",
    "metrics = calculate_metric(y_val, val_pred)\n",
    "print('Validate Result:')\n",
    "print(metrics)\n"
   ]
  },
  {
   "cell_type": "markdown",
   "metadata": {
    "hidden": true
   },
   "source": [
    "### SVM"
   ]
  },
  {
   "cell_type": "code",
   "execution_count": 13,
   "metadata": {
    "hidden": true
   },
   "outputs": [
    {
     "name": "stdout",
     "output_type": "stream",
     "text": [
      "Fitting 5 folds for each of 6 candidates, totalling 30 fits\n"
     ]
    },
    {
     "name": "stderr",
     "output_type": "stream",
     "text": [
      "[Parallel(n_jobs=-1)]: Using backend LokyBackend with 16 concurrent workers.\n"
     ]
    },
    {
     "name": "stdout",
     "output_type": "stream",
     "text": [
      "Best CV Score: 0.84499656889594\n",
      "Best paras: {'C': 5}\n"
     ]
    },
    {
     "name": "stderr",
     "output_type": "stream",
     "text": [
      "/home/nmduy/anaconda3/envs/graph/lib/python3.7/site-packages/sklearn/svm/_base.py:249: ConvergenceWarning: Solver terminated early (max_iter=5000).  Consider pre-processing your data with StandardScaler or MinMaxScaler.\n",
      "  % self.max_iter, ConvergenceWarning)\n"
     ]
    }
   ],
   "source": [
    "hypara = {\n",
    "    'C': [0.1, 1, 5, 10, 20, 50]\n",
    "}\n",
    "\n",
    "model_cv_svm = GridSearchCV(SVC(max_iter=5000, tol=1e-4, random_state=1509), hypara, verbose=1, n_jobs=-1)\n",
    "model_cv_svm.fit(X_train_f, y_train_f);\n",
    "print(f\"Best CV Score: {model_cv_svm.best_score_}\")\n",
    "print(f\"Best paras: {model_cv_svm.best_params_}\")"
   ]
  },
  {
   "cell_type": "code",
   "execution_count": 14,
   "metadata": {
    "hidden": true
   },
   "outputs": [
    {
     "name": "stdout",
     "output_type": "stream",
     "text": [
      "Train Result:\n",
      "{'accuracy': 0.9998252868208025, 'precision': 0.9997555311086664, 'recall': 0.999877750611247, 'f1': 0.9998166371248701, 'tp': 8179, 'tn': 8989, 'fp': 2, 'fn': 1, 'auc': 0.9999999728062754}\n",
      "Validate Result:\n",
      "{'accuracy': 0.8397391101793618, 'precision': 0.8394197098549274, 'recall': 0.8205378973105134, 'f1': 0.8298714144411472, 'tp': 1678, 'tn': 1927, 'fp': 321, 'fn': 367, 'auc': 0.9164516788626021}\n"
     ]
    }
   ],
   "source": [
    "hypara = {\n",
    "    'C': 5,\n",
    "    'random_state': 1509,\n",
    "    'max_iter':5000,\n",
    "    'tol' : 1e-4\n",
    "}\n",
    "model_svm = SVC(**hypara, probability=True)\n",
    "model_svm.fit(X_train, y_train);\n",
    "\n",
    "train_pred = model_svm.predict_proba(X_train)\n",
    "train_pred = train_pred[:,1]\n",
    "metrics = calculate_metric(y_train, train_pred)\n",
    "print('Train Result:')\n",
    "print(metrics)\n",
    "\n",
    "val_pred = model_svm.predict_proba(X_val)\n",
    "val_pred = val_pred[:,1]\n",
    "metrics = calculate_metric(y_val, val_pred)\n",
    "print('Validate Result:')\n",
    "print(metrics)"
   ]
  },
  {
   "cell_type": "markdown",
   "metadata": {
    "heading_collapsed": true
   },
   "source": [
    "# Embedding TFIDF\n",
    "TFIDF features. Try on both original sentences and lemmatised headlines."
   ]
  },
  {
   "cell_type": "code",
   "execution_count": 10,
   "metadata": {
    "hidden": true
   },
   "outputs": [
    {
     "name": "stdout",
     "output_type": "stream",
     "text": [
      "===== TRAINING SAMPLES =====\n",
      "Total Sample: 17171\n",
      "Sarcastic: 8180 (47.64%)\n",
      "Not Sarcastic: 8991 (52.36%)\n",
      "===== VALIDATING SAMPLES =====\n",
      "Total Sample: 4293\n",
      "Sarcastic: 2045 (47.64%)\n",
      "Not Sarcastic: 2248 (52.36%)\n",
      "===== TESTING SAMPLES =====\n",
      "Total Sample: 7155\n",
      "Sarcastic: 3409 (47.65%)\n",
      "Not Sarcastic: 3746 (52.35%)\n"
     ]
    }
   ],
   "source": [
    "data_full = pd.read_json('fake_news.json', lines=True)\n",
    "data_full = data_full.drop(columns=['article_link']) # remove link column\n",
    "df_train_f, df_test = split_dataframe(data_full, test_size=0.25, seed=1509)\n",
    "df_train, df_validate = split_dataframe(df_train_f, test_size=0.2, seed=1309)\n",
    "\n",
    "# Proportion of each subsets\n",
    "list_label = df_train['is_sarcastic'].tolist()\n",
    "numb_total = len(list_label)\n",
    "numb_sarcastic = np.sum(np.asarray(list_label))\n",
    "numb_not_sarcastic = numb_total - numb_sarcastic\n",
    "print(f'===== TRAINING SAMPLES =====\\nTotal Sample: {numb_total}\\nSarcastic: {numb_sarcastic} ({np.round(numb_sarcastic/numb_total*100,2)}%)\\nNot Sarcastic: {numb_not_sarcastic} ({np.round(numb_not_sarcastic/numb_total*100,2)}%)')\n",
    "\n",
    "list_label = df_validate['is_sarcastic'].tolist()\n",
    "numb_total = len(list_label)\n",
    "numb_sarcastic = np.sum(np.asarray(list_label))\n",
    "numb_not_sarcastic = numb_total - numb_sarcastic\n",
    "print(f'===== VALIDATING SAMPLES =====\\nTotal Sample: {numb_total}\\nSarcastic: {numb_sarcastic} ({np.round(numb_sarcastic/numb_total*100,2)}%)\\nNot Sarcastic: {numb_not_sarcastic} ({np.round(numb_not_sarcastic/numb_total*100,2)}%)')\n",
    "\n",
    "list_label = df_test['is_sarcastic'].tolist()\n",
    "numb_total = len(list_label)\n",
    "numb_sarcastic = np.sum(np.asarray(list_label))\n",
    "numb_not_sarcastic = numb_total - numb_sarcastic\n",
    "print(f'===== TESTING SAMPLES =====\\nTotal Sample: {numb_total}\\nSarcastic: {numb_sarcastic} ({np.round(numb_sarcastic/numb_total*100,2)}%)\\nNot Sarcastic: {numb_not_sarcastic} ({np.round(numb_not_sarcastic/numb_total*100,2)}%)')\n",
    "\n",
    "data_train = df_train.copy()\n",
    "data_train_f = df_train_f.copy()\n",
    "data_val = df_validate.copy()\n",
    "data_test = df_test.copy()\n",
    "\n",
    "data_train = df_train\n",
    "data_train['headline'] = data_train.headline.apply(lambda row: row.lower())\n",
    "data_train['headline_s1'] = data_train.headline.apply(lambda row: remove_symbol(row))\n",
    "data_train['headline_s2'] = data_train.headline_s1.apply(lambda row: lemmatize_word(row, 'v'))\n",
    "data_train['headline_s2'] = data_train.headline_s2.apply(lambda row: lemmatize_word(row, 'n'))\n",
    "#data_train = data_train.drop(columns=['headline', 'headline_s1'])\n",
    "\n",
    "data_train_f = df_train_f\n",
    "data_train_f['headline'] = data_train_f.headline.apply(lambda row: row.lower())\n",
    "data_train_f['headline_s1'] = data_train_f.headline.apply(lambda row: remove_symbol(row))\n",
    "data_train_f['headline_s2'] = data_train_f.headline_s1.apply(lambda row: lemmatize_word(row, 'v'))\n",
    "data_train_f['headline_s2'] = data_train_f.headline_s2.apply(lambda row: lemmatize_word(row, 'n'))\n",
    "\n",
    "data_val = df_validate\n",
    "data_val['headline'] = data_val.headline.apply(lambda row: row.lower())\n",
    "data_val['headline_s1'] = data_val.headline.apply(lambda row: remove_symbol(row))\n",
    "data_val['headline_s2'] = data_val.headline_s1.apply(lambda row: lemmatize_word(row, 'v'))\n",
    "data_val['headline_s2'] = data_val.headline_s2.apply(lambda row: lemmatize_word(row, 'n'))\n",
    "#data_val = data_val.drop(columns=['headline', 'headline_s1'])\n",
    "\n",
    "data_test = df_test\n",
    "data_test['headline'] = data_test.headline.apply(lambda row: row.lower())\n",
    "data_test['headline_s1'] = data_test.headline.apply(lambda row: remove_symbol(row))\n",
    "data_test['headline_s2'] = data_test.headline_s1.apply(lambda row: lemmatize_word(row, 'v'))\n",
    "data_test['headline_s2'] = data_test.headline_s2.apply(lambda row: lemmatize_word(row, 'n'))"
   ]
  },
  {
   "cell_type": "markdown",
   "metadata": {
    "hidden": true
   },
   "source": [
    "## Raw Sentence"
   ]
  },
  {
   "cell_type": "code",
   "execution_count": 11,
   "metadata": {
    "hidden": true
   },
   "outputs": [
    {
     "name": "stderr",
     "output_type": "stream",
     "text": [
      "/home/nmduy/anaconda3/envs/graph/lib/python3.7/site-packages/sklearn/feature_extraction/text.py:484: UserWarning: The parameter 'token_pattern' will not be used since 'tokenizer' is not None'\n",
      "  warnings.warn(\"The parameter 'token_pattern' will not be used\"\n"
     ]
    }
   ],
   "source": [
    "vectorizer = TfidfVectorizer(tokenizer=lambda text: text.split())\n",
    "all_string = data_train.headline_s1.tolist()\n",
    "\n",
    "# tokenize and build vocab\n",
    "vectorizer.fit(all_string)\n",
    "\n",
    "vocab = {k: v for k, v in sorted(vectorizer.vocabulary_.items(), key=lambda item: item[1])}\n",
    "vocab = list(vocab)\n",
    "\n",
    "# encode document\n",
    "X_train_f = vectorizer.transform(data_train_f.headline_s1.tolist())\n",
    "y_train_f = data_train_f.is_sarcastic.to_numpy()\n",
    "\n",
    "X_train = vectorizer.transform(data_train.headline_s1.tolist())\n",
    "y_train = data_train.is_sarcastic.to_numpy()\n",
    "\n",
    "X_val = vectorizer.transform(data_val.headline_s1.tolist())\n",
    "y_val = data_val.is_sarcastic.to_numpy()"
   ]
  },
  {
   "cell_type": "markdown",
   "metadata": {
    "heading_collapsed": true,
    "hidden": true
   },
   "source": [
    "### Logistic Regression"
   ]
  },
  {
   "cell_type": "code",
   "execution_count": 12,
   "metadata": {
    "hidden": true
   },
   "outputs": [
    {
     "name": "stdout",
     "output_type": "stream",
     "text": [
      "Fitting 5 folds for each of 10 candidates, totalling 50 fits\n"
     ]
    },
    {
     "name": "stderr",
     "output_type": "stream",
     "text": [
      "[Parallel(n_jobs=-1)]: Using backend LokyBackend with 16 concurrent workers.\n",
      "[Parallel(n_jobs=-1)]: Done  18 tasks      | elapsed:    1.1s\n"
     ]
    },
    {
     "name": "stdout",
     "output_type": "stream",
     "text": [
      "Best CV Score: 0.8493293662345929\n",
      "Best paras: {'C': 5, 'penalty': 'l2'}\n"
     ]
    },
    {
     "name": "stderr",
     "output_type": "stream",
     "text": [
      "[Parallel(n_jobs=-1)]: Done  50 out of  50 | elapsed:    2.7s finished\n"
     ]
    }
   ],
   "source": [
    "## LR\n",
    "hypara = {\n",
    "    'penalty': ['l1', 'l2'],\n",
    "    'C': [0.1, 1, 5, 10, 20],\n",
    "}\n",
    "\n",
    "model_cv_lr = GridSearchCV(LogisticRegression(max_iter=5000, tol=1e-4, solver='liblinear', random_state=1509), hypara, verbose=1, n_jobs=-1)\n",
    "model_cv_lr.fit(X_train_f, y_train_f);\n",
    "print(f\"Best CV Score: {model_cv_lr.best_score_}\")\n",
    "print(f\"Best paras: {model_cv_lr.best_params_}\")"
   ]
  },
  {
   "cell_type": "code",
   "execution_count": 13,
   "metadata": {
    "hidden": true
   },
   "outputs": [
    {
     "name": "stdout",
     "output_type": "stream",
     "text": [
      "Train Result:\n",
      "{'accuracy': 0.9712888008852134, 'precision': 0.9722324609902937, 'recall': 0.967359413202934, 'f1': 0.9697898155524235, 'tp': 7913, 'tn': 8765, 'fp': 226, 'fn': 267, 'auc': 0.9944726579336739}\n",
      "Validate Result:\n",
      "{'accuracy': 0.8485907290938738, 'precision': 0.8348535765722516, 'recall': 0.8503667481662591, 'f1': 0.8425387596899224, 'tp': 1739, 'tn': 1904, 'fp': 344, 'fn': 306, 'auc': 0.9256408304257412}\n"
     ]
    }
   ],
   "source": [
    "## LR\n",
    "hypara = {\n",
    "    'penalty': 'l2',\n",
    "    'C': 5,\n",
    "    'max_iter': 5000,\n",
    "    'tol': 1e-5,\n",
    "    'solver': 'liblinear',\n",
    "    'random_state': 1509\n",
    "}\n",
    "\n",
    "model_lr = LogisticRegression(**hypara)\n",
    "model_lr.fit(X_train, y_train);\n",
    "\n",
    "train_pred = model_lr.predict_proba(X_train)\n",
    "train_pred = train_pred[:,1]\n",
    "metrics = calculate_metric(y_train, train_pred)\n",
    "print('Train Result:')\n",
    "print(metrics)\n",
    "\n",
    "val_pred = model_lr.predict_proba(X_val)\n",
    "val_pred = val_pred[:,1]\n",
    "metrics = calculate_metric(y_val, val_pred)\n",
    "print('Validate Result:')\n",
    "print(metrics)"
   ]
  },
  {
   "cell_type": "markdown",
   "metadata": {
    "heading_collapsed": true,
    "hidden": true
   },
   "source": [
    "### Random Forest"
   ]
  },
  {
   "cell_type": "code",
   "execution_count": 14,
   "metadata": {
    "hidden": true
   },
   "outputs": [
    {
     "name": "stdout",
     "output_type": "stream",
     "text": [
      "Fitting 5 folds for each of 96 candidates, totalling 480 fits\n"
     ]
    },
    {
     "name": "stderr",
     "output_type": "stream",
     "text": [
      "[Parallel(n_jobs=-1)]: Using backend LokyBackend with 16 concurrent workers.\n",
      "[Parallel(n_jobs=-1)]: Done  18 tasks      | elapsed:    7.3s\n",
      "[Parallel(n_jobs=-1)]: Done 168 tasks      | elapsed:  1.1min\n",
      "[Parallel(n_jobs=-1)]: Done 418 tasks      | elapsed:  4.5min\n",
      "[Parallel(n_jobs=-1)]: Done 480 out of 480 | elapsed:  5.5min finished\n"
     ]
    },
    {
     "name": "stdout",
     "output_type": "stream",
     "text": [
      "Best OOB Score: 0.7796309972952783\n",
      "Best paras: {'max_depth': 20, 'min_samples_leaf': 2, 'min_samples_split': 7, 'n_estimators': 300}\n"
     ]
    }
   ],
   "source": [
    "## RF\n",
    "hypara = {\n",
    "    'max_depth': [5, 10, 15, 20],\n",
    "    'n_estimators': [200, 300, 400, 500],\n",
    "    'min_samples_split': [5, 7, 10],\n",
    "    'min_samples_leaf': [2, 5],\n",
    "}\n",
    "\n",
    "model_cv_rf = GridSearchCV(RandomForestClassifier(random_state=1509), hypara, verbose=1, n_jobs=-1)\n",
    "model_cv_rf.fit(X_train_f, y_train_f);\n",
    "print(f\"Best OOB Score: {model_cv_rf.best_score_}\")\n",
    "print(f\"Best paras: {model_cv_rf.best_params_}\")"
   ]
  },
  {
   "cell_type": "code",
   "execution_count": 15,
   "metadata": {
    "hidden": true
   },
   "outputs": [
    {
     "name": "stdout",
     "output_type": "stream",
     "text": [
      "Train Result:\n",
      "{'accuracy': 0.8097955855803389, 'precision': 0.8814032909034462, 'recall': 0.6941320293398533, 'f1': 0.7766379428258788, 'tp': 5678, 'tn': 8227, 'fp': 764, 'fn': 2502, 'auc': 0.9135647532890131}\n",
      "Validate Result:\n",
      "{'accuracy': 0.7747495923596552, 'precision': 0.855072463768116, 'recall': 0.634718826405868, 'f1': 0.7285994948077463, 'tp': 1298, 'tn': 2028, 'fp': 220, 'fn': 747, 'auc': 0.8856271045602068}\n"
     ]
    }
   ],
   "source": [
    "hypara = {\n",
    "    'random_state': 1509,\n",
    "    'max_depth': 20,\n",
    "    'n_estimators': 300,\n",
    "    'min_samples_split': 7,\n",
    "    'min_samples_leaf': 2,\n",
    "}\n",
    "model_rf = RandomForestClassifier(**hypara)\n",
    "model_rf.fit(X_train, y_train);\n",
    "\n",
    "\n",
    "train_pred = model_rf.predict_proba(X_train)\n",
    "train_pred = train_pred[:,1]\n",
    "metrics = calculate_metric(y_train, train_pred)\n",
    "print('Train Result:')\n",
    "print(metrics)\n",
    "\n",
    "val_pred = model_rf.predict_proba(X_val)\n",
    "val_pred = val_pred[:,1]\n",
    "metrics = calculate_metric(y_val, val_pred)\n",
    "print('Validate Result:')\n",
    "print(metrics)\n"
   ]
  },
  {
   "cell_type": "markdown",
   "metadata": {
    "heading_collapsed": true,
    "hidden": true
   },
   "source": [
    "### SVM"
   ]
  },
  {
   "cell_type": "code",
   "execution_count": 16,
   "metadata": {
    "hidden": true
   },
   "outputs": [
    {
     "name": "stdout",
     "output_type": "stream",
     "text": [
      "Fitting 5 folds for each of 6 candidates, totalling 30 fits\n"
     ]
    },
    {
     "name": "stderr",
     "output_type": "stream",
     "text": [
      "[Parallel(n_jobs=-1)]: Using backend LokyBackend with 16 concurrent workers.\n",
      "[Parallel(n_jobs=-1)]: Done  30 out of  30 | elapsed:  1.4min remaining:    0.0s\n",
      "[Parallel(n_jobs=-1)]: Done  30 out of  30 | elapsed:  1.4min finished\n"
     ]
    },
    {
     "name": "stdout",
     "output_type": "stream",
     "text": [
      "Best CV Score: 0.8526372609868597\n",
      "Best paras: {'C': 5}\n"
     ]
    },
    {
     "name": "stderr",
     "output_type": "stream",
     "text": [
      "/home/nmduy/anaconda3/envs/graph/lib/python3.7/site-packages/sklearn/svm/_base.py:249: ConvergenceWarning: Solver terminated early (max_iter=5000).  Consider pre-processing your data with StandardScaler or MinMaxScaler.\n",
      "  % self.max_iter, ConvergenceWarning)\n"
     ]
    }
   ],
   "source": [
    "hypara = {\n",
    "    'C': [0.1, 1, 5, 10, 20, 50]\n",
    "}\n",
    "\n",
    "model_cv_svm = GridSearchCV(SVC(max_iter=5000, tol=1e-4, random_state=1509), hypara, verbose=1, n_jobs=-1)\n",
    "model_cv_svm.fit(X_train_f, y_train_f);\n",
    "print(f\"Best CV Score: {model_cv_svm.best_score_}\")\n",
    "print(f\"Best paras: {model_cv_svm.best_params_}\")"
   ]
  },
  {
   "cell_type": "code",
   "execution_count": 17,
   "metadata": {
    "hidden": true
   },
   "outputs": [
    {
     "name": "stdout",
     "output_type": "stream",
     "text": [
      "Train Result:\n",
      "{'accuracy': 1.0, 'precision': 1.0, 'recall': 1.0, 'f1': 1.0, 'tp': 8180, 'tn': 8991, 'fp': 0, 'fn': 0, 'auc': 1.0}\n",
      "Validate Result:\n",
      "{'accuracy': 0.8541812252504076, 'precision': 0.8462664714494875, 'recall': 0.847921760391198, 'f1': 0.8470933072789448, 'tp': 1734, 'tn': 1933, 'fp': 315, 'fn': 311, 'auc': 0.9263538793515997}\n"
     ]
    }
   ],
   "source": [
    "hypara = {\n",
    "    'C': 5,\n",
    "    'random_state': 1509,\n",
    "    'max_iter':5000,\n",
    "    'tol' : 1e-4\n",
    "}\n",
    "model_svm = SVC(**hypara, probability=True)\n",
    "model_svm.fit(X_train, y_train);\n",
    "\n",
    "train_pred = model_svm.predict_proba(X_train)\n",
    "train_pred = train_pred[:,1]\n",
    "metrics = calculate_metric(y_train, train_pred)\n",
    "print('Train Result:')\n",
    "print(metrics)\n",
    "\n",
    "val_pred = model_svm.predict_proba(X_val)\n",
    "val_pred = val_pred[:,1]\n",
    "metrics = calculate_metric(y_val, val_pred)\n",
    "print('Validate Result:')\n",
    "print(metrics)"
   ]
  },
  {
   "cell_type": "markdown",
   "metadata": {
    "heading_collapsed": true,
    "hidden": true
   },
   "source": [
    "## Lemmatised"
   ]
  },
  {
   "cell_type": "code",
   "execution_count": 18,
   "metadata": {
    "hidden": true
   },
   "outputs": [
    {
     "name": "stderr",
     "output_type": "stream",
     "text": [
      "/home/nmduy/anaconda3/envs/graph/lib/python3.7/site-packages/sklearn/feature_extraction/text.py:484: UserWarning: The parameter 'token_pattern' will not be used since 'tokenizer' is not None'\n",
      "  warnings.warn(\"The parameter 'token_pattern' will not be used\"\n"
     ]
    }
   ],
   "source": [
    "vectorizer = TfidfVectorizer(tokenizer=lambda text: text.split())\n",
    "all_string = data_train.headline_s2.tolist()\n",
    "\n",
    "# tokenize and build vocab\n",
    "vectorizer.fit(all_string)\n",
    "\n",
    "vocab = {k: v for k, v in sorted(vectorizer.vocabulary_.items(), key=lambda item: item[1])}\n",
    "vocab = list(vocab)\n",
    "\n",
    "# encode document\n",
    "X_train_f = vectorizer.transform(data_train_f.headline_s2.tolist())\n",
    "y_train_f = data_train_f.is_sarcastic.to_numpy()\n",
    "\n",
    "X_train = vectorizer.transform(data_train.headline_s2.tolist())\n",
    "y_train = data_train.is_sarcastic.to_numpy()\n",
    "\n",
    "X_val = vectorizer.transform(data_val.headline_s2.tolist())\n",
    "y_val = data_val.is_sarcastic.to_numpy()"
   ]
  },
  {
   "cell_type": "markdown",
   "metadata": {
    "heading_collapsed": true,
    "hidden": true
   },
   "source": [
    "### Logistic Regression"
   ]
  },
  {
   "cell_type": "code",
   "execution_count": 19,
   "metadata": {
    "hidden": true
   },
   "outputs": [
    {
     "name": "stdout",
     "output_type": "stream",
     "text": [
      "Fitting 5 folds for each of 10 candidates, totalling 50 fits\n"
     ]
    },
    {
     "name": "stderr",
     "output_type": "stream",
     "text": [
      "[Parallel(n_jobs=-1)]: Using backend LokyBackend with 16 concurrent workers.\n",
      "[Parallel(n_jobs=-1)]: Done  18 tasks      | elapsed:    1.3s\n"
     ]
    },
    {
     "name": "stdout",
     "output_type": "stream",
     "text": [
      "Best CV Score: 0.8417352507571548\n",
      "Best paras: {'C': 5, 'penalty': 'l2'}\n"
     ]
    },
    {
     "name": "stderr",
     "output_type": "stream",
     "text": [
      "[Parallel(n_jobs=-1)]: Done  50 out of  50 | elapsed:    2.3s finished\n"
     ]
    }
   ],
   "source": [
    "## LR\n",
    "hypara = {\n",
    "    'penalty': ['l1', 'l2'],\n",
    "    'C': [0.1, 1, 5, 10, 20],\n",
    "}\n",
    "\n",
    "model_cv_lr = GridSearchCV(LogisticRegression(max_iter=5000, tol=1e-4, solver='liblinear', random_state=1509), hypara, verbose=1, n_jobs=-1)\n",
    "model_cv_lr.fit(X_train_f, y_train_f);\n",
    "print(f\"Best CV Score: {model_cv_lr.best_score_}\")\n",
    "print(f\"Best paras: {model_cv_lr.best_params_}\")"
   ]
  },
  {
   "cell_type": "code",
   "execution_count": 20,
   "metadata": {
    "hidden": true
   },
   "outputs": [
    {
     "name": "stdout",
     "output_type": "stream",
     "text": [
      "Train Result:\n",
      "{'accuracy': 0.957777648360608, 'precision': 0.9580926631436647, 'recall': 0.9530562347188264, 'f1': 0.9555678127106698, 'tp': 7796, 'tn': 8650, 'fp': 341, 'fn': 384, 'auc': 0.9905264813849438}\n",
      "Validate Result:\n",
      "{'accuracy': 0.8395061728395061, 'precision': 0.8256484149855908, 'recall': 0.8405867970660147, 'f1': 0.833050642112915, 'tp': 1719, 'tn': 1885, 'fp': 363, 'fn': 326, 'auc': 0.9145953153686189}\n"
     ]
    }
   ],
   "source": [
    "## LR\n",
    "hypara = {\n",
    "    'penalty': 'l2',\n",
    "    'C': 5,\n",
    "    'max_iter': 5000,\n",
    "    'tol': 1e-5,\n",
    "    'solver': 'liblinear',\n",
    "    'random_state': 1509\n",
    "}\n",
    "\n",
    "model_lr = LogisticRegression(**hypara)\n",
    "model_lr.fit(X_train, y_train);\n",
    "\n",
    "train_pred = model_lr.predict_proba(X_train)\n",
    "train_pred = train_pred[:,1]\n",
    "metrics = calculate_metric(y_train, train_pred)\n",
    "print('Train Result:')\n",
    "print(metrics)\n",
    "\n",
    "val_pred = model_lr.predict_proba(X_val)\n",
    "val_pred = val_pred[:,1]\n",
    "metrics = calculate_metric(y_val, val_pred)\n",
    "print('Validate Result:')\n",
    "print(metrics)"
   ]
  },
  {
   "cell_type": "markdown",
   "metadata": {
    "heading_collapsed": true,
    "hidden": true
   },
   "source": [
    "### Random Forest"
   ]
  },
  {
   "cell_type": "code",
   "execution_count": 21,
   "metadata": {
    "hidden": true
   },
   "outputs": [
    {
     "name": "stdout",
     "output_type": "stream",
     "text": [
      "Fitting 5 folds for each of 96 candidates, totalling 480 fits\n"
     ]
    },
    {
     "name": "stderr",
     "output_type": "stream",
     "text": [
      "[Parallel(n_jobs=-1)]: Using backend LokyBackend with 16 concurrent workers.\n",
      "[Parallel(n_jobs=-1)]: Done  18 tasks      | elapsed:    6.6s\n",
      "[Parallel(n_jobs=-1)]: Done 168 tasks      | elapsed:  1.1min\n",
      "[Parallel(n_jobs=-1)]: Done 418 tasks      | elapsed:  4.2min\n",
      "[Parallel(n_jobs=-1)]: Done 480 out of 480 | elapsed:  5.2min finished\n"
     ]
    },
    {
     "name": "stdout",
     "output_type": "stream",
     "text": [
      "Best OOB Score: 0.780329570516081\n",
      "Best paras: {'max_depth': 20, 'min_samples_leaf': 2, 'min_samples_split': 7, 'n_estimators': 400}\n"
     ]
    }
   ],
   "source": [
    "## RF\n",
    "hypara = {\n",
    "    'max_depth': [5, 10, 15, 20],\n",
    "    'n_estimators': [200, 300, 400, 500],\n",
    "    'min_samples_split': [5, 7, 10],\n",
    "    'min_samples_leaf': [2, 5],\n",
    "}\n",
    "\n",
    "model_cv_rf = GridSearchCV(RandomForestClassifier(random_state=1509), hypara, verbose=1, n_jobs=-1)\n",
    "model_cv_rf.fit(X_train_f, y_train_f);\n",
    "print(f\"Best OOB Score: {model_cv_rf.best_score_}\")\n",
    "print(f\"Best paras: {model_cv_rf.best_params_}\")"
   ]
  },
  {
   "cell_type": "code",
   "execution_count": 22,
   "metadata": {
    "hidden": true
   },
   "outputs": [
    {
     "name": "stdout",
     "output_type": "stream",
     "text": [
      "Train Result:\n",
      "{'accuracy': 0.8105526760235281, 'precision': 0.8675220050723557, 'recall': 0.710880195599022, 'f1': 0.7814284754417792, 'tp': 5815, 'tn': 8103, 'fp': 888, 'fn': 2365, 'auc': 0.909080868426155}\n",
      "Validate Result:\n",
      "{'accuracy': 0.7819706498951782, 'precision': 0.8446239900559354, 'recall': 0.6645476772616137, 'f1': 0.7438423645320197, 'tp': 1359, 'tn': 1998, 'fp': 250, 'fn': 686, 'auc': 0.8825521626395427}\n"
     ]
    }
   ],
   "source": [
    "hypara = {\n",
    "    'random_state': 1509,\n",
    "    'max_depth': 20,\n",
    "    'n_estimators': 400,\n",
    "    'min_samples_split': 7,\n",
    "    'min_samples_leaf': 2,\n",
    "}\n",
    "model_rf = RandomForestClassifier(**hypara)\n",
    "model_rf.fit(X_train, y_train);\n",
    "\n",
    "\n",
    "train_pred = model_rf.predict_proba(X_train)\n",
    "train_pred = train_pred[:,1]\n",
    "metrics = calculate_metric(y_train, train_pred)\n",
    "print('Train Result:')\n",
    "print(metrics)\n",
    "\n",
    "val_pred = model_rf.predict_proba(X_val)\n",
    "val_pred = val_pred[:,1]\n",
    "metrics = calculate_metric(y_val, val_pred)\n",
    "print('Validate Result:')\n",
    "print(metrics)\n"
   ]
  },
  {
   "cell_type": "markdown",
   "metadata": {
    "hidden": true
   },
   "source": [
    "### SVM"
   ]
  },
  {
   "cell_type": "code",
   "execution_count": 23,
   "metadata": {
    "hidden": true
   },
   "outputs": [
    {
     "name": "stdout",
     "output_type": "stream",
     "text": [
      "Fitting 5 folds for each of 6 candidates, totalling 30 fits\n"
     ]
    },
    {
     "name": "stderr",
     "output_type": "stream",
     "text": [
      "[Parallel(n_jobs=-1)]: Using backend LokyBackend with 16 concurrent workers.\n",
      "[Parallel(n_jobs=-1)]: Done  30 out of  30 | elapsed:  1.3min remaining:    0.0s\n",
      "[Parallel(n_jobs=-1)]: Done  30 out of  30 | elapsed:  1.3min finished\n"
     ]
    },
    {
     "name": "stdout",
     "output_type": "stream",
     "text": [
      "Best CV Score: 0.84681338245641\n",
      "Best paras: {'C': 5}\n"
     ]
    },
    {
     "name": "stderr",
     "output_type": "stream",
     "text": [
      "/home/nmduy/anaconda3/envs/graph/lib/python3.7/site-packages/sklearn/svm/_base.py:249: ConvergenceWarning: Solver terminated early (max_iter=5000).  Consider pre-processing your data with StandardScaler or MinMaxScaler.\n",
      "  % self.max_iter, ConvergenceWarning)\n"
     ]
    }
   ],
   "source": [
    "hypara = {\n",
    "    'C': [0.1, 1, 5, 10, 20, 50]\n",
    "}\n",
    "\n",
    "model_cv_svm = GridSearchCV(SVC(max_iter=5000, tol=1e-4, random_state=1509), hypara, verbose=1, n_jobs=-1)\n",
    "model_cv_svm.fit(X_train_f, y_train_f);\n",
    "print(f\"Best CV Score: {model_cv_svm.best_score_}\")\n",
    "print(f\"Best paras: {model_cv_svm.best_params_}\")"
   ]
  },
  {
   "cell_type": "code",
   "execution_count": 24,
   "metadata": {
    "hidden": true
   },
   "outputs": [
    {
     "name": "stdout",
     "output_type": "stream",
     "text": [
      "Train Result:\n",
      "{'accuracy': 1.0, 'precision': 1.0, 'recall': 1.0, 'f1': 1.0, 'tp': 8180, 'tn': 8991, 'fp': 0, 'fn': 0, 'auc': 1.0}\n",
      "Validate Result:\n",
      "{'accuracy': 0.8439319822967621, 'precision': 0.8316449589966233, 'recall': 0.8430317848410758, 'f1': 0.8372996600291405, 'tp': 1724, 'tn': 1899, 'fp': 349, 'fn': 321, 'auc': 0.919422861070748}\n"
     ]
    }
   ],
   "source": [
    "hypara = {\n",
    "    'C': 5,\n",
    "    'random_state': 1509,\n",
    "    'max_iter':5000,\n",
    "    'tol' : 1e-4\n",
    "}\n",
    "model_svm = SVC(**hypara, probability=True)\n",
    "model_svm.fit(X_train, y_train);\n",
    "\n",
    "train_pred = model_svm.predict_proba(X_train)\n",
    "train_pred = train_pred[:,1]\n",
    "metrics = calculate_metric(y_train, train_pred)\n",
    "print('Train Result:')\n",
    "print(metrics)\n",
    "\n",
    "val_pred = model_svm.predict_proba(X_val)\n",
    "val_pred = val_pred[:,1]\n",
    "metrics = calculate_metric(y_val, val_pred)\n",
    "print('Validate Result:')\n",
    "print(metrics)"
   ]
  },
  {
   "cell_type": "code",
   "execution_count": null,
   "metadata": {
    "hidden": true
   },
   "outputs": [],
   "source": []
  }
 ],
 "metadata": {
  "kernelspec": {
   "display_name": "Python 3",
   "language": "python",
   "name": "python3"
  },
  "language_info": {
   "codemirror_mode": {
    "name": "ipython",
    "version": 3
   },
   "file_extension": ".py",
   "mimetype": "text/x-python",
   "name": "python",
   "nbconvert_exporter": "python",
   "pygments_lexer": "ipython3",
   "version": "3.7.9"
  }
 },
 "nbformat": 4,
 "nbformat_minor": 4
}
