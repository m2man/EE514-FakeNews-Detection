{
 "cells": [
  {
   "cell_type": "markdown",
   "metadata": {},
   "source": [
    "# Sequence Models\n",
    "In this notebook, I will implement the bidirectional Gated Recurrent Unit combined with a normal Multi-layer Perception (Fully connected or Linear Layer) to classify whether a headline was true or fake."
   ]
  },
  {
   "cell_type": "code",
   "execution_count": 12,
   "metadata": {},
   "outputs": [],
   "source": [
    "from myfunctions import *\n",
    "import joblib\n",
    "from tqdm import tqdm\n",
    "from rnn_pytorch import *\n",
    "\n",
    "# Find and sort list of common words in a sentence based on its occurence in the sentence\n",
    "def most_common_words(sent, numb_words=20):\n",
    "    words = sent.split()\n",
    "    wordCount = Counter(words)\n",
    "    wordCount = wordCount.most_common()\n",
    "    if numb_words > len(wordCount) or numb_words < 0:\n",
    "        numb_words = len(wordCount)\n",
    "    top_words = [x[0] for x in wordCount[:numb_words]]\n",
    "    count_words = [x[1] for x in wordCount[:numb_words]]\n",
    "    return top_words, count_words\n",
    "\n",
    "# Get the embedded feature of a word from a pretrained model (Glove or Word2Vec)\n",
    "def get_word_features(w, model):\n",
    "    try:\n",
    "        feature = model[w]\n",
    "        flag = 1\n",
    "    except:\n",
    "        feature = np.random.uniform(-2.5, 2.5, 300)\n",
    "        file1 = open(\"KeyError_Glove.txt\",\"a\") \n",
    "        file1.write(f'{w}\\n')\n",
    "        file1.close() \n",
    "        flag = 0 # Error checker\n",
    "    return feature, flag\n",
    "\n",
    "# Replace unknown words (words not in a vocabulary given) in a sentence to UNK token\n",
    "def add_unknown_token(sent, vocab):\n",
    "    sent_s = sent.split()\n",
    "    for idx, s in enumerate(sent_s):\n",
    "        if s not in vocab:\n",
    "            sent_s[idx] = 'UNK'\n",
    "    psent = ' '.join(sent_s)\n",
    "    return psent\n",
    "\n",
    "# Remove unknown words (words not in a vocabulary given) out of a sentence\n",
    "def remove_unknown_token(sent, vocab):\n",
    "    sent_s = sent.split()\n",
    "    psent = [x for x in sent_s if x in vocab]\n",
    "    psent = ' '.join(psent)\n",
    "    return psent\n"
   ]
  },
  {
   "cell_type": "code",
   "execution_count": 2,
   "metadata": {},
   "outputs": [],
   "source": [
    "# Load pretrain Glove model\n",
    "embeddings_dict = {}\n",
    "with open(\"../glove/glove.6B.300d.txt\", 'r') as f:\n",
    "    for line in f:\n",
    "        values = line.split()\n",
    "        word = values[0]\n",
    "        vector = np.asarray(values[1:], \"float32\")\n",
    "        embeddings_dict[word] = vector"
   ]
  },
  {
   "cell_type": "code",
   "execution_count": 3,
   "metadata": {},
   "outputs": [
    {
     "name": "stdout",
     "output_type": "stream",
     "text": [
      "===== TRAINING SAMPLES =====\n",
      "Total Sample: 17171\n",
      "Sarcastic: 8180 (47.64%)\n",
      "Not Sarcastic: 8991 (52.36%)\n",
      "===== VALIDATING SAMPLES =====\n",
      "Total Sample: 4293\n",
      "Sarcastic: 2045 (47.64%)\n",
      "Not Sarcastic: 2248 (52.36%)\n",
      "===== TESTING SAMPLES =====\n",
      "Total Sample: 7155\n",
      "Sarcastic: 3409 (47.65%)\n",
      "Not Sarcastic: 3746 (52.35%)\n"
     ]
    }
   ],
   "source": [
    "# Read dataset\n",
    "data_full = pd.read_json('fake_news.json', lines=True)\n",
    "data_full = data_full.drop(columns=['article_link']) # remove link column\n",
    "df_train_f, df_test = split_dataframe(data_full, test_size=0.25, seed=1509)\n",
    "df_train, df_validate = split_dataframe(df_train_f, test_size=0.2, seed=1309)\n",
    "\n",
    "# Proportion of each subsets\n",
    "list_label = df_train['is_sarcastic'].tolist()\n",
    "numb_total = len(list_label)\n",
    "numb_sarcastic = np.sum(np.asarray(list_label))\n",
    "numb_not_sarcastic = numb_total - numb_sarcastic\n",
    "print(f'===== TRAINING SAMPLES =====\\nTotal Sample: {numb_total}\\nSarcastic: {numb_sarcastic} ({np.round(numb_sarcastic/numb_total*100,2)}%)\\nNot Sarcastic: {numb_not_sarcastic} ({np.round(numb_not_sarcastic/numb_total*100,2)}%)')\n",
    "\n",
    "list_label = df_validate['is_sarcastic'].tolist()\n",
    "numb_total = len(list_label)\n",
    "numb_sarcastic = np.sum(np.asarray(list_label))\n",
    "numb_not_sarcastic = numb_total - numb_sarcastic\n",
    "print(f'===== VALIDATING SAMPLES =====\\nTotal Sample: {numb_total}\\nSarcastic: {numb_sarcastic} ({np.round(numb_sarcastic/numb_total*100,2)}%)\\nNot Sarcastic: {numb_not_sarcastic} ({np.round(numb_not_sarcastic/numb_total*100,2)}%)')\n",
    "\n",
    "list_label = df_test['is_sarcastic'].tolist()\n",
    "numb_total = len(list_label)\n",
    "numb_sarcastic = np.sum(np.asarray(list_label))\n",
    "numb_not_sarcastic = numb_total - numb_sarcastic\n",
    "print(f'===== TESTING SAMPLES =====\\nTotal Sample: {numb_total}\\nSarcastic: {numb_sarcastic} ({np.round(numb_sarcastic/numb_total*100,2)}%)\\nNot Sarcastic: {numb_not_sarcastic} ({np.round(numb_not_sarcastic/numb_total*100,2)}%)')\n",
    "\n",
    "# Preprocessing\n",
    "# S1 - discard symbol out of headlines\n",
    "# S2 - lemmatised headline_s1\n",
    "data_train = df_train\n",
    "data_train['headline_s1'] = data_train.headline.apply(lambda row: remove_symbol(row))\n",
    "data_train['headline_s2'] = data_train.headline_s1.apply(lambda row: lemmatize_word(row, 'v'))\n",
    "data_train['headline_s2'] = data_train.headline_s2.apply(lambda row: lemmatize_word(row, 'n'))\n",
    "\n",
    "data_val = df_validate\n",
    "data_val['headline_s1'] = data_val.headline.apply(lambda row: remove_symbol(row))\n",
    "data_val['headline_s2'] = data_val.headline_s1.apply(lambda row: lemmatize_word(row, 'v'))\n",
    "data_val['headline_s2'] = data_val.headline_s2.apply(lambda row: lemmatize_word(row, 'n'))\n",
    "\n",
    "data_test = df_test\n",
    "data_test['headline_s1'] = data_test.headline.apply(lambda row: remove_symbol(row))\n",
    "data_test['headline_s2'] = data_test.headline_s1.apply(lambda row: lemmatize_word(row, 'v'))\n",
    "data_test['headline_s2'] = data_test.headline_s2.apply(lambda row: lemmatize_word(row, 'n'))\n"
   ]
  },
  {
   "cell_type": "markdown",
   "metadata": {
    "heading_collapsed": true
   },
   "source": [
    "# With UNK\n",
    "Run the experiment in which using UNK token for unknown words"
   ]
  },
  {
   "cell_type": "code",
   "execution_count": 4,
   "metadata": {
    "hidden": true
   },
   "outputs": [
    {
     "name": "stdout",
     "output_type": "stream",
     "text": [
      "Number of unique words remaining: 21115 / 23115\n",
      "Total discard (Unknown Token): 2000\n"
     ]
    }
   ],
   "source": [
    "dt_train = data_train.copy()\n",
    "dt_val = data_val.copy()\n",
    "\n",
    "# Count the frequency of words in the training corpus\n",
    "all_string = dt_train.headline_s1.tolist()\n",
    "all_string_in_one = ' '.join(all_string)\n",
    "all_string_in_one = all_string_in_one.lower()\n",
    "list_common_words, count_words = most_common_words(all_string_in_one, numb_words=-1)\n",
    "\n",
    "cwdf = pd.DataFrame(np.asarray(count_words),\n",
    "                    columns=['count_words'])\n",
    "cwdf['words'] = list_common_words\n",
    "\n",
    "# Find the index of words appeared only once in the corpus\n",
    "s = cwdf.index[cwdf.iloc[:,0] == 1].tolist()[0]\n",
    "s = s + 21115 - 11476 # Only take 2000 unknown words into UNK token\n",
    "common_vocab = cwdf.words[0:s].tolist()\n",
    "print(f\"Number of unique words remaining: {s} / {len(list_common_words)}\")\n",
    "print(f\"Total discard (Unknown Token): {cwdf.iloc[s:,0].sum()}\")"
   ]
  },
  {
   "cell_type": "code",
   "execution_count": 5,
   "metadata": {
    "hidden": true
   },
   "outputs": [],
   "source": [
    "# Convert unknown words into UNK tokens in the dataset\n",
    "dt_train['preprocess'] = dt_train.headline_s1.apply(lambda row: add_unknown_token(row, common_vocab))\n",
    "dt_val['preprocess'] = dt_val.headline_s1.apply(lambda row: add_unknown_token(row, common_vocab))"
   ]
  },
  {
   "cell_type": "code",
   "execution_count": 6,
   "metadata": {
    "hidden": true
   },
   "outputs": [
    {
     "name": "stdout",
     "output_type": "stream",
     "text": [
      "Total Vocabulary: 21119\n"
     ]
    }
   ],
   "source": [
    "# Add padding, unknown token to the vocab\n",
    "# Also add sos (start of sentence) and eos (end of sentence) to the vocab\n",
    "# These tokens to indicate the position of the start and end of a sentence for the sequence model\n",
    "list_vocab = ['<pad>', '<unk>'] + common_vocab + ['<sos>', '<eos>']\n",
    "print(f\"Total Vocabulary: {len(list_vocab)}\")"
   ]
  },
  {
   "cell_type": "code",
   "execution_count": 7,
   "metadata": {
    "hidden": true
   },
   "outputs": [
    {
     "name": "stderr",
     "output_type": "stream",
     "text": [
      "100%|██████████| 21115/21115 [00:00<00:00, 233500.39it/s]\n"
     ]
    }
   ],
   "source": [
    "# Initialise weight by using pretrained Glove model\n",
    "embedding_weight = np.zeros((len(list_vocab), 300)) # index is use when words is not indictionary\n",
    "unknown_word = dict()\n",
    "embedding_weight[1] = np.random.uniform(-2.5, 2.5, 300)\n",
    "embedding_weight[-1] = np.random.uniform(-2.5, 2.5, 300)\n",
    "embedding_weight[-2] = np.random.uniform(-2.5, 2.5, 300)\n",
    "for idx in tqdm(range(2, len(list_vocab)-2)):\n",
    "    word = list_vocab[idx]\n",
    "    word_split = word.split()\n",
    "    if len(word_split) == 1:\n",
    "        feature, flag = get_word_features(word_split[0], embeddings_dict)\n",
    "        if flag == 0: # not exist word\n",
    "            unknown_word[word_split[0]] = feature\n",
    "    else:\n",
    "        feature = np.zeros((len(word_split), 300))\n",
    "        count = 0\n",
    "        for idx_w, w in enumerate(word_split):\n",
    "            ft, flag = get_word_features(w, embeddings_dict)\n",
    "            if flag == 0:\n",
    "                if w in list(unknown_word.keys()):\n",
    "                    ft = unknown_word[w]\n",
    "                else:\n",
    "                    unknown_word[w] = ft\n",
    "            feature[idx_w] = ft\n",
    "            count = count + (1-flag)\n",
    "        feature[idx_w] = feature[idx_w] # + 1e-5 # avoid divided by 0    \n",
    "        feature = np.mean(feature, axis=0) # equal to divided by len(word_split) or count (not recommend)\n",
    "              \n",
    "    embedding_weight[idx] = feature"
   ]
  },
  {
   "cell_type": "code",
   "execution_count": 8,
   "metadata": {
    "hidden": true
   },
   "outputs": [],
   "source": [
    "# Create Dataset Pytorch datastructure\n",
    "datasetTrain = EmbeddingDataset(dt_train, col_name='preprocess', list_vocab=list_vocab)\n",
    "datasetVal = EmbeddingDataset(dt_val, col_name='preprocess', list_vocab=list_vocab)"
   ]
  },
  {
   "cell_type": "code",
   "execution_count": 10,
   "metadata": {
    "hidden": true,
    "scrolled": true
   },
   "outputs": [
    {
     "name": "stdout",
     "output_type": "stream",
     "text": [
      "TRAIN FROM SCRATCH\n",
      "Training 0/49\n",
      "Total iteration: 34\n",
      "Epoch 1/50 [16122020-151045] [SAVE]\n",
      "AccVal: 0.8094572559981364\n",
      "AUCVal: 0.8888513778071679\n",
      "Precision: 0.7772254943847656\n",
      "Recall: 0.8410757780075073\n",
      "F1Val: 0.8078910256439313\n",
      "LossVal: 0.4283977548281352\n",
      "LossTrain: 0.5761143845670363\n",
      "----------\n",
      "\n",
      "Training 1/49\n",
      "Total iteration: 34\n",
      "Epoch 2/50 [16122020-151106] [SAVE]\n",
      "AccVal: 0.8262287444677382\n",
      "AUCVal: 0.9194436347658119\n",
      "Precision: 0.8854599595069885\n",
      "Recall: 0.7295843362808228\n",
      "F1Val: 0.7999999686735142\n",
      "LossVal: 0.41329096423255074\n",
      "LossTrain: 0.3778732752098757\n",
      "----------\n",
      "\n",
      "Training 2/49\n",
      "Total iteration: 34\n",
      "Epoch 3/50 [16122020-151127] [SAVE]\n",
      "AccVal: 0.8436990449569066\n",
      "AUCVal: 0.9198750967988933\n",
      "Precision: 0.844188392162323\n",
      "Recall: 0.8239609003067017\n",
      "F1Val: 0.8339520396986987\n",
      "LossVal: 0.3659750256273482\n",
      "LossTrain: 0.32704005916328993\n",
      "----------\n",
      "\n",
      "Training 3/49\n",
      "Total iteration: 34\n",
      "Epoch 4/50 [16122020-151150] [SAVE]\n",
      "AccVal: 0.8590729093873748\n",
      "AUCVal: 0.9362734818888183\n",
      "Precision: 0.8336422443389893\n",
      "Recall: 0.879706621170044\n",
      "F1Val: 0.8560551990258962\n",
      "LossVal: 0.37596119112438625\n",
      "LossTrain: 0.24915229485315435\n",
      "----------\n",
      "\n",
      "Training 4/49\n",
      "Total iteration: 34\n",
      "Epoch 5/50 [16122020-151214] [SAVE]\n",
      "AccVal: 0.865595154903331\n",
      "AUCVal: 0.9378675095058687\n",
      "Precision: 0.8612204790115356\n",
      "Recall: 0.8557457327842712\n",
      "F1Val: 0.8584744072677488\n",
      "LossVal: 0.4033093253771464\n",
      "LossTrain: 0.1697301551261369\n",
      "----------\n",
      "\n",
      "Training 5/49\n",
      "Total iteration: 34\n",
      "Epoch 6/50 [16122020-151238]\n",
      "AccVal: 0.8604705334265083\n",
      "AUCVal: 0.9367561712013505\n",
      "Precision: 0.8862179517745972\n",
      "Recall: 0.811246931552887\n",
      "F1Val: 0.8470768095185013\n",
      "LossVal: 0.4616704483826955\n",
      "LossTrain: 0.11668671043041874\n",
      "----------\n",
      "\n",
      "Training 6/49\n",
      "Total iteration: 34\n",
      "Epoch 7/50 [16122020-151259]\n",
      "AccVal: 0.8558117866293967\n",
      "AUCVal: 0.9342960653968972\n",
      "Precision: 0.8891921639442444\n",
      "Recall: 0.7965770363807678\n",
      "F1Val: 0.8403404909653677\n",
      "LossVal: 0.5106757018301222\n",
      "LossTrain: 0.08758873832138146\n",
      "----------\n",
      "\n",
      "Training 7/49\n",
      "Total iteration: 34\n",
      "Epoch 8/50 [16122020-151320]\n",
      "AccVal: 0.8565105986489634\n",
      "AUCVal: 0.9329810143653908\n",
      "Precision: 0.805733859539032\n",
      "Recall: 0.9207823872566223\n",
      "F1Val: 0.8594249235207478\n",
      "LossVal: 0.5479181309541067\n",
      "LossTrain: 0.08280667344875195\n",
      "----------\n",
      "\n",
      "Training 8/49\n",
      "Total iteration: 34\n",
      "Epoch 9/50 [16122020-151340]\n",
      "AccVal: 0.8506871651525739\n",
      "AUCVal: 0.9294215341645712\n",
      "Precision: 0.7987233996391296\n",
      "Recall: 0.9178484082221985\n",
      "F1Val: 0.8541524422237529\n",
      "LossVal: 0.6953360040982565\n",
      "LossTrain: 0.06601140242727364\n",
      "----------\n",
      "\n",
      "Training 9/49\n",
      "Total iteration: 34\n"
     ]
    },
    {
     "ename": "KeyboardInterrupt",
     "evalue": "",
     "output_type": "error",
     "traceback": [
      "\u001b[0;31m---------------------------------------------------------------------------\u001b[0m",
      "\u001b[0;31mKeyboardInterrupt\u001b[0m                         Traceback (most recent call last)",
      "\u001b[0;32m<ipython-input-10-b6b34eb39132>\u001b[0m in \u001b[0;36m<module>\u001b[0;34m\u001b[0m\n\u001b[1;32m      4\u001b[0m                    weight_decay=1e-5, dropout=0.75, batchnorm=True, checkpoint=None, model_name='GRU_UNK_Raw', grad_clip=2)\n\u001b[1;32m      5\u001b[0m \u001b[0;34m\u001b[0m\u001b[0m\n\u001b[0;32m----> 6\u001b[0;31m \u001b[0mmodel_gru\u001b[0m\u001b[0;34m.\u001b[0m\u001b[0mtrain\u001b[0m\u001b[0;34m(\u001b[0m\u001b[0mnumb_epoch\u001b[0m\u001b[0;34m=\u001b[0m\u001b[0;36m50\u001b[0m\u001b[0;34m)\u001b[0m\u001b[0;34m\u001b[0m\u001b[0;34m\u001b[0m\u001b[0m\n\u001b[0m",
      "\u001b[0;32m~/EE514_FakeNews/Code Repo/rnn_pytorch.py\u001b[0m in \u001b[0;36mtrain\u001b[0;34m(self, numb_epoch)\u001b[0m\n\u001b[1;32m    250\u001b[0m             \u001b[0mtimestampSTART\u001b[0m \u001b[0;34m=\u001b[0m \u001b[0mtimestampDate\u001b[0m \u001b[0;34m+\u001b[0m \u001b[0;34m'-'\u001b[0m \u001b[0;34m+\u001b[0m \u001b[0mtimestampTime\u001b[0m\u001b[0;34m\u001b[0m\u001b[0;34m\u001b[0m\u001b[0m\n\u001b[1;32m    251\u001b[0m \u001b[0;34m\u001b[0m\u001b[0m\n\u001b[0;32m--> 252\u001b[0;31m             \u001b[0mlossTrain\u001b[0m \u001b[0;34m=\u001b[0m \u001b[0mself\u001b[0m\u001b[0;34m.\u001b[0m\u001b[0mtrain_epoch\u001b[0m\u001b[0;34m(\u001b[0m\u001b[0mloss\u001b[0m\u001b[0;34m)\u001b[0m\u001b[0;34m\u001b[0m\u001b[0;34m\u001b[0m\u001b[0m\n\u001b[0m\u001b[1;32m    253\u001b[0m             \u001b[0;32mif\u001b[0m \u001b[0mself\u001b[0m\u001b[0;34m.\u001b[0m\u001b[0mdataloaderVal\u001b[0m \u001b[0;32mis\u001b[0m \u001b[0;32mnot\u001b[0m \u001b[0;32mNone\u001b[0m\u001b[0;34m:\u001b[0m\u001b[0;34m\u001b[0m\u001b[0;34m\u001b[0m\u001b[0m\n\u001b[1;32m    254\u001b[0m                 \u001b[0mmetricsVal\u001b[0m \u001b[0;34m=\u001b[0m \u001b[0mself\u001b[0m\u001b[0;34m.\u001b[0m\u001b[0mval_epoch\u001b[0m\u001b[0;34m(\u001b[0m\u001b[0mloss\u001b[0m\u001b[0;34m)\u001b[0m\u001b[0;34m\u001b[0m\u001b[0;34m\u001b[0m\u001b[0m\n",
      "\u001b[0;32m~/EE514_FakeNews/Code Repo/rnn_pytorch.py\u001b[0m in \u001b[0;36mtrain_epoch\u001b[0;34m(self, loss)\u001b[0m\n\u001b[1;32m    300\u001b[0m         \u001b[0mnumb_iter\u001b[0m \u001b[0;34m=\u001b[0m \u001b[0mlen\u001b[0m\u001b[0;34m(\u001b[0m\u001b[0mself\u001b[0m\u001b[0;34m.\u001b[0m\u001b[0mdataloaderTrain\u001b[0m\u001b[0;34m)\u001b[0m\u001b[0;34m\u001b[0m\u001b[0;34m\u001b[0m\u001b[0m\n\u001b[1;32m    301\u001b[0m         \u001b[0mprint\u001b[0m\u001b[0;34m(\u001b[0m\u001b[0;34mf\"Total iteration: {numb_iter}\"\u001b[0m\u001b[0;34m)\u001b[0m\u001b[0;34m\u001b[0m\u001b[0;34m\u001b[0m\u001b[0m\n\u001b[0;32m--> 302\u001b[0;31m         \u001b[0;32mfor\u001b[0m \u001b[0mbatchID\u001b[0m\u001b[0;34m,\u001b[0m \u001b[0;34m(\u001b[0m\u001b[0mbatch_sample\u001b[0m\u001b[0;34m,\u001b[0m \u001b[0mbatch_label\u001b[0m\u001b[0;34m)\u001b[0m \u001b[0;32min\u001b[0m \u001b[0menumerate\u001b[0m\u001b[0;34m(\u001b[0m\u001b[0mself\u001b[0m\u001b[0;34m.\u001b[0m\u001b[0mdataloaderTrain\u001b[0m\u001b[0;34m)\u001b[0m\u001b[0;34m:\u001b[0m\u001b[0;34m\u001b[0m\u001b[0;34m\u001b[0m\u001b[0m\n\u001b[0m\u001b[1;32m    303\u001b[0m             \u001b[0mbatch_size\u001b[0m \u001b[0;34m=\u001b[0m \u001b[0mlen\u001b[0m\u001b[0;34m(\u001b[0m\u001b[0mbatch_sample\u001b[0m\u001b[0;34m)\u001b[0m\u001b[0;34m\u001b[0m\u001b[0;34m\u001b[0m\u001b[0m\n\u001b[1;32m    304\u001b[0m             \u001b[0;31m# batch_sample = batch_sample.to(device)\u001b[0m\u001b[0;34m\u001b[0m\u001b[0;34m\u001b[0m\u001b[0;34m\u001b[0m\u001b[0m\n",
      "\u001b[0;32m~/anaconda3/envs/graph/lib/python3.7/site-packages/torch/utils/data/dataloader.py\u001b[0m in \u001b[0;36m__next__\u001b[0;34m(self)\u001b[0m\n\u001b[1;32m    343\u001b[0m \u001b[0;34m\u001b[0m\u001b[0m\n\u001b[1;32m    344\u001b[0m     \u001b[0;32mdef\u001b[0m \u001b[0m__next__\u001b[0m\u001b[0;34m(\u001b[0m\u001b[0mself\u001b[0m\u001b[0;34m)\u001b[0m\u001b[0;34m:\u001b[0m\u001b[0;34m\u001b[0m\u001b[0;34m\u001b[0m\u001b[0m\n\u001b[0;32m--> 345\u001b[0;31m         \u001b[0mdata\u001b[0m \u001b[0;34m=\u001b[0m \u001b[0mself\u001b[0m\u001b[0;34m.\u001b[0m\u001b[0m_next_data\u001b[0m\u001b[0;34m(\u001b[0m\u001b[0;34m)\u001b[0m\u001b[0;34m\u001b[0m\u001b[0;34m\u001b[0m\u001b[0m\n\u001b[0m\u001b[1;32m    346\u001b[0m         \u001b[0mself\u001b[0m\u001b[0;34m.\u001b[0m\u001b[0m_num_yielded\u001b[0m \u001b[0;34m+=\u001b[0m \u001b[0;36m1\u001b[0m\u001b[0;34m\u001b[0m\u001b[0;34m\u001b[0m\u001b[0m\n\u001b[1;32m    347\u001b[0m         \u001b[0;32mif\u001b[0m \u001b[0mself\u001b[0m\u001b[0;34m.\u001b[0m\u001b[0m_dataset_kind\u001b[0m \u001b[0;34m==\u001b[0m \u001b[0m_DatasetKind\u001b[0m\u001b[0;34m.\u001b[0m\u001b[0mIterable\u001b[0m \u001b[0;32mand\u001b[0m\u001b[0;31m \u001b[0m\u001b[0;31m\\\u001b[0m\u001b[0;34m\u001b[0m\u001b[0;34m\u001b[0m\u001b[0m\n",
      "\u001b[0;32m~/anaconda3/envs/graph/lib/python3.7/site-packages/torch/utils/data/dataloader.py\u001b[0m in \u001b[0;36m_next_data\u001b[0;34m(self)\u001b[0m\n\u001b[1;32m    383\u001b[0m     \u001b[0;32mdef\u001b[0m \u001b[0m_next_data\u001b[0m\u001b[0;34m(\u001b[0m\u001b[0mself\u001b[0m\u001b[0;34m)\u001b[0m\u001b[0;34m:\u001b[0m\u001b[0;34m\u001b[0m\u001b[0;34m\u001b[0m\u001b[0m\n\u001b[1;32m    384\u001b[0m         \u001b[0mindex\u001b[0m \u001b[0;34m=\u001b[0m \u001b[0mself\u001b[0m\u001b[0;34m.\u001b[0m\u001b[0m_next_index\u001b[0m\u001b[0;34m(\u001b[0m\u001b[0;34m)\u001b[0m  \u001b[0;31m# may raise StopIteration\u001b[0m\u001b[0;34m\u001b[0m\u001b[0;34m\u001b[0m\u001b[0m\n\u001b[0;32m--> 385\u001b[0;31m         \u001b[0mdata\u001b[0m \u001b[0;34m=\u001b[0m \u001b[0mself\u001b[0m\u001b[0;34m.\u001b[0m\u001b[0m_dataset_fetcher\u001b[0m\u001b[0;34m.\u001b[0m\u001b[0mfetch\u001b[0m\u001b[0;34m(\u001b[0m\u001b[0mindex\u001b[0m\u001b[0;34m)\u001b[0m  \u001b[0;31m# may raise StopIteration\u001b[0m\u001b[0;34m\u001b[0m\u001b[0;34m\u001b[0m\u001b[0m\n\u001b[0m\u001b[1;32m    386\u001b[0m         \u001b[0;32mif\u001b[0m \u001b[0mself\u001b[0m\u001b[0;34m.\u001b[0m\u001b[0m_pin_memory\u001b[0m\u001b[0;34m:\u001b[0m\u001b[0;34m\u001b[0m\u001b[0;34m\u001b[0m\u001b[0m\n\u001b[1;32m    387\u001b[0m             \u001b[0mdata\u001b[0m \u001b[0;34m=\u001b[0m \u001b[0m_utils\u001b[0m\u001b[0;34m.\u001b[0m\u001b[0mpin_memory\u001b[0m\u001b[0;34m.\u001b[0m\u001b[0mpin_memory\u001b[0m\u001b[0;34m(\u001b[0m\u001b[0mdata\u001b[0m\u001b[0;34m)\u001b[0m\u001b[0;34m\u001b[0m\u001b[0;34m\u001b[0m\u001b[0m\n",
      "\u001b[0;32m~/anaconda3/envs/graph/lib/python3.7/site-packages/torch/utils/data/_utils/fetch.py\u001b[0m in \u001b[0;36mfetch\u001b[0;34m(self, possibly_batched_index)\u001b[0m\n\u001b[1;32m     42\u001b[0m     \u001b[0;32mdef\u001b[0m \u001b[0mfetch\u001b[0m\u001b[0;34m(\u001b[0m\u001b[0mself\u001b[0m\u001b[0;34m,\u001b[0m \u001b[0mpossibly_batched_index\u001b[0m\u001b[0;34m)\u001b[0m\u001b[0;34m:\u001b[0m\u001b[0;34m\u001b[0m\u001b[0;34m\u001b[0m\u001b[0m\n\u001b[1;32m     43\u001b[0m         \u001b[0;32mif\u001b[0m \u001b[0mself\u001b[0m\u001b[0;34m.\u001b[0m\u001b[0mauto_collation\u001b[0m\u001b[0;34m:\u001b[0m\u001b[0;34m\u001b[0m\u001b[0;34m\u001b[0m\u001b[0m\n\u001b[0;32m---> 44\u001b[0;31m             \u001b[0mdata\u001b[0m \u001b[0;34m=\u001b[0m \u001b[0;34m[\u001b[0m\u001b[0mself\u001b[0m\u001b[0;34m.\u001b[0m\u001b[0mdataset\u001b[0m\u001b[0;34m[\u001b[0m\u001b[0midx\u001b[0m\u001b[0;34m]\u001b[0m \u001b[0;32mfor\u001b[0m \u001b[0midx\u001b[0m \u001b[0;32min\u001b[0m \u001b[0mpossibly_batched_index\u001b[0m\u001b[0;34m]\u001b[0m\u001b[0;34m\u001b[0m\u001b[0;34m\u001b[0m\u001b[0m\n\u001b[0m\u001b[1;32m     45\u001b[0m         \u001b[0;32melse\u001b[0m\u001b[0;34m:\u001b[0m\u001b[0;34m\u001b[0m\u001b[0;34m\u001b[0m\u001b[0m\n\u001b[1;32m     46\u001b[0m             \u001b[0mdata\u001b[0m \u001b[0;34m=\u001b[0m \u001b[0mself\u001b[0m\u001b[0;34m.\u001b[0m\u001b[0mdataset\u001b[0m\u001b[0;34m[\u001b[0m\u001b[0mpossibly_batched_index\u001b[0m\u001b[0;34m]\u001b[0m\u001b[0;34m\u001b[0m\u001b[0;34m\u001b[0m\u001b[0m\n",
      "\u001b[0;32m~/anaconda3/envs/graph/lib/python3.7/site-packages/torch/utils/data/_utils/fetch.py\u001b[0m in \u001b[0;36m<listcomp>\u001b[0;34m(.0)\u001b[0m\n\u001b[1;32m     42\u001b[0m     \u001b[0;32mdef\u001b[0m \u001b[0mfetch\u001b[0m\u001b[0;34m(\u001b[0m\u001b[0mself\u001b[0m\u001b[0;34m,\u001b[0m \u001b[0mpossibly_batched_index\u001b[0m\u001b[0;34m)\u001b[0m\u001b[0;34m:\u001b[0m\u001b[0;34m\u001b[0m\u001b[0;34m\u001b[0m\u001b[0m\n\u001b[1;32m     43\u001b[0m         \u001b[0;32mif\u001b[0m \u001b[0mself\u001b[0m\u001b[0;34m.\u001b[0m\u001b[0mauto_collation\u001b[0m\u001b[0;34m:\u001b[0m\u001b[0;34m\u001b[0m\u001b[0;34m\u001b[0m\u001b[0m\n\u001b[0;32m---> 44\u001b[0;31m             \u001b[0mdata\u001b[0m \u001b[0;34m=\u001b[0m \u001b[0;34m[\u001b[0m\u001b[0mself\u001b[0m\u001b[0;34m.\u001b[0m\u001b[0mdataset\u001b[0m\u001b[0;34m[\u001b[0m\u001b[0midx\u001b[0m\u001b[0;34m]\u001b[0m \u001b[0;32mfor\u001b[0m \u001b[0midx\u001b[0m \u001b[0;32min\u001b[0m \u001b[0mpossibly_batched_index\u001b[0m\u001b[0;34m]\u001b[0m\u001b[0;34m\u001b[0m\u001b[0;34m\u001b[0m\u001b[0m\n\u001b[0m\u001b[1;32m     45\u001b[0m         \u001b[0;32melse\u001b[0m\u001b[0;34m:\u001b[0m\u001b[0;34m\u001b[0m\u001b[0;34m\u001b[0m\u001b[0m\n\u001b[1;32m     46\u001b[0m             \u001b[0mdata\u001b[0m \u001b[0;34m=\u001b[0m \u001b[0mself\u001b[0m\u001b[0;34m.\u001b[0m\u001b[0mdataset\u001b[0m\u001b[0;34m[\u001b[0m\u001b[0mpossibly_batched_index\u001b[0m\u001b[0;34m]\u001b[0m\u001b[0;34m\u001b[0m\u001b[0;34m\u001b[0m\u001b[0m\n",
      "\u001b[0;32m~/EE514_FakeNews/Code Repo/rnn_pytorch.py\u001b[0m in \u001b[0;36m__getitem__\u001b[0;34m(self, i)\u001b[0m\n\u001b[1;32m     25\u001b[0m         \u001b[0mlabel\u001b[0m \u001b[0;34m=\u001b[0m \u001b[0mself\u001b[0m\u001b[0;34m.\u001b[0m\u001b[0mdf\u001b[0m\u001b[0;34m.\u001b[0m\u001b[0mis_sarcastic\u001b[0m\u001b[0;34m[\u001b[0m\u001b[0mi\u001b[0m\u001b[0;34m]\u001b[0m\u001b[0;34m\u001b[0m\u001b[0;34m\u001b[0m\u001b[0m\n\u001b[1;32m     26\u001b[0m         \u001b[0mtokens\u001b[0m \u001b[0;34m=\u001b[0m \u001b[0mheadline\u001b[0m\u001b[0;34m.\u001b[0m\u001b[0msplit\u001b[0m\u001b[0;34m(\u001b[0m\u001b[0;34m)\u001b[0m\u001b[0;34m\u001b[0m\u001b[0;34m\u001b[0m\u001b[0m\n\u001b[0;32m---> 27\u001b[0;31m         \u001b[0msample\u001b[0m \u001b[0;34m=\u001b[0m \u001b[0;34m[\u001b[0m\u001b[0mself\u001b[0m\u001b[0;34m.\u001b[0m\u001b[0mlist_vocab\u001b[0m\u001b[0;34m.\u001b[0m\u001b[0mindex\u001b[0m\u001b[0;34m(\u001b[0m\u001b[0;34m'<sos>'\u001b[0m\u001b[0;34m)\u001b[0m\u001b[0;34m]\u001b[0m\u001b[0;34m\u001b[0m\u001b[0;34m\u001b[0m\u001b[0m\n\u001b[0m\u001b[1;32m     28\u001b[0m         \u001b[0;32mfor\u001b[0m \u001b[0mtok\u001b[0m \u001b[0;32min\u001b[0m \u001b[0mtokens\u001b[0m\u001b[0;34m:\u001b[0m\u001b[0;34m\u001b[0m\u001b[0;34m\u001b[0m\u001b[0m\n\u001b[1;32m     29\u001b[0m             \u001b[0;32mtry\u001b[0m\u001b[0;34m:\u001b[0m\u001b[0;34m\u001b[0m\u001b[0;34m\u001b[0m\u001b[0m\n",
      "\u001b[0;31mKeyboardInterrupt\u001b[0m: "
     ]
    }
   ],
   "source": [
    "# Declare the model and Train\n",
    "model_gru = ModelRNN(vocab_size=len(list_vocab), datasetTrain=datasetTrain, datasetVal=datasetVal,\n",
    "                   init_weight=embedding_weight, batch_size=512, optimizer_choice='adam', \n",
    "                   init_lr=0.001, mlp_layers_dim=[512,1], rnn_hidden_size=256, rnn_num_layers=3, bidirectional=True, \n",
    "                   weight_decay=1e-5, dropout=0.75, batchnorm=True, checkpoint=None, model_name='GRU_UNK_Raw', grad_clip=2)\n",
    "\n",
    "model_gru.train(numb_epoch=50)"
   ]
  },
  {
   "cell_type": "code",
   "execution_count": 12,
   "metadata": {
    "hidden": true
   },
   "outputs": [
    {
     "name": "stdout",
     "output_type": "stream",
     "text": [
      "LOAD PRETRAINED MODEL AT GRU_UNK_Raw-16122020-151023.pth.tar\n"
     ]
    },
    {
     "data": {
      "text/plain": [
       "{'accuracy': 0.9605730592277677,\n",
       " 'precision': 0.9665465,\n",
       " 'recall': 0.95012224,\n",
       " 'f1': 0.958264015391339,\n",
       " 'tp': 7772,\n",
       " 'tn': 8722,\n",
       " 'fp': 269,\n",
       " 'fn': 408,\n",
       " 'auc': 0.989733668740732}"
      ]
     },
     "execution_count": 12,
     "metadata": {},
     "output_type": "execute_result"
    }
   ],
   "source": [
    "# Load pretrained model and evaluate on train / validate set\n",
    "dataloader = make_EmbeddingDataLoader(datasetTrain, batch_size=1024)\n",
    "model_gru = ModelRNN(vocab_size=len(list_vocab), datasetTrain=datasetTrain, datasetVal=datasetVal,\n",
    "                   init_weight=embedding_weight, batch_size=512, optimizer_choice='adam', \n",
    "                   init_lr=0.001, mlp_layers_dim=[512,1], rnn_hidden_size=256, rnn_num_layers=3, bidirectional=True, \n",
    "                   weight_decay=1e-5, dropout=0.75, batchnorm=True, \n",
    "                   checkpoint='Checkpoint/GRU_UNK_Raw-16122020-151023.pth.tar',\n",
    "                   model_name='GRU_UNK_Raw', grad_clip=2)\n",
    "model_gru.load_trained_model()\n",
    "model_gru.evaluate(dataloader)"
   ]
  },
  {
   "cell_type": "markdown",
   "metadata": {
    "heading_collapsed": true
   },
   "source": [
    "# Without UNK\n",
    "Run the experiment in which NOT using UNK token but remove unknown words"
   ]
  },
  {
   "cell_type": "code",
   "execution_count": 4,
   "metadata": {
    "hidden": true
   },
   "outputs": [
    {
     "name": "stdout",
     "output_type": "stream",
     "text": [
      "Number of unique words remaining: 11476 / 23115\n",
      "Total discard (Unknown Token): 11639\n"
     ]
    }
   ],
   "source": [
    "dt_train = data_train.copy()\n",
    "dt_val = data_val.copy()\n",
    "\n",
    "# Count the frequency of words in the training corpus\n",
    "all_string = dt_train.headline_s1.tolist()\n",
    "all_string_in_one = ' '.join(all_string)\n",
    "all_string_in_one = all_string_in_one.lower()\n",
    "list_common_words, count_words = most_common_words(all_string_in_one, numb_words=-1)\n",
    "\n",
    "cwdf = pd.DataFrame(np.asarray(count_words),\n",
    "                    columns=['count_words'])\n",
    "cwdf['words'] = list_common_words\n",
    "\n",
    "# Find the index of words appeared only once in the training corpus\n",
    "# Only use words appearing more than once in the training corpus\n",
    "s = cwdf.index[cwdf.iloc[:,0] == 1].tolist()[0]\n",
    "# s = s + 21115 - 11476\n",
    "common_vocab = cwdf.words[0:s].tolist()\n",
    "print(f\"Number of unique words remaining: {s} / {len(list_common_words)}\")\n",
    "print(f\"Total discard (Unknown Token): {cwdf.iloc[s:,0].sum()}\")"
   ]
  },
  {
   "cell_type": "code",
   "execution_count": 5,
   "metadata": {
    "hidden": true
   },
   "outputs": [],
   "source": [
    "# remove unknown words in the dataset\n",
    "dt_train['preprocess'] = dt_train.headline_s1.apply(lambda row: remove_unknown_token(row, common_vocab))\n",
    "dt_val['preprocess'] = dt_val.headline_s1.apply(lambda row: remove_unknown_token(row, common_vocab))"
   ]
  },
  {
   "cell_type": "code",
   "execution_count": 6,
   "metadata": {
    "hidden": true
   },
   "outputs": [
    {
     "name": "stdout",
     "output_type": "stream",
     "text": [
      "Total Vocabulary: 11479\n"
     ]
    }
   ],
   "source": [
    "# Add padding token to the vocab\n",
    "# Also add sos (start of sentence) and eos (end of sentence) to the vocab\n",
    "# These tokens to indicate the position of the start and end of a sentence for the sequence model\n",
    "list_vocab = ['<pad>'] + common_vocab + ['<sos>', '<eos>']\n",
    "print(f\"Total Vocabulary: {len(list_vocab)}\")"
   ]
  },
  {
   "cell_type": "code",
   "execution_count": 7,
   "metadata": {
    "hidden": true
   },
   "outputs": [
    {
     "name": "stderr",
     "output_type": "stream",
     "text": [
      "100%|██████████| 11476/11476 [00:00<00:00, 368043.50it/s]\n"
     ]
    }
   ],
   "source": [
    "# initialise weight by Glove model\n",
    "embedding_weight = np.zeros((len(list_vocab), 300)) # index is use when words is not indictionary\n",
    "unknown_word = dict()\n",
    "embedding_weight[-1] = np.random.uniform(-2.5, 2.5, 300)\n",
    "embedding_weight[-2] = np.random.uniform(-2.5, 2.5, 300)\n",
    "for idx in tqdm(range(1, len(list_vocab)-2)):\n",
    "    word = list_vocab[idx]\n",
    "    word_split = word.split()\n",
    "    if len(word_split) == 1:\n",
    "        feature, flag = get_word_features(word_split[0], embeddings_dict)\n",
    "        if flag == 0: # not exist word\n",
    "            unknown_word[word_split[0]] = feature\n",
    "    else:\n",
    "        feature = np.zeros((len(word_split), 300))\n",
    "        count = 0\n",
    "        for idx_w, w in enumerate(word_split):\n",
    "            ft, flag = get_word_features(w, embeddings_dict)\n",
    "            if flag == 0:\n",
    "                if w in list(unknown_word.keys()):\n",
    "                    ft = unknown_word[w]\n",
    "                else:\n",
    "                    unknown_word[w] = ft\n",
    "            feature[idx_w] = ft\n",
    "            count = count + (1-flag)\n",
    "        feature[idx_w] = feature[idx_w] # + 1e-5 # avoid divided by 0    \n",
    "        feature = np.mean(feature, axis=0) # equal to divided by len(word_split) or count (not recommend)\n",
    "              \n",
    "    embedding_weight[idx] = feature"
   ]
  },
  {
   "cell_type": "code",
   "execution_count": 8,
   "metadata": {
    "hidden": true
   },
   "outputs": [],
   "source": [
    "# Create Dataset Pytorch datastructure\n",
    "datasetTrain = EmbeddingDataset(dt_train, col_name='preprocess', list_vocab=list_vocab)\n",
    "datasetVal = EmbeddingDataset(dt_val, col_name='preprocess', list_vocab=list_vocab)"
   ]
  },
  {
   "cell_type": "code",
   "execution_count": 10,
   "metadata": {
    "hidden": true
   },
   "outputs": [
    {
     "name": "stdout",
     "output_type": "stream",
     "text": [
      "TRAIN FROM SCRATCH\n",
      "Training 0/49\n",
      "Total iteration: 17\n",
      "Epoch 1/50 [16122020-160253] [SAVE]\n",
      "AccVal: 0.7391101793617517\n",
      "AUCVal: 0.8703749706340436\n",
      "Precision: 0.6605345606803894\n",
      "Recall: 0.9305623769760132\n",
      "F1Val: 0.7726350536419755\n",
      "LossVal: 0.5233440041542053\n",
      "LossTrain: 0.6474642438047072\n",
      "----------\n",
      "\n",
      "Training 1/49\n",
      "Total iteration: 17\n",
      "Epoch 2/50 [16122020-160306] [SAVE]\n",
      "AccVal: 0.7437689261588633\n",
      "AUCVal: 0.905019294520965\n",
      "Precision: 0.6596823334693909\n",
      "Recall: 0.9545232057571411\n",
      "F1Val: 0.7801758291267211\n",
      "LossVal: 0.7253247022628784\n",
      "LossTrain: 0.4300495701677659\n",
      "----------\n",
      "\n",
      "Training 2/49\n",
      "Total iteration: 17\n",
      "Epoch 3/50 [16122020-160318] [SAVE]\n",
      "AccVal: 0.8127183787561146\n",
      "AUCVal: 0.9210242845582923\n",
      "Precision: 0.7463279366493225\n",
      "Recall: 0.9193153977394104\n",
      "F1Val: 0.8238387531825331\n",
      "LossVal: 0.5589284777641297\n",
      "LossTrain: 0.32567404648836923\n",
      "----------\n",
      "\n",
      "Training 3/49\n",
      "Total iteration: 17\n",
      "Epoch 4/50 [16122020-160331] [SAVE]\n",
      "AccVal: 0.8551129746098299\n",
      "AUCVal: 0.9299484899372655\n",
      "Precision: 0.847242534160614\n",
      "Recall: 0.848899781703949\n",
      "F1Val: 0.848070348309942\n",
      "LossVal: 0.40683820843696594\n",
      "LossTrain: 0.2691095760639976\n",
      "----------\n",
      "\n",
      "Training 4/49\n",
      "Total iteration: 17\n",
      "Epoch 5/50 [16122020-160344]\n",
      "AccVal: 0.8506871651525739\n",
      "AUCVal: 0.9308157645154834\n",
      "Precision: 0.8401162624359131\n",
      "Recall: 0.8479217886924744\n",
      "F1Val: 0.8440009492972356\n",
      "LossVal: 0.41789851188659666\n",
      "LossTrain: 0.21084038387326634\n",
      "----------\n",
      "\n",
      "Training 5/49\n",
      "Total iteration: 17\n",
      "Epoch 6/50 [16122020-160356]\n",
      "AccVal: 0.8520847891917074\n",
      "AUCVal: 0.9319036100549033\n",
      "Precision: 0.8794402480125427\n",
      "Recall: 0.7990220189094543\n",
      "F1Val: 0.8373046404740766\n",
      "LossVal: 0.4988737225532532\n",
      "LossTrain: 0.15544654516612783\n",
      "----------\n",
      "\n",
      "Training 6/49\n",
      "Total iteration: 17\n",
      "Epoch 7/50 [16122020-160409]\n",
      "AccVal: 0.8360121127416725\n",
      "AUCVal: 0.9316711839483507\n",
      "Precision: 0.9095907211303711\n",
      "Recall: 0.7281173467636108\n",
      "F1Val: 0.808799560182809\n",
      "LossVal: 0.5898582577705384\n",
      "LossTrain: 0.11675594878547332\n",
      "----------\n",
      "\n",
      "Training 7/49\n",
      "Total iteration: 17\n",
      "Epoch 8/50 [16122020-160422]\n",
      "AccVal: 0.8385744234800838\n",
      "AUCVal: 0.9243655865795405\n",
      "Precision: 0.7881500720977783\n",
      "Recall: 0.904156506061554\n",
      "F1Val: 0.8421772387294162\n",
      "LossVal: 0.6803699970245362\n",
      "LossTrain: 0.093092201387181\n",
      "----------\n",
      "\n",
      "Training 8/49\n",
      "Total iteration: 17\n",
      "Epoch 9/50 [16122020-160435]\n",
      "AccVal: 0.8360121127416725\n",
      "AUCVal: 0.9186035508879394\n",
      "Precision: 0.7944663763046265\n",
      "Recall: 0.884596586227417\n",
      "F1Val: 0.8371124371557056\n",
      "LossVal: 0.5426708161830902\n",
      "LossTrain: 0.08928196855327662\n",
      "----------\n",
      "\n",
      "Training 9/49\n",
      "Total iteration: 17\n",
      "Epoch 10/50 [16122020-160447]\n",
      "AccVal: 0.8204053109713487\n",
      "AUCVal: 0.9244127896353401\n",
      "Precision: 0.7529785633087158\n",
      "Recall: 0.9271393418312073\n",
      "F1Val: 0.8310322415230749\n",
      "LossVal: 0.7669387340545655\n",
      "LossTrain: 0.06943386278169997\n",
      "----------\n",
      "\n",
      "Training 10/49\n",
      "Total iteration: 17\n",
      "Epoch 11/50 [16122020-160500]\n",
      "AccVal: 0.8525506638714185\n",
      "AUCVal: 0.9266674425079832\n",
      "Precision: 0.8537074327468872\n",
      "Recall: 0.8332518339157104\n",
      "F1Val: 0.8433556138805003\n",
      "LossVal: 0.742024278640747\n",
      "LossTrain: 0.04960916377604008\n",
      "----------\n",
      "\n",
      "Training 11/49\n",
      "Total iteration: 17\n",
      "Epoch 12/50 [16122020-160512]\n",
      "AccVal: 0.8516189145119962\n",
      "AUCVal: 0.9255952588119621\n",
      "Precision: 0.8662851452827454\n",
      "Recall: 0.8141809105873108\n",
      "F1Val: 0.8394252605708158\n",
      "LossVal: 0.8756476163864135\n",
      "LossTrain: 0.029843194958041695\n",
      "----------\n",
      "\n",
      "Training 12/49\n",
      "Total iteration: 17\n",
      "Epoch 13/50 [16122020-160525]\n",
      "AccVal: 0.8492895411134405\n",
      "AUCVal: 0.9227615527847627\n",
      "Precision: 0.8544625043869019\n",
      "Recall: 0.8239609003067017\n",
      "F1Val: 0.8389345530146178\n",
      "LossVal: 0.8765843152999878\n",
      "LossTrain: 0.023067060036256033\n",
      "----------\n",
      "\n",
      "Training 13/49\n",
      "Total iteration: 17\n",
      "Epoch 14/50 [16122020-160537]\n",
      "AccVal: 0.8474260423945958\n",
      "AUCVal: 0.9223061629353775\n",
      "Precision: 0.8406862616539001\n",
      "Recall: 0.8386307954788208\n",
      "F1Val: 0.8396573004342965\n",
      "LossVal: 0.8245684266090393\n",
      "LossTrain: 0.02188794095726574\n",
      "----------\n",
      "\n",
      "Training 14/49\n",
      "Total iteration: 17\n",
      "Epoch 15/50 [16122020-160550]\n",
      "AccVal: 0.8497554157931516\n",
      "AUCVal: 0.9233631198392052\n",
      "Precision: 0.8130590319633484\n",
      "Recall: 0.8889975547790527\n",
      "F1Val: 0.8493342367396877\n",
      "LossVal: 0.7840476751327514\n",
      "LossTrain: 0.018068453954423174\n",
      "----------\n",
      "\n",
      "Training 15/49\n",
      "Total iteration: 17\n",
      "Epoch 16/50 [16122020-160603]\n",
      "AccVal: 0.8527836012112742\n",
      "AUCVal: 0.9241269609933089\n",
      "Precision: 0.8516675233840942\n",
      "Recall: 0.8366748094558716\n",
      "F1Val: 0.8441045977311095\n",
      "LossVal: 0.8535001516342163\n",
      "LossTrain: 0.014877514146706638\n",
      "----------\n",
      "\n",
      "Training 16/49\n",
      "Total iteration: 17\n",
      "Epoch 17/50 [16122020-160616]\n",
      "AccVal: 0.8416026088982064\n",
      "AUCVal: 0.9188314089568342\n",
      "Precision: 0.8254649639129639\n",
      "Recall: 0.8464547395706177\n",
      "F1Val: 0.8358280958084046\n",
      "LossVal: 0.9512188553810119\n",
      "LossTrain: 0.008901642265674822\n",
      "----------\n",
      "\n",
      "Training 17/49\n",
      "Total iteration: 17\n",
      "Epoch 18/50 [16122020-160629]\n",
      "AccVal: 0.8467272303750292\n",
      "AUCVal: 0.9209320537027208\n",
      "Precision: 0.843827486038208\n",
      "Recall: 0.8322738409042358\n",
      "F1Val: 0.8380108428727485\n",
      "LossVal: 1.0087705492973327\n",
      "LossTrain: 0.007044266087605673\n",
      "----------\n",
      "\n",
      "Training 18/49\n",
      "Total iteration: 17\n",
      "Epoch 19/50 [16122020-160642]\n",
      "AccVal: 0.8474260423945958\n",
      "AUCVal: 0.9219424601275569\n",
      "Precision: 0.8454274535179138\n",
      "Recall: 0.8317848443984985\n",
      "F1Val: 0.8385506935991012\n",
      "LossVal: 1.0231939554214478\n",
      "LossTrain: 0.005709698951036176\n",
      "----------\n",
      "\n",
      "Training 19/49\n",
      "Total iteration: 17\n",
      "Epoch 20/50 [16122020-160654]\n",
      "AccVal: 0.8469601677148847\n",
      "AUCVal: 0.9219235354001166\n",
      "Precision: 0.8625914454460144\n",
      "Recall: 0.8073349595069885\n",
      "F1Val: 0.8340490067283315\n",
      "LossVal: 1.0119740128517152\n",
      "LossTrain: 0.006180530989213902\n",
      "----------\n",
      "\n",
      "Training 20/49\n",
      "Total iteration: 17\n",
      "Epoch 21/50 [16122020-160707]\n",
      "AccVal: 0.8395061728395061\n",
      "AUCVal: 0.9161067920194206\n",
      "Precision: 0.835976243019104\n",
      "Recall: 0.8249388933181763\n",
      "F1Val: 0.8304208946849216\n",
      "LossVal: 1.0386067986488343\n",
      "LossTrain: 0.004704880219993784\n",
      "----------\n",
      "\n",
      "Training 21/49\n",
      "Total iteration: 17\n",
      "Epoch 22/50 [16122020-160720]\n",
      "AccVal: 0.843466107617051\n",
      "AUCVal: 0.9186973044227306\n",
      "Precision: 0.8242796659469604\n",
      "Recall: 0.8533007502555847\n",
      "F1Val: 0.8385392146571876\n",
      "LossVal: 0.9903252363204956\n",
      "LossTrain: 0.009942894965848503\n",
      "----------\n",
      "\n",
      "Training 22/49\n",
      "Total iteration: 17\n",
      "Epoch 23/50 [16122020-160733]\n",
      "AccVal: 0.8467272303750292\n",
      "AUCVal: 0.9231213401317335\n",
      "Precision: 0.8572900295257568\n",
      "Recall: 0.8136919140815735\n",
      "F1Val: 0.8349222355144822\n",
      "LossVal: 0.9476340532302856\n",
      "LossTrain: 0.00634860313798794\n",
      "----------\n",
      "\n",
      "Training 23/49\n",
      "Total iteration: 17\n"
     ]
    },
    {
     "ename": "KeyboardInterrupt",
     "evalue": "",
     "output_type": "error",
     "traceback": [
      "\u001b[0;31m---------------------------------------------------------------------------\u001b[0m",
      "\u001b[0;31mKeyboardInterrupt\u001b[0m                         Traceback (most recent call last)",
      "\u001b[0;32m<ipython-input-10-53cf484bf3b3>\u001b[0m in \u001b[0;36m<module>\u001b[0;34m\u001b[0m\n\u001b[1;32m      4\u001b[0m                    weight_decay=1e-5, dropout=0.75, batchnorm=True, checkpoint=None, model_name='GRU_Raw', grad_clip=2)\n\u001b[1;32m      5\u001b[0m \u001b[0;34m\u001b[0m\u001b[0m\n\u001b[0;32m----> 6\u001b[0;31m \u001b[0mmodel_gru\u001b[0m\u001b[0;34m.\u001b[0m\u001b[0mtrain\u001b[0m\u001b[0;34m(\u001b[0m\u001b[0mnumb_epoch\u001b[0m\u001b[0;34m=\u001b[0m\u001b[0;36m50\u001b[0m\u001b[0;34m)\u001b[0m\u001b[0;34m\u001b[0m\u001b[0;34m\u001b[0m\u001b[0m\n\u001b[0m",
      "\u001b[0;32m~/EE514_FakeNews/Code Repo/rnn_pytorch.py\u001b[0m in \u001b[0;36mtrain\u001b[0;34m(self, numb_epoch)\u001b[0m\n\u001b[1;32m    250\u001b[0m             \u001b[0mtimestampSTART\u001b[0m \u001b[0;34m=\u001b[0m \u001b[0mtimestampDate\u001b[0m \u001b[0;34m+\u001b[0m \u001b[0;34m'-'\u001b[0m \u001b[0;34m+\u001b[0m \u001b[0mtimestampTime\u001b[0m\u001b[0;34m\u001b[0m\u001b[0;34m\u001b[0m\u001b[0m\n\u001b[1;32m    251\u001b[0m \u001b[0;34m\u001b[0m\u001b[0m\n\u001b[0;32m--> 252\u001b[0;31m             \u001b[0mlossTrain\u001b[0m \u001b[0;34m=\u001b[0m \u001b[0mself\u001b[0m\u001b[0;34m.\u001b[0m\u001b[0mtrain_epoch\u001b[0m\u001b[0;34m(\u001b[0m\u001b[0mloss\u001b[0m\u001b[0;34m)\u001b[0m\u001b[0;34m\u001b[0m\u001b[0;34m\u001b[0m\u001b[0m\n\u001b[0m\u001b[1;32m    253\u001b[0m             \u001b[0;32mif\u001b[0m \u001b[0mself\u001b[0m\u001b[0;34m.\u001b[0m\u001b[0mdataloaderVal\u001b[0m \u001b[0;32mis\u001b[0m \u001b[0;32mnot\u001b[0m \u001b[0;32mNone\u001b[0m\u001b[0;34m:\u001b[0m\u001b[0;34m\u001b[0m\u001b[0;34m\u001b[0m\u001b[0m\n\u001b[1;32m    254\u001b[0m                 \u001b[0mmetricsVal\u001b[0m \u001b[0;34m=\u001b[0m \u001b[0mself\u001b[0m\u001b[0;34m.\u001b[0m\u001b[0mval_epoch\u001b[0m\u001b[0;34m(\u001b[0m\u001b[0mloss\u001b[0m\u001b[0;34m)\u001b[0m\u001b[0;34m\u001b[0m\u001b[0;34m\u001b[0m\u001b[0m\n",
      "\u001b[0;32m~/EE514_FakeNews/Code Repo/rnn_pytorch.py\u001b[0m in \u001b[0;36mtrain_epoch\u001b[0;34m(self, loss)\u001b[0m\n\u001b[1;32m    300\u001b[0m         \u001b[0mnumb_iter\u001b[0m \u001b[0;34m=\u001b[0m \u001b[0mlen\u001b[0m\u001b[0;34m(\u001b[0m\u001b[0mself\u001b[0m\u001b[0;34m.\u001b[0m\u001b[0mdataloaderTrain\u001b[0m\u001b[0;34m)\u001b[0m\u001b[0;34m\u001b[0m\u001b[0;34m\u001b[0m\u001b[0m\n\u001b[1;32m    301\u001b[0m         \u001b[0mprint\u001b[0m\u001b[0;34m(\u001b[0m\u001b[0;34mf\"Total iteration: {numb_iter}\"\u001b[0m\u001b[0;34m)\u001b[0m\u001b[0;34m\u001b[0m\u001b[0;34m\u001b[0m\u001b[0m\n\u001b[0;32m--> 302\u001b[0;31m         \u001b[0;32mfor\u001b[0m \u001b[0mbatchID\u001b[0m\u001b[0;34m,\u001b[0m \u001b[0;34m(\u001b[0m\u001b[0mbatch_sample\u001b[0m\u001b[0;34m,\u001b[0m \u001b[0mbatch_label\u001b[0m\u001b[0;34m)\u001b[0m \u001b[0;32min\u001b[0m \u001b[0menumerate\u001b[0m\u001b[0;34m(\u001b[0m\u001b[0mself\u001b[0m\u001b[0;34m.\u001b[0m\u001b[0mdataloaderTrain\u001b[0m\u001b[0;34m)\u001b[0m\u001b[0;34m:\u001b[0m\u001b[0;34m\u001b[0m\u001b[0;34m\u001b[0m\u001b[0m\n\u001b[0m\u001b[1;32m    303\u001b[0m             \u001b[0mbatch_size\u001b[0m \u001b[0;34m=\u001b[0m \u001b[0mlen\u001b[0m\u001b[0;34m(\u001b[0m\u001b[0mbatch_sample\u001b[0m\u001b[0;34m)\u001b[0m\u001b[0;34m\u001b[0m\u001b[0;34m\u001b[0m\u001b[0m\n\u001b[1;32m    304\u001b[0m             \u001b[0;31m# batch_sample = batch_sample.to(device)\u001b[0m\u001b[0;34m\u001b[0m\u001b[0;34m\u001b[0m\u001b[0;34m\u001b[0m\u001b[0m\n",
      "\u001b[0;32m~/anaconda3/envs/graph/lib/python3.7/site-packages/torch/utils/data/dataloader.py\u001b[0m in \u001b[0;36m__next__\u001b[0;34m(self)\u001b[0m\n\u001b[1;32m    343\u001b[0m \u001b[0;34m\u001b[0m\u001b[0m\n\u001b[1;32m    344\u001b[0m     \u001b[0;32mdef\u001b[0m \u001b[0m__next__\u001b[0m\u001b[0;34m(\u001b[0m\u001b[0mself\u001b[0m\u001b[0;34m)\u001b[0m\u001b[0;34m:\u001b[0m\u001b[0;34m\u001b[0m\u001b[0;34m\u001b[0m\u001b[0m\n\u001b[0;32m--> 345\u001b[0;31m         \u001b[0mdata\u001b[0m \u001b[0;34m=\u001b[0m \u001b[0mself\u001b[0m\u001b[0;34m.\u001b[0m\u001b[0m_next_data\u001b[0m\u001b[0;34m(\u001b[0m\u001b[0;34m)\u001b[0m\u001b[0;34m\u001b[0m\u001b[0;34m\u001b[0m\u001b[0m\n\u001b[0m\u001b[1;32m    346\u001b[0m         \u001b[0mself\u001b[0m\u001b[0;34m.\u001b[0m\u001b[0m_num_yielded\u001b[0m \u001b[0;34m+=\u001b[0m \u001b[0;36m1\u001b[0m\u001b[0;34m\u001b[0m\u001b[0;34m\u001b[0m\u001b[0m\n\u001b[1;32m    347\u001b[0m         \u001b[0;32mif\u001b[0m \u001b[0mself\u001b[0m\u001b[0;34m.\u001b[0m\u001b[0m_dataset_kind\u001b[0m \u001b[0;34m==\u001b[0m \u001b[0m_DatasetKind\u001b[0m\u001b[0;34m.\u001b[0m\u001b[0mIterable\u001b[0m \u001b[0;32mand\u001b[0m\u001b[0;31m \u001b[0m\u001b[0;31m\\\u001b[0m\u001b[0;34m\u001b[0m\u001b[0;34m\u001b[0m\u001b[0m\n",
      "\u001b[0;32m~/anaconda3/envs/graph/lib/python3.7/site-packages/torch/utils/data/dataloader.py\u001b[0m in \u001b[0;36m_next_data\u001b[0;34m(self)\u001b[0m\n\u001b[1;32m    383\u001b[0m     \u001b[0;32mdef\u001b[0m \u001b[0m_next_data\u001b[0m\u001b[0;34m(\u001b[0m\u001b[0mself\u001b[0m\u001b[0;34m)\u001b[0m\u001b[0;34m:\u001b[0m\u001b[0;34m\u001b[0m\u001b[0;34m\u001b[0m\u001b[0m\n\u001b[1;32m    384\u001b[0m         \u001b[0mindex\u001b[0m \u001b[0;34m=\u001b[0m \u001b[0mself\u001b[0m\u001b[0;34m.\u001b[0m\u001b[0m_next_index\u001b[0m\u001b[0;34m(\u001b[0m\u001b[0;34m)\u001b[0m  \u001b[0;31m# may raise StopIteration\u001b[0m\u001b[0;34m\u001b[0m\u001b[0;34m\u001b[0m\u001b[0m\n\u001b[0;32m--> 385\u001b[0;31m         \u001b[0mdata\u001b[0m \u001b[0;34m=\u001b[0m \u001b[0mself\u001b[0m\u001b[0;34m.\u001b[0m\u001b[0m_dataset_fetcher\u001b[0m\u001b[0;34m.\u001b[0m\u001b[0mfetch\u001b[0m\u001b[0;34m(\u001b[0m\u001b[0mindex\u001b[0m\u001b[0;34m)\u001b[0m  \u001b[0;31m# may raise StopIteration\u001b[0m\u001b[0;34m\u001b[0m\u001b[0;34m\u001b[0m\u001b[0m\n\u001b[0m\u001b[1;32m    386\u001b[0m         \u001b[0;32mif\u001b[0m \u001b[0mself\u001b[0m\u001b[0;34m.\u001b[0m\u001b[0m_pin_memory\u001b[0m\u001b[0;34m:\u001b[0m\u001b[0;34m\u001b[0m\u001b[0;34m\u001b[0m\u001b[0m\n\u001b[1;32m    387\u001b[0m             \u001b[0mdata\u001b[0m \u001b[0;34m=\u001b[0m \u001b[0m_utils\u001b[0m\u001b[0;34m.\u001b[0m\u001b[0mpin_memory\u001b[0m\u001b[0;34m.\u001b[0m\u001b[0mpin_memory\u001b[0m\u001b[0;34m(\u001b[0m\u001b[0mdata\u001b[0m\u001b[0;34m)\u001b[0m\u001b[0;34m\u001b[0m\u001b[0;34m\u001b[0m\u001b[0m\n",
      "\u001b[0;32m~/anaconda3/envs/graph/lib/python3.7/site-packages/torch/utils/data/_utils/fetch.py\u001b[0m in \u001b[0;36mfetch\u001b[0;34m(self, possibly_batched_index)\u001b[0m\n\u001b[1;32m     42\u001b[0m     \u001b[0;32mdef\u001b[0m \u001b[0mfetch\u001b[0m\u001b[0;34m(\u001b[0m\u001b[0mself\u001b[0m\u001b[0;34m,\u001b[0m \u001b[0mpossibly_batched_index\u001b[0m\u001b[0;34m)\u001b[0m\u001b[0;34m:\u001b[0m\u001b[0;34m\u001b[0m\u001b[0;34m\u001b[0m\u001b[0m\n\u001b[1;32m     43\u001b[0m         \u001b[0;32mif\u001b[0m \u001b[0mself\u001b[0m\u001b[0;34m.\u001b[0m\u001b[0mauto_collation\u001b[0m\u001b[0;34m:\u001b[0m\u001b[0;34m\u001b[0m\u001b[0;34m\u001b[0m\u001b[0m\n\u001b[0;32m---> 44\u001b[0;31m             \u001b[0mdata\u001b[0m \u001b[0;34m=\u001b[0m \u001b[0;34m[\u001b[0m\u001b[0mself\u001b[0m\u001b[0;34m.\u001b[0m\u001b[0mdataset\u001b[0m\u001b[0;34m[\u001b[0m\u001b[0midx\u001b[0m\u001b[0;34m]\u001b[0m \u001b[0;32mfor\u001b[0m \u001b[0midx\u001b[0m \u001b[0;32min\u001b[0m \u001b[0mpossibly_batched_index\u001b[0m\u001b[0;34m]\u001b[0m\u001b[0;34m\u001b[0m\u001b[0;34m\u001b[0m\u001b[0m\n\u001b[0m\u001b[1;32m     45\u001b[0m         \u001b[0;32melse\u001b[0m\u001b[0;34m:\u001b[0m\u001b[0;34m\u001b[0m\u001b[0;34m\u001b[0m\u001b[0m\n\u001b[1;32m     46\u001b[0m             \u001b[0mdata\u001b[0m \u001b[0;34m=\u001b[0m \u001b[0mself\u001b[0m\u001b[0;34m.\u001b[0m\u001b[0mdataset\u001b[0m\u001b[0;34m[\u001b[0m\u001b[0mpossibly_batched_index\u001b[0m\u001b[0;34m]\u001b[0m\u001b[0;34m\u001b[0m\u001b[0;34m\u001b[0m\u001b[0m\n",
      "\u001b[0;32m~/anaconda3/envs/graph/lib/python3.7/site-packages/torch/utils/data/_utils/fetch.py\u001b[0m in \u001b[0;36m<listcomp>\u001b[0;34m(.0)\u001b[0m\n\u001b[1;32m     42\u001b[0m     \u001b[0;32mdef\u001b[0m \u001b[0mfetch\u001b[0m\u001b[0;34m(\u001b[0m\u001b[0mself\u001b[0m\u001b[0;34m,\u001b[0m \u001b[0mpossibly_batched_index\u001b[0m\u001b[0;34m)\u001b[0m\u001b[0;34m:\u001b[0m\u001b[0;34m\u001b[0m\u001b[0;34m\u001b[0m\u001b[0m\n\u001b[1;32m     43\u001b[0m         \u001b[0;32mif\u001b[0m \u001b[0mself\u001b[0m\u001b[0;34m.\u001b[0m\u001b[0mauto_collation\u001b[0m\u001b[0;34m:\u001b[0m\u001b[0;34m\u001b[0m\u001b[0;34m\u001b[0m\u001b[0m\n\u001b[0;32m---> 44\u001b[0;31m             \u001b[0mdata\u001b[0m \u001b[0;34m=\u001b[0m \u001b[0;34m[\u001b[0m\u001b[0mself\u001b[0m\u001b[0;34m.\u001b[0m\u001b[0mdataset\u001b[0m\u001b[0;34m[\u001b[0m\u001b[0midx\u001b[0m\u001b[0;34m]\u001b[0m \u001b[0;32mfor\u001b[0m \u001b[0midx\u001b[0m \u001b[0;32min\u001b[0m \u001b[0mpossibly_batched_index\u001b[0m\u001b[0;34m]\u001b[0m\u001b[0;34m\u001b[0m\u001b[0;34m\u001b[0m\u001b[0m\n\u001b[0m\u001b[1;32m     45\u001b[0m         \u001b[0;32melse\u001b[0m\u001b[0;34m:\u001b[0m\u001b[0;34m\u001b[0m\u001b[0;34m\u001b[0m\u001b[0m\n\u001b[1;32m     46\u001b[0m             \u001b[0mdata\u001b[0m \u001b[0;34m=\u001b[0m \u001b[0mself\u001b[0m\u001b[0;34m.\u001b[0m\u001b[0mdataset\u001b[0m\u001b[0;34m[\u001b[0m\u001b[0mpossibly_batched_index\u001b[0m\u001b[0;34m]\u001b[0m\u001b[0;34m\u001b[0m\u001b[0;34m\u001b[0m\u001b[0m\n",
      "\u001b[0;32m~/EE514_FakeNews/Code Repo/rnn_pytorch.py\u001b[0m in \u001b[0;36m__getitem__\u001b[0;34m(self, i)\u001b[0m\n\u001b[1;32m     25\u001b[0m         \u001b[0mlabel\u001b[0m \u001b[0;34m=\u001b[0m \u001b[0mself\u001b[0m\u001b[0;34m.\u001b[0m\u001b[0mdf\u001b[0m\u001b[0;34m.\u001b[0m\u001b[0mis_sarcastic\u001b[0m\u001b[0;34m[\u001b[0m\u001b[0mi\u001b[0m\u001b[0;34m]\u001b[0m\u001b[0;34m\u001b[0m\u001b[0;34m\u001b[0m\u001b[0m\n\u001b[1;32m     26\u001b[0m         \u001b[0mtokens\u001b[0m \u001b[0;34m=\u001b[0m \u001b[0mheadline\u001b[0m\u001b[0;34m.\u001b[0m\u001b[0msplit\u001b[0m\u001b[0;34m(\u001b[0m\u001b[0;34m)\u001b[0m\u001b[0;34m\u001b[0m\u001b[0;34m\u001b[0m\u001b[0m\n\u001b[0;32m---> 27\u001b[0;31m         \u001b[0msample\u001b[0m \u001b[0;34m=\u001b[0m \u001b[0;34m[\u001b[0m\u001b[0mself\u001b[0m\u001b[0;34m.\u001b[0m\u001b[0mlist_vocab\u001b[0m\u001b[0;34m.\u001b[0m\u001b[0mindex\u001b[0m\u001b[0;34m(\u001b[0m\u001b[0;34m'<sos>'\u001b[0m\u001b[0;34m)\u001b[0m\u001b[0;34m]\u001b[0m\u001b[0;34m\u001b[0m\u001b[0;34m\u001b[0m\u001b[0m\n\u001b[0m\u001b[1;32m     28\u001b[0m         \u001b[0;32mfor\u001b[0m \u001b[0mtok\u001b[0m \u001b[0;32min\u001b[0m \u001b[0mtokens\u001b[0m\u001b[0;34m:\u001b[0m\u001b[0;34m\u001b[0m\u001b[0;34m\u001b[0m\u001b[0m\n\u001b[1;32m     29\u001b[0m             \u001b[0;32mtry\u001b[0m\u001b[0;34m:\u001b[0m\u001b[0;34m\u001b[0m\u001b[0;34m\u001b[0m\u001b[0m\n",
      "\u001b[0;31mKeyboardInterrupt\u001b[0m: "
     ]
    }
   ],
   "source": [
    "# Declare model and train\n",
    "model_gru = ModelRNN(vocab_size=len(list_vocab), datasetTrain=datasetTrain, datasetVal=datasetVal,\n",
    "                   init_weight=embedding_weight, batch_size=1024, optimizer_choice='adam', \n",
    "                   init_lr=0.001, mlp_layers_dim=[512, 1], rnn_hidden_size=512, rnn_num_layers=3, bidirectional=True, \n",
    "                   weight_decay=1e-5, dropout=0.75, batchnorm=True, checkpoint=None, model_name='GRU_Raw', grad_clip=2)\n",
    "\n",
    "model_gru.train(numb_epoch=50)"
   ]
  },
  {
   "cell_type": "code",
   "execution_count": 12,
   "metadata": {
    "hidden": true
   },
   "outputs": [
    {
     "name": "stdout",
     "output_type": "stream",
     "text": [
      "LOAD PRETRAINED MODEL AT Checkpoint/GRU_Raw-16122020-160240.pth.tar\n"
     ]
    },
    {
     "data": {
      "text/plain": [
       "{'accuracy': 0.9174771416923884,\n",
       " 'precision': 0.9149589,\n",
       " 'recall': 0.91149145,\n",
       " 'f1': 0.913221882553754,\n",
       " 'tp': 7456,\n",
       " 'tn': 8298,\n",
       " 'fp': 693,\n",
       " 'fn': 724,\n",
       " 'auc': 0.9720502355112515}"
      ]
     },
     "execution_count": 12,
     "metadata": {},
     "output_type": "execute_result"
    }
   ],
   "source": [
    "# Load pretrained model and evaluate on train / validate set\n",
    "dataloader = make_EmbeddingDataLoader(datasetTrain, batch_size=1024)\n",
    "model_gru = ModelRNN(vocab_size=len(list_vocab), datasetTrain=datasetTrain, datasetVal=datasetVal,\n",
    "                   init_weight=embedding_weight, batch_size=1024, optimizer_choice='adam', \n",
    "                   init_lr=0.001, mlp_layers_dim=[512, 1], rnn_hidden_size=512, rnn_num_layers=3, bidirectional=True, \n",
    "                   weight_decay=1e-5, dropout=0.75, batchnorm=True, \n",
    "                   checkpoint='Checkpoint/GRU_Raw-16122020-160240.pth.tar', \n",
    "                   model_name='GRU_Raw', grad_clip=2)\n",
    "\n",
    "model_gru.load_trained_model()\n",
    "model_gru.evaluate(dataloader)"
   ]
  },
  {
   "cell_type": "markdown",
   "metadata": {},
   "source": [
    "# Evaluation on Test set\n",
    "Evaluate the best model on the test set"
   ]
  },
  {
   "cell_type": "code",
   "execution_count": 23,
   "metadata": {},
   "outputs": [],
   "source": [
    "from sklearn.metrics import confusion_matrix\n",
    "import seaborn as sns\n",
    "import pandas as pd\n",
    "import matplotlib.pyplot as plt\n",
    "from sklearn.metrics import roc_curve\n",
    "from sklearn.metrics import roc_auc_score\n",
    "import matplotlib.pyplot as plt"
   ]
  },
  {
   "cell_type": "code",
   "execution_count": 4,
   "metadata": {},
   "outputs": [
    {
     "name": "stdout",
     "output_type": "stream",
     "text": [
      "Number of unique words remaining: 21115 / 23115\n",
      "Total discard (Unknown Token): 2000\n"
     ]
    }
   ],
   "source": [
    "dt_train = data_train.copy()\n",
    "dt_test = data_test.copy()\n",
    "\n",
    "# Count the frequency of words in the training corpus\n",
    "all_string = dt_train.headline_s1.tolist()\n",
    "all_string_in_one = ' '.join(all_string)\n",
    "all_string_in_one = all_string_in_one.lower()\n",
    "list_common_words, count_words = most_common_words(all_string_in_one, numb_words=-1)\n",
    "\n",
    "cwdf = pd.DataFrame(np.asarray(count_words),\n",
    "                    columns=['count_words'])\n",
    "cwdf['words'] = list_common_words\n",
    "\n",
    "# Find the index of words appeared only once in the corpus\n",
    "s = cwdf.index[cwdf.iloc[:,0] == 1].tolist()[0]\n",
    "s = s + 21115 - 11476 # Only take 2000 unknown words into UNK token\n",
    "common_vocab = cwdf.words[0:s].tolist()\n",
    "print(f\"Number of unique words remaining: {s} / {len(list_common_words)}\")\n",
    "print(f\"Total discard (Unknown Token): {cwdf.iloc[s:,0].sum()}\")"
   ]
  },
  {
   "cell_type": "code",
   "execution_count": 5,
   "metadata": {},
   "outputs": [
    {
     "name": "stdout",
     "output_type": "stream",
     "text": [
      "Total Vocabulary: 21119\n"
     ]
    }
   ],
   "source": [
    "# Convert unknown words into UNK tokens\n",
    "dt_test['preprocess'] = dt_test.headline_s1.apply(lambda row: add_unknown_token(row, common_vocab))\n",
    "\n",
    "# Add padding, unknown token to the vocab\n",
    "# Also add sos (start of sentence) and eos (end of sentence) to the vocab\n",
    "# These tokens to indicate the position of the start and end of a sentence for the sequence model\n",
    "list_vocab = ['<pad>', '<unk>'] + common_vocab + ['<sos>', '<eos>']\n",
    "print(f\"Total Vocabulary: {len(list_vocab)}\")"
   ]
  },
  {
   "cell_type": "markdown",
   "metadata": {},
   "source": [
    "## Metrics on Test set\n",
    "Load model and calculate metrics score"
   ]
  },
  {
   "cell_type": "code",
   "execution_count": 6,
   "metadata": {},
   "outputs": [
    {
     "name": "stdout",
     "output_type": "stream",
     "text": [
      "LOAD PRETRAINED MODEL AT Checkpoint/GRU_UNK_Raw-16122020-151023.pth.tar\n"
     ]
    },
    {
     "data": {
      "text/plain": [
       "{'accuracy': 0.86722571628232,\n",
       " 'precision': 0.86756355,\n",
       " 'recall': 0.85127604,\n",
       " 'f1': 0.8593425939234797,\n",
       " 'tp': 2902,\n",
       " 'tn': 3303,\n",
       " 'fp': 443,\n",
       " 'fn': 507,\n",
       " 'auc': 0.9400768857662508}"
      ]
     },
     "execution_count": 6,
     "metadata": {},
     "output_type": "execute_result"
    }
   ],
   "source": [
    "# Create Dataset Pytorch datastructure\n",
    "datasetTest = EmbeddingDataset(dt_test, col_name='preprocess', list_vocab=list_vocab)\n",
    "\n",
    "# Load pretrained model and evaluate on test set\n",
    "dataloader = make_EmbeddingDataLoader(datasetTest, batch_size=1024)\n",
    "model_gru = ModelRNN(vocab_size=len(list_vocab), datasetTrain=datasetTest, datasetVal=None,\n",
    "                   init_weight=None, batch_size=512, optimizer_choice='adam', \n",
    "                   init_lr=0.001, mlp_layers_dim=[512,1], rnn_hidden_size=256, rnn_num_layers=3, bidirectional=True, \n",
    "                   weight_decay=1e-5, dropout=0.75, batchnorm=True, \n",
    "                   checkpoint='Checkpoint/GRU_UNK_Raw-16122020-151023.pth.tar',\n",
    "                   model_name='GRU_UNK_Raw', grad_clip=2)\n",
    "\n",
    "model_gru.load_trained_model()\n",
    "model_gru.evaluate(dataloader)"
   ]
  },
  {
   "cell_type": "markdown",
   "metadata": {},
   "source": [
    "## Detail Prediction\n",
    "Making the prediction alone"
   ]
  },
  {
   "cell_type": "code",
   "execution_count": 7,
   "metadata": {},
   "outputs": [],
   "source": [
    "# Making prediction, pred is just the probability of is_sarcastic\n",
    "pred, label = model_gru.predict(dataloader)"
   ]
  },
  {
   "cell_type": "code",
   "execution_count": 8,
   "metadata": {},
   "outputs": [],
   "source": [
    "# Final prediction with binary\n",
    "pred_binary = np.copy(pred) \n",
    "pred_binary[pred_binary>=0.5] = 1\n",
    "pred_binary[pred_binary!=1] = 0"
   ]
  },
  {
   "cell_type": "code",
   "execution_count": 9,
   "metadata": {},
   "outputs": [
    {
     "data": {
      "text/plain": [
       "array([1., 1., 1., ..., 1., 1., 1.], dtype=float32)"
      ]
     },
     "execution_count": 9,
     "metadata": {},
     "output_type": "execute_result"
    }
   ],
   "source": [
    "pred_binary"
   ]
  },
  {
   "cell_type": "code",
   "execution_count": 10,
   "metadata": {},
   "outputs": [
    {
     "data": {
      "text/plain": [
       "array([1., 1., 1., ..., 1., 0., 0.], dtype=float32)"
      ]
     },
     "execution_count": 10,
     "metadata": {},
     "output_type": "execute_result"
    }
   ],
   "source": [
    "label"
   ]
  },
  {
   "cell_type": "code",
   "execution_count": 15,
   "metadata": {},
   "outputs": [
    {
     "data": {
      "text/plain": [
       "array([[3303,  443],\n",
       "       [ 507, 2902]])"
      ]
     },
     "execution_count": 15,
     "metadata": {},
     "output_type": "execute_result"
    }
   ],
   "source": [
    "conf_matrix = confusion_matrix(label, pred_binary)\n",
    "conf_matrix"
   ]
  },
  {
   "cell_type": "code",
   "execution_count": 18,
   "metadata": {},
   "outputs": [
    {
     "data": {
      "image/png": "[encoded data removed]",
      "text/plain": [
       "<Figure size 432x288 with 2 Axes>"
      ]
     },
     "metadata": {},
     "output_type": "display_data"
    }
   ],
   "source": [
    "df_cm = pd.DataFrame(conf_matrix, range(2), range(2))\n",
    "# plt.figure(figsize=(10,7))\n",
    "sns.set(font_scale=1.4) # for label size\n",
    "sns.heatmap(df_cm, annot=True, annot_kws={\"size\": 12}) # font size\n",
    "\n",
    "plt.show()\n"
   ]
  },
  {
   "cell_type": "code",
   "execution_count": 21,
   "metadata": {},
   "outputs": [],
   "source": [
    "# generate a no skill prediction (majority class)\n",
    "random_pred = [0 for _ in range(len(label))]\n",
    "# calculate scores\n",
    "random_auc = roc_auc_score(label, random_pred)\n",
    "model_auc = roc_auc_score(label, pred)\n",
    "\n",
    "# calculate roc curves\n",
    "random_fpr, random_tpr, _ = roc_curve(label, random_pred)\n",
    "model_fpr, model_tpr, _ = roc_curve(label, pred)"
   ]
  },
  {
   "cell_type": "code",
   "execution_count": 47,
   "metadata": {},
   "outputs": [
    {
     "data": {
      "image/png": "[encoded data removed]",
      "text/plain": [
       "<Figure size 720x720 with 1 Axes>"
      ]
     },
     "metadata": {},
     "output_type": "display_data"
    }
   ],
   "source": [
    "plt.figure(figsize=(10,10))\n",
    "# plot the roc curve for the model\n",
    "plt.plot(random_fpr, random_tpr, linestyle='--')\n",
    "plt.plot(model_fpr, model_tpr, label='Bi-GRU')\n",
    "# axis labels\n",
    "plt.xlabel('False Positive Rate')\n",
    "plt.ylabel('True Positive Rate')\n",
    "# show the legend\n",
    "plt.legend()\n",
    "plt.savefig('../figures/roc_curve.png', bbox_inches='tight', transparent=False, dpi=500)\n",
    "# show the plot\n",
    "plt.show()"
   ]
  },
  {
   "cell_type": "code",
   "execution_count": null,
   "metadata": {},
   "outputs": [],
   "source": []
  }
 ],
 "metadata": {
  "kernelspec": {
   "display_name": "Python 3",
   "language": "python",
   "name": "python3"
  },
  "language_info": {
   "codemirror_mode": {
    "name": "ipython",
    "version": 3
   },
   "file_extension": ".py",
   "mimetype": "text/x-python",
   "name": "python",
   "nbconvert_exporter": "python",
   "pygments_lexer": "ipython3",
   "version": "3.7.9"
  }
 },
 "nbformat": 4,
 "nbformat_minor": 4
}
