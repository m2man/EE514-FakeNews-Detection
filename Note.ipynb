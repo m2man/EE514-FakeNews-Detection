{
 "cells": [
  {
   "cell_type": "markdown",
   "metadata": {},
   "source": [
    "# Note for Fake News Detection\n",
    "Summarize all insight and some notes during the project. First step is to split it into ```train, validate, test``` subset. And Data Exploration will be processed on ```train``` set only.\n",
    "\n",
    "The distribution between 2 class ```sarcastic``` and ```real``` is quite balance, which is ```47.54%``` and ```52.36%```. We divided them into 3 subset with similar distribution. The proportion of them is ```60%, 15%, 25%```"
   ]
  },
  {
   "cell_type": "markdown",
   "metadata": {},
   "source": [
    "## Data Exploration "
   ]
  },
  {
   "cell_type": "markdown",
   "metadata": {},
   "source": [
    "First of all, **cannot** use the hyperlink or other source rather than the title only. Therefore all feature we have must be from the ```headline``` only."
   ]
  },
  {
   "cell_type": "markdown",
   "metadata": {
    "heading_collapsed": true
   },
   "source": [
    "### 1. Len headlines\n",
    "Indeed, it is no differences between the length of the headlines of 2 classes. Not sure should be used it or not"
   ]
  },
  {
   "cell_type": "markdown",
   "metadata": {
    "heading_collapsed": true
   },
   "source": [
    "### 2. Special Symbol\n",
    "Some symbol likes ```: ! @ # $ % ^ & * ( ) ; \\' [ ] , . / \\\" - _ ` ~``` in the titles. But also no distinct differences between 2 classes"
   ]
  },
  {
   "cell_type": "markdown",
   "metadata": {
    "heading_collapsed": true
   },
   "source": [
    "### 3. Lemmatized\n",
    "We perform lemmatized ```headline``` and count the changes after doing that. But also not helpful"
   ]
  },
  {
   "cell_type": "markdown",
   "metadata": {
    "heading_collapsed": true
   },
   "source": [
    "### 4. Stopwords\n",
    "It looks like ```real``` titles used more stopwords than ```sarcastic``` but it is still not clear"
   ]
  },
  {
   "cell_type": "markdown",
   "metadata": {
    "heading_collapsed": true
   },
   "source": [
    "### 5. Average len word\n",
    "```sarcastic``` titles used longer words than ```real``` one"
   ]
  },
  {
   "cell_type": "markdown",
   "metadata": {
    "heading_collapsed": true
   },
   "source": [
    "### 6. Contain number\n",
    "No difference"
   ]
  },
  {
   "cell_type": "markdown",
   "metadata": {
    "heading_collapsed": true
   },
   "source": [
    "### 7. Readability"
   ]
  },
  {
   "cell_type": "markdown",
   "metadata": {
    "hidden": true
   },
   "source": [
    "1. ```Sarcastic``` tend to use longer syllable words\n",
    "2. Lexicon is not useful\n",
    "3. ```flesch_read_score``` is higher for ```real``` headline\n",
    "4. ```flesch_grade_score``` is higher for ```sarcastic``` headline\n",
    "5. ```ari_score``` is higher for ```sarcastic``` headline\n",
    "6. ```coleman_score``` is higher for ```sarcastic``` headline\n",
    "7. ```standard_score``` is higher for ```sarcastic``` headline\n",
    "8. ```linsear_score``` is higher for ```sarcastic``` headline"
   ]
  },
  {
   "cell_type": "markdown",
   "metadata": {
    "heading_collapsed": true
   },
   "source": [
    "### 8. POS Tagging"
   ]
  },
  {
   "cell_type": "markdown",
   "metadata": {
    "hidden": true
   },
   "source": [
    "1. ```real``` headlines tends to use more ```DT``` words\n",
    "2. ```sarcastic``` headlines tends to use more ```ADJ``` and ```ADV``` words\n",
    "3. **Noun**, **preposition**, or **numbers** show no relationship between 2 classes\n",
    "4. **Verbs** is slightly related"
   ]
  },
  {
   "cell_type": "markdown",
   "metadata": {},
   "source": [
    "### 9. Syntax Tree\n",
    "The depth of the syntax tree is not useful"
   ]
  },
  {
   "cell_type": "markdown",
   "metadata": {},
   "source": [
    "### 10. Top Common Words\n",
    "Normalized number of common words is quite useful as ```real``` headline use more common words than ```fake```. We take most 11 common words in training data to be the threshold\n",
    "\n",
    "We also examined that if eliminate stopwords in common words, it became less useful. Correlation reduce to 0.10 from 0.17"
   ]
  },
  {
   "cell_type": "markdown",
   "metadata": {},
   "source": [
    "### 11. Conclusion for Basic Features"
   ]
  },
  {
   "cell_type": "markdown",
   "metadata": {},
   "source": [
    "# Some useful features are:\n",
    "\n",
    "    1. ratio of stopwords (corr = -0.21)\n",
    "    2. average length of a word in a headline (0.17) (Min, max is quite low with 0.12, 0.1 accordingly)\n",
    "    3. average syllable of a word in a headline (0.15)\n",
    "    4. Normalized total number of syllable in a headline (0.15)\n",
    "    5. standard_score in readability test (0.14)\n",
    "    6. linsear_score in readability test (0.12)\n",
    "    7. coleman_score in readability test (0.18)\n",
    "    8. ari_score in readability test (0.18)\n",
    "    9. flesch_grade_score in readability test (0.17)\n",
    "    10. flesch_reading_score in readability test (0.16)\n",
    "    11. norm_numb_DT (-0.32)\n",
    "    12. norm_numb_ADV (0.12)\n",
    "    13. norm_numb_ADJ (0.13)\n",
    "    14. norm_common_words with thres = 11 with keeping stopwords (-0.24)\n",
    "\n",
    "Note that should check correlation between those features}"
   ]
  },
  {
   "cell_type": "markdown",
   "metadata": {},
   "source": [
    "## Encoding techniques\n",
    "Some techniques can be used is bag-of-word or TFIDF vectorized. Also need to considering common words in headlines"
   ]
  },
  {
   "cell_type": "code",
   "execution_count": null,
   "metadata": {},
   "outputs": [],
   "source": []
  }
 ],
 "metadata": {
  "kernelspec": {
   "display_name": "Python 3",
   "language": "python",
   "name": "python3"
  },
  "language_info": {
   "codemirror_mode": {
    "name": "ipython",
    "version": 3
   },
   "file_extension": ".py",
   "mimetype": "text/x-python",
   "name": "python",
   "nbconvert_exporter": "python",
   "pygments_lexer": "ipython3",
   "version": "3.7.9"
  }
 },
 "nbformat": 4,
 "nbformat_minor": 4
}
