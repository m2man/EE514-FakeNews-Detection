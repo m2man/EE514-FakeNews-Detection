{
 "cells": [
  {
   "cell_type": "code",
   "execution_count": 1,
   "metadata": {},
   "outputs": [
    {
     "name": "stderr",
     "output_type": "stream",
     "text": [
      "/home/nmduy/anaconda3/envs/graph/lib/python3.7/site-packages/sklearn/utils/deprecation.py:143: FutureWarning: The sklearn.metrics.ranking module is  deprecated in version 0.22 and will be removed in version 0.24. The corresponding classes / functions should instead be imported from sklearn.metrics. Anything that cannot be imported from sklearn.metrics is now part of the private API.\n",
      "  warnings.warn(message, FutureWarning)\n"
     ]
    }
   ],
   "source": [
    "import matplotlib.pyplot as plt\n",
    "import seaborn as sns\n",
    "from myfunctions import *\n",
    "from sklearn.model_selection import GridSearchCV\n",
    "from sklearn.linear_model import LogisticRegression\n",
    "from sklearn.neighbors import KNeighborsClassifier\n",
    "from sklearn.neural_network import MLPClassifier\n",
    "from sklearn.naive_bayes import GaussianNB\n",
    "from sklearn.ensemble import RandomForestClassifier\n",
    "from sklearn.inspection import permutation_importance\n",
    "from sklearn.pipeline import make_pipeline, Pipeline\n",
    "from sklearn.preprocessing import StandardScaler\n",
    "from sklearn.svm import SVC"
   ]
  },
  {
   "cell_type": "markdown",
   "metadata": {},
   "source": [
    "## Functions"
   ]
  },
  {
   "cell_type": "code",
   "execution_count": 2,
   "metadata": {},
   "outputs": [],
   "source": [
    "def extract_feature_basic(data_input, high_corr=True):\n",
    "    '''\n",
    "    Input: data is the dataframe with only is_sarcastic and headline column\n",
    "    Output: data with full features (except headline column)\n",
    "    '''\n",
    "    data = data_input.copy()\n",
    "    data['len_headline'] = data.headline.apply(lambda row: count_word(row)) # count words in title\n",
    "    data['headline_s1'] = data.headline.apply(lambda row: remove_symbol(row))\n",
    "    data['len_headline_s1'] = data.headline_s1.apply(lambda row: count_word(row))\n",
    "    data['count_symbol'] = data.len_headline - data.len_headline_s1\n",
    "    data['contain_symbol'] = data.count_symbol.apply(lambda row: 1 if row > 0 else 0)\n",
    "    data['ratio_symbol'] = 1 - data.len_headline_s1/data.len_headline\n",
    "    data['headline_s2'] = data.headline_s1.apply(lambda row: lemmatize_word(row, 'v'))\n",
    "    data['headline_s2'] = data.headline_s2.apply(lambda row: lemmatize_word(row, 'n'))\n",
    "    data['len_headline_s2'] = data.headline_s2.apply(lambda row: count_word(row))\n",
    "    data['count_lemmatized'] = count_lemmatized_word(data, 'headline_s1', 'headline_s2')\n",
    "    data['ratio_lemmatized'] = data['count_lemmatized'] / data['len_headline_s1']\n",
    "    data['headline_s3'] = data.headline_s2.apply(lambda row: remove_stop_words(row))\n",
    "    data['len_headline_s3'] = data.headline_s3.apply(lambda row: count_word(row))\n",
    "    data['numb_stopwords'] = data['len_headline_s2'] - data['len_headline_s3']\n",
    "    data['ratio_stopwords'] = data['numb_stopwords'] / data['len_headline_s2']\n",
    "    data['min_len_word'] = data.headline_s1.apply(lambda row: min_len_word(row))\n",
    "    data['max_len_word'] = data.headline_s1.apply(lambda row: max_len_word(row))\n",
    "    data['avg_len_word'] = data.headline_s1.apply(lambda row: avg_len_word(row))\n",
    "    data['has_number'] = data.headline.apply(lambda row: 1 if has_Number(row) else 0)\n",
    "    data['min_syl_word'] = data.headline_s1.apply(lambda row: min_syl_word(row))\n",
    "    data['max_syl_word'] = data.headline_s1.apply(lambda row: max_syl_word(row))\n",
    "    data['avg_syl_word'] = data.headline_s1.apply(lambda row: avg_syl_word(row))\n",
    "    data['numb_syl'] = data.headline_s1.apply(lambda row: count_syllable(row))\n",
    "    data['norm_numb_syl'] = data.numb_syl / data.len_headline_s1\n",
    "    data['numb_lex'] = data.headline_s1.apply(lambda row: count_lexicon(row))\n",
    "    data['norm_numb_lex'] = data.numb_lex / data.len_headline_s1\n",
    "    data['flesch_reading_score'] = data.headline.apply(lambda row: textstat.flesch_reading_ease(row))\n",
    "    data['flesch_grade_score'] = data.headline.apply(lambda row: textstat.flesch_kincaid_grade(row))\n",
    "    data['fog_score'] = data.headline.apply(lambda row: textstat.gunning_fog(row))\n",
    "    # data['smog_score'] = data.headline.apply(lambda row: textstat.smog_index(row))\n",
    "    data['ari_score'] = data.headline.apply(lambda row: textstat.automated_readability_index(row))\n",
    "    data['coleman_score'] = data.headline.apply(lambda row: textstat.coleman_liau_index(row))\n",
    "    data['linsear_score'] = data.headline.apply(lambda row: textstat.linsear_write_formula(row))\n",
    "    data['dale_score'] = data.headline.apply(lambda row: textstat.dale_chall_readability_score(row))\n",
    "    data['standard_score'] = data.headline.apply(lambda row: textstat.text_standard(row, float_output=True))\n",
    "    data['numb_NN'] = data.headline.apply(lambda row: count_noun(row))\n",
    "    data['numb_VED'] = data.headline.apply(lambda row: count_verb_past(row))\n",
    "    data['numb_VB'] = data.headline.apply(lambda row: count_verb_present(row))\n",
    "    data['numb_VING'] = data.headline.apply(lambda row: count_verb_ing(row))\n",
    "    data['numb_ADJ'] = data.headline.apply(lambda row: count_adj(row))\n",
    "    data['numb_ADV'] = data.headline.apply(lambda row: count_adv(row))\n",
    "    data['numb_DT'] = data.headline.apply(lambda row: count_DT(row))\n",
    "    data['numb_CD'] = data.headline.apply(lambda row: count_CD(row))\n",
    "    data['numb_PR'] = data.headline.apply(lambda row: count_pronoun(row))\n",
    "    data['norm_numb_NN'] = data['numb_NN'] / data['len_headline']\n",
    "    data['norm_numb_VED'] = data['numb_VED'] / data['len_headline']\n",
    "    data['norm_numb_VB'] = data['numb_VB'] / data['len_headline']\n",
    "    data['norm_numb_VING'] = data['numb_VING'] / data['len_headline']\n",
    "    data['norm_numb_ADJ'] = data['numb_ADJ'] / data['len_headline']\n",
    "    data['norm_numb_ADV'] = data['numb_ADV'] / data['len_headline']\n",
    "    data['norm_numb_DT'] = data['numb_DT'] / data['len_headline']\n",
    "    data['norm_numb_CD'] = data['numb_CD'] / data['len_headline']\n",
    "    data['norm_numb_PR'] = data['numb_PR'] / data['len_headline']\n",
    "    data['depth_syntree'] = data.headline_s1.apply(lambda row: get_depth_syntax_tree(row))\n",
    "    data['norm_depth_syntree'] = data['depth_syntree'] / data.len_headline_s1\n",
    "    \n",
    "    data['preprocess_headline'] = data.headline.apply(lambda row: preprocess_sent(row, remove_stopwords=False))\n",
    "    all_string = data.preprocess_headline.tolist()\n",
    "    all_string_in_one = ' '.join(all_string)\n",
    "    list_common_words,_ = most_common_words(all_string_in_one, numb_words=11)\n",
    "    data['norm_common_words'] = data.preprocess_headline.apply(lambda row: numb_common_words(row, list_common_words, norm=True))\n",
    "    \n",
    "    if high_corr:\n",
    "        list_ft = data.columns.tolist()\n",
    "        keep_ft = ['is_sarcastic', 'ratio_stopwords', 'avg_len_word', 'avg_syl_word', 'norm_numb_syl',\n",
    "                   'flesch_reading_score', 'flesch_grade_score', 'ari_score', 'coleman_score', 'linsear_score', \n",
    "                   'standard_score', 'norm_numb_ADJ', 'norm_numb_ADV', 'norm_numb_DT', 'norm_common_words']\n",
    "        discard_ft = [x for x in list_ft if x not in keep_ft]\n",
    "    else:\n",
    "        discard_ft = ['headline', 'headline_s1', 'headline_s2', 'headline_s3', 'preprocess_headline']\n",
    "    data_ft = data.drop(columns=discard_ft)\n",
    "    \n",
    "    if high_corr:\n",
    "        # dis flesch reading score (-0.97 wtih flesch grade score)\n",
    "        # dis norm_numb_syl (0.99 with avg_syl_word)\n",
    "        data_ft = data_ft.drop(columns=['norm_numb_syl', 'flesch_reading_score'])\n",
    "    \n",
    "    return data_ft"
   ]
  },
  {
   "cell_type": "markdown",
   "metadata": {},
   "source": [
    "## Read and Split Data"
   ]
  },
  {
   "cell_type": "code",
   "execution_count": 3,
   "metadata": {},
   "outputs": [],
   "source": [
    "data_full = pd.read_json('fake_news.json', lines=True)\n",
    "data_full = data_full.drop(columns=['article_link']) # remove link column\n",
    "df_train_f, df_test = split_dataframe(data_full, test_size=0.25, seed=1509)\n",
    "df_train, df_validate = split_dataframe(df_train_f, test_size=0.2, seed=1309)"
   ]
  },
  {
   "cell_type": "code",
   "execution_count": 4,
   "metadata": {},
   "outputs": [
    {
     "name": "stdout",
     "output_type": "stream",
     "text": [
      "===== TRAINING SAMPLES =====\n",
      "Total Sample: 18316\n",
      "Sarcastic: 8726 (47.64%)\n",
      "Not Sarcastic: 9590 (52.36%)\n",
      "===== VALIDATING SAMPLES =====\n",
      "Total Sample: 4579\n",
      "Sarcastic: 2181 (47.63%)\n",
      "Not Sarcastic: 2398 (52.37%)\n",
      "===== TESTING SAMPLES =====\n",
      "Total Sample: 5724\n",
      "Sarcastic: 2727 (47.64%)\n",
      "Not Sarcastic: 2997 (52.36%)\n"
     ]
    }
   ],
   "source": [
    "# Proportion of each subsets\n",
    "list_label = df_train['is_sarcastic'].tolist()\n",
    "numb_total = len(list_label)\n",
    "numb_sarcastic = np.sum(np.asarray(list_label))\n",
    "numb_not_sarcastic = numb_total - numb_sarcastic\n",
    "print(f'===== TRAINING SAMPLES =====\\nTotal Sample: {numb_total}\\nSarcastic: {numb_sarcastic} ({np.round(numb_sarcastic/numb_total*100,2)}%)\\nNot Sarcastic: {numb_not_sarcastic} ({np.round(numb_not_sarcastic/numb_total*100,2)}%)')\n",
    "\n",
    "list_label = df_validate['is_sarcastic'].tolist()\n",
    "numb_total = len(list_label)\n",
    "numb_sarcastic = np.sum(np.asarray(list_label))\n",
    "numb_not_sarcastic = numb_total - numb_sarcastic\n",
    "print(f'===== VALIDATING SAMPLES =====\\nTotal Sample: {numb_total}\\nSarcastic: {numb_sarcastic} ({np.round(numb_sarcastic/numb_total*100,2)}%)\\nNot Sarcastic: {numb_not_sarcastic} ({np.round(numb_not_sarcastic/numb_total*100,2)}%)')\n",
    "\n",
    "list_label = df_test['is_sarcastic'].tolist()\n",
    "numb_total = len(list_label)\n",
    "numb_sarcastic = np.sum(np.asarray(list_label))\n",
    "numb_not_sarcastic = numb_total - numb_sarcastic\n",
    "print(f'===== TESTING SAMPLES =====\\nTotal Sample: {numb_total}\\nSarcastic: {numb_sarcastic} ({np.round(numb_sarcastic/numb_total*100,2)}%)\\nNot Sarcastic: {numb_not_sarcastic} ({np.round(numb_not_sarcastic/numb_total*100,2)}%)')"
   ]
  },
  {
   "cell_type": "markdown",
   "metadata": {},
   "source": [
    "## Extract Features"
   ]
  },
  {
   "cell_type": "code",
   "execution_count": 5,
   "metadata": {},
   "outputs": [
    {
     "name": "stdout",
     "output_type": "stream",
     "text": [
      "Extract Features Training ...\n",
      "Extract Features Training Full...\n",
      "Extract Features Validating ...\n"
     ]
    }
   ],
   "source": [
    "high_corr = False\n",
    "print('Extract Features Training ...')\n",
    "data_train_ft = extract_feature_basic(df_train, high_corr=high_corr)\n",
    "print('Extract Features Training Full...')\n",
    "data_train_f_ft = extract_feature_basic(df_train_f, high_corr=high_corr)\n",
    "print('Extract Features Validating ...')\n",
    "data_validate_ft = extract_feature_basic(df_validate, high_corr=high_corr)"
   ]
  },
  {
   "cell_type": "code",
   "execution_count": 6,
   "metadata": {},
   "outputs": [],
   "source": [
    "# dis flesch reading score (-0.97 wtih flesch grade score)\n",
    "# dis norm_numb_syl (0.99 with avg_syl_word)\n",
    "# dis len_headline, len_headline_s1, len_headline_s2\n",
    "# dis count_symbol \n",
    "# dis norm numb syl\n",
    "\n",
    "dis_col = ['flesch_reading_score', 'norm_numb_syl', 'len_headline', \n",
    "           'len_headline_s1', 'len_headline_s2', 'count_symbol', 'norm_numb_syl']\n",
    "\n",
    "data_train_ft = data_train_ft.drop(columns=dis_col)\n",
    "data_train_f_ft = data_train_f_ft.drop(columns=dis_col)\n",
    "data_validate_ft = data_validate_ft.drop(columns=dis_col)"
   ]
  },
  {
   "cell_type": "markdown",
   "metadata": {},
   "source": [
    "### Correlation between Features\n",
    "Here we will remove features having high correlation to others. We will keep the one having higher correlation with the outcome."
   ]
  },
  {
   "cell_type": "code",
   "execution_count": 7,
   "metadata": {
    "scrolled": true
   },
   "outputs": [],
   "source": [
    "# a = data_train_f_ft.corr()\n",
    "# a.iloc[:, 10:30]"
   ]
  },
  {
   "cell_type": "markdown",
   "metadata": {},
   "source": [
    "### Concert to Numpy array"
   ]
  },
  {
   "cell_type": "code",
   "execution_count": 8,
   "metadata": {},
   "outputs": [],
   "source": [
    "X_train_f = data_train_f_ft.drop(columns=['is_sarcastic'])\n",
    "y_train_f = data_train_f_ft['is_sarcastic']\n",
    "X_train_f = np.asarray(X_train_f)\n",
    "y_train_f = np.asarray(y_train_f)\n",
    "\n",
    "X_train = data_train_ft.drop(columns=['is_sarcastic'])\n",
    "y_train = data_train_ft['is_sarcastic']\n",
    "X_train = np.asarray(X_train)\n",
    "y_train = np.asarray(y_train)\n",
    "\n",
    "X_validate = data_validate_ft.drop(columns=['is_sarcastic'])\n",
    "y_validate = data_validate_ft['is_sarcastic']\n",
    "X_validate = np.asarray(X_validate)\n",
    "y_validate = np.asarray(y_validate)\n",
    "\n",
    "feature_names = list(data_validate_ft.drop(columns=['is_sarcastic']).columns)"
   ]
  },
  {
   "cell_type": "markdown",
   "metadata": {
    "heading_collapsed": true
   },
   "source": [
    "## RF Model\n",
    "Since RF support bagging method, we do not need to use validate set distinctly. We will train both train and validate set together"
   ]
  },
  {
   "cell_type": "markdown",
   "metadata": {
    "hidden": true
   },
   "source": [
    "### GridSearch"
   ]
  },
  {
   "cell_type": "code",
   "execution_count": 13,
   "metadata": {
    "hidden": true
   },
   "outputs": [],
   "source": [
    "hypara = {\n",
    "    'max_depth': [15, 20, 25, 30],\n",
    "    'n_estimators': [250, 300, 400, 500],\n",
    "    'min_samples_split': [5, 7, 10],\n",
    "    'min_samples_leaf': [2, 5],\n",
    "}"
   ]
  },
  {
   "cell_type": "code",
   "execution_count": 14,
   "metadata": {
    "hidden": true
   },
   "outputs": [
    {
     "name": "stdout",
     "output_type": "stream",
     "text": [
      "Fitting 5 folds for each of 96 candidates, totalling 480 fits\n"
     ]
    },
    {
     "name": "stderr",
     "output_type": "stream",
     "text": [
      "[Parallel(n_jobs=-1)]: Using backend LokyBackend with 16 concurrent workers.\n",
      "[Parallel(n_jobs=-1)]: Done  18 tasks      | elapsed:   32.9s\n",
      "[Parallel(n_jobs=-1)]: Done 168 tasks      | elapsed:  3.9min\n",
      "[Parallel(n_jobs=-1)]: Done 418 tasks      | elapsed:  9.3min\n",
      "[Parallel(n_jobs=-1)]: Done 480 out of 480 | elapsed: 10.6min finished\n"
     ]
    },
    {
     "name": "stdout",
     "output_type": "stream",
     "text": [
      "Best OOB Score: 0.7273640532867438\n",
      "Best paras: {'max_depth': 20, 'min_samples_leaf': 2, 'min_samples_split': 5, 'n_estimators': 300}\n"
     ]
    }
   ],
   "source": [
    "model_cv_rf = GridSearchCV(RandomForestClassifier(), hypara, verbose=1, n_jobs=-1)\n",
    "model_cv_rf.fit(X_train_f, y_train_f);\n",
    "print(f\"Best OOB Score: {model_cv_rf.best_score_}\")\n",
    "print(f\"Best paras: {model_cv_rf.best_params_}\")"
   ]
  },
  {
   "cell_type": "code",
   "execution_count": 11,
   "metadata": {
    "hidden": true
   },
   "outputs": [],
   "source": [
    "# For Fun\n",
    "# validate_pred = model_cv_rf.predict_proba(X_validate)\n",
    "# validate_pred = validate_pred[:,1]\n",
    "# metrics = calculate_metric(y_validate, validate_pred)\n",
    "# metrics"
   ]
  },
  {
   "cell_type": "markdown",
   "metadata": {
    "hidden": true
   },
   "source": [
    "### Train again"
   ]
  },
  {
   "cell_type": "code",
   "execution_count": 15,
   "metadata": {
    "hidden": true
   },
   "outputs": [],
   "source": [
    "hypara = {\n",
    "    'random_state': 1509,\n",
    "    'max_depth': 20,\n",
    "    'n_estimators': 300,\n",
    "    'min_samples_split': 7,\n",
    "    'min_samples_leaf': 2,\n",
    "}\n",
    "\n",
    "hypara = {\n",
    "    'random_state': 1509,\n",
    "    'max_depth': 20,\n",
    "    'n_estimators': 300,\n",
    "    'min_samples_split': 5,\n",
    "    'min_samples_leaf': 2,\n",
    "}\n",
    "model_rf = RandomForestClassifier(**hypara)\n",
    "model_rf.fit(X_train, y_train);"
   ]
  },
  {
   "cell_type": "code",
   "execution_count": 16,
   "metadata": {
    "hidden": true
   },
   "outputs": [
    {
     "data": {
      "text/plain": [
       "{'accuracy': 0.7150032758244158,\n",
       " 'precision': 0.6938053097345133,\n",
       " 'recall': 0.7189362677670793,\n",
       " 'f1': 0.7061472641297005,\n",
       " 'tp': 1568,\n",
       " 'tn': 1706,\n",
       " 'fp': 692,\n",
       " 'fn': 613,\n",
       " 'auc': 0.8045863146692243}"
      ]
     },
     "execution_count": 16,
     "metadata": {},
     "output_type": "execute_result"
    }
   ],
   "source": [
    "validate_pred = model_rf.predict_proba(X_validate)\n",
    "validate_pred = validate_pred[:,1]\n",
    "metrics = calculate_metric(y_validate, validate_pred)\n",
    "metrics"
   ]
  },
  {
   "cell_type": "markdown",
   "metadata": {
    "hidden": true
   },
   "source": [
    "### Feature Importance"
   ]
  },
  {
   "cell_type": "code",
   "execution_count": 17,
   "metadata": {
    "hidden": true
   },
   "outputs": [],
   "source": [
    "result = permutation_importance(model_rf, X_train, y_train, n_repeats=10,\n",
    "                                random_state=1509, n_jobs=-1)\n",
    "sorted_idx = result.importances_mean.argsort()"
   ]
  },
  {
   "cell_type": "code",
   "execution_count": 18,
   "metadata": {
    "hidden": true
   },
   "outputs": [
    {
     "data": {
      "image/png": "[encoded data removed]",
      "text/plain": [
       "<Figure size 1440x720 with 1 Axes>"
      ]
     },
     "metadata": {
      "needs_background": "light"
     },
     "output_type": "display_data"
    }
   ],
   "source": [
    "fig, ax = plt.subplots(figsize=(20, 10))\n",
    "ax.boxplot(result.importances[sorted_idx].T,\n",
    "           vert=False, labels=np.asarray(feature_names)[sorted_idx])\n",
    "ax.set_title(\"Permutation Importances (Training set)\")\n",
    "fig.tight_layout()\n",
    "plt.show()"
   ]
  },
  {
   "cell_type": "markdown",
   "metadata": {
    "heading_collapsed": true
   },
   "source": [
    "## SVM"
   ]
  },
  {
   "cell_type": "markdown",
   "metadata": {
    "hidden": true
   },
   "source": [
    "### Train Again"
   ]
  },
  {
   "cell_type": "code",
   "execution_count": 18,
   "metadata": {
    "hidden": true
   },
   "outputs": [],
   "source": [
    "# SVM need normalization\n",
    "scaler = StandardScaler().fit(X_train)\n",
    "X_train_norm = scaler.transform(X_train)\n",
    "X_validate_norm = scaler.transform(X_validate)"
   ]
  },
  {
   "cell_type": "code",
   "execution_count": 19,
   "metadata": {
    "hidden": true
   },
   "outputs": [
    {
     "name": "stdout",
     "output_type": "stream",
     "text": [
      "Fitting 5 folds for each of 4 candidates, totalling 20 fits\n"
     ]
    },
    {
     "name": "stderr",
     "output_type": "stream",
     "text": [
      "[Parallel(n_jobs=-1)]: Using backend LokyBackend with 16 concurrent workers.\n",
      "[Parallel(n_jobs=-1)]: Done  10 out of  20 | elapsed:  1.9min remaining:  1.9min\n",
      "[Parallel(n_jobs=-1)]: Done  20 out of  20 | elapsed:  2.5min finished\n"
     ]
    },
    {
     "name": "stdout",
     "output_type": "stream",
     "text": [
      "Best CV Score: 0.7280192181699062\n",
      "Best paras: {'C': 10}\n"
     ]
    }
   ],
   "source": [
    "hypara = {\n",
    "    'C': [0.1, 1, 5, 10],\n",
    "}\n",
    "\n",
    "model_cv_svm = GridSearchCV(SVC(max_iter=100000, tol=1e-5), hypara, verbose=1, n_jobs=-1)\n",
    "model_cv_svm.fit(X_train_f, y_train_f);\n",
    "print(f\"Best CV Score: {model_cv_svm.best_score_}\")\n",
    "print(f\"Best paras: {model_cv_svm.best_params_}\")"
   ]
  },
  {
   "cell_type": "code",
   "execution_count": 23,
   "metadata": {
    "hidden": true
   },
   "outputs": [
    {
     "name": "stderr",
     "output_type": "stream",
     "text": [
      "/home/nmduy/anaconda3/envs/graph/lib/python3.7/site-packages/sklearn/svm/_base.py:249: ConvergenceWarning: Solver terminated early (max_iter=100000).  Consider pre-processing your data with StandardScaler or MinMaxScaler.\n",
      "  % self.max_iter, ConvergenceWarning)\n"
     ]
    }
   ],
   "source": [
    "hypara = {\n",
    "    'C': 100,\n",
    "    'random_state': 1509,\n",
    "    'max_iter':100000,\n",
    "    'tol' : 1e-5\n",
    "}\n",
    "model_svm = SVC(**hypara)\n",
    "model_svm.fit(X_train_norm, y_train);"
   ]
  },
  {
   "cell_type": "code",
   "execution_count": 21,
   "metadata": {
    "hidden": true
   },
   "outputs": [
    {
     "data": {
      "text/plain": [
       "{'accuracy': 0.7278881851932737,\n",
       " 'precision': 0.7080551846906987,\n",
       " 'recall': 0.729481889041724,\n",
       " 'f1': 0.7186088527551941,\n",
       " 'tp': 1591,\n",
       " 'tn': 1742,\n",
       " 'fp': 656,\n",
       " 'fn': 590,\n",
       " 'auc': 0.7279602939787436}"
      ]
     },
     "execution_count": 21,
     "metadata": {},
     "output_type": "execute_result"
    }
   ],
   "source": [
    "# validate_pred = model_svm.predict_proba(X_validate)\n",
    "# validate_pred = validate_pred[:,1]\n",
    "validate_pred = model_svm.predict(X_validate_norm)\n",
    "metrics = calculate_metric(y_validate, validate_pred)\n",
    "metrics"
   ]
  },
  {
   "cell_type": "markdown",
   "metadata": {
    "heading_collapsed": true
   },
   "source": [
    "## Logistic Regression"
   ]
  },
  {
   "cell_type": "code",
   "execution_count": 25,
   "metadata": {
    "hidden": true
   },
   "outputs": [
    {
     "name": "stdout",
     "output_type": "stream",
     "text": [
      "Fitting 5 folds for each of 15 candidates, totalling 75 fits\n"
     ]
    },
    {
     "name": "stderr",
     "output_type": "stream",
     "text": [
      "[Parallel(n_jobs=-1)]: Using backend LokyBackend with 16 concurrent workers.\n",
      "[Parallel(n_jobs=-1)]: Done  18 tasks      | elapsed:  2.2min\n",
      "[Parallel(n_jobs=-1)]: Done  75 out of  75 | elapsed:  6.4min finished\n"
     ]
    },
    {
     "name": "stdout",
     "output_type": "stream",
     "text": [
      "Best CV Score: 0.7011137803013758\n",
      "Best paras: {'C': 5, 'penalty': 'l1'}\n"
     ]
    },
    {
     "name": "stderr",
     "output_type": "stream",
     "text": [
      "/home/nmduy/anaconda3/envs/graph/lib/python3.7/site-packages/sklearn/linear_model/_sag.py:330: ConvergenceWarning: The max_iter was reached which means the coef_ did not converge\n",
      "  \"the coef_ did not converge\", ConvergenceWarning)\n"
     ]
    }
   ],
   "source": [
    "hypara = {\n",
    "    'penalty': ['l1', 'l2', 'elasticnet'],\n",
    "    'C': [0.1, 1, 5, 10, 20],\n",
    "}\n",
    "\n",
    "model_cv_lr = GridSearchCV(LogisticRegression(max_iter=5000, tol=1e-5, solver='saga'), hypara, verbose=1, n_jobs=-1)\n",
    "model_cv_lr.fit(X_train_f, y_train_f);\n",
    "print(f\"Best CV Score: {model_cv_lr.best_score_}\")\n",
    "print(f\"Best paras: {model_cv_lr.best_params_}\")"
   ]
  },
  {
   "cell_type": "code",
   "execution_count": 21,
   "metadata": {
    "hidden": true
   },
   "outputs": [
    {
     "name": "stdout",
     "output_type": "stream",
     "text": [
      "Fitting 5 folds for each of 12 candidates, totalling 60 fits\n"
     ]
    },
    {
     "name": "stderr",
     "output_type": "stream",
     "text": [
      "[Parallel(n_jobs=-1)]: Using backend LokyBackend with 16 concurrent workers.\n",
      "[Parallel(n_jobs=-1)]: Done  18 tasks      | elapsed:    1.3s\n",
      "[Parallel(n_jobs=-1)]: Done  60 out of  60 | elapsed:    3.8s finished\n"
     ]
    },
    {
     "name": "stdout",
     "output_type": "stream",
     "text": [
      "Best CV Score: 0.6671762393535707\n",
      "Best paras: {'C': 1, 'penalty': 'l2'}\n"
     ]
    }
   ],
   "source": [
    "scaler = StandardScaler().fit(X_train_f)\n",
    "X_train_f_norm = scaler.transform(X_train_f)\n",
    "\n",
    "model_cv_lr = GridSearchCV(LogisticRegression(max_iter=5000, tol=1e-5, solver='saga'), hypara, verbose=1, n_jobs=-1)\n",
    "model_cv_lr.fit(X_train_f_norm, y_train_f);\n",
    "print(f\"Best CV Score: {model_cv_lr.best_score_}\")\n",
    "print(f\"Best paras: {model_cv_lr.best_params_}\")"
   ]
  },
  {
   "cell_type": "code",
   "execution_count": 26,
   "metadata": {
    "hidden": true
   },
   "outputs": [
    {
     "name": "stderr",
     "output_type": "stream",
     "text": [
      "/home/nmduy/anaconda3/envs/graph/lib/python3.7/site-packages/sklearn/linear_model/_sag.py:330: ConvergenceWarning: The max_iter was reached which means the coef_ did not converge\n",
      "  \"the coef_ did not converge\", ConvergenceWarning)\n"
     ]
    },
    {
     "data": {
      "text/plain": [
       "{'accuracy': 0.7043022493994322,\n",
       " 'precision': 0.683370288248337,\n",
       " 'recall': 0.7065566254011921,\n",
       " 'f1': 0.6947700631199278,\n",
       " 'tp': 1541,\n",
       " 'tn': 1684,\n",
       " 'fp': 714,\n",
       " 'fn': 640,\n",
       " 'auc': 0.7679525464250929}"
      ]
     },
     "execution_count": 26,
     "metadata": {},
     "output_type": "execute_result"
    }
   ],
   "source": [
    "hypara = {\n",
    "    'penalty': 'l1',\n",
    "    'C': 5,\n",
    "    'max_iter': 5000,\n",
    "    'tol': 1e-5,\n",
    "    'solver': 'saga'\n",
    "}\n",
    "\n",
    "hypara = {\n",
    "    'penalty': 'l1',\n",
    "    'C': 5,\n",
    "    'max_iter': 5000,\n",
    "    'tol': 1e-5,\n",
    "    'solver': 'saga'\n",
    "}\n",
    "\n",
    "model_lr = LogisticRegression(**hypara)\n",
    "model_lr.fit(X_train, y_train);\n",
    "validate_pred = model_lr.predict_proba(X_validate)\n",
    "validate_pred = validate_pred[:,1]\n",
    "metrics = calculate_metric(y_validate, validate_pred)\n",
    "metrics"
   ]
  },
  {
   "cell_type": "markdown",
   "metadata": {
    "heading_collapsed": true
   },
   "source": [
    "## Naive Bayes"
   ]
  },
  {
   "cell_type": "code",
   "execution_count": 28,
   "metadata": {
    "hidden": true
   },
   "outputs": [
    {
     "data": {
      "text/plain": [
       "GaussianNB()"
      ]
     },
     "execution_count": 28,
     "metadata": {},
     "output_type": "execute_result"
    }
   ],
   "source": [
    "model_nb = GaussianNB()\n",
    "model_nb.fit(X_train, y_train)"
   ]
  },
  {
   "cell_type": "code",
   "execution_count": 29,
   "metadata": {
    "hidden": true
   },
   "outputs": [
    {
     "data": {
      "text/plain": [
       "{'accuracy': 0.6440270801485041,\n",
       " 'precision': 0.5838660578386605,\n",
       " 'recall': 0.8794131132508024,\n",
       " 'f1': 0.7017929015733626,\n",
       " 'tp': 1918,\n",
       " 'tn': 1031,\n",
       " 'fp': 1367,\n",
       " 'fn': 263,\n",
       " 'auc': 0.7332316705920683}"
      ]
     },
     "execution_count": 29,
     "metadata": {},
     "output_type": "execute_result"
    }
   ],
   "source": [
    "validate_pred = model_nb.predict_proba(X_validate)\n",
    "validate_pred = validate_pred[:,1]\n",
    "metrics = calculate_metric(y_validate, validate_pred)\n",
    "metrics"
   ]
  },
  {
   "cell_type": "markdown",
   "metadata": {},
   "source": [
    "## KNN"
   ]
  },
  {
   "cell_type": "markdown",
   "metadata": {},
   "source": [
    "### Grid Search"
   ]
  },
  {
   "cell_type": "code",
   "execution_count": 31,
   "metadata": {},
   "outputs": [
    {
     "name": "stdout",
     "output_type": "stream",
     "text": [
      "Fitting 5 folds for each of 16 candidates, totalling 80 fits\n"
     ]
    },
    {
     "name": "stderr",
     "output_type": "stream",
     "text": [
      "[Parallel(n_jobs=-1)]: Using backend LokyBackend with 16 concurrent workers.\n",
      "[Parallel(n_jobs=-1)]: Done  18 tasks      | elapsed:   48.4s\n",
      "[Parallel(n_jobs=-1)]: Done  80 out of  80 | elapsed:  2.2min finished\n"
     ]
    },
    {
     "name": "stdout",
     "output_type": "stream",
     "text": [
      "Best CV Score: 0.7139550120113561\n",
      "Best paras: {'n_neighbors': 200, 'weights': 'distance'}\n"
     ]
    }
   ],
   "source": [
    "scaler = StandardScaler().fit(X_train_f)\n",
    "X_train_f_norm = scaler.transform(X_train_f)\n",
    "\n",
    "hypara = {\n",
    "    'n_neighbors': [10, 20, 50, 100, 150, 200, 300, 500],\n",
    "    'weights': ['uniform', 'distance']\n",
    "}\n",
    "\n",
    "model_cv_knn = GridSearchCV(KNeighborsClassifier(), hypara, verbose=1, n_jobs=-1)\n",
    "model_cv_knn.fit(X_train_f_norm, y_train_f);\n",
    "print(f\"Best CV Score: {model_cv_knn.best_score_}\")\n",
    "print(f\"Best paras: {model_cv_knn.best_params_}\")"
   ]
  },
  {
   "cell_type": "markdown",
   "metadata": {},
   "source": [
    "### Train Again"
   ]
  },
  {
   "cell_type": "code",
   "execution_count": 32,
   "metadata": {},
   "outputs": [
    {
     "data": {
      "text/plain": [
       "{'accuracy': 0.7147848875300284,\n",
       " 'precision': 0.6982328953330312,\n",
       " 'recall': 0.7065566254011921,\n",
       " 'f1': 0.7023701002734731,\n",
       " 'tp': 1541,\n",
       " 'tn': 1732,\n",
       " 'fp': 666,\n",
       " 'fn': 640,\n",
       " 'auc': 0.7939601968475183}"
      ]
     },
     "execution_count": 32,
     "metadata": {},
     "output_type": "execute_result"
    }
   ],
   "source": [
    "hypara = {\n",
    "    'n_neighbors': 200,\n",
    "    'weights': 'distance'\n",
    "}\n",
    "model_knn = KNeighborsClassifier(**hypara)\n",
    "model_knn.fit(X_train_norm, y_train);\n",
    "\n",
    "validate_pred = model_knn.predict_proba(X_validate_norm)\n",
    "validate_pred = validate_pred[:,1]\n",
    "metrics = calculate_metric(y_validate, validate_pred)\n",
    "metrics"
   ]
  },
  {
   "cell_type": "markdown",
   "metadata": {},
   "source": [
    "## MLP"
   ]
  },
  {
   "cell_type": "markdown",
   "metadata": {},
   "source": [
    "### GridSearch"
   ]
  },
  {
   "cell_type": "code",
   "execution_count": 34,
   "metadata": {},
   "outputs": [
    {
     "name": "stdout",
     "output_type": "stream",
     "text": [
      "Fitting 5 folds for each of 8 candidates, totalling 40 fits\n"
     ]
    },
    {
     "name": "stderr",
     "output_type": "stream",
     "text": [
      "[Parallel(n_jobs=-1)]: Using backend LokyBackend with 16 concurrent workers.\n",
      "[Parallel(n_jobs=-1)]: Done  40 out of  40 | elapsed:  1.4min finished\n"
     ]
    },
    {
     "name": "stdout",
     "output_type": "stream",
     "text": [
      "Best OOB Score: 0.7378903690762175\n",
      "Best paras: {'hidden_layer_sizes': (16,), 'learning_rate_init': 0.001}\n"
     ]
    }
   ],
   "source": [
    "hypara = {\n",
    "    'hidden_layer_sizes': [(16,), (32,), (32, 8,), (64, 8,)],\n",
    "    'learning_rate_init': [0.005, 0.001],\n",
    "    \n",
    "}\n",
    "\n",
    "model_cv_mlp = GridSearchCV(MLPClassifier(max_iter=1000), hypara, verbose=1, n_jobs=-1)\n",
    "model_cv_mlp.fit(X_train_f_norm, y_train_f);\n",
    "print(f\"Best OOB Score: {model_cv_mlp.best_score_}\")\n",
    "print(f\"Best paras: {model_cv_mlp.best_params_}\")"
   ]
  },
  {
   "cell_type": "markdown",
   "metadata": {},
   "source": [
    "### Train Again"
   ]
  },
  {
   "cell_type": "code",
   "execution_count": 35,
   "metadata": {},
   "outputs": [
    {
     "data": {
      "text/plain": [
       "{'accuracy': 0.7340030574361214,\n",
       " 'precision': 0.7137150466045273,\n",
       " 'recall': 0.7372764786795049,\n",
       " 'f1': 0.7253044654939108,\n",
       " 'tp': 1608,\n",
       " 'tn': 1753,\n",
       " 'fp': 645,\n",
       " 'fn': 573,\n",
       " 'auc': 0.8162416793147584}"
      ]
     },
     "execution_count": 35,
     "metadata": {},
     "output_type": "execute_result"
    }
   ],
   "source": [
    "hypara = {\n",
    "    'hidden_layer_sizes': (16,),\n",
    "    'learning_rate_init': 0.005,\n",
    "    'max_iter': 1000,\n",
    "    'random_state': 1509\n",
    "}\n",
    "\n",
    "hypara = {\n",
    "    'hidden_layer_sizes': (16,),\n",
    "    'learning_rate_init': 0.001,\n",
    "    'max_iter': 1000,\n",
    "    'random_state': 1509\n",
    "}\n",
    "model_mlp = MLPClassifier(**hypara)\n",
    "model_mlp.fit(X_train_norm, y_train);\n",
    "\n",
    "validate_pred = model_mlp.predict_proba(X_validate_norm)\n",
    "validate_pred = validate_pred[:,1]\n",
    "metrics = calculate_metric(y_validate, validate_pred)\n",
    "metrics"
   ]
  },
  {
   "cell_type": "markdown",
   "metadata": {},
   "source": [
    "### Implementation"
   ]
  },
  {
   "cell_type": "code",
   "execution_count": 36,
   "metadata": {},
   "outputs": [],
   "source": [
    "from deep_pytorch import *"
   ]
  },
  {
   "cell_type": "code",
   "execution_count": 39,
   "metadata": {},
   "outputs": [
    {
     "data": {
      "text/plain": [
       "(18316, 45)"
      ]
     },
     "execution_count": 39,
     "metadata": {},
     "output_type": "execute_result"
    }
   ],
   "source": [
    "X_train.shape"
   ]
  },
  {
   "cell_type": "code",
   "execution_count": 37,
   "metadata": {},
   "outputs": [],
   "source": [
    "pt_train = pd.DataFrame(np.hstack((y_train.reshape(18316, 1), X_train_norm)), columns=data_train_ft.columns.tolist())\n",
    "pt_validate = pd.DataFrame(np.hstack((y_validate.reshape(X_validate_norm.shape[0], 1), X_validate_norm)), columns=data_train_ft.columns.tolist())"
   ]
  },
  {
   "cell_type": "code",
   "execution_count": 38,
   "metadata": {},
   "outputs": [],
   "source": [
    "datasetTrain = EncodingDataset(pt_train)\n",
    "datasetVal = EncodingDataset(pt_validate)"
   ]
  },
  {
   "cell_type": "code",
   "execution_count": 42,
   "metadata": {
    "scrolled": true
   },
   "outputs": [
    {
     "name": "stdout",
     "output_type": "stream",
     "text": [
      "TRAIN FROM SCRATCH\n",
      "Training 0/99\n",
      "Total iteration: 18\n",
      "Epoch 1/100 [01122020-012346] [SAVE]\n",
      "AccVal: 0.5752347674164665\n",
      "AUCVal: 0.6574746684440915\n",
      "Precision: 0.5357142686843872\n",
      "Recall: 0.8115543127059937\n",
      "F1Val: 0.6453965172709341\n",
      "LossVal: 0.6733203172683716\n",
      "LossTrain: 0.7044986055956947\n",
      "----------\n",
      "\n",
      "Training 1/99\n",
      "Total iteration: 18\n",
      "Epoch 2/100 [01122020-012350] [SAVE]\n",
      "AccVal: 0.6398777025551431\n",
      "AUCVal: 0.7084399769179497\n",
      "Precision: 0.5996254682540894\n",
      "Recall: 0.7340669631958008\n",
      "F1Val: 0.6600700973576417\n",
      "LossVal: 0.640235435962677\n",
      "LossTrain: 0.6575232214397855\n",
      "----------\n",
      "\n",
      "Training 2/99\n",
      "Total iteration: 18\n",
      "Epoch 3/100 [01122020-012355] [SAVE]\n",
      "AccVal: 0.6721991701244814\n",
      "AUCVal: 0.7339574779380188\n",
      "Precision: 0.6420217156410217\n",
      "Recall: 0.7047225832939148\n",
      "F1Val: 0.6719125558357987\n",
      "LossVal: 0.618685519695282\n",
      "LossTrain: 0.630716817246543\n",
      "----------\n",
      "\n",
      "Training 3/99\n",
      "Total iteration: 18\n",
      "Epoch 4/100 [01122020-012400] [SAVE]\n",
      "AccVal: 0.6802795370168159\n",
      "AUCVal: 0.7473364438269856\n",
      "Precision: 0.6560731530189514\n",
      "Recall: 0.6909674406051636\n",
      "F1Val: 0.6730683091184765\n",
      "LossVal: 0.6027890563011169\n",
      "LossTrain: 0.6128025319841173\n",
      "----------\n",
      "\n",
      "Training 4/99\n",
      "Total iteration: 18\n",
      "Epoch 5/100 [01122020-012405] [SAVE]\n",
      "AccVal: 0.6831185848438524\n",
      "AUCVal: 0.7568417284922212\n",
      "Precision: 0.6598073840141296\n",
      "Recall: 0.6909674406051636\n",
      "F1Val: 0.6750280375865437\n",
      "LossVal: 0.5903160095214843\n",
      "LossTrain: 0.5978716148270501\n",
      "----------\n",
      "\n",
      "Training 5/99\n",
      "Total iteration: 18\n",
      "Epoch 6/100 [01122020-012411] [SAVE]\n",
      "AccVal: 0.6887966804979253\n",
      "AUCVal: 0.7625331785352227\n",
      "Precision: 0.6663732528686523\n",
      "Recall: 0.694176971912384\n",
      "F1Val: 0.6799910487384258\n",
      "LossVal: 0.581436014175415\n",
      "LossTrain: 0.5866834918657938\n",
      "----------\n",
      "\n",
      "Training 6/99\n",
      "Total iteration: 18\n",
      "Epoch 7/100 [01122020-012415] [SAVE]\n",
      "AccVal: 0.6951299410351606\n",
      "AUCVal: 0.766607240712209\n",
      "Precision: 0.6734423041343689\n",
      "Recall: 0.698762059211731\n",
      "F1Val: 0.6858686128795123\n",
      "LossVal: 0.5754871368408203\n",
      "LossTrain: 0.5774260958035787\n",
      "----------\n",
      "\n",
      "Training 7/99\n",
      "Total iteration: 18\n",
      "Epoch 8/100 [01122020-012420] [SAVE]\n",
      "AccVal: 0.6949115527407731\n",
      "AUCVal: 0.7701850349844495\n",
      "Precision: 0.6745324730873108\n",
      "Recall: 0.6946355104446411\n",
      "F1Val: 0.6844363788700324\n",
      "LossVal: 0.5711810350418091\n",
      "LossTrain: 0.5731024907694923\n",
      "----------\n",
      "\n",
      "Training 8/99\n",
      "Total iteration: 18\n",
      "Epoch 9/100 [01122020-012425] [SAVE]\n",
      "AccVal: 0.6951299410351606\n",
      "AUCVal: 0.7733648397965751\n",
      "Precision: 0.6746773719787598\n",
      "Recall: 0.6950939893722534\n",
      "F1Val: 0.6847335245283007\n",
      "LossVal: 0.5678072094917297\n",
      "LossTrain: 0.5670362148020003\n",
      "----------\n",
      "\n",
      "Training 9/99\n",
      "Total iteration: 18\n",
      "Epoch 10/100 [01122020-012430] [SAVE]\n",
      "AccVal: 0.7010264249836209\n",
      "AUCVal: 0.7761753356285366\n",
      "Precision: 0.6807658076286316\n",
      "Recall: 0.701054573059082\n",
      "F1Val: 0.6907612142708449\n",
      "LossVal: 0.5650619864463806\n",
      "LossTrain: 0.5636200341913435\n",
      "----------\n",
      "\n",
      "Training 10/99\n",
      "Total iteration: 18\n",
      "Epoch 11/100 [01122020-012436] [SAVE]\n",
      "AccVal: 0.7032103079274951\n",
      "AUCVal: 0.7784385123014402\n",
      "Precision: 0.6828292012214661\n",
      "Recall: 0.7038055658340454\n",
      "F1Val: 0.6931586933976035\n",
      "LossVal: 0.5629638791084289\n",
      "LossTrain: 0.5616625249385834\n",
      "----------\n",
      "\n",
      "Training 11/99\n",
      "Total iteration: 18\n",
      "Epoch 12/100 [01122020-012441] [SAVE]\n",
      "AccVal: 0.7060493557545315\n",
      "AUCVal: 0.780276453058276\n",
      "Precision: 0.6873037219047546\n",
      "Recall: 0.7024300694465637\n",
      "F1Val: 0.6947845754531174\n",
      "LossVal: 0.5614371776580811\n",
      "LossTrain: 0.5604282021522522\n",
      "----------\n",
      "\n",
      "Training 12/99\n",
      "Total iteration: 18\n",
      "Epoch 13/100 [01122020-012445] [SAVE]\n",
      "AccVal: 0.7064861323433064\n",
      "AUCVal: 0.7814163109331138\n",
      "Precision: 0.6882591247558594\n",
      "Recall: 0.7015130519866943\n",
      "F1Val: 0.6948228885929318\n",
      "LossVal: 0.5602983593940735\n",
      "LossTrain: 0.5581856568654379\n",
      "----------\n",
      "\n",
      "Training 13/99\n",
      "Total iteration: 18\n",
      "Epoch 14/100 [01122020-012450] [SAVE]\n",
      "AccVal: 0.7095435684647303\n",
      "AUCVal: 0.7828933556505709\n",
      "Precision: 0.6934970617294312\n",
      "Recall: 0.6992205381393433\n",
      "F1Val: 0.6963470394087006\n",
      "LossVal: 0.5589738130569458\n",
      "LossTrain: 0.556217653883828\n",
      "----------\n",
      "\n",
      "Training 14/99\n",
      "Total iteration: 18\n",
      "Epoch 15/100 [01122020-012455] [SAVE]\n",
      "AccVal: 0.7110722865254422\n",
      "AUCVal: 0.7840617984037592\n",
      "Precision: 0.6960694789886475\n",
      "Recall: 0.6983035206794739\n",
      "F1Val: 0.6971847399637175\n",
      "LossVal: 0.5578772068023682\n",
      "LossTrain: 0.5559842752085792\n",
      "----------\n",
      "\n",
      "Training 15/99\n",
      "Total iteration: 18\n",
      "Epoch 16/100 [01122020-012500] [SAVE]\n",
      "AccVal: 0.7108538982310548\n",
      "AUCVal: 0.7856506969930237\n",
      "Precision: 0.6953944563865662\n",
      "Recall: 0.6992205381393433\n",
      "F1Val: 0.6973022786984309\n",
      "LossVal: 0.5565212845802308\n",
      "LossTrain: 0.5548627906375461\n",
      "----------\n",
      "\n",
      "Training 16/99\n",
      "Total iteration: 18\n",
      "Epoch 17/100 [01122020-012504] [SAVE]\n",
      "AccVal: 0.7115090631142171\n",
      "AUCVal: 0.7867080506872035\n",
      "Precision: 0.6970669031143188\n",
      "Recall: 0.6973865032196045\n",
      "F1Val: 0.6972266665417769\n",
      "LossVal: 0.5556415677070617\n",
      "LossTrain: 0.5524786512056986\n",
      "----------\n",
      "\n",
      "Training 17/99\n",
      "Total iteration: 18\n",
      "Epoch 18/100 [01122020-012508] [SAVE]\n",
      "AccVal: 0.7084516269927932\n",
      "AUCVal: 0.7876968580343011\n",
      "Precision: 0.6938588619232178\n",
      "Recall: 0.694176971912384\n",
      "F1Val: 0.6940179102679066\n",
      "LossVal: 0.5546891689300537\n",
      "LossTrain: 0.5525050659974416\n",
      "----------\n",
      "\n",
      "Training 18/99\n",
      "Total iteration: 18\n",
      "Epoch 19/100 [01122020-012513] [SAVE]\n",
      "AccVal: 0.71041712164228\n",
      "AUCVal: 0.7885011542937164\n",
      "Precision: 0.6954732537269592\n",
      "Recall: 0.6973865032196045\n",
      "F1Val: 0.696428594243895\n",
      "LossVal: 0.5537473440170289\n",
      "LossTrain: 0.5505753523773618\n",
      "----------\n",
      "\n",
      "Training 19/99\n",
      "Total iteration: 18\n",
      "Epoch 20/100 [01122020-012518] [SAVE]\n",
      "AccVal: 0.7134745577637038\n",
      "AUCVal: 0.7896233258725845\n",
      "Precision: 0.6988558173179626\n",
      "Recall: 0.7001375555992126\n",
      "F1Val: 0.6994960993031896\n",
      "LossVal: 0.5528170943260193\n",
      "LossTrain: 0.5499041279157003\n",
      "----------\n",
      "\n",
      "Training 20/99\n",
      "Total iteration: 18\n",
      "Epoch 21/100 [01122020-012523] [SAVE]\n",
      "AccVal: 0.7134745577637038\n",
      "AUCVal: 0.7905293422342247\n",
      "Precision: 0.6986739635467529\n",
      "Recall: 0.700596034526825\n",
      "F1Val: 0.6996336491330221\n",
      "LossVal: 0.5519651770591736\n",
      "LossTrain: 0.5482406616210938\n",
      "----------\n",
      "\n",
      "Training 21/99\n",
      "Total iteration: 18\n",
      "Epoch 22/100 [01122020-012528] [SAVE]\n",
      "AccVal: 0.7134745577637038\n",
      "AUCVal: 0.791431821336671\n",
      "Precision: 0.6992205381393433\n",
      "Recall: 0.6992205381393433\n",
      "F1Val: 0.6992205381393433\n",
      "LossVal: 0.5510330080986023\n",
      "LossTrain: 0.5480130943987105\n",
      "----------\n",
      "\n",
      "Training 22/99\n",
      "Total iteration: 18\n",
      "Epoch 23/100 [01122020-012533] [SAVE]\n",
      "AccVal: 0.7150032758244158\n",
      "AUCVal: 0.7920251248652497\n",
      "Precision: 0.6998175382614136\n",
      "Recall: 0.7033470869064331\n",
      "F1Val: 0.7015778734349404\n",
      "LossVal: 0.5503526210784913\n",
      "LossTrain: 0.5452386074595981\n",
      "----------\n",
      "\n",
      "Training 23/99\n",
      "Total iteration: 18\n",
      "Epoch 24/100 [01122020-012537] [SAVE]\n",
      "AccVal: 0.7150032758244158\n",
      "AUCVal: 0.7924993088004331\n",
      "Precision: 0.7007332444190979\n",
      "Recall: 0.701054573059082\n",
      "F1Val: 0.7008939017126946\n",
      "LossVal: 0.5501800656318665\n",
      "LossTrain: 0.5474764770931668\n",
      "----------\n",
      "\n",
      "Training 24/99\n",
      "Total iteration: 18\n",
      "Epoch 25/100 [01122020-012542] [SAVE]\n",
      "AccVal: 0.7156584407075781\n",
      "AUCVal: 0.7930572397370725\n",
      "Precision: 0.7000455260276794\n",
      "Recall: 0.7051811218261719\n",
      "F1Val: 0.7026039097512271\n",
      "LossVal: 0.5494844555854798\n",
      "LossTrain: 0.54526577062077\n",
      "----------\n",
      "\n",
      "Training 25/99\n",
      "Total iteration: 18\n",
      "Epoch 26/100 [01122020-012547] [SAVE]\n",
      "AccVal: 0.7167503821795151\n",
      "AUCVal: 0.7937651695838539\n",
      "Precision: 0.7018265128135681\n",
      "Recall: 0.7047225832939148\n",
      "F1Val: 0.7032715665637066\n",
      "LossVal: 0.5490269064903259\n",
      "LossTrain: 0.5443416602081723\n",
      "----------\n",
      "\n",
      "Training 26/99\n",
      "Total iteration: 18\n",
      "Epoch 27/100 [01122020-012551] [SAVE]\n",
      "AccVal: 0.7156584407075781\n",
      "AUCVal: 0.7943708057188111\n",
      "Precision: 0.7022549510002136\n",
      "Recall: 0.6996790170669556\n",
      "F1Val: 0.7009646473065061\n",
      "LossVal: 0.5480701208114624\n",
      "LossTrain: 0.5440327889389462\n",
      "----------\n",
      "\n",
      "Training 27/99\n",
      "Total iteration: 18\n",
      "Epoch 28/100 [01122020-012556] [SAVE]\n",
      "AccVal: 0.7158768290019655\n",
      "AUCVal: 0.7949043582474926\n",
      "Precision: 0.7031394243240356\n",
      "Recall: 0.6983035206794739\n",
      "F1Val: 0.7007130991692356\n",
      "LossVal: 0.5476561427116394\n",
      "LossTrain: 0.5437115463945601\n",
      "----------\n",
      "\n",
      "Training 28/99\n",
      "Total iteration: 18\n",
      "Epoch 29/100 [01122020-012600] [SAVE]\n",
      "AccVal: 0.7165319938851278\n",
      "AUCVal: 0.795505883513657\n",
      "Precision: 0.7033625245094299\n",
      "Recall: 0.7001375555992126\n",
      "F1Val: 0.7017463348801574\n",
      "LossVal: 0.5470543026924133\n",
      "LossTrain: 0.5424103968673282\n",
      "----------\n",
      "\n",
      "Training 29/99\n",
      "Total iteration: 18\n",
      "Epoch 30/100 [01122020-012605] [SAVE]\n",
      "AccVal: 0.7198078183009391\n",
      "AUCVal: 0.7961368540725707\n",
      "Precision: 0.7071033120155334\n",
      "Recall: 0.7028886079788208\n",
      "F1Val: 0.7049896309639475\n",
      "LossVal: 0.5465867996215821\n",
      "LossTrain: 0.5419800082842509\n",
      "----------\n",
      "\n",
      "Training 30/99\n",
      "Total iteration: 18\n"
     ]
    },
    {
     "name": "stdout",
     "output_type": "stream",
     "text": [
      "Epoch 31/100 [01122020-012610] [SAVE]\n",
      "AccVal: 0.7195894300065516\n",
      "AUCVal: 0.7969549169623624\n",
      "Precision: 0.7079277038574219\n",
      "Recall: 0.7001375555992126\n",
      "F1Val: 0.7040110503540185\n",
      "LossVal: 0.5457238554954529\n",
      "LossTrain: 0.5430084268252054\n",
      "----------\n",
      "\n",
      "Training 31/99\n",
      "Total iteration: 18\n",
      "Epoch 32/100 [01122020-012615] [SAVE]\n",
      "AccVal: 0.7198078183009391\n",
      "AUCVal: 0.7973903822496127\n",
      "Precision: 0.7069124579429626\n",
      "Recall: 0.7033470869064331\n",
      "F1Val: 0.7051252953008986\n",
      "LossVal: 0.5452723145484925\n",
      "LossTrain: 0.5397571755780114\n",
      "----------\n",
      "\n",
      "Training 32/99\n",
      "Total iteration: 18\n",
      "Epoch 33/100 [01122020-012620] [SAVE]\n",
      "AccVal: 0.7211181480672636\n",
      "AUCVal: 0.7979355025718743\n",
      "Precision: 0.7088724374771118\n",
      "Recall: 0.7033470869064331\n",
      "F1Val: 0.7060989531431785\n",
      "LossVal: 0.5450780749320984\n",
      "LossTrain: 0.5396080613136292\n",
      "----------\n",
      "\n",
      "Training 33/99\n",
      "Total iteration: 18\n",
      "Epoch 34/100 [01122020-012624] [SAVE]\n",
      "AccVal: 0.7191526534177768\n",
      "AUCVal: 0.7983166661504181\n",
      "Precision: 0.7076566219329834\n",
      "Recall: 0.6992205381393433\n",
      "F1Val: 0.7034132873127497\n",
      "LossVal: 0.5445664286613464\n",
      "LossTrain: 0.5421131783061557\n",
      "----------\n",
      "\n",
      "Training 34/99\n",
      "Total iteration: 18\n",
      "Epoch 35/100 [01122020-012629] [SAVE]\n",
      "AccVal: 0.7180607119458398\n",
      "AUCVal: 0.7989458202789347\n",
      "Precision: 0.7056376934051514\n",
      "Recall: 0.7001375555992126\n",
      "F1Val: 0.702876834973289\n",
      "LossVal: 0.5443686008453369\n",
      "LossTrain: 0.5409230093161265\n",
      "----------\n",
      "\n",
      "Training 35/99\n",
      "Total iteration: 18\n",
      "Epoch 36/100 [01122020-012633] [SAVE]\n",
      "AccVal: 0.7174055470626775\n",
      "AUCVal: 0.7991270809122227\n",
      "Precision: 0.7039080262184143\n",
      "Recall: 0.7019715905189514\n",
      "F1Val: 0.7029384747611771\n",
      "LossVal: 0.5438157320022583\n",
      "LossTrain: 0.5379134482807584\n",
      "----------\n",
      "\n",
      "Training 36/99\n",
      "Total iteration: 18\n",
      "Epoch 37/100 [01122020-012638] [SAVE]\n",
      "AccVal: 0.7204629831841013\n",
      "AUCVal: 0.7999729638675666\n",
      "Precision: 0.7078911066055298\n",
      "Recall: 0.7033470869064331\n",
      "F1Val: 0.7056117811535833\n",
      "LossVal: 0.5432865023612976\n",
      "LossTrain: 0.5409168667263455\n",
      "----------\n",
      "\n",
      "Training 37/99\n",
      "Total iteration: 18\n",
      "Epoch 38/100 [01122020-012643] [SAVE]\n",
      "AccVal: 0.7195894300065516\n",
      "AUCVal: 0.8002766901502437\n",
      "Precision: 0.704888105392456\n",
      "Recall: 0.707473635673523\n",
      "F1Val: 0.7061785039414004\n",
      "LossVal: 0.5429636120796204\n",
      "LossTrain: 0.5387866563267178\n",
      "----------\n",
      "\n",
      "Training 38/99\n",
      "Total iteration: 18\n",
      "Epoch 39/100 [01122020-012647] [SAVE]\n",
      "AccVal: 0.7191526534177768\n",
      "AUCVal: 0.8007580442054151\n",
      "Precision: 0.7063162922859192\n",
      "Recall: 0.7024300694465637\n",
      "F1Val: 0.7043678205230429\n",
      "LossVal: 0.5423160791397095\n",
      "LossTrain: 0.5349939498636458\n",
      "----------\n",
      "\n",
      "Training 39/99\n",
      "Total iteration: 18\n",
      "Epoch 40/100 [01122020-012651] [SAVE]\n",
      "AccVal: 0.7219917012448133\n",
      "AUCVal: 0.8016421678006928\n",
      "Precision: 0.7092165946960449\n",
      "Recall: 0.7056396007537842\n",
      "F1Val: 0.7074235761043767\n",
      "LossVal: 0.5417728304862977\n",
      "LossTrain: 0.5357264313432906\n",
      "----------\n",
      "\n",
      "Training 40/99\n",
      "Total iteration: 18\n",
      "Epoch 41/100 [01122020-012656] [SAVE]\n",
      "AccVal: 0.7208997597728761\n",
      "AUCVal: 0.801941783214577\n",
      "Precision: 0.7081604599952698\n",
      "Recall: 0.7042641043663025\n",
      "F1Val: 0.7062069078806038\n",
      "LossVal: 0.5414736151695252\n",
      "LossTrain: 0.5361727078755697\n",
      "----------\n",
      "\n",
      "Training 41/99\n",
      "Total iteration: 18\n",
      "Epoch 42/100 [01122020-012701]\n",
      "AccVal: 0.7204629831841013\n",
      "AUCVal: 0.8015327995704811\n",
      "Precision: 0.7078911066055298\n",
      "Recall: 0.7033470869064331\n",
      "F1Val: 0.7056117811535833\n",
      "LossVal: 0.5415181517601013\n",
      "LossTrain: 0.537464890215132\n",
      "----------\n",
      "\n",
      "Training 42/99\n",
      "Total iteration: 18\n",
      "Epoch 43/100 [01122020-012705] [SAVE]\n",
      "AccVal: 0.7217733129504259\n",
      "AUCVal: 0.8027725611171468\n",
      "Precision: 0.7077416181564331\n",
      "Recall: 0.7083906531333923\n",
      "F1Val: 0.7080660167159252\n",
      "LossVal: 0.5407525181770325\n",
      "LossTrain: 0.53543335530493\n",
      "----------\n",
      "\n",
      "Training 43/99\n",
      "Total iteration: 18\n",
      "Epoch 44/100 [01122020-012709] [SAVE]\n",
      "AccVal: 0.7208997597728761\n",
      "AUCVal: 0.8027855629347245\n",
      "Precision: 0.7068254947662354\n",
      "Recall: 0.707473635673523\n",
      "F1Val: 0.7071494167058107\n",
      "LossVal: 0.5405042886734008\n",
      "LossTrain: 0.5353951752185822\n",
      "----------\n",
      "\n",
      "Training 44/99\n",
      "Total iteration: 18\n",
      "Epoch 45/100 [01122020-012714] [SAVE]\n",
      "AccVal: 0.7224284778335881\n",
      "AUCVal: 0.803396265954473\n",
      "Precision: 0.7106481194496155\n",
      "Recall: 0.7038055658340454\n",
      "F1Val: 0.7072102620897407\n",
      "LossVal: 0.540097963809967\n",
      "LossTrain: 0.5368019541104635\n",
      "----------\n",
      "\n",
      "Training 45/99\n",
      "Total iteration: 18\n",
      "Epoch 46/100 [01122020-012719] [SAVE]\n",
      "AccVal: 0.7241755841886874\n",
      "AUCVal: 0.8036598395652192\n",
      "Precision: 0.7105504870414734\n",
      "Recall: 0.7102246880531311\n",
      "F1Val: 0.7103875501927008\n",
      "LossVal: 0.5396703839302063\n",
      "LossTrain: 0.5352755619419945\n",
      "----------\n",
      "\n",
      "Training 46/99\n",
      "Total iteration: 18\n",
      "Epoch 47/100 [01122020-012724] [SAVE]\n",
      "AccVal: 0.7263594671325617\n",
      "AUCVal: 0.8042812499641494\n",
      "Precision: 0.714022159576416\n",
      "Recall: 0.709766149520874\n",
      "F1Val: 0.7118877934830719\n",
      "LossVal: 0.5392273664474487\n",
      "LossTrain: 0.532893654372957\n",
      "----------\n",
      "\n",
      "Training 47/99\n",
      "Total iteration: 18\n",
      "Epoch 48/100 [01122020-012728] [SAVE]\n",
      "AccVal: 0.7246123607774624\n",
      "AUCVal: 0.804541095112502\n",
      "Precision: 0.7104300260543823\n",
      "Recall: 0.7120586633682251\n",
      "F1Val: 0.711243412380692\n",
      "LossVal: 0.5388901710510254\n",
      "LossTrain: 0.5346478389369117\n",
      "----------\n",
      "\n",
      "Training 48/99\n",
      "Total iteration: 18\n",
      "Epoch 49/100 [01122020-012733] [SAVE]\n",
      "AccVal: 0.7250491373662372\n",
      "AUCVal: 0.8049061020206736\n",
      "Precision: 0.7136237025260925\n",
      "Recall: 0.7060981392860413\n",
      "F1Val: 0.7098409754137838\n",
      "LossVal: 0.5388071060180664\n",
      "LossTrain: 0.534475048383077\n",
      "----------\n",
      "\n",
      "Training 49/99\n",
      "Total iteration: 18\n",
      "Epoch 50/100 [01122020-012738] [SAVE]\n",
      "AccVal: 0.7248307490718497\n",
      "AUCVal: 0.8050524680700217\n",
      "Precision: 0.7127020955085754\n",
      "Recall: 0.707473635673523\n",
      "F1Val: 0.7100782113491255\n",
      "LossVal: 0.5384728193283081\n",
      "LossTrain: 0.532478047741784\n",
      "----------\n",
      "\n",
      "Training 50/99\n",
      "Total iteration: 18\n",
      "Epoch    51: reducing learning rate of group 0 to 5.0000e-04.\n",
      "Epoch 51/100 [01122020-012743] [SAVE]\n",
      "AccVal: 0.7250491373662372\n",
      "AUCVal: 0.8055603993699472\n",
      "Precision: 0.7103102207183838\n",
      "Recall: 0.7138926982879639\n",
      "F1Val: 0.712096953773911\n",
      "LossVal: 0.5379415154457092\n",
      "LossTrain: 0.5312492681874169\n",
      "----------\n",
      "\n",
      "Training 51/99\n",
      "Total iteration: 18\n",
      "Epoch 52/100 [01122020-012748] [SAVE]\n",
      "AccVal: 0.7239571958943001\n",
      "AUCVal: 0.8056367850482158\n",
      "Precision: 0.7098398208618164\n",
      "Recall: 0.7111417055130005\n",
      "F1Val: 0.7104901668025809\n",
      "LossVal: 0.5378692507743835\n",
      "LossTrain: 0.5324043764008416\n",
      "----------\n",
      "\n",
      "Training 52/99\n",
      "Total iteration: 18\n",
      "Epoch 53/100 [01122020-012752] [SAVE]\n",
      "AccVal: 0.725485913955012\n",
      "AUCVal: 0.8055859249971034\n",
      "Precision: 0.7119265794754028\n",
      "Recall: 0.7116001844406128\n",
      "F1Val: 0.7117633445390701\n",
      "LossVal: 0.5376075983047486\n",
      "LossTrain: 0.5314873821205564\n",
      "----------\n",
      "\n",
      "Training 53/99\n",
      "Total iteration: 18\n",
      "Epoch 54/100 [01122020-012757] [SAVE]\n",
      "AccVal: 0.7252675256606246\n",
      "AUCVal: 0.8061203379401833\n",
      "Precision: 0.7116001844406128\n",
      "Recall: 0.7116001844406128\n",
      "F1Val: 0.7116001844406128\n",
      "LossVal: 0.5371842980384827\n",
      "LossTrain: 0.5307162801424662\n",
      "----------\n",
      "\n",
      "Training 54/99\n",
      "Total iteration: 18\n",
      "Epoch 55/100 [01122020-012802] [SAVE]\n",
      "AccVal: 0.725485913955012\n",
      "AUCVal: 0.8061992092600474\n",
      "Precision: 0.7117323279380798\n",
      "Recall: 0.7120586633682251\n",
      "F1Val: 0.7118954880571438\n",
      "LossVal: 0.5370991110801697\n",
      "LossTrain: 0.5296109153164757\n",
      "----------\n",
      "\n",
      "Training 55/99\n",
      "Total iteration: 18\n",
      "Epoch 56/100 [01122020-012807] [SAVE]\n",
      "AccVal: 0.7250491373662372\n",
      "AUCVal: 0.8067056109343756\n",
      "Precision: 0.7108874917030334\n",
      "Recall: 0.7125172019004822\n",
      "F1Val: 0.7117014138431482\n",
      "LossVal: 0.5365818858146667\n",
      "LossTrain: 0.5300632450315688\n",
      "----------\n",
      "\n",
      "Training 56/99\n",
      "Total iteration: 18\n",
      "Epoch 57/100 [01122020-012811] [SAVE]\n",
      "AccVal: 0.7252675256606246\n",
      "AUCVal: 0.8071452826920187\n",
      "Precision: 0.7127708792686462\n",
      "Recall: 0.7088491320610046\n",
      "F1Val: 0.7108045963075295\n",
      "LossVal: 0.5361678242683411\n",
      "LossTrain: 0.530264769991239\n",
      "----------\n",
      "\n",
      "Training 57/99\n",
      "Total iteration: 18\n",
      "Epoch 58/100 [01122020-012816] [SAVE]\n",
      "AccVal: 0.7274514086044988\n",
      "AUCVal: 0.8073572314388537\n",
      "Precision: 0.7154734134674072\n",
      "Recall: 0.7102246880531311\n",
      "F1Val: 0.7128394189380185\n",
      "LossVal: 0.536462152004242\n",
      "LossTrain: 0.5311535331938002\n",
      "----------\n",
      "\n",
      "Training 58/99\n",
      "Total iteration: 18\n",
      "Epoch 59/100 [01122020-012823] [SAVE]\n",
      "AccVal: 0.7270146320157239\n",
      "AUCVal: 0.807524343035366\n",
      "Precision: 0.7144173383712769\n",
      "Recall: 0.7111417055130005\n",
      "F1Val: 0.712775758586749\n",
      "LossVal: 0.5358555316925049\n",
      "LossTrain: 0.5284399224652184\n",
      "----------\n",
      "\n",
      "Training 59/99\n",
      "Total iteration: 18\n",
      "Epoch 60/100 [01122020-012827] [SAVE]\n",
      "AccVal: 0.7274514086044988\n",
      "AUCVal: 0.8077312248974099\n",
      "Precision: 0.7146801948547363\n",
      "Recall: 0.7120586633682251\n",
      "F1Val: 0.7133670206723697\n",
      "LossVal: 0.5357118368148803\n",
      "LossTrain: 0.5289647777875265\n",
      "----------\n",
      "\n",
      "Training 60/99\n",
      "Total iteration: 18\n"
     ]
    },
    {
     "name": "stdout",
     "output_type": "stream",
     "text": [
      "Epoch 61/100 [01122020-012832] [SAVE]\n",
      "AccVal: 0.7274514086044988\n",
      "AUCVal: 0.8079426956362459\n",
      "Precision: 0.7135011553764343\n",
      "Recall: 0.7148097157478333\n",
      "F1Val: 0.7141548361372186\n",
      "LossVal: 0.5353394389152527\n",
      "LossTrain: 0.5295721722973717\n",
      "----------\n",
      "\n",
      "Training 61/99\n",
      "Total iteration: 18\n",
      "Epoch 62/100 [01122020-012837] [SAVE]\n",
      "AccVal: 0.7276697968988862\n",
      "AUCVal: 0.8077717599757401\n",
      "Precision: 0.7152073979377747\n",
      "Recall: 0.7116001844406128\n",
      "F1Val: 0.7133992015608557\n",
      "LossVal: 0.5355554461479187\n",
      "LossTrain: 0.529219690296385\n",
      "----------\n",
      "\n",
      "Training 62/99\n",
      "Total iteration: 18\n",
      "Epoch 63/100 [01122020-012841] [SAVE]\n",
      "AccVal: 0.7278881851932737\n",
      "AUCVal: 0.8079476669194373\n",
      "Precision: 0.714154839515686\n",
      "Recall: 0.7148097157478333\n",
      "F1Val: 0.714482097768732\n",
      "LossVal: 0.5353543996810913\n",
      "LossTrain: 0.5285996927155389\n",
      "----------\n",
      "\n",
      "Training 63/99\n",
      "Total iteration: 18\n",
      "Epoch 64/100 [01122020-012846]\n",
      "AccVal: 0.7276697968988862\n",
      "AUCVal: 0.8081134400935519\n",
      "Precision: 0.7156047821044922\n",
      "Recall: 0.7106831669807434\n",
      "F1Val: 0.7131355129682688\n",
      "LossVal: 0.5354638814926147\n",
      "LossTrain: 0.5291772981484731\n",
      "----------\n",
      "\n",
      "Training 64/99\n",
      "Total iteration: 18\n",
      "Epoch 65/100 [01122020-012850] [SAVE]\n",
      "AccVal: 0.7257043022493994\n",
      "AUCVal: 0.807901395745117\n",
      "Precision: 0.7114769220352173\n",
      "Recall: 0.7134342193603516\n",
      "F1Val: 0.7124542263989339\n",
      "LossVal: 0.5353256106376648\n",
      "LossTrain: 0.5327627857526144\n",
      "----------\n",
      "\n",
      "Training 65/99\n",
      "Total iteration: 18\n",
      "Epoch 66/100 [01122020-012855] [SAVE]\n",
      "AccVal: 0.7276697968988862\n",
      "AUCVal: 0.8084306462018057\n",
      "Precision: 0.7138278484344482\n",
      "Recall: 0.7148097157478333\n",
      "F1Val: 0.7143184744868731\n",
      "LossVal: 0.5348827362060546\n",
      "LossTrain: 0.5285312864515517\n",
      "----------\n",
      "\n",
      "Training 66/99\n",
      "Total iteration: 18\n",
      "Epoch 67/100 [01122020-012900] [SAVE]\n",
      "AccVal: 0.7281065734876611\n",
      "AUCVal: 0.808807507708357\n",
      "Precision: 0.7162661552429199\n",
      "Recall: 0.7106831669807434\n",
      "F1Val: 0.7134637690969778\n",
      "LossVal: 0.5344505071640014\n",
      "LossTrain: 0.5285426013999515\n",
      "----------\n",
      "\n",
      "Training 67/99\n",
      "Total iteration: 18\n",
      "Epoch 68/100 [01122020-012905] [SAVE]\n",
      "AccVal: 0.7289801266652107\n",
      "AUCVal: 0.8089315985849433\n",
      "Precision: 0.7161913514137268\n",
      "Recall: 0.7138926982879639\n",
      "F1Val: 0.7150402072769907\n",
      "LossVal: 0.5345289230346679\n",
      "LossTrain: 0.5301678842968411\n",
      "----------\n",
      "\n",
      "Training 68/99\n",
      "Total iteration: 18\n",
      "Epoch 69/100 [01122020-012909] [SAVE]\n",
      "AccVal: 0.729635291548373\n",
      "AUCVal: 0.8091092263574376\n",
      "Precision: 0.7175819277763367\n",
      "Recall: 0.7129756808280945\n",
      "F1Val: 0.715271388483789\n",
      "LossVal: 0.5342224717140198\n",
      "LossTrain: 0.5286332103941176\n",
      "----------\n",
      "\n",
      "Training 69/99\n",
      "Total iteration: 18\n",
      "Epoch 70/100 [01122020-012913] [SAVE]\n",
      "AccVal: 0.7287617383708234\n",
      "AUCVal: 0.8093937367185476\n",
      "Precision: 0.7152682542800903\n",
      "Recall: 0.7152682542800903\n",
      "F1Val: 0.7152682542800903\n",
      "LossVal: 0.5337438344955444\n",
      "LossTrain: 0.5283239649401771\n",
      "----------\n",
      "\n",
      "Training 70/99\n",
      "Total iteration: 18\n",
      "Epoch 71/100 [01122020-012918] [SAVE]\n",
      "AccVal: 0.7318191744922472\n",
      "AUCVal: 0.8098737523513213\n",
      "Precision: 0.719889223575592\n",
      "Recall: 0.7152682542800903\n",
      "F1Val: 0.7175712697480745\n",
      "LossVal: 0.533547580242157\n",
      "LossTrain: 0.5272395246558719\n",
      "----------\n",
      "\n",
      "Training 71/99\n",
      "Total iteration: 18\n",
      "Epoch 72/100 [01122020-012922]\n",
      "AccVal: 0.7313823979034724\n",
      "AUCVal: 0.809683983175648\n",
      "Precision: 0.7204450368881226\n",
      "Recall: 0.7125172019004822\n",
      "F1Val: 0.7164592189012894\n",
      "LossVal: 0.5337259531021118\n",
      "LossTrain: 0.5295234786139594\n",
      "----------\n",
      "\n",
      "Training 72/99\n",
      "Total iteration: 18\n",
      "Epoch 73/100 [01122020-012926] [SAVE]\n",
      "AccVal: 0.731164009609085\n",
      "AUCVal: 0.8099803481351378\n",
      "Precision: 0.7203153967857361\n",
      "Recall: 0.7120586633682251\n",
      "F1Val: 0.716163262446964\n",
      "LossVal: 0.5334213018417359\n",
      "LossTrain: 0.5297831892967224\n",
      "----------\n",
      "\n",
      "Training 73/99\n",
      "Total iteration: 18\n",
      "Epoch 74/100 [01122020-012931] [SAVE]\n",
      "AccVal: 0.732255951081022\n",
      "AUCVal: 0.8100986073141343\n",
      "Precision: 0.7191371917724609\n",
      "Recall: 0.7184777855873108\n",
      "F1Val: 0.7188073672537715\n",
      "LossVal: 0.5331621646881104\n",
      "LossTrain: 0.5276802016629113\n",
      "----------\n",
      "\n",
      "Training 74/99\n",
      "Total iteration: 18\n",
      "Epoch 75/100 [01122020-012936] [SAVE]\n",
      "AccVal: 0.7313823979034724\n",
      "AUCVal: 0.8102166752899309\n",
      "Precision: 0.7190234661102295\n",
      "Recall: 0.7157267332077026\n",
      "F1Val: 0.7173713120840155\n",
      "LossVal: 0.5329817056655883\n",
      "LossTrain: 0.5283888810210757\n",
      "----------\n",
      "\n",
      "Training 75/99\n",
      "Total iteration: 18\n",
      "Epoch 76/100 [01122020-012940] [SAVE]\n",
      "AccVal: 0.7335662808473465\n",
      "AUCVal: 0.8104178210559847\n",
      "Precision: 0.7223507761955261\n",
      "Recall: 0.7157267332077026\n",
      "F1Val: 0.7190235287381548\n",
      "LossVal: 0.5330888509750367\n",
      "LossTrain: 0.5294595195187463\n",
      "----------\n",
      "\n",
      "Training 76/99\n",
      "Total iteration: 18\n",
      "Epoch 77/100 [01122020-012945] [SAVE]\n",
      "AccVal: 0.7298536798427604\n",
      "AUCVal: 0.8105168643134142\n",
      "Precision: 0.7177121639251709\n",
      "Recall: 0.7134342193603516\n",
      "F1Val: 0.715566797883914\n",
      "LossVal: 0.5324143052101136\n",
      "LossTrain: 0.5270604325665368\n",
      "----------\n",
      "\n",
      "Training 77/99\n",
      "Total iteration: 18\n",
      "Epoch 78/100 [01122020-012950]\n",
      "AccVal: 0.7313823979034724\n",
      "AUCVal: 0.8103616073152815\n",
      "Precision: 0.7196304798126221\n",
      "Recall: 0.714351236820221\n",
      "F1Val: 0.7169811702794561\n",
      "LossVal: 0.5327226281166076\n",
      "LossTrain: 0.5272043413586087\n",
      "----------\n",
      "\n",
      "Training 78/99\n",
      "Total iteration: 18\n",
      "Epoch 79/100 [01122020-012955]\n",
      "AccVal: 0.7300720681371479\n",
      "AUCVal: 0.8105269980829968\n",
      "Precision: 0.7184466123580933\n",
      "Recall: 0.7125172019004822\n",
      "F1Val: 0.7154696522359786\n",
      "LossVal: 0.5327667355537414\n",
      "LossTrain: 0.5289744403627183\n",
      "----------\n",
      "\n",
      "Training 79/99\n",
      "Total iteration: 18\n",
      "Epoch    80: reducing learning rate of group 0 to 2.5000e-04.\n",
      "Epoch 80/100 [01122020-012959]\n",
      "AccVal: 0.7307272330203101\n",
      "AUCVal: 0.8108006098617258\n",
      "Precision: 0.7166361808776855\n",
      "Recall: 0.7189362645149231\n",
      "F1Val: 0.7177844098939671\n",
      "LossVal: 0.5325080990791321\n",
      "LossTrain: 0.527025087012185\n",
      "----------\n",
      "\n",
      "Training 80/99\n",
      "Total iteration: 18\n",
      "Epoch 81/100 [01122020-013003]\n",
      "AccVal: 0.7313823979034724\n",
      "AUCVal: 0.8107889464665458\n",
      "Precision: 0.7184198498725891\n",
      "Recall: 0.7171022295951843\n",
      "F1Val: 0.7177604350329141\n",
      "LossVal: 0.5324730515480042\n",
      "LossTrain: 0.5264284312725067\n",
      "----------\n",
      "\n",
      "Training 81/99\n",
      "Total iteration: 18\n",
      "Epoch 82/100 [01122020-013008] [SAVE]\n",
      "AccVal: 0.7318191744922472\n",
      "AUCVal: 0.8109516603894655\n",
      "Precision: 0.7192820906639099\n",
      "Recall: 0.716643750667572\n",
      "F1Val: 0.7179604968504798\n",
      "LossVal: 0.532290267944336\n",
      "LossTrain: 0.5277989341153039\n",
      "----------\n",
      "\n",
      "Training 82/99\n",
      "Total iteration: 18\n",
      "Epoch 83/100 [01122020-013013] [SAVE]\n",
      "AccVal: 0.7320375627866347\n",
      "AUCVal: 0.8110473575909009\n",
      "Precision: 0.7206290364265442\n",
      "Recall: 0.714351236820221\n",
      "F1Val: 0.7174764044597313\n",
      "LossVal: 0.5321601629257202\n",
      "LossTrain: 0.5248585475815667\n",
      "----------\n",
      "\n",
      "Training 83/99\n",
      "Total iteration: 18\n",
      "Epoch    84: reducing learning rate of group 0 to 1.2500e-04.\n",
      "Epoch 84/100 [01122020-013018] [SAVE]\n",
      "AccVal: 0.7324743393754095\n",
      "AUCVal: 0.8112781398529035\n",
      "Precision: 0.7210915684700012\n",
      "Recall: 0.7148097157478333\n",
      "F1Val: 0.7179369010272507\n",
      "LossVal: 0.5321319580078125\n",
      "LossTrain: 0.5282887948883904\n",
      "----------\n",
      "\n",
      "Training 84/99\n",
      "Total iteration: 18\n",
      "Epoch 85/100 [01122020-013023]\n",
      "AccVal: 0.7329111159641843\n",
      "AUCVal: 0.8112384651889717\n",
      "Precision: 0.7219647765159607\n",
      "Recall: 0.714351236820221\n",
      "F1Val: 0.718137827965716\n",
      "LossVal: 0.5321481704711915\n",
      "LossTrain: 0.5265096127986908\n",
      "----------\n",
      "\n",
      "Training 85/99\n",
      "Total iteration: 18\n",
      "Epoch 86/100 [01122020-013027]\n",
      "AccVal: 0.732255951081022\n",
      "AUCVal: 0.8111399955411414\n",
      "Precision: 0.7213722467422485\n",
      "Recall: 0.7134342193603516\n",
      "F1Val: 0.717381274592022\n",
      "LossVal: 0.5321791291236877\n",
      "LossTrain: 0.525816046529346\n",
      "----------\n",
      "\n",
      "Training 86/99\n",
      "Total iteration: 18\n",
      "Epoch 87/100 [01122020-013032]\n",
      "AccVal: 0.7318191744922472\n",
      "AUCVal: 0.811153570968318\n",
      "Precision: 0.7209086418151855\n",
      "Recall: 0.7129756808280945\n",
      "F1Val: 0.7169201869780428\n",
      "LossVal: 0.5321358561515808\n",
      "LossTrain: 0.524597211016549\n",
      "----------\n",
      "\n",
      "Training 87/99\n",
      "Total iteration: 18\n",
      "Epoch    88: reducing learning rate of group 0 to 1.0000e-04.\n",
      "Epoch 88/100 [01122020-013037]\n",
      "AccVal: 0.7320375627866347\n",
      "AUCVal: 0.8111479304739277\n",
      "Precision: 0.7210379838943481\n",
      "Recall: 0.7134342193603516\n",
      "F1Val: 0.7172159488370213\n",
      "LossVal: 0.5322122931480407\n",
      "LossTrain: 0.5257702635394202\n",
      "----------\n",
      "\n",
      "Training 88/99\n",
      "Total iteration: 18\n",
      "Epoch 89/100 [01122020-013041]\n",
      "AccVal: 0.7320375627866347\n",
      "AUCVal: 0.8111629399251018\n",
      "Precision: 0.7206290364265442\n",
      "Recall: 0.714351236820221\n",
      "F1Val: 0.7174764044597313\n",
      "LossVal: 0.5321325659751892\n",
      "LossTrain: 0.5279256800810496\n",
      "----------\n",
      "\n",
      "Training 89/99\n",
      "Total iteration: 18\n"
     ]
    },
    {
     "name": "stdout",
     "output_type": "stream",
     "text": [
      "Epoch 90/100 [01122020-013046]\n",
      "AccVal: 0.732255951081022\n",
      "AUCVal: 0.8111103590451925\n",
      "Precision: 0.7205542922019958\n",
      "Recall: 0.7152682542800903\n",
      "F1Val: 0.7179015726633347\n",
      "LossVal: 0.5321386933326722\n",
      "LossTrain: 0.5265155732631683\n",
      "----------\n",
      "\n",
      "Training 90/99\n",
      "Total iteration: 18\n",
      "Epoch 91/100 [01122020-013051] [SAVE]\n",
      "AccVal: 0.7316007861978598\n",
      "AUCVal: 0.8111791921970739\n",
      "Precision: 0.720370352268219\n",
      "Recall: 0.7134342193603516\n",
      "F1Val: 0.7168855385945978\n",
      "LossVal: 0.5320783376693725\n",
      "LossTrain: 0.5249438881874084\n",
      "----------\n",
      "\n",
      "Training 91/99\n",
      "Total iteration: 18\n",
      "Epoch 92/100 [01122020-013055] [SAVE]\n",
      "AccVal: 0.7320375627866347\n",
      "AUCVal: 0.8111925764210508\n",
      "Precision: 0.7210379838943481\n",
      "Recall: 0.7134342193603516\n",
      "F1Val: 0.7172159488370213\n",
      "LossVal: 0.532046127319336\n",
      "LossTrain: 0.5259524683157603\n",
      "----------\n",
      "\n",
      "Training 92/99\n",
      "Total iteration: 18\n",
      "Epoch 93/100 [01122020-013100]\n",
      "AccVal: 0.732255951081022\n",
      "AUCVal: 0.8111006076820092\n",
      "Precision: 0.7213722467422485\n",
      "Recall: 0.7134342193603516\n",
      "F1Val: 0.717381274592022\n",
      "LossVal: 0.5321161627769471\n",
      "LossTrain: 0.5264389548036787\n",
      "----------\n",
      "\n",
      "Training 93/99\n",
      "Total iteration: 18\n",
      "Epoch 94/100 [01122020-013104]\n",
      "AccVal: 0.7324743393754095\n",
      "AUCVal: 0.8111369362899467\n",
      "Precision: 0.7217068672180176\n",
      "Recall: 0.7134342193603516\n",
      "F1Val: 0.7175467000924365\n",
      "LossVal: 0.5320979237556458\n",
      "LossTrain: 0.52617789639367\n",
      "----------\n",
      "\n",
      "Training 94/99\n",
      "Total iteration: 18\n",
      "Epoch 95/100 [01122020-013109] [SAVE]\n",
      "AccVal: 0.7335662808473465\n",
      "AUCVal: 0.8112493637713529\n",
      "Precision: 0.7225567102432251\n",
      "Recall: 0.7152682542800903\n",
      "F1Val: 0.7188940093627871\n",
      "LossVal: 0.5320155501365662\n",
      "LossTrain: 0.5253430075115628\n",
      "----------\n",
      "\n",
      "Training 95/99\n",
      "Total iteration: 18\n",
      "Epoch 96/100 [01122020-013114] [SAVE]\n",
      "AccVal: 0.7331295042585717\n",
      "AUCVal: 0.8113097839824491\n",
      "Precision: 0.72188800573349\n",
      "Recall: 0.7152682542800903\n",
      "F1Val: 0.7185629140378843\n",
      "LossVal: 0.5319302082061768\n",
      "LossTrain: 0.5261274145709144\n",
      "----------\n",
      "\n",
      "Training 96/99\n",
      "Total iteration: 18\n",
      "Epoch 97/100 [01122020-013118] [SAVE]\n",
      "AccVal: 0.7333478925529592\n",
      "AUCVal: 0.8113132256400432\n",
      "Precision: 0.7222222089767456\n",
      "Recall: 0.7152682542800903\n",
      "F1Val: 0.7187284115217254\n",
      "LossVal: 0.5319125294685364\n",
      "LossTrain: 0.5264556540383233\n",
      "----------\n",
      "\n",
      "Training 97/99\n",
      "Total iteration: 18\n",
      "Epoch 98/100 [01122020-013123] [SAVE]\n",
      "AccVal: 0.7331295042585717\n",
      "AUCVal: 0.8113398028847973\n",
      "Precision: 0.7214780449867249\n",
      "Recall: 0.7161852121353149\n",
      "F1Val: 0.7188218558379234\n",
      "LossVal: 0.5318539023399353\n",
      "LossTrain: 0.5284614264965057\n",
      "----------\n",
      "\n",
      "Training 98/99\n",
      "Total iteration: 18\n",
      "Epoch 99/100 [01122020-013128]\n",
      "AccVal: 0.7320375627866347\n",
      "AUCVal: 0.811398119860697\n",
      "Precision: 0.7206290364265442\n",
      "Recall: 0.714351236820221\n",
      "F1Val: 0.7174764044597313\n",
      "LossVal: 0.5318631410598755\n",
      "LossTrain: 0.524773915608724\n",
      "----------\n",
      "\n",
      "Training 99/99\n",
      "Total iteration: 18\n",
      "Epoch 100/100 [01122020-013133] [SAVE]\n",
      "AccVal: 0.7324743393754095\n",
      "AUCVal: 0.811473071514968\n",
      "Precision: 0.7208872437477112\n",
      "Recall: 0.7152682542800903\n",
      "F1Val: 0.718066727003086\n",
      "LossVal: 0.5317999243736267\n",
      "LossTrain: 0.5278856274154451\n",
      "----------\n",
      "\n"
     ]
    }
   ],
   "source": [
    "model_mlp = ModelMLP(datasetTrain=datasetTrain, datasetVal=datasetVal, batch_size=1024, optimizer_choice='adam', \n",
    "                     init_lr=0.001, layers=[45, 16, 1], dropout=0.25, batchnorm=True, checkpoint=None)\n",
    "model_mlp.train()"
   ]
  },
  {
   "cell_type": "code",
   "execution_count": null,
   "metadata": {},
   "outputs": [],
   "source": []
  }
 ],
 "metadata": {
  "kernelspec": {
   "display_name": "Python 3",
   "language": "python",
   "name": "python3"
  },
  "language_info": {
   "codemirror_mode": {
    "name": "ipython",
    "version": 3
   },
   "file_extension": ".py",
   "mimetype": "text/x-python",
   "name": "python",
   "nbconvert_exporter": "python",
   "pygments_lexer": "ipython3",
   "version": "3.7.9"
  }
 },
 "nbformat": 4,
 "nbformat_minor": 4
}
