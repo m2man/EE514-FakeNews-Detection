{
 "cells": [
  {
   "cell_type": "markdown",
   "metadata": {},
   "source": [
    "# FakeNews Data Exploration and Analysis\n",
    "Explor the data to find any interesting insight appearing in the data"
   ]
  },
  {
   "cell_type": "code",
   "execution_count": 2,
   "metadata": {},
   "outputs": [],
   "source": [
    "from myfunctions import *"
   ]
  },
  {
   "cell_type": "markdown",
   "metadata": {
    "heading_collapsed": true
   },
   "source": [
    "## Helper Function"
   ]
  },
  {
   "cell_type": "code",
   "execution_count": 67,
   "metadata": {
    "hidden": true
   },
   "outputs": [],
   "source": [
    "def count_word(s):\n",
    "    ss = s.split()\n",
    "    return len(ss)\n",
    "\n",
    "def remove_symbol(s):\n",
    "    for sym in discard_symbol:\n",
    "        s = s.replace(sym, '')\n",
    "    return s\n",
    "    \n",
    "def split_dataframe(data, test_size=0.2, validate_size=0.2, seed=1509):\n",
    "    X = np.asarray(data['headline'].tolist())\n",
    "    y = np.asarray(data['is_sarcastic'].tolist())\n",
    "    \n",
    "    splitter=StratifiedShuffleSplit(n_splits=1,random_state=seed, test_size=0.2)\n",
    "    for train_idx, test_idx in splitter.split(X,y):\n",
    "        X_train = X[train_idx]\n",
    "        y_train = y[train_idx]\n",
    "        X_test = X[test_idx]\n",
    "        y_test = y[test_idx]\n",
    "    \n",
    "    validate_size = validate_size / (1 - test_size)\n",
    "\n",
    "    splitter=StratifiedShuffleSplit(n_splits=1,random_state=seed-2, test_size=validate_size)\n",
    "    for train_idx, validate_idx in splitter.split(X_train,y_train):\n",
    "        X_validate = X_train[validate_idx]\n",
    "        y_validate = y_train[validate_idx]\n",
    "        X_train = X_train[train_idx]\n",
    "        y_train = y_train[train_idx]\n",
    "        \n",
    "    dt = {'is_sarcastic': list(y_train),\n",
    "          'headline': list(X_train)}\n",
    "    df_train = pd.DataFrame(dt, columns = ['is_sarcastic', 'headline'])\n",
    "\n",
    "    dt = {'is_sarcastic': list(y_validate),\n",
    "          'headline': list(X_validate)}\n",
    "    df_validate = pd.DataFrame(dt, columns = ['is_sarcastic', 'headline'])\n",
    "\n",
    "    dt = {'is_sarcastic': list(y_test),\n",
    "          'headline': list(X_test)}\n",
    "    df_test = pd.DataFrame(dt, columns = ['is_sarcastic', 'headline'])\n",
    "    \n",
    "    return df_train, df_validate, df_test\n",
    "\n",
    "def lemmatize_word(w, pos='v'):\n",
    "    w_list = w.split()\n",
    "    result = [lemmatizer.lemmatize(x, pos=pos) for x in w_list]\n",
    "    result = ' '.join(result)\n",
    "    return result\n",
    "\n",
    "def remove_stop_words(sent):\n",
    "    list_words = sent.split()\n",
    "    list_avai = [x for x in list_words if x not in list_stopwords]\n",
    "    return ' '.join(list_avai)\n",
    "\n",
    "def count_lemmatized_word(df, col1='headline', col2='lemmatized'):\n",
    "    list_headline = list(df[col1])\n",
    "    list_lemmatized = list(df[col2])\n",
    "    result = []\n",
    "    for head, lem in zip(list_headline, list_lemmatized):\n",
    "        head_s = head.split()\n",
    "        lem_s = lem.split()\n",
    "        count = 0\n",
    "        for h, l in zip(head_s, lem_s):\n",
    "            if h != l:\n",
    "                count += 1\n",
    "        result.append(count)\n",
    "    return result\n",
    "\n",
    "def count_capitalized(sent):\n",
    "    list_word = sent.split()\n",
    "    count = 0\n",
    "    for word in list_word:\n",
    "        if word.isupper():\n",
    "            count += 1\n",
    "    return count\n",
    "\n",
    "def min_len_word(sent):\n",
    "    list_word = sent.split()\n",
    "    min_len = 9999\n",
    "    for word in list_word:\n",
    "        lenw = len(word)\n",
    "        if lenw < min_len:\n",
    "            min_len = lenw\n",
    "    return min_len\n",
    "\n",
    "def max_len_word(sent):\n",
    "    list_word = sent.split()\n",
    "    max_len = -1\n",
    "    for word in list_word:\n",
    "        lenw = len(word)\n",
    "        if lenw > max_len:\n",
    "            max_len = lenw\n",
    "    return max_len\n",
    "\n",
    "def avg_len_word(sent):\n",
    "    list_word = sent.split()\n",
    "    sum_len = 0\n",
    "    for word in list_word:\n",
    "        lenw = len(word)\n",
    "        sum_len += lenw\n",
    "    sum_len /= len(list_word)\n",
    "    return sum_len\n",
    "\n",
    "def has_Number(inputString):\n",
    "    return bool(re.search(r'\\d', inputString))\n",
    "\n",
    "def count_syllable(sent):\n",
    "    # Count number of syllable of entire sentence\n",
    "    return textstat.syllable_count(sent)\n",
    "\n",
    "def min_syl_word(sent):\n",
    "    list_word = sent.split()\n",
    "    min_syl = 9999\n",
    "    for word in list_word:\n",
    "        sylw = textstat.syllable_count(word)\n",
    "        if sylw < min_syl:\n",
    "            min_syl = sylw\n",
    "    return min_syl\n",
    "\n",
    "def max_syl_word(sent):\n",
    "    list_word = sent.split()\n",
    "    max_len = -1\n",
    "    for word in list_word:\n",
    "        lenw = textstat.syllable_count(word)\n",
    "        if lenw > max_len:\n",
    "            max_len = lenw\n",
    "    return max_len\n",
    "\n",
    "def avg_syl_word(sent):\n",
    "    list_word = sent.split()\n",
    "    sum_len = 0\n",
    "    for word in list_word:\n",
    "        lenw = textstat.syllable_count(word)\n",
    "        sum_len += lenw\n",
    "    sum_len /= len(list_word)\n",
    "    return sum_len\n",
    "\n",
    "def count_lexicon(sent):\n",
    "    # Count number of syllable of entire sentence\n",
    "    return textstat.lexicon_count(sent, removepunct=True)"
   ]
  },
  {
   "cell_type": "markdown",
   "metadata": {
    "heading_collapsed": true
   },
   "source": [
    "## POS Function"
   ]
  },
  {
   "cell_type": "code",
   "execution_count": 122,
   "metadata": {
    "hidden": true
   },
   "outputs": [],
   "source": [
    "def count_noun(sent):\n",
    "    text = word_tokenize(sent)\n",
    "    tag = nltk.pos_tag(text)\n",
    "    count = 0\n",
    "    for word, pos in tag:\n",
    "        if 'NN' in pos:\n",
    "            count += 1\n",
    "    return count\n",
    "\n",
    "def count_verb_past(sent):\n",
    "    text = word_tokenize(sent)\n",
    "    tag = nltk.pos_tag(text)\n",
    "    count = 0\n",
    "    for word, pos in tag:\n",
    "        if pos in ['VBD', 'VBN']:\n",
    "            count += 1\n",
    "    return count\n",
    "\n",
    "def count_verb_present(sent):\n",
    "    text = word_tokenize(sent)\n",
    "    tag = nltk.pos_tag(text)\n",
    "    count = 0\n",
    "    for word, pos in tag:\n",
    "        if pos in ['VBZ', 'VBP', 'VB']:\n",
    "            count += 1\n",
    "    return count\n",
    "\n",
    "def count_verb_ing(sent):\n",
    "    text = word_tokenize(sent)\n",
    "    tag = nltk.pos_tag(text)\n",
    "    count = 0\n",
    "    for word, pos in tag:\n",
    "        if pos in ['VBG']:\n",
    "            count += 1\n",
    "    return count\n",
    "\n",
    "def count_adj(sent):\n",
    "    text = word_tokenize(sent)\n",
    "    tag = nltk.pos_tag(text)\n",
    "    count = 0\n",
    "    for word, pos in tag:\n",
    "        if pos in ['JJ', 'JJR', 'JJS', 'IN']:\n",
    "            count += 1\n",
    "    return count\n",
    "\n",
    "def count_adv(sent):\n",
    "    text = word_tokenize(sent)\n",
    "    tag = nltk.pos_tag(text)\n",
    "    count = 0\n",
    "    for word, pos in tag:\n",
    "        if pos in ['RB', 'RBR', 'RBS']:\n",
    "            count += 1\n",
    "    return count\n",
    "\n",
    "def count_DT(sent):\n",
    "    text = word_tokenize(sent)\n",
    "    tag = nltk.pos_tag(text)\n",
    "    count = 0\n",
    "    for word, pos in tag:\n",
    "        if pos in ['DT']:\n",
    "            count += 1\n",
    "    return count\n",
    "\n",
    "def count_CD(sent):\n",
    "    text = word_tokenize(sent)\n",
    "    tag = nltk.pos_tag(text)\n",
    "    count = 0\n",
    "    for word, pos in tag:\n",
    "        if pos in ['CD']:\n",
    "            count += 1\n",
    "    return count\n",
    "\n",
    "def count_pronoun(sent):\n",
    "    text = word_tokenize(sent)\n",
    "    tag = nltk.pos_tag(text)\n",
    "    count = 0\n",
    "    for word, pos in tag:\n",
    "        if pos in ['PRP', 'PRP$']:\n",
    "            count += 1\n",
    "    return count\n",
    "\n",
    "def get_depth_syntax_tree(sent):\n",
    "    tagged = pos_tag(word_tokenize(sent))\n",
    "    tree = chunker.parse(tagged) \n",
    "    tree_sent = f\"{tree}\"\n",
    "    t = nltk.Tree.fromstring(tree_sent)\n",
    "    depth = t.height()\n",
    "    return depth"
   ]
  },
  {
   "cell_type": "markdown",
   "metadata": {
    "heading_collapsed": true
   },
   "source": [
    "## Traning Model Function"
   ]
  },
  {
   "cell_type": "code",
   "execution_count": 3,
   "metadata": {
    "hidden": true
   },
   "outputs": [],
   "source": [
    "def extract_feature_basic(data_input):\n",
    "    '''\n",
    "    Input: data is the dataframe with only is_sarcastic and headline column\n",
    "    Output: data with full features (except headline column)\n",
    "    '''\n",
    "    data = data_input.copy()\n",
    "    data['len_headline'] = data.headline.apply(lambda row: count_word(row)) # count words in title\n",
    "    data['headline_s1'] = data.headline.apply(lambda row: remove_symbol(row))\n",
    "    data['len_headline_s1'] = data.headline_s1.apply(lambda row: count_word(row))\n",
    "    data['count_symbol'] = data.len_headline - data.len_headline_s1\n",
    "    data['contain_symbol'] = data.count_symbol.apply(lambda row: 1 if row > 0 else 0)\n",
    "    data['ratio_symbol'] = 1 - data.len_headline_s1/data.len_headline\n",
    "    data['headline_s2'] = data.headline_s1.apply(lambda row: lemmatize_word(row, 'v'))\n",
    "    data['headline_s2'] = data.headline_s2.apply(lambda row: lemmatize_word(row, 'n'))\n",
    "    data['len_headline_s2'] = data.headline_s2.apply(lambda row: count_word(row))\n",
    "    data['count_lemmatized'] = count_lemmatized_word(data, 'headline_s1', 'headline_s2')\n",
    "    data['ratio_lemmatized'] = data['count_lemmatized'] / data['len_headline_s1']\n",
    "    data['headline_s3'] = data.headline_s2.apply(lambda row: remove_stop_words(row))\n",
    "    data['len_headline_s3'] = data.headline_s3.apply(lambda row: count_word(row))\n",
    "    data['numb_stopwords'] = data['len_headline_s2'] - data['len_headline_s3']\n",
    "    data['ratio_stopwords'] = data['numb_stopwords'] / data['len_headline_s2']\n",
    "    data['min_len_word'] = data.headline_s1.apply(lambda row: min_len_word(row))\n",
    "    data['max_len_word'] = data.headline_s1.apply(lambda row: max_len_word(row))\n",
    "    data['avg_len_word'] = data.headline_s1.apply(lambda row: avg_len_word(row))\n",
    "    data['has_number'] = data.headline.apply(lambda row: 1 if has_Number(row) else 0)\n",
    "    data['min_syl_word'] = data.headline_s1.apply(lambda row: min_syl_word(row))\n",
    "    data['max_syl_word'] = data.headline_s1.apply(lambda row: max_syl_word(row))\n",
    "    data['avg_syl_word'] = data.headline_s1.apply(lambda row: avg_syl_word(row))\n",
    "    data['numb_syl'] = data.headline_s1.apply(lambda row: count_syllable(row))\n",
    "    data['norm_numb_syl'] = data.numb_syl / data.len_headline_s1\n",
    "    data['numb_lex'] = data.headline_s1.apply(lambda row: count_lexicon(row))\n",
    "    data['norm_numb_lex'] = data.numb_lex / data.len_headline_s1\n",
    "    data['flesch_reading_score'] = data.headline.apply(lambda row: textstat.flesch_reading_ease(row))\n",
    "    data['flesch_grade_score'] = data.headline.apply(lambda row: textstat.flesch_kincaid_grade(row))\n",
    "    data['fog_score'] = data.headline.apply(lambda row: textstat.gunning_fog(row))\n",
    "    data['smog_score'] = data.headline.apply(lambda row: textstat.smog_index(row))\n",
    "    data['ari_score'] = data.headline.apply(lambda row: textstat.automated_readability_index(row))\n",
    "    data['coleman_score'] = data.headline.apply(lambda row: textstat.coleman_liau_index(row))\n",
    "    data['linsear_score'] = data.headline.apply(lambda row: textstat.linsear_write_formula(row))\n",
    "    data['dale_score'] = data.headline.apply(lambda row: textstat.dale_chall_readability_score(row))\n",
    "    data['standard_score'] = data.headline.apply(lambda row: textstat.text_standard(row, float_output=True))\n",
    "    data['numb_NN'] = data.headline.apply(lambda row: count_noun(row))\n",
    "    data['numb_VED'] = data.headline.apply(lambda row: count_verb_past(row))\n",
    "    data['numb_VB'] = data.headline.apply(lambda row: count_verb_present(row))\n",
    "    data['numb_VING'] = data.headline.apply(lambda row: count_verb_ing(row))\n",
    "    data['numb_ADJ'] = data.headline.apply(lambda row: count_adj(row))\n",
    "    data['numb_ADV'] = data.headline.apply(lambda row: count_adv(row))\n",
    "    data['numb_DT'] = data.headline.apply(lambda row: count_DT(row))\n",
    "    data['numb_CD'] = data.headline.apply(lambda row: count_CD(row))\n",
    "    data['numb_PR'] = data.headline.apply(lambda row: count_pronoun(row))\n",
    "    data['norm_numb_NN'] = data['numb_NN'] / data['len_headline']\n",
    "    data['norm_numb_VED'] = data['numb_VED'] / data['len_headline']\n",
    "    data['norm_numb_VB'] = data['numb_VB'] / data['len_headline']\n",
    "    data['norm_numb_VING'] = data['numb_VING'] / data['len_headline']\n",
    "    data['norm_numb_ADJ'] = data['numb_ADJ'] / data['len_headline']\n",
    "    data['norm_numb_ADV'] = data['numb_ADV'] / data['len_headline']\n",
    "    data['norm_numb_DT'] = data['numb_DT'] / data['len_headline']\n",
    "    data['norm_numb_CD'] = data['numb_CD'] / data['len_headline']\n",
    "    data['norm_numb_PR'] = data['numb_PR'] / data['len_headline']\n",
    "    data['depth_syntree'] = data.headline_s1.apply(lambda row: get_depth_syntax_tree(row))\n",
    "    data['norm_depth_syntree'] = data['depth_syntree'] / data.len_headline_s1\n",
    "\n",
    "    data_ft = data.drop(columns=['headline', 'headline_s1', 'headline_s2', 'headline_s3'])\n",
    "    \n",
    "    return data_ft"
   ]
  },
  {
   "cell_type": "code",
   "execution_count": 4,
   "metadata": {
    "hidden": true
   },
   "outputs": [
    {
     "name": "stderr",
     "output_type": "stream",
     "text": [
      "/home/nmduy/anaconda3/envs/graph/lib/python3.7/site-packages/sklearn/utils/deprecation.py:143: FutureWarning: The sklearn.metrics.ranking module is  deprecated in version 0.22 and will be removed in version 0.24. The corresponding classes / functions should instead be imported from sklearn.metrics. Anything that cannot be imported from sklearn.metrics is now part of the private API.\n",
      "  warnings.warn(message, FutureWarning)\n"
     ]
    }
   ],
   "source": [
    "from sklearn.metrics.ranking import roc_auc_score\n",
    "\n",
    "def calculate_metric(gtnp, pdnp):\n",
    "    # input are numpy vector\n",
    "    o_pdnp = np.copy(pdnp) # this is for AUROC score\n",
    "    pdnp[pdnp>=0.5] = 1\n",
    "    pdnp[pdnp!=1] = 0\n",
    "    total_samples = len(gtnp)\n",
    "    #print(f\"Total sample: {total_samples}\")\n",
    "    total_correct = np.sum(gtnp == pdnp)\n",
    "    accuracy = total_correct / total_samples\n",
    "    gt_pos = np.where(gtnp == 1)[0]\n",
    "    gt_neg = np.where(gtnp == 0)[0]\n",
    "    TP = np.sum(pdnp[gt_pos])\n",
    "    TN = np.sum(1 - pdnp[gt_neg])\n",
    "    FP = np.sum(pdnp[gt_neg])\n",
    "    FN = np.sum(1 - pdnp[gt_pos])\n",
    "    precision = TP / (TP+FP)\n",
    "    recall = TP/(TP+FN)\n",
    "    f1 = 2*precision*recall/(precision+recall)\n",
    "    metrics = {}\n",
    "    metrics['accuracy'] = accuracy\n",
    "    metrics['precision'] = precision\n",
    "    metrics['recall'] = recall\n",
    "    metrics['f1'] = f1\n",
    "    metrics['tp'] = int(TP)\n",
    "    metrics['tn'] = int(TN)\n",
    "    metrics['fp'] = int(FP)\n",
    "    metrics['fn'] = int(FN)\n",
    "    try:\n",
    "        metrics['auc'] = roc_auc_score(gtnp, o_pdnp)\n",
    "    except Exception as e:\n",
    "        print(e)\n",
    "        metrics['auc'] = -1\n",
    "    return metrics"
   ]
  },
  {
   "cell_type": "markdown",
   "metadata": {},
   "source": [
    "## Read Data"
   ]
  },
  {
   "cell_type": "code",
   "execution_count": 5,
   "metadata": {},
   "outputs": [],
   "source": [
    "data_full = pd.read_json('fake_news.json', lines=True)\n",
    "data_full = data_full.drop(columns=['article_link']) # remove link column\n",
    "df_train_f, df_test = split_dataframe(data_full, test_size=0.25, seed=1509)\n",
    "df_train, df_validate = split_dataframe(df_train_f, test_size=0.2, seed=1309)\n",
    "\n",
    "# Proportion of each subsets\n",
    "list_label = df_train['is_sarcastic'].tolist()\n",
    "numb_total = len(list_label)\n",
    "numb_sarcastic = np.sum(np.asarray(list_label))\n",
    "numb_not_sarcastic = numb_total - numb_sarcastic\n",
    "print(f'===== TRAINING SAMPLES =====\\nTotal Sample: {numb_total}\\nSarcastic: {numb_sarcastic} ({np.round(numb_sarcastic/numb_total*100,2)}%)\\nNot Sarcastic: {numb_not_sarcastic} ({np.round(numb_not_sarcastic/numb_total*100,2)}%)')\n",
    "\n",
    "list_label = df_validate['is_sarcastic'].tolist()\n",
    "numb_total = len(list_label)\n",
    "numb_sarcastic = np.sum(np.asarray(list_label))\n",
    "numb_not_sarcastic = numb_total - numb_sarcastic\n",
    "print(f'===== VALIDATING SAMPLES =====\\nTotal Sample: {numb_total}\\nSarcastic: {numb_sarcastic} ({np.round(numb_sarcastic/numb_total*100,2)}%)\\nNot Sarcastic: {numb_not_sarcastic} ({np.round(numb_not_sarcastic/numb_total*100,2)}%)')\n",
    "\n",
    "list_label = df_test['is_sarcastic'].tolist()\n",
    "numb_total = len(list_label)\n",
    "numb_sarcastic = np.sum(np.asarray(list_label))\n",
    "numb_not_sarcastic = numb_total - numb_sarcastic\n",
    "print(f'===== TESTING SAMPLES =====\\nTotal Sample: {numb_total}\\nSarcastic: {numb_sarcastic} ({np.round(numb_sarcastic/numb_total*100,2)}%)\\nNot Sarcastic: {numb_not_sarcastic} ({np.round(numb_not_sarcastic/numb_total*100,2)}%)')"
   ]
  },
  {
   "cell_type": "code",
   "execution_count": 6,
   "metadata": {},
   "outputs": [
    {
     "data": {
      "text/html": [
       "<div>\n",
       "<style scoped>\n",
       "    .dataframe tbody tr th:only-of-type {\n",
       "        vertical-align: middle;\n",
       "    }\n",
       "\n",
       "    .dataframe tbody tr th {\n",
       "        vertical-align: top;\n",
       "    }\n",
       "\n",
       "    .dataframe thead th {\n",
       "        text-align: right;\n",
       "    }\n",
       "</style>\n",
       "<table border=\"1\" class=\"dataframe\">\n",
       "  <thead>\n",
       "    <tr style=\"text-align: right;\">\n",
       "      <th></th>\n",
       "      <th>is_sarcastic</th>\n",
       "      <th>headline</th>\n",
       "    </tr>\n",
       "  </thead>\n",
       "  <tbody>\n",
       "    <tr>\n",
       "      <th>0</th>\n",
       "      <td>1</td>\n",
       "      <td>thirtysomething scientists unveil doomsday clo...</td>\n",
       "    </tr>\n",
       "    <tr>\n",
       "      <th>1</th>\n",
       "      <td>0</td>\n",
       "      <td>dem rep. totally nails why congress is falling...</td>\n",
       "    </tr>\n",
       "    <tr>\n",
       "      <th>2</th>\n",
       "      <td>0</td>\n",
       "      <td>eat your veggies: 9 deliciously different recipes</td>\n",
       "    </tr>\n",
       "    <tr>\n",
       "      <th>3</th>\n",
       "      <td>1</td>\n",
       "      <td>inclement weather prevents liar from getting t...</td>\n",
       "    </tr>\n",
       "    <tr>\n",
       "      <th>4</th>\n",
       "      <td>1</td>\n",
       "      <td>mother comes pretty close to using word 'strea...</td>\n",
       "    </tr>\n",
       "  </tbody>\n",
       "</table>\n",
       "</div>"
      ],
      "text/plain": [
       "   is_sarcastic                                           headline\n",
       "0             1  thirtysomething scientists unveil doomsday clo...\n",
       "1             0  dem rep. totally nails why congress is falling...\n",
       "2             0  eat your veggies: 9 deliciously different recipes\n",
       "3             1  inclement weather prevents liar from getting t...\n",
       "4             1  mother comes pretty close to using word 'strea..."
      ]
     },
     "execution_count": 6,
     "metadata": {},
     "output_type": "execute_result"
    }
   ],
   "source": [
    "data_full.head()"
   ]
  },
  {
   "cell_type": "markdown",
   "metadata": {},
   "source": [
    "## Split Data"
   ]
  },
  {
   "cell_type": "code",
   "execution_count": 7,
   "metadata": {},
   "outputs": [
    {
     "ename": "NameError",
     "evalue": "name 'StratifiedShuffleSplit' is not defined",
     "output_type": "error",
     "traceback": [
      "\u001b[0;31m---------------------------------------------------------------------------\u001b[0m",
      "\u001b[0;31mNameError\u001b[0m                                 Traceback (most recent call last)",
      "\u001b[0;32m<ipython-input-7-4907b7d08289>\u001b[0m in \u001b[0;36m<module>\u001b[0;34m\u001b[0m\n\u001b[0;32m----> 1\u001b[0;31m \u001b[0mdf_train\u001b[0m\u001b[0;34m,\u001b[0m \u001b[0mdf_validate\u001b[0m\u001b[0;34m,\u001b[0m \u001b[0mdf_test\u001b[0m \u001b[0;34m=\u001b[0m \u001b[0msplit_dataframe\u001b[0m\u001b[0;34m(\u001b[0m\u001b[0mdata_full\u001b[0m\u001b[0;34m,\u001b[0m \u001b[0mtest_size\u001b[0m\u001b[0;34m=\u001b[0m\u001b[0;36m0.25\u001b[0m\u001b[0;34m,\u001b[0m \u001b[0mvalidate_size\u001b[0m\u001b[0;34m=\u001b[0m\u001b[0;36m0.15\u001b[0m\u001b[0;34m,\u001b[0m \u001b[0mseed\u001b[0m\u001b[0;34m=\u001b[0m\u001b[0;36m1509\u001b[0m\u001b[0;34m)\u001b[0m\u001b[0;34m\u001b[0m\u001b[0;34m\u001b[0m\u001b[0m\n\u001b[0m",
      "\u001b[0;32m~/EE514_FakeNews/myfunctions.py\u001b[0m in \u001b[0;36msplit_dataframe\u001b[0;34m(data, test_size, validate_size, seed)\u001b[0m\n\u001b[1;32m     32\u001b[0m     \u001b[0my\u001b[0m \u001b[0;34m=\u001b[0m \u001b[0mnp\u001b[0m\u001b[0;34m.\u001b[0m\u001b[0masarray\u001b[0m\u001b[0;34m(\u001b[0m\u001b[0mdata\u001b[0m\u001b[0;34m[\u001b[0m\u001b[0;34m'is_sarcastic'\u001b[0m\u001b[0;34m]\u001b[0m\u001b[0;34m.\u001b[0m\u001b[0mtolist\u001b[0m\u001b[0;34m(\u001b[0m\u001b[0;34m)\u001b[0m\u001b[0;34m)\u001b[0m\u001b[0;34m\u001b[0m\u001b[0;34m\u001b[0m\u001b[0m\n\u001b[1;32m     33\u001b[0m \u001b[0;34m\u001b[0m\u001b[0m\n\u001b[0;32m---> 34\u001b[0;31m     \u001b[0msplitter\u001b[0m\u001b[0;34m=\u001b[0m\u001b[0mStratifiedShuffleSplit\u001b[0m\u001b[0;34m(\u001b[0m\u001b[0mn_splits\u001b[0m\u001b[0;34m=\u001b[0m\u001b[0;36m1\u001b[0m\u001b[0;34m,\u001b[0m\u001b[0mrandom_state\u001b[0m\u001b[0;34m=\u001b[0m\u001b[0mseed\u001b[0m\u001b[0;34m,\u001b[0m \u001b[0mtest_size\u001b[0m\u001b[0;34m=\u001b[0m\u001b[0;36m0.2\u001b[0m\u001b[0;34m)\u001b[0m\u001b[0;34m\u001b[0m\u001b[0;34m\u001b[0m\u001b[0m\n\u001b[0m\u001b[1;32m     35\u001b[0m     \u001b[0;32mfor\u001b[0m \u001b[0mtrain_idx\u001b[0m\u001b[0;34m,\u001b[0m \u001b[0mtest_idx\u001b[0m \u001b[0;32min\u001b[0m \u001b[0msplitter\u001b[0m\u001b[0;34m.\u001b[0m\u001b[0msplit\u001b[0m\u001b[0;34m(\u001b[0m\u001b[0mX\u001b[0m\u001b[0;34m,\u001b[0m\u001b[0my\u001b[0m\u001b[0;34m)\u001b[0m\u001b[0;34m:\u001b[0m\u001b[0;34m\u001b[0m\u001b[0;34m\u001b[0m\u001b[0m\n\u001b[1;32m     36\u001b[0m         \u001b[0mX_train\u001b[0m \u001b[0;34m=\u001b[0m \u001b[0mX\u001b[0m\u001b[0;34m[\u001b[0m\u001b[0mtrain_idx\u001b[0m\u001b[0;34m]\u001b[0m\u001b[0;34m\u001b[0m\u001b[0;34m\u001b[0m\u001b[0m\n",
      "\u001b[0;31mNameError\u001b[0m: name 'StratifiedShuffleSplit' is not defined"
     ]
    }
   ],
   "source": [
    "df_train, df_validate, df_test = split_dataframe_3_subsets(data_full, test_size=0.25, validate_size=0.15, seed=1509)"
   ]
  },
  {
   "cell_type": "code",
   "execution_count": 8,
   "metadata": {},
   "outputs": [
    {
     "ename": "NameError",
     "evalue": "name 'df_train' is not defined",
     "output_type": "error",
     "traceback": [
      "\u001b[0;31m---------------------------------------------------------------------------\u001b[0m",
      "\u001b[0;31mNameError\u001b[0m                                 Traceback (most recent call last)",
      "\u001b[0;32m<ipython-input-8-ae4c411233fc>\u001b[0m in \u001b[0;36m<module>\u001b[0;34m\u001b[0m\n\u001b[0;32m----> 1\u001b[0;31m \u001b[0mdf_train\u001b[0m\u001b[0;34m.\u001b[0m\u001b[0mhead\u001b[0m\u001b[0;34m(\u001b[0m\u001b[0;34m)\u001b[0m\u001b[0;34m\u001b[0m\u001b[0;34m\u001b[0m\u001b[0m\n\u001b[0m",
      "\u001b[0;31mNameError\u001b[0m: name 'df_train' is not defined"
     ]
    }
   ],
   "source": [
    "df_train.head()"
   ]
  },
  {
   "cell_type": "code",
   "execution_count": 9,
   "metadata": {},
   "outputs": [
    {
     "ename": "NameError",
     "evalue": "name 'df_train' is not defined",
     "output_type": "error",
     "traceback": [
      "\u001b[0;31m---------------------------------------------------------------------------\u001b[0m",
      "\u001b[0;31mNameError\u001b[0m                                 Traceback (most recent call last)",
      "\u001b[0;32m<ipython-input-9-54cf2638cd64>\u001b[0m in \u001b[0;36m<module>\u001b[0;34m\u001b[0m\n\u001b[0;32m----> 1\u001b[0;31m \u001b[0mdata\u001b[0m \u001b[0;34m=\u001b[0m \u001b[0mdf_train\u001b[0m\u001b[0;34m\u001b[0m\u001b[0;34m\u001b[0m\u001b[0m\n\u001b[0m",
      "\u001b[0;31mNameError\u001b[0m: name 'df_train' is not defined"
     ]
    }
   ],
   "source": [
    "data = df_train"
   ]
  },
  {
   "cell_type": "markdown",
   "metadata": {
    "heading_collapsed": true
   },
   "source": [
    "## Proportion of Each Class"
   ]
  },
  {
   "cell_type": "code",
   "execution_count": 8,
   "metadata": {
    "hidden": true
   },
   "outputs": [
    {
     "name": "stdout",
     "output_type": "stream",
     "text": [
      "===== TRAINING SAMPLES =====\n",
      "Total Sample: 18316\n",
      "Sarcastic: 8726 (47.64%)\n",
      "Not Sarcastic: 9590 (52.36%)\n"
     ]
    }
   ],
   "source": [
    "list_label = data['is_sarcastic'].tolist()\n",
    "numb_total = len(list_label)\n",
    "numb_sarcastic = np.sum(np.asarray(list_label))\n",
    "numb_not_sarcastic = numb_total - numb_sarcastic\n",
    "print(f'===== TRAINING SAMPLES =====\\nTotal Sample: {numb_total}\\nSarcastic: {numb_sarcastic} ({np.round(numb_sarcastic/numb_total*100,2)}%)\\nNot Sarcastic: {numb_not_sarcastic} ({np.round(numb_not_sarcastic/numb_total*100,2)}%)')"
   ]
  },
  {
   "cell_type": "code",
   "execution_count": 9,
   "metadata": {
    "hidden": true
   },
   "outputs": [
    {
     "name": "stdout",
     "output_type": "stream",
     "text": [
      "===== VALIDATING SAMPLES =====\n",
      "Total Sample: 4579\n",
      "Sarcastic: 2181 (47.63%)\n",
      "Not Sarcastic: 2398 (52.37%)\n"
     ]
    }
   ],
   "source": [
    "list_label = df_validate['is_sarcastic'].tolist()\n",
    "numb_total = len(list_label)\n",
    "numb_sarcastic = np.sum(np.asarray(list_label))\n",
    "numb_not_sarcastic = numb_total - numb_sarcastic\n",
    "print(f'===== VALIDATING SAMPLES =====\\nTotal Sample: {numb_total}\\nSarcastic: {numb_sarcastic} ({np.round(numb_sarcastic/numb_total*100,2)}%)\\nNot Sarcastic: {numb_not_sarcastic} ({np.round(numb_not_sarcastic/numb_total*100,2)}%)')"
   ]
  },
  {
   "cell_type": "code",
   "execution_count": 10,
   "metadata": {
    "hidden": true
   },
   "outputs": [
    {
     "name": "stdout",
     "output_type": "stream",
     "text": [
      "===== TESTING SAMPLES =====\n",
      "Total Sample: 5724\n",
      "Sarcastic: 2727 (47.64%)\n",
      "Not Sarcastic: 2997 (52.36%)\n"
     ]
    }
   ],
   "source": [
    "list_label = df_test['is_sarcastic'].tolist()\n",
    "numb_total = len(list_label)\n",
    "numb_sarcastic = np.sum(np.asarray(list_label))\n",
    "numb_not_sarcastic = numb_total - numb_sarcastic\n",
    "print(f'===== TESTING SAMPLES =====\\nTotal Sample: {numb_total}\\nSarcastic: {numb_sarcastic} ({np.round(numb_sarcastic/numb_total*100,2)}%)\\nNot Sarcastic: {numb_not_sarcastic} ({np.round(numb_not_sarcastic/numb_total*100,2)}%)')"
   ]
  },
  {
   "cell_type": "markdown",
   "metadata": {
    "heading_collapsed": true
   },
   "source": [
    "## Len of each Title"
   ]
  },
  {
   "cell_type": "code",
   "execution_count": 11,
   "metadata": {
    "hidden": true
   },
   "outputs": [],
   "source": [
    "data['len_headline'] = data.headline.apply(lambda row: count_word(row)) # count words in title"
   ]
  },
  {
   "cell_type": "code",
   "execution_count": 12,
   "metadata": {
    "hidden": true
   },
   "outputs": [
    {
     "data": {
      "text/html": [
       "<div>\n",
       "<style scoped>\n",
       "    .dataframe tbody tr th:only-of-type {\n",
       "        vertical-align: middle;\n",
       "    }\n",
       "\n",
       "    .dataframe tbody tr th {\n",
       "        vertical-align: top;\n",
       "    }\n",
       "\n",
       "    .dataframe thead th {\n",
       "        text-align: right;\n",
       "    }\n",
       "</style>\n",
       "<table border=\"1\" class=\"dataframe\">\n",
       "  <thead>\n",
       "    <tr style=\"text-align: right;\">\n",
       "      <th></th>\n",
       "      <th>is_sarcastic</th>\n",
       "      <th>headline</th>\n",
       "      <th>len_headline</th>\n",
       "    </tr>\n",
       "  </thead>\n",
       "  <tbody>\n",
       "    <tr>\n",
       "      <th>0</th>\n",
       "      <td>0</td>\n",
       "      <td>the 3 keys to building immediate rapport in a ...</td>\n",
       "      <td>11</td>\n",
       "    </tr>\n",
       "    <tr>\n",
       "      <th>1</th>\n",
       "      <td>0</td>\n",
       "      <td>chipotle is making big changes but nobody real...</td>\n",
       "      <td>9</td>\n",
       "    </tr>\n",
       "    <tr>\n",
       "      <th>2</th>\n",
       "      <td>1</td>\n",
       "      <td>highway billboard urges 75-mile detour</td>\n",
       "      <td>5</td>\n",
       "    </tr>\n",
       "    <tr>\n",
       "      <th>3</th>\n",
       "      <td>1</td>\n",
       "      <td>raytheon ceo sends obama another article about...</td>\n",
       "      <td>11</td>\n",
       "    </tr>\n",
       "    <tr>\n",
       "      <th>4</th>\n",
       "      <td>1</td>\n",
       "      <td>mcdonnell-douglas unveils new 'gay-dar'</td>\n",
       "      <td>4</td>\n",
       "    </tr>\n",
       "  </tbody>\n",
       "</table>\n",
       "</div>"
      ],
      "text/plain": [
       "   is_sarcastic                                           headline  \\\n",
       "0             0  the 3 keys to building immediate rapport in a ...   \n",
       "1             0  chipotle is making big changes but nobody real...   \n",
       "2             1             highway billboard urges 75-mile detour   \n",
       "3             1  raytheon ceo sends obama another article about...   \n",
       "4             1            mcdonnell-douglas unveils new 'gay-dar'   \n",
       "\n",
       "   len_headline  \n",
       "0            11  \n",
       "1             9  \n",
       "2             5  \n",
       "3            11  \n",
       "4             4  "
      ]
     },
     "execution_count": 12,
     "metadata": {},
     "output_type": "execute_result"
    }
   ],
   "source": [
    "data.head()"
   ]
  },
  {
   "cell_type": "code",
   "execution_count": 13,
   "metadata": {
    "hidden": true
   },
   "outputs": [
    {
     "data": {
      "image/png": "[encoded data removed]",
      "text/plain": [
       "<Figure size 432x288 with 1 Axes>"
      ]
     },
     "metadata": {
      "needs_background": "light"
     },
     "output_type": "display_data"
    }
   ],
   "source": [
    "ax = sns.boxplot(y=\"is_sarcastic\", x=\"len_headline\", data=data, orient=\"h\")"
   ]
  },
  {
   "cell_type": "code",
   "execution_count": 14,
   "metadata": {
    "hidden": true
   },
   "outputs": [
    {
     "data": {
      "text/html": [
       "<div>\n",
       "<style scoped>\n",
       "    .dataframe tbody tr th:only-of-type {\n",
       "        vertical-align: middle;\n",
       "    }\n",
       "\n",
       "    .dataframe tbody tr th {\n",
       "        vertical-align: top;\n",
       "    }\n",
       "\n",
       "    .dataframe thead th {\n",
       "        text-align: right;\n",
       "    }\n",
       "</style>\n",
       "<table border=\"1\" class=\"dataframe\">\n",
       "  <thead>\n",
       "    <tr style=\"text-align: right;\">\n",
       "      <th></th>\n",
       "      <th>is_sarcastic</th>\n",
       "      <th>count</th>\n",
       "      <th>mean</th>\n",
       "      <th>std</th>\n",
       "      <th>min</th>\n",
       "      <th>25%</th>\n",
       "      <th>50%</th>\n",
       "      <th>75%</th>\n",
       "      <th>max</th>\n",
       "    </tr>\n",
       "  </thead>\n",
       "  <tbody>\n",
       "    <tr>\n",
       "      <th>0</th>\n",
       "      <td>0</td>\n",
       "      <td>9590.0</td>\n",
       "      <td>9.818040</td>\n",
       "      <td>2.882000</td>\n",
       "      <td>2.0</td>\n",
       "      <td>8.0</td>\n",
       "      <td>10.0</td>\n",
       "      <td>12.0</td>\n",
       "      <td>38.0</td>\n",
       "    </tr>\n",
       "    <tr>\n",
       "      <th>1</th>\n",
       "      <td>1</td>\n",
       "      <td>8726.0</td>\n",
       "      <td>10.291772</td>\n",
       "      <td>3.950803</td>\n",
       "      <td>2.0</td>\n",
       "      <td>8.0</td>\n",
       "      <td>10.0</td>\n",
       "      <td>13.0</td>\n",
       "      <td>151.0</td>\n",
       "    </tr>\n",
       "  </tbody>\n",
       "</table>\n",
       "</div>"
      ],
      "text/plain": [
       "   is_sarcastic   count       mean       std  min  25%   50%   75%    max\n",
       "0             0  9590.0   9.818040  2.882000  2.0  8.0  10.0  12.0   38.0\n",
       "1             1  8726.0  10.291772  3.950803  2.0  8.0  10.0  13.0  151.0"
      ]
     },
     "execution_count": 14,
     "metadata": {},
     "output_type": "execute_result"
    }
   ],
   "source": [
    "data_temp = data.groupby(['is_sarcastic'])['len_headline'].describe().reset_index()\n",
    "data_temp"
   ]
  },
  {
   "cell_type": "code",
   "execution_count": 15,
   "metadata": {
    "hidden": true
   },
   "outputs": [
    {
     "data": {
      "text/plain": [
       "0.0687617153511716"
      ]
     },
     "execution_count": 15,
     "metadata": {},
     "output_type": "execute_result"
    }
   ],
   "source": [
    "data['len_headline'].corr(data['is_sarcastic'])"
   ]
  },
  {
   "cell_type": "markdown",
   "metadata": {
    "hidden": true
   },
   "source": [
    "It seems like both classes have similar distribution and but ```sarcastic``` titles are slightly longer than normal."
   ]
  },
  {
   "cell_type": "markdown",
   "metadata": {
    "heading_collapsed": true
   },
   "source": [
    "## Step 1: Discard Symbol (Not useful)"
   ]
  },
  {
   "cell_type": "code",
   "execution_count": 16,
   "metadata": {
    "hidden": true
   },
   "outputs": [
    {
     "data": {
      "text/html": [
       "<div>\n",
       "<style scoped>\n",
       "    .dataframe tbody tr th:only-of-type {\n",
       "        vertical-align: middle;\n",
       "    }\n",
       "\n",
       "    .dataframe tbody tr th {\n",
       "        vertical-align: top;\n",
       "    }\n",
       "\n",
       "    .dataframe thead th {\n",
       "        text-align: right;\n",
       "    }\n",
       "</style>\n",
       "<table border=\"1\" class=\"dataframe\">\n",
       "  <thead>\n",
       "    <tr style=\"text-align: right;\">\n",
       "      <th></th>\n",
       "      <th>is_sarcastic</th>\n",
       "      <th>headline</th>\n",
       "      <th>len_headline</th>\n",
       "      <th>headline_s1</th>\n",
       "      <th>len_headline_s1</th>\n",
       "      <th>count_symbol</th>\n",
       "    </tr>\n",
       "  </thead>\n",
       "  <tbody>\n",
       "    <tr>\n",
       "      <th>0</th>\n",
       "      <td>0</td>\n",
       "      <td>the 3 keys to building immediate rapport in a ...</td>\n",
       "      <td>11</td>\n",
       "      <td>the 3 keys to building immediate rapport in a ...</td>\n",
       "      <td>11</td>\n",
       "      <td>0</td>\n",
       "    </tr>\n",
       "    <tr>\n",
       "      <th>1</th>\n",
       "      <td>0</td>\n",
       "      <td>chipotle is making big changes but nobody real...</td>\n",
       "      <td>9</td>\n",
       "      <td>chipotle is making big changes but nobody real...</td>\n",
       "      <td>9</td>\n",
       "      <td>0</td>\n",
       "    </tr>\n",
       "    <tr>\n",
       "      <th>2</th>\n",
       "      <td>1</td>\n",
       "      <td>highway billboard urges 75-mile detour</td>\n",
       "      <td>5</td>\n",
       "      <td>highway billboard urges 75mile detour</td>\n",
       "      <td>5</td>\n",
       "      <td>0</td>\n",
       "    </tr>\n",
       "    <tr>\n",
       "      <th>3</th>\n",
       "      <td>1</td>\n",
       "      <td>raytheon ceo sends obama another article about...</td>\n",
       "      <td>11</td>\n",
       "      <td>raytheon ceo sends obama another article about...</td>\n",
       "      <td>11</td>\n",
       "      <td>0</td>\n",
       "    </tr>\n",
       "    <tr>\n",
       "      <th>4</th>\n",
       "      <td>1</td>\n",
       "      <td>mcdonnell-douglas unveils new 'gay-dar'</td>\n",
       "      <td>4</td>\n",
       "      <td>mcdonnelldouglas unveils new gaydar</td>\n",
       "      <td>4</td>\n",
       "      <td>0</td>\n",
       "    </tr>\n",
       "  </tbody>\n",
       "</table>\n",
       "</div>"
      ],
      "text/plain": [
       "   is_sarcastic                                           headline  \\\n",
       "0             0  the 3 keys to building immediate rapport in a ...   \n",
       "1             0  chipotle is making big changes but nobody real...   \n",
       "2             1             highway billboard urges 75-mile detour   \n",
       "3             1  raytheon ceo sends obama another article about...   \n",
       "4             1            mcdonnell-douglas unveils new 'gay-dar'   \n",
       "\n",
       "   len_headline                                        headline_s1  \\\n",
       "0            11  the 3 keys to building immediate rapport in a ...   \n",
       "1             9  chipotle is making big changes but nobody real...   \n",
       "2             5              highway billboard urges 75mile detour   \n",
       "3            11  raytheon ceo sends obama another article about...   \n",
       "4             4                mcdonnelldouglas unveils new gaydar   \n",
       "\n",
       "   len_headline_s1  count_symbol  \n",
       "0               11             0  \n",
       "1                9             0  \n",
       "2                5             0  \n",
       "3               11             0  \n",
       "4                4             0  "
      ]
     },
     "execution_count": 16,
     "metadata": {},
     "output_type": "execute_result"
    }
   ],
   "source": [
    "data['headline_s1'] = data.headline.apply(lambda row: remove_symbol(row))\n",
    "data['len_headline_s1'] = data.headline_s1.apply(lambda row: count_word(row))\n",
    "data['count_symbol'] = data.len_headline - data.len_headline_s1\n",
    "data.head()"
   ]
  },
  {
   "cell_type": "code",
   "execution_count": 17,
   "metadata": {
    "hidden": true
   },
   "outputs": [
    {
     "data": {
      "text/html": [
       "<div>\n",
       "<style scoped>\n",
       "    .dataframe tbody tr th:only-of-type {\n",
       "        vertical-align: middle;\n",
       "    }\n",
       "\n",
       "    .dataframe tbody tr th {\n",
       "        vertical-align: top;\n",
       "    }\n",
       "\n",
       "    .dataframe thead th {\n",
       "        text-align: right;\n",
       "    }\n",
       "</style>\n",
       "<table border=\"1\" class=\"dataframe\">\n",
       "  <thead>\n",
       "    <tr style=\"text-align: right;\">\n",
       "      <th></th>\n",
       "      <th>is_sarcastic</th>\n",
       "      <th>count</th>\n",
       "      <th>mean</th>\n",
       "      <th>std</th>\n",
       "      <th>min</th>\n",
       "      <th>25%</th>\n",
       "      <th>50%</th>\n",
       "      <th>75%</th>\n",
       "      <th>max</th>\n",
       "    </tr>\n",
       "  </thead>\n",
       "  <tbody>\n",
       "    <tr>\n",
       "      <th>0</th>\n",
       "      <td>0</td>\n",
       "      <td>9590.0</td>\n",
       "      <td>0.020334</td>\n",
       "      <td>0.143346</td>\n",
       "      <td>0.0</td>\n",
       "      <td>0.0</td>\n",
       "      <td>0.0</td>\n",
       "      <td>0.0</td>\n",
       "      <td>3.0</td>\n",
       "    </tr>\n",
       "    <tr>\n",
       "      <th>1</th>\n",
       "      <td>1</td>\n",
       "      <td>8726.0</td>\n",
       "      <td>0.003553</td>\n",
       "      <td>0.059501</td>\n",
       "      <td>0.0</td>\n",
       "      <td>0.0</td>\n",
       "      <td>0.0</td>\n",
       "      <td>0.0</td>\n",
       "      <td>1.0</td>\n",
       "    </tr>\n",
       "  </tbody>\n",
       "</table>\n",
       "</div>"
      ],
      "text/plain": [
       "   is_sarcastic   count      mean       std  min  25%  50%  75%  max\n",
       "0             0  9590.0  0.020334  0.143346  0.0  0.0  0.0  0.0  3.0\n",
       "1             1  8726.0  0.003553  0.059501  0.0  0.0  0.0  0.0  1.0"
      ]
     },
     "execution_count": 17,
     "metadata": {},
     "output_type": "execute_result"
    }
   ],
   "source": [
    "data_temp = data.groupby(['is_sarcastic'])['count_symbol'].describe().reset_index()\n",
    "data_temp"
   ]
  },
  {
   "cell_type": "code",
   "execution_count": 18,
   "metadata": {
    "hidden": true
   },
   "outputs": [
    {
     "data": {
      "text/plain": [
       "is_sarcastic  count_symbol\n",
       "0             0               9397\n",
       "              1                192\n",
       "              3                  1\n",
       "1             0               8695\n",
       "              1                 31\n",
       "Name: count_symbol, dtype: int64"
      ]
     },
     "execution_count": 18,
     "metadata": {},
     "output_type": "execute_result"
    }
   ],
   "source": [
    "data.groupby(['is_sarcastic'])['count_symbol'].value_counts()"
   ]
  },
  {
   "cell_type": "code",
   "execution_count": 19,
   "metadata": {
    "hidden": true
   },
   "outputs": [
    {
     "data": {
      "text/plain": [
       "(0.020131242353464574, 0.003667481662591687)"
      ]
     },
     "execution_count": 19,
     "metadata": {},
     "output_type": "execute_result"
    }
   ],
   "source": [
    "(181/(8810+181), 30/(8150+30)) # sarcastic use fewer symbols"
   ]
  },
  {
   "cell_type": "code",
   "execution_count": 20,
   "metadata": {
    "hidden": true
   },
   "outputs": [],
   "source": [
    "data['contain_symbol'] = data.count_symbol.apply(lambda row: 1 if row > 0 else 0)\n",
    "data['ratio_symbol'] = 1 - data.len_headline_s1/data.len_headline\n",
    "data = data.drop(columns=['count_symbol', 'contain_symbol']) # seem like count symbol not helpful"
   ]
  },
  {
   "cell_type": "code",
   "execution_count": 21,
   "metadata": {
    "hidden": true
   },
   "outputs": [
    {
     "data": {
      "text/html": [
       "<div>\n",
       "<style scoped>\n",
       "    .dataframe tbody tr th:only-of-type {\n",
       "        vertical-align: middle;\n",
       "    }\n",
       "\n",
       "    .dataframe tbody tr th {\n",
       "        vertical-align: top;\n",
       "    }\n",
       "\n",
       "    .dataframe thead th {\n",
       "        text-align: right;\n",
       "    }\n",
       "</style>\n",
       "<table border=\"1\" class=\"dataframe\">\n",
       "  <thead>\n",
       "    <tr style=\"text-align: right;\">\n",
       "      <th></th>\n",
       "      <th>count</th>\n",
       "      <th>mean</th>\n",
       "      <th>std</th>\n",
       "      <th>min</th>\n",
       "      <th>25%</th>\n",
       "      <th>50%</th>\n",
       "      <th>75%</th>\n",
       "      <th>max</th>\n",
       "    </tr>\n",
       "    <tr>\n",
       "      <th>is_sarcastic</th>\n",
       "      <th></th>\n",
       "      <th></th>\n",
       "      <th></th>\n",
       "      <th></th>\n",
       "      <th></th>\n",
       "      <th></th>\n",
       "      <th></th>\n",
       "      <th></th>\n",
       "    </tr>\n",
       "  </thead>\n",
       "  <tbody>\n",
       "    <tr>\n",
       "      <th>0</th>\n",
       "      <td>9590.0</td>\n",
       "      <td>0.002036</td>\n",
       "      <td>0.015528</td>\n",
       "      <td>0.0</td>\n",
       "      <td>0.0</td>\n",
       "      <td>0.0</td>\n",
       "      <td>0.0</td>\n",
       "      <td>0.375000</td>\n",
       "    </tr>\n",
       "    <tr>\n",
       "      <th>1</th>\n",
       "      <td>8726.0</td>\n",
       "      <td>0.000323</td>\n",
       "      <td>0.005646</td>\n",
       "      <td>0.0</td>\n",
       "      <td>0.0</td>\n",
       "      <td>0.0</td>\n",
       "      <td>0.0</td>\n",
       "      <td>0.166667</td>\n",
       "    </tr>\n",
       "  </tbody>\n",
       "</table>\n",
       "</div>"
      ],
      "text/plain": [
       "               count      mean       std  min  25%  50%  75%       max\n",
       "is_sarcastic                                                          \n",
       "0             9590.0  0.002036  0.015528  0.0  0.0  0.0  0.0  0.375000\n",
       "1             8726.0  0.000323  0.005646  0.0  0.0  0.0  0.0  0.166667"
      ]
     },
     "execution_count": 21,
     "metadata": {},
     "output_type": "execute_result"
    }
   ],
   "source": [
    "data.groupby(['is_sarcastic'])['ratio_symbol'].describe()"
   ]
  },
  {
   "cell_type": "code",
   "execution_count": 22,
   "metadata": {
    "hidden": true
   },
   "outputs": [
    {
     "name": "stderr",
     "output_type": "stream",
     "text": [
      "/home/nmduy/anaconda3/envs/graph/lib/python3.7/site-packages/seaborn/distributions.py:2551: FutureWarning: `distplot` is a deprecated function and will be removed in a future version. Please adapt your code to use either `displot` (a figure-level function with similar flexibility) or `kdeplot` (an axes-level function for kernel density plots).\n",
      "  warnings.warn(msg, FutureWarning)\n",
      "/home/nmduy/anaconda3/envs/graph/lib/python3.7/site-packages/seaborn/distributions.py:2551: FutureWarning: `distplot` is a deprecated function and will be removed in a future version. Please adapt your code to use either `displot` (a figure-level function with similar flexibility) or `kdeplot` (an axes-level function for kernel density plots).\n",
      "  warnings.warn(msg, FutureWarning)\n"
     ]
    },
    {
     "data": {
      "text/plain": [
       "Text(0, 0.5, 'Density')"
      ]
     },
     "execution_count": 22,
     "metadata": {},
     "output_type": "execute_result"
    },
    {
     "data": {
      "image/png": "[encoded data removed]",
      "text/plain": [
       "<Figure size 432x288 with 1 Axes>"
      ]
     },
     "metadata": {
      "needs_background": "light"
     },
     "output_type": "display_data"
    }
   ],
   "source": [
    "df = data[data.is_sarcastic == 1]\n",
    "sns.distplot(df['ratio_symbol'], hist = False, kde = True, label='sarcastic')\n",
    "df = data[data.is_sarcastic == 0]\n",
    "sns.distplot(df['ratio_symbol'], hist = False, kde = True, label='normal')\n",
    "# Plot formatting\n",
    "plt.legend(prop={'size': 12})\n",
    "plt.title('Ratio of symbol between 2 classes')\n",
    "plt.xlabel('Ratio')\n",
    "plt.ylabel('Density')  "
   ]
  },
  {
   "cell_type": "code",
   "execution_count": 23,
   "metadata": {
    "hidden": true
   },
   "outputs": [
    {
     "data": {
      "text/plain": [
       "-0.07175478409753633"
      ]
     },
     "execution_count": 23,
     "metadata": {},
     "output_type": "execute_result"
    }
   ],
   "source": [
    "data['ratio_symbol'].corr(data['is_sarcastic'])"
   ]
  },
  {
   "cell_type": "markdown",
   "metadata": {
    "heading_collapsed": true
   },
   "source": [
    "## Step 2: Lemmatized headline (Not useful)"
   ]
  },
  {
   "cell_type": "code",
   "execution_count": 24,
   "metadata": {
    "hidden": true
   },
   "outputs": [],
   "source": [
    "data['headline_s2'] = data.headline_s1.apply(lambda row: lemmatize_word(row, 'v'))\n",
    "data['headline_s2'] = data.headline_s2.apply(lambda row: lemmatize_word(row, 'n'))\n",
    "data['len_headline_s2'] = data.headline_s2.apply(lambda row: count_word(row))"
   ]
  },
  {
   "cell_type": "code",
   "execution_count": 25,
   "metadata": {
    "hidden": true
   },
   "outputs": [],
   "source": [
    "count_lemmatized = count_lemmatized_word(data, 'headline_s1', 'headline_s2')"
   ]
  },
  {
   "cell_type": "code",
   "execution_count": 26,
   "metadata": {
    "hidden": true
   },
   "outputs": [],
   "source": [
    "data['count_lemmatized'] = count_lemmatized"
   ]
  },
  {
   "cell_type": "code",
   "execution_count": 27,
   "metadata": {
    "hidden": true
   },
   "outputs": [],
   "source": [
    "data['ratio_lemmatized'] = data['count_lemmatized'] / data['len_headline_s1']"
   ]
  },
  {
   "cell_type": "code",
   "execution_count": 28,
   "metadata": {
    "hidden": true
   },
   "outputs": [
    {
     "data": {
      "text/html": [
       "<div>\n",
       "<style scoped>\n",
       "    .dataframe tbody tr th:only-of-type {\n",
       "        vertical-align: middle;\n",
       "    }\n",
       "\n",
       "    .dataframe tbody tr th {\n",
       "        vertical-align: top;\n",
       "    }\n",
       "\n",
       "    .dataframe thead th {\n",
       "        text-align: right;\n",
       "    }\n",
       "</style>\n",
       "<table border=\"1\" class=\"dataframe\">\n",
       "  <thead>\n",
       "    <tr style=\"text-align: right;\">\n",
       "      <th></th>\n",
       "      <th>is_sarcastic</th>\n",
       "      <th>headline</th>\n",
       "      <th>len_headline</th>\n",
       "      <th>headline_s1</th>\n",
       "      <th>len_headline_s1</th>\n",
       "      <th>ratio_symbol</th>\n",
       "      <th>headline_s2</th>\n",
       "      <th>len_headline_s2</th>\n",
       "      <th>count_lemmatized</th>\n",
       "      <th>ratio_lemmatized</th>\n",
       "    </tr>\n",
       "  </thead>\n",
       "  <tbody>\n",
       "    <tr>\n",
       "      <th>0</th>\n",
       "      <td>0</td>\n",
       "      <td>the 3 keys to building immediate rapport in a ...</td>\n",
       "      <td>11</td>\n",
       "      <td>the 3 keys to building immediate rapport in a ...</td>\n",
       "      <td>11</td>\n",
       "      <td>0.0</td>\n",
       "      <td>the 3 key to build immediate rapport in a job ...</td>\n",
       "      <td>11</td>\n",
       "      <td>2</td>\n",
       "      <td>0.181818</td>\n",
       "    </tr>\n",
       "    <tr>\n",
       "      <th>1</th>\n",
       "      <td>0</td>\n",
       "      <td>chipotle is making big changes but nobody real...</td>\n",
       "      <td>9</td>\n",
       "      <td>chipotle is making big changes but nobody real...</td>\n",
       "      <td>9</td>\n",
       "      <td>0.0</td>\n",
       "      <td>chipotle be make big change but nobody really ...</td>\n",
       "      <td>9</td>\n",
       "      <td>4</td>\n",
       "      <td>0.444444</td>\n",
       "    </tr>\n",
       "    <tr>\n",
       "      <th>2</th>\n",
       "      <td>1</td>\n",
       "      <td>highway billboard urges 75-mile detour</td>\n",
       "      <td>5</td>\n",
       "      <td>highway billboard urges 75mile detour</td>\n",
       "      <td>5</td>\n",
       "      <td>0.0</td>\n",
       "      <td>highway billboard urge 75mile detour</td>\n",
       "      <td>5</td>\n",
       "      <td>1</td>\n",
       "      <td>0.200000</td>\n",
       "    </tr>\n",
       "    <tr>\n",
       "      <th>3</th>\n",
       "      <td>1</td>\n",
       "      <td>raytheon ceo sends obama another article about...</td>\n",
       "      <td>11</td>\n",
       "      <td>raytheon ceo sends obama another article about...</td>\n",
       "      <td>11</td>\n",
       "      <td>0.0</td>\n",
       "      <td>raytheon ceo send obama another article about ...</td>\n",
       "      <td>11</td>\n",
       "      <td>2</td>\n",
       "      <td>0.181818</td>\n",
       "    </tr>\n",
       "    <tr>\n",
       "      <th>4</th>\n",
       "      <td>1</td>\n",
       "      <td>mcdonnell-douglas unveils new 'gay-dar'</td>\n",
       "      <td>4</td>\n",
       "      <td>mcdonnelldouglas unveils new gaydar</td>\n",
       "      <td>4</td>\n",
       "      <td>0.0</td>\n",
       "      <td>mcdonnelldouglas unveil new gaydar</td>\n",
       "      <td>4</td>\n",
       "      <td>1</td>\n",
       "      <td>0.250000</td>\n",
       "    </tr>\n",
       "  </tbody>\n",
       "</table>\n",
       "</div>"
      ],
      "text/plain": [
       "   is_sarcastic                                           headline  \\\n",
       "0             0  the 3 keys to building immediate rapport in a ...   \n",
       "1             0  chipotle is making big changes but nobody real...   \n",
       "2             1             highway billboard urges 75-mile detour   \n",
       "3             1  raytheon ceo sends obama another article about...   \n",
       "4             1            mcdonnell-douglas unveils new 'gay-dar'   \n",
       "\n",
       "   len_headline                                        headline_s1  \\\n",
       "0            11  the 3 keys to building immediate rapport in a ...   \n",
       "1             9  chipotle is making big changes but nobody real...   \n",
       "2             5              highway billboard urges 75mile detour   \n",
       "3            11  raytheon ceo sends obama another article about...   \n",
       "4             4                mcdonnelldouglas unveils new gaydar   \n",
       "\n",
       "   len_headline_s1  ratio_symbol  \\\n",
       "0               11           0.0   \n",
       "1                9           0.0   \n",
       "2                5           0.0   \n",
       "3               11           0.0   \n",
       "4                4           0.0   \n",
       "\n",
       "                                         headline_s2  len_headline_s2  \\\n",
       "0  the 3 key to build immediate rapport in a job ...               11   \n",
       "1  chipotle be make big change but nobody really ...                9   \n",
       "2               highway billboard urge 75mile detour                5   \n",
       "3  raytheon ceo send obama another article about ...               11   \n",
       "4                 mcdonnelldouglas unveil new gaydar                4   \n",
       "\n",
       "   count_lemmatized  ratio_lemmatized  \n",
       "0                 2          0.181818  \n",
       "1                 4          0.444444  \n",
       "2                 1          0.200000  \n",
       "3                 2          0.181818  \n",
       "4                 1          0.250000  "
      ]
     },
     "execution_count": 28,
     "metadata": {},
     "output_type": "execute_result"
    }
   ],
   "source": [
    "data.head()"
   ]
  },
  {
   "cell_type": "code",
   "execution_count": 29,
   "metadata": {
    "hidden": true
   },
   "outputs": [
    {
     "data": {
      "image/png": "[encoded data removed]",
      "text/plain": [
       "<Figure size 432x288 with 1 Axes>"
      ]
     },
     "metadata": {
      "needs_background": "light"
     },
     "output_type": "display_data"
    }
   ],
   "source": [
    "ax = sns.boxplot(y=\"is_sarcastic\", x=\"ratio_lemmatized\", data=data, orient=\"h\")"
   ]
  },
  {
   "cell_type": "code",
   "execution_count": 30,
   "metadata": {
    "hidden": true
   },
   "outputs": [
    {
     "data": {
      "text/html": [
       "<div>\n",
       "<style scoped>\n",
       "    .dataframe tbody tr th:only-of-type {\n",
       "        vertical-align: middle;\n",
       "    }\n",
       "\n",
       "    .dataframe tbody tr th {\n",
       "        vertical-align: top;\n",
       "    }\n",
       "\n",
       "    .dataframe thead th {\n",
       "        text-align: right;\n",
       "    }\n",
       "</style>\n",
       "<table border=\"1\" class=\"dataframe\">\n",
       "  <thead>\n",
       "    <tr style=\"text-align: right;\">\n",
       "      <th></th>\n",
       "      <th>count</th>\n",
       "      <th>mean</th>\n",
       "      <th>std</th>\n",
       "      <th>min</th>\n",
       "      <th>25%</th>\n",
       "      <th>50%</th>\n",
       "      <th>75%</th>\n",
       "      <th>max</th>\n",
       "    </tr>\n",
       "    <tr>\n",
       "      <th>is_sarcastic</th>\n",
       "      <th></th>\n",
       "      <th></th>\n",
       "      <th></th>\n",
       "      <th></th>\n",
       "      <th></th>\n",
       "      <th></th>\n",
       "      <th></th>\n",
       "      <th></th>\n",
       "    </tr>\n",
       "  </thead>\n",
       "  <tbody>\n",
       "    <tr>\n",
       "      <th>0</th>\n",
       "      <td>9590.0</td>\n",
       "      <td>0.203985</td>\n",
       "      <td>0.126717</td>\n",
       "      <td>0.0</td>\n",
       "      <td>0.111111</td>\n",
       "      <td>0.200000</td>\n",
       "      <td>0.285714</td>\n",
       "      <td>1.0</td>\n",
       "    </tr>\n",
       "    <tr>\n",
       "      <th>1</th>\n",
       "      <td>8726.0</td>\n",
       "      <td>0.224650</td>\n",
       "      <td>0.117543</td>\n",
       "      <td>0.0</td>\n",
       "      <td>0.142857</td>\n",
       "      <td>0.214286</td>\n",
       "      <td>0.285714</td>\n",
       "      <td>1.0</td>\n",
       "    </tr>\n",
       "  </tbody>\n",
       "</table>\n",
       "</div>"
      ],
      "text/plain": [
       "               count      mean       std  min       25%       50%       75%  \\\n",
       "is_sarcastic                                                                  \n",
       "0             9590.0  0.203985  0.126717  0.0  0.111111  0.200000  0.285714   \n",
       "1             8726.0  0.224650  0.117543  0.0  0.142857  0.214286  0.285714   \n",
       "\n",
       "              max  \n",
       "is_sarcastic       \n",
       "0             1.0  \n",
       "1             1.0  "
      ]
     },
     "execution_count": 30,
     "metadata": {},
     "output_type": "execute_result"
    }
   ],
   "source": [
    "data.groupby(['is_sarcastic'])['ratio_lemmatized'].describe()"
   ]
  },
  {
   "cell_type": "code",
   "execution_count": 31,
   "metadata": {
    "hidden": true
   },
   "outputs": [
    {
     "name": "stderr",
     "output_type": "stream",
     "text": [
      "/home/nmduy/anaconda3/envs/graph/lib/python3.7/site-packages/seaborn/distributions.py:2551: FutureWarning: `distplot` is a deprecated function and will be removed in a future version. Please adapt your code to use either `displot` (a figure-level function with similar flexibility) or `kdeplot` (an axes-level function for kernel density plots).\n",
      "  warnings.warn(msg, FutureWarning)\n",
      "/home/nmduy/anaconda3/envs/graph/lib/python3.7/site-packages/seaborn/distributions.py:2551: FutureWarning: `distplot` is a deprecated function and will be removed in a future version. Please adapt your code to use either `displot` (a figure-level function with similar flexibility) or `kdeplot` (an axes-level function for kernel density plots).\n",
      "  warnings.warn(msg, FutureWarning)\n"
     ]
    },
    {
     "data": {
      "text/plain": [
       "Text(0, 0.5, 'Density')"
      ]
     },
     "execution_count": 31,
     "metadata": {},
     "output_type": "execute_result"
    },
    {
     "data": {
      "image/png": "[encoded data removed]",
      "text/plain": [
       "<Figure size 432x288 with 1 Axes>"
      ]
     },
     "metadata": {
      "needs_background": "light"
     },
     "output_type": "display_data"
    }
   ],
   "source": [
    "df = data[data.is_sarcastic == 1]\n",
    "sns.distplot(df['ratio_lemmatized'], hist = False, kde = True, label='sarcastic')\n",
    "df = data[data.is_sarcastic == 0]\n",
    "sns.distplot(df['ratio_lemmatized'], hist = False, kde = True, label='normal')\n",
    "# Plot formatting\n",
    "plt.legend(prop={'size': 12})\n",
    "plt.title('Ratio of lemmatized between 2 classes')\n",
    "plt.xlabel('Ratio')\n",
    "plt.ylabel('Density')  "
   ]
  },
  {
   "cell_type": "code",
   "execution_count": 32,
   "metadata": {
    "hidden": true
   },
   "outputs": [
    {
     "data": {
      "text/plain": [
       "0.08400822832721529"
      ]
     },
     "execution_count": 32,
     "metadata": {},
     "output_type": "execute_result"
    }
   ],
   "source": [
    "data['ratio_lemmatized'].corr(data['is_sarcastic'])"
   ]
  },
  {
   "cell_type": "markdown",
   "metadata": {
    "heading_collapsed": true
   },
   "source": [
    "## Step 3: Remove stop words"
   ]
  },
  {
   "cell_type": "code",
   "execution_count": 33,
   "metadata": {
    "hidden": true
   },
   "outputs": [],
   "source": [
    "data['headline_s3'] = data.headline_s2.apply(lambda row: remove_stop_words(row))\n",
    "data['len_headline_s3'] = data.headline_s3.apply(lambda row: count_word(row))"
   ]
  },
  {
   "cell_type": "code",
   "execution_count": 34,
   "metadata": {
    "hidden": true
   },
   "outputs": [],
   "source": [
    "data['numb_stopwords'] = data['len_headline_s2'] - data['len_headline_s3']"
   ]
  },
  {
   "cell_type": "code",
   "execution_count": 35,
   "metadata": {
    "hidden": true
   },
   "outputs": [
    {
     "data": {
      "text/html": [
       "<div>\n",
       "<style scoped>\n",
       "    .dataframe tbody tr th:only-of-type {\n",
       "        vertical-align: middle;\n",
       "    }\n",
       "\n",
       "    .dataframe tbody tr th {\n",
       "        vertical-align: top;\n",
       "    }\n",
       "\n",
       "    .dataframe thead th {\n",
       "        text-align: right;\n",
       "    }\n",
       "</style>\n",
       "<table border=\"1\" class=\"dataframe\">\n",
       "  <thead>\n",
       "    <tr style=\"text-align: right;\">\n",
       "      <th></th>\n",
       "      <th>is_sarcastic</th>\n",
       "      <th>headline</th>\n",
       "      <th>len_headline</th>\n",
       "      <th>headline_s1</th>\n",
       "      <th>len_headline_s1</th>\n",
       "      <th>ratio_symbol</th>\n",
       "      <th>headline_s2</th>\n",
       "      <th>len_headline_s2</th>\n",
       "      <th>count_lemmatized</th>\n",
       "      <th>ratio_lemmatized</th>\n",
       "      <th>headline_s3</th>\n",
       "      <th>len_headline_s3</th>\n",
       "      <th>numb_stopwords</th>\n",
       "    </tr>\n",
       "  </thead>\n",
       "  <tbody>\n",
       "    <tr>\n",
       "      <th>0</th>\n",
       "      <td>0</td>\n",
       "      <td>the 3 keys to building immediate rapport in a ...</td>\n",
       "      <td>11</td>\n",
       "      <td>the 3 keys to building immediate rapport in a ...</td>\n",
       "      <td>11</td>\n",
       "      <td>0.0</td>\n",
       "      <td>the 3 key to build immediate rapport in a job ...</td>\n",
       "      <td>11</td>\n",
       "      <td>2</td>\n",
       "      <td>0.181818</td>\n",
       "      <td>3 key build immediate rapport job interview</td>\n",
       "      <td>7</td>\n",
       "      <td>4</td>\n",
       "    </tr>\n",
       "    <tr>\n",
       "      <th>1</th>\n",
       "      <td>0</td>\n",
       "      <td>chipotle is making big changes but nobody real...</td>\n",
       "      <td>9</td>\n",
       "      <td>chipotle is making big changes but nobody real...</td>\n",
       "      <td>9</td>\n",
       "      <td>0.0</td>\n",
       "      <td>chipotle be make big change but nobody really ...</td>\n",
       "      <td>9</td>\n",
       "      <td>4</td>\n",
       "      <td>0.444444</td>\n",
       "      <td>chipotle make big change nobody really care</td>\n",
       "      <td>7</td>\n",
       "      <td>2</td>\n",
       "    </tr>\n",
       "    <tr>\n",
       "      <th>2</th>\n",
       "      <td>1</td>\n",
       "      <td>highway billboard urges 75-mile detour</td>\n",
       "      <td>5</td>\n",
       "      <td>highway billboard urges 75mile detour</td>\n",
       "      <td>5</td>\n",
       "      <td>0.0</td>\n",
       "      <td>highway billboard urge 75mile detour</td>\n",
       "      <td>5</td>\n",
       "      <td>1</td>\n",
       "      <td>0.200000</td>\n",
       "      <td>highway billboard urge 75mile detour</td>\n",
       "      <td>5</td>\n",
       "      <td>0</td>\n",
       "    </tr>\n",
       "    <tr>\n",
       "      <th>3</th>\n",
       "      <td>1</td>\n",
       "      <td>raytheon ceo sends obama another article about...</td>\n",
       "      <td>11</td>\n",
       "      <td>raytheon ceo sends obama another article about...</td>\n",
       "      <td>11</td>\n",
       "      <td>0.0</td>\n",
       "      <td>raytheon ceo send obama another article about ...</td>\n",
       "      <td>11</td>\n",
       "      <td>2</td>\n",
       "      <td>0.181818</td>\n",
       "      <td>raytheon ceo send obama another article mount ...</td>\n",
       "      <td>9</td>\n",
       "      <td>2</td>\n",
       "    </tr>\n",
       "    <tr>\n",
       "      <th>4</th>\n",
       "      <td>1</td>\n",
       "      <td>mcdonnell-douglas unveils new 'gay-dar'</td>\n",
       "      <td>4</td>\n",
       "      <td>mcdonnelldouglas unveils new gaydar</td>\n",
       "      <td>4</td>\n",
       "      <td>0.0</td>\n",
       "      <td>mcdonnelldouglas unveil new gaydar</td>\n",
       "      <td>4</td>\n",
       "      <td>1</td>\n",
       "      <td>0.250000</td>\n",
       "      <td>mcdonnelldouglas unveil new gaydar</td>\n",
       "      <td>4</td>\n",
       "      <td>0</td>\n",
       "    </tr>\n",
       "  </tbody>\n",
       "</table>\n",
       "</div>"
      ],
      "text/plain": [
       "   is_sarcastic                                           headline  \\\n",
       "0             0  the 3 keys to building immediate rapport in a ...   \n",
       "1             0  chipotle is making big changes but nobody real...   \n",
       "2             1             highway billboard urges 75-mile detour   \n",
       "3             1  raytheon ceo sends obama another article about...   \n",
       "4             1            mcdonnell-douglas unveils new 'gay-dar'   \n",
       "\n",
       "   len_headline                                        headline_s1  \\\n",
       "0            11  the 3 keys to building immediate rapport in a ...   \n",
       "1             9  chipotle is making big changes but nobody real...   \n",
       "2             5              highway billboard urges 75mile detour   \n",
       "3            11  raytheon ceo sends obama another article about...   \n",
       "4             4                mcdonnelldouglas unveils new gaydar   \n",
       "\n",
       "   len_headline_s1  ratio_symbol  \\\n",
       "0               11           0.0   \n",
       "1                9           0.0   \n",
       "2                5           0.0   \n",
       "3               11           0.0   \n",
       "4                4           0.0   \n",
       "\n",
       "                                         headline_s2  len_headline_s2  \\\n",
       "0  the 3 key to build immediate rapport in a job ...               11   \n",
       "1  chipotle be make big change but nobody really ...                9   \n",
       "2               highway billboard urge 75mile detour                5   \n",
       "3  raytheon ceo send obama another article about ...               11   \n",
       "4                 mcdonnelldouglas unveil new gaydar                4   \n",
       "\n",
       "   count_lemmatized  ratio_lemmatized  \\\n",
       "0                 2          0.181818   \n",
       "1                 4          0.444444   \n",
       "2                 1          0.200000   \n",
       "3                 2          0.181818   \n",
       "4                 1          0.250000   \n",
       "\n",
       "                                         headline_s3  len_headline_s3  \\\n",
       "0        3 key build immediate rapport job interview                7   \n",
       "1        chipotle make big change nobody really care                7   \n",
       "2               highway billboard urge 75mile detour                5   \n",
       "3  raytheon ceo send obama another article mount ...                9   \n",
       "4                 mcdonnelldouglas unveil new gaydar                4   \n",
       "\n",
       "   numb_stopwords  \n",
       "0               4  \n",
       "1               2  \n",
       "2               0  \n",
       "3               2  \n",
       "4               0  "
      ]
     },
     "execution_count": 35,
     "metadata": {},
     "output_type": "execute_result"
    }
   ],
   "source": [
    "data.head()"
   ]
  },
  {
   "cell_type": "code",
   "execution_count": 36,
   "metadata": {
    "hidden": true
   },
   "outputs": [
    {
     "data": {
      "image/png": "[encoded data removed]",
      "text/plain": [
       "<Figure size 432x288 with 1 Axes>"
      ]
     },
     "metadata": {
      "needs_background": "light"
     },
     "output_type": "display_data"
    }
   ],
   "source": [
    "ax = sns.boxplot(y=\"is_sarcastic\", x=\"numb_stopwords\", data=data, orient=\"h\")"
   ]
  },
  {
   "cell_type": "code",
   "execution_count": 37,
   "metadata": {
    "hidden": true
   },
   "outputs": [
    {
     "name": "stderr",
     "output_type": "stream",
     "text": [
      "/home/nmduy/anaconda3/envs/graph/lib/python3.7/site-packages/seaborn/distributions.py:2551: FutureWarning: `distplot` is a deprecated function and will be removed in a future version. Please adapt your code to use either `displot` (a figure-level function with similar flexibility) or `kdeplot` (an axes-level function for kernel density plots).\n",
      "  warnings.warn(msg, FutureWarning)\n",
      "/home/nmduy/anaconda3/envs/graph/lib/python3.7/site-packages/seaborn/distributions.py:2551: FutureWarning: `distplot` is a deprecated function and will be removed in a future version. Please adapt your code to use either `displot` (a figure-level function with similar flexibility) or `kdeplot` (an axes-level function for kernel density plots).\n",
      "  warnings.warn(msg, FutureWarning)\n"
     ]
    },
    {
     "data": {
      "text/plain": [
       "Text(0, 0.5, 'Density')"
      ]
     },
     "execution_count": 37,
     "metadata": {},
     "output_type": "execute_result"
    },
    {
     "data": {
      "image/png": "[encoded data removed]",
      "text/plain": [
       "<Figure size 432x288 with 1 Axes>"
      ]
     },
     "metadata": {
      "needs_background": "light"
     },
     "output_type": "display_data"
    }
   ],
   "source": [
    "df = data[data.is_sarcastic == 1]\n",
    "sns.distplot(df['numb_stopwords'], hist = False, kde = True, label='sarcastic')\n",
    "df = data[data.is_sarcastic == 0]\n",
    "sns.distplot(df['numb_stopwords'], hist = False, kde = True, label='normal')\n",
    "# Plot formatting\n",
    "plt.legend(prop={'size': 12})\n",
    "plt.title('Number of stopwords on headlines between 2 classes')\n",
    "plt.xlabel('Numb')\n",
    "plt.ylabel('Density')  "
   ]
  },
  {
   "cell_type": "code",
   "execution_count": 38,
   "metadata": {
    "hidden": true
   },
   "outputs": [
    {
     "data": {
      "text/html": [
       "<div>\n",
       "<style scoped>\n",
       "    .dataframe tbody tr th:only-of-type {\n",
       "        vertical-align: middle;\n",
       "    }\n",
       "\n",
       "    .dataframe tbody tr th {\n",
       "        vertical-align: top;\n",
       "    }\n",
       "\n",
       "    .dataframe thead th {\n",
       "        text-align: right;\n",
       "    }\n",
       "</style>\n",
       "<table border=\"1\" class=\"dataframe\">\n",
       "  <thead>\n",
       "    <tr style=\"text-align: right;\">\n",
       "      <th></th>\n",
       "      <th>is_sarcastic</th>\n",
       "      <th>count</th>\n",
       "      <th>mean</th>\n",
       "      <th>std</th>\n",
       "      <th>min</th>\n",
       "      <th>25%</th>\n",
       "      <th>50%</th>\n",
       "      <th>75%</th>\n",
       "      <th>max</th>\n",
       "    </tr>\n",
       "  </thead>\n",
       "  <tbody>\n",
       "    <tr>\n",
       "      <th>0</th>\n",
       "      <td>0</td>\n",
       "      <td>9590.0</td>\n",
       "      <td>2.939208</td>\n",
       "      <td>1.762862</td>\n",
       "      <td>0.0</td>\n",
       "      <td>2.0</td>\n",
       "      <td>3.0</td>\n",
       "      <td>4.0</td>\n",
       "      <td>18.0</td>\n",
       "    </tr>\n",
       "    <tr>\n",
       "      <th>1</th>\n",
       "      <td>1</td>\n",
       "      <td>8726.0</td>\n",
       "      <td>2.583887</td>\n",
       "      <td>1.884094</td>\n",
       "      <td>0.0</td>\n",
       "      <td>1.0</td>\n",
       "      <td>2.0</td>\n",
       "      <td>4.0</td>\n",
       "      <td>45.0</td>\n",
       "    </tr>\n",
       "  </tbody>\n",
       "</table>\n",
       "</div>"
      ],
      "text/plain": [
       "   is_sarcastic   count      mean       std  min  25%  50%  75%   max\n",
       "0             0  9590.0  2.939208  1.762862  0.0  2.0  3.0  4.0  18.0\n",
       "1             1  8726.0  2.583887  1.884094  0.0  1.0  2.0  4.0  45.0"
      ]
     },
     "execution_count": 38,
     "metadata": {},
     "output_type": "execute_result"
    }
   ],
   "source": [
    "data_temp = data.groupby(['is_sarcastic'])['numb_stopwords'].describe().reset_index()\n",
    "data_temp"
   ]
  },
  {
   "cell_type": "markdown",
   "metadata": {
    "hidden": true
   },
   "source": [
    "It seems like both classes have similar distribution and but ```sarcastic``` titles have fewer stopwords than normal."
   ]
  },
  {
   "cell_type": "markdown",
   "metadata": {
    "heading_collapsed": true,
    "hidden": true
   },
   "source": [
    "### Stopwords Ratio"
   ]
  },
  {
   "cell_type": "code",
   "execution_count": 39,
   "metadata": {
    "hidden": true
   },
   "outputs": [
    {
     "data": {
      "text/html": [
       "<div>\n",
       "<style scoped>\n",
       "    .dataframe tbody tr th:only-of-type {\n",
       "        vertical-align: middle;\n",
       "    }\n",
       "\n",
       "    .dataframe tbody tr th {\n",
       "        vertical-align: top;\n",
       "    }\n",
       "\n",
       "    .dataframe thead th {\n",
       "        text-align: right;\n",
       "    }\n",
       "</style>\n",
       "<table border=\"1\" class=\"dataframe\">\n",
       "  <thead>\n",
       "    <tr style=\"text-align: right;\">\n",
       "      <th></th>\n",
       "      <th>is_sarcastic</th>\n",
       "      <th>headline</th>\n",
       "      <th>len_headline</th>\n",
       "      <th>headline_s1</th>\n",
       "      <th>len_headline_s1</th>\n",
       "      <th>ratio_symbol</th>\n",
       "      <th>headline_s2</th>\n",
       "      <th>len_headline_s2</th>\n",
       "      <th>count_lemmatized</th>\n",
       "      <th>ratio_lemmatized</th>\n",
       "      <th>headline_s3</th>\n",
       "      <th>len_headline_s3</th>\n",
       "      <th>numb_stopwords</th>\n",
       "      <th>ratio_stopwords</th>\n",
       "    </tr>\n",
       "  </thead>\n",
       "  <tbody>\n",
       "    <tr>\n",
       "      <th>0</th>\n",
       "      <td>0</td>\n",
       "      <td>the 3 keys to building immediate rapport in a ...</td>\n",
       "      <td>11</td>\n",
       "      <td>the 3 keys to building immediate rapport in a ...</td>\n",
       "      <td>11</td>\n",
       "      <td>0.0</td>\n",
       "      <td>the 3 key to build immediate rapport in a job ...</td>\n",
       "      <td>11</td>\n",
       "      <td>2</td>\n",
       "      <td>0.181818</td>\n",
       "      <td>3 key build immediate rapport job interview</td>\n",
       "      <td>7</td>\n",
       "      <td>4</td>\n",
       "      <td>0.363636</td>\n",
       "    </tr>\n",
       "    <tr>\n",
       "      <th>1</th>\n",
       "      <td>0</td>\n",
       "      <td>chipotle is making big changes but nobody real...</td>\n",
       "      <td>9</td>\n",
       "      <td>chipotle is making big changes but nobody real...</td>\n",
       "      <td>9</td>\n",
       "      <td>0.0</td>\n",
       "      <td>chipotle be make big change but nobody really ...</td>\n",
       "      <td>9</td>\n",
       "      <td>4</td>\n",
       "      <td>0.444444</td>\n",
       "      <td>chipotle make big change nobody really care</td>\n",
       "      <td>7</td>\n",
       "      <td>2</td>\n",
       "      <td>0.222222</td>\n",
       "    </tr>\n",
       "    <tr>\n",
       "      <th>2</th>\n",
       "      <td>1</td>\n",
       "      <td>highway billboard urges 75-mile detour</td>\n",
       "      <td>5</td>\n",
       "      <td>highway billboard urges 75mile detour</td>\n",
       "      <td>5</td>\n",
       "      <td>0.0</td>\n",
       "      <td>highway billboard urge 75mile detour</td>\n",
       "      <td>5</td>\n",
       "      <td>1</td>\n",
       "      <td>0.200000</td>\n",
       "      <td>highway billboard urge 75mile detour</td>\n",
       "      <td>5</td>\n",
       "      <td>0</td>\n",
       "      <td>0.000000</td>\n",
       "    </tr>\n",
       "    <tr>\n",
       "      <th>3</th>\n",
       "      <td>1</td>\n",
       "      <td>raytheon ceo sends obama another article about...</td>\n",
       "      <td>11</td>\n",
       "      <td>raytheon ceo sends obama another article about...</td>\n",
       "      <td>11</td>\n",
       "      <td>0.0</td>\n",
       "      <td>raytheon ceo send obama another article about ...</td>\n",
       "      <td>11</td>\n",
       "      <td>2</td>\n",
       "      <td>0.181818</td>\n",
       "      <td>raytheon ceo send obama another article mount ...</td>\n",
       "      <td>9</td>\n",
       "      <td>2</td>\n",
       "      <td>0.181818</td>\n",
       "    </tr>\n",
       "    <tr>\n",
       "      <th>4</th>\n",
       "      <td>1</td>\n",
       "      <td>mcdonnell-douglas unveils new 'gay-dar'</td>\n",
       "      <td>4</td>\n",
       "      <td>mcdonnelldouglas unveils new gaydar</td>\n",
       "      <td>4</td>\n",
       "      <td>0.0</td>\n",
       "      <td>mcdonnelldouglas unveil new gaydar</td>\n",
       "      <td>4</td>\n",
       "      <td>1</td>\n",
       "      <td>0.250000</td>\n",
       "      <td>mcdonnelldouglas unveil new gaydar</td>\n",
       "      <td>4</td>\n",
       "      <td>0</td>\n",
       "      <td>0.000000</td>\n",
       "    </tr>\n",
       "  </tbody>\n",
       "</table>\n",
       "</div>"
      ],
      "text/plain": [
       "   is_sarcastic                                           headline  \\\n",
       "0             0  the 3 keys to building immediate rapport in a ...   \n",
       "1             0  chipotle is making big changes but nobody real...   \n",
       "2             1             highway billboard urges 75-mile detour   \n",
       "3             1  raytheon ceo sends obama another article about...   \n",
       "4             1            mcdonnell-douglas unveils new 'gay-dar'   \n",
       "\n",
       "   len_headline                                        headline_s1  \\\n",
       "0            11  the 3 keys to building immediate rapport in a ...   \n",
       "1             9  chipotle is making big changes but nobody real...   \n",
       "2             5              highway billboard urges 75mile detour   \n",
       "3            11  raytheon ceo sends obama another article about...   \n",
       "4             4                mcdonnelldouglas unveils new gaydar   \n",
       "\n",
       "   len_headline_s1  ratio_symbol  \\\n",
       "0               11           0.0   \n",
       "1                9           0.0   \n",
       "2                5           0.0   \n",
       "3               11           0.0   \n",
       "4                4           0.0   \n",
       "\n",
       "                                         headline_s2  len_headline_s2  \\\n",
       "0  the 3 key to build immediate rapport in a job ...               11   \n",
       "1  chipotle be make big change but nobody really ...                9   \n",
       "2               highway billboard urge 75mile detour                5   \n",
       "3  raytheon ceo send obama another article about ...               11   \n",
       "4                 mcdonnelldouglas unveil new gaydar                4   \n",
       "\n",
       "   count_lemmatized  ratio_lemmatized  \\\n",
       "0                 2          0.181818   \n",
       "1                 4          0.444444   \n",
       "2                 1          0.200000   \n",
       "3                 2          0.181818   \n",
       "4                 1          0.250000   \n",
       "\n",
       "                                         headline_s3  len_headline_s3  \\\n",
       "0        3 key build immediate rapport job interview                7   \n",
       "1        chipotle make big change nobody really care                7   \n",
       "2               highway billboard urge 75mile detour                5   \n",
       "3  raytheon ceo send obama another article mount ...                9   \n",
       "4                 mcdonnelldouglas unveil new gaydar                4   \n",
       "\n",
       "   numb_stopwords  ratio_stopwords  \n",
       "0               4         0.363636  \n",
       "1               2         0.222222  \n",
       "2               0         0.000000  \n",
       "3               2         0.181818  \n",
       "4               0         0.000000  "
      ]
     },
     "execution_count": 39,
     "metadata": {},
     "output_type": "execute_result"
    }
   ],
   "source": [
    "data['ratio_stopwords'] = data['numb_stopwords'] / data['len_headline_s2']\n",
    "data.head()"
   ]
  },
  {
   "cell_type": "code",
   "execution_count": 40,
   "metadata": {
    "hidden": true
   },
   "outputs": [
    {
     "data": {
      "image/png": "[encoded data removed]",
      "text/plain": [
       "<Figure size 432x288 with 1 Axes>"
      ]
     },
     "metadata": {
      "needs_background": "light"
     },
     "output_type": "display_data"
    }
   ],
   "source": [
    "ax = sns.boxplot(y=\"is_sarcastic\", x=\"ratio_stopwords\", data=data, orient=\"h\")"
   ]
  },
  {
   "cell_type": "code",
   "execution_count": 41,
   "metadata": {
    "hidden": true
   },
   "outputs": [
    {
     "name": "stderr",
     "output_type": "stream",
     "text": [
      "/home/nmduy/anaconda3/envs/graph/lib/python3.7/site-packages/seaborn/distributions.py:2551: FutureWarning: `distplot` is a deprecated function and will be removed in a future version. Please adapt your code to use either `displot` (a figure-level function with similar flexibility) or `kdeplot` (an axes-level function for kernel density plots).\n",
      "  warnings.warn(msg, FutureWarning)\n",
      "/home/nmduy/anaconda3/envs/graph/lib/python3.7/site-packages/seaborn/distributions.py:2551: FutureWarning: `distplot` is a deprecated function and will be removed in a future version. Please adapt your code to use either `displot` (a figure-level function with similar flexibility) or `kdeplot` (an axes-level function for kernel density plots).\n",
      "  warnings.warn(msg, FutureWarning)\n"
     ]
    },
    {
     "data": {
      "text/plain": [
       "Text(0, 0.5, 'Density')"
      ]
     },
     "execution_count": 41,
     "metadata": {},
     "output_type": "execute_result"
    },
    {
     "data": {
      "image/png": "[encoded data removed]",
      "text/plain": [
       "<Figure size 432x288 with 1 Axes>"
      ]
     },
     "metadata": {
      "needs_background": "light"
     },
     "output_type": "display_data"
    }
   ],
   "source": [
    "df = data[data.is_sarcastic == 1]\n",
    "sns.distplot(df['ratio_stopwords'], hist = False, kde = True, label='sarcastic')\n",
    "df = data[data.is_sarcastic == 0]\n",
    "sns.distplot(df['ratio_stopwords'], hist = False, kde = True, label='normal')\n",
    "# Plot formatting\n",
    "plt.legend(prop={'size': 12})\n",
    "plt.title('Ratio stopwords on headlines between 2 classes')\n",
    "plt.xlabel('Ratio')\n",
    "plt.ylabel('Density')  "
   ]
  },
  {
   "cell_type": "code",
   "execution_count": 42,
   "metadata": {
    "hidden": true
   },
   "outputs": [
    {
     "data": {
      "text/html": [
       "<div>\n",
       "<style scoped>\n",
       "    .dataframe tbody tr th:only-of-type {\n",
       "        vertical-align: middle;\n",
       "    }\n",
       "\n",
       "    .dataframe tbody tr th {\n",
       "        vertical-align: top;\n",
       "    }\n",
       "\n",
       "    .dataframe thead th {\n",
       "        text-align: right;\n",
       "    }\n",
       "</style>\n",
       "<table border=\"1\" class=\"dataframe\">\n",
       "  <thead>\n",
       "    <tr style=\"text-align: right;\">\n",
       "      <th></th>\n",
       "      <th>is_sarcastic</th>\n",
       "      <th>count</th>\n",
       "      <th>mean</th>\n",
       "      <th>std</th>\n",
       "      <th>min</th>\n",
       "      <th>25%</th>\n",
       "      <th>50%</th>\n",
       "      <th>75%</th>\n",
       "      <th>max</th>\n",
       "    </tr>\n",
       "  </thead>\n",
       "  <tbody>\n",
       "    <tr>\n",
       "      <th>0</th>\n",
       "      <td>0</td>\n",
       "      <td>9590.0</td>\n",
       "      <td>0.291344</td>\n",
       "      <td>0.144048</td>\n",
       "      <td>0.0</td>\n",
       "      <td>0.200000</td>\n",
       "      <td>0.285714</td>\n",
       "      <td>0.384615</td>\n",
       "      <td>0.857143</td>\n",
       "    </tr>\n",
       "    <tr>\n",
       "      <th>1</th>\n",
       "      <td>1</td>\n",
       "      <td>8726.0</td>\n",
       "      <td>0.231100</td>\n",
       "      <td>0.124633</td>\n",
       "      <td>0.0</td>\n",
       "      <td>0.142857</td>\n",
       "      <td>0.230769</td>\n",
       "      <td>0.312500</td>\n",
       "      <td>0.727273</td>\n",
       "    </tr>\n",
       "  </tbody>\n",
       "</table>\n",
       "</div>"
      ],
      "text/plain": [
       "   is_sarcastic   count      mean       std  min       25%       50%  \\\n",
       "0             0  9590.0  0.291344  0.144048  0.0  0.200000  0.285714   \n",
       "1             1  8726.0  0.231100  0.124633  0.0  0.142857  0.230769   \n",
       "\n",
       "        75%       max  \n",
       "0  0.384615  0.857143  \n",
       "1  0.312500  0.727273  "
      ]
     },
     "execution_count": 42,
     "metadata": {},
     "output_type": "execute_result"
    }
   ],
   "source": [
    "data_temp = data.groupby(['is_sarcastic'])['ratio_stopwords'].describe().reset_index()\n",
    "data_temp"
   ]
  },
  {
   "cell_type": "markdown",
   "metadata": {
    "hidden": true
   },
   "source": [
    "```sarcastic``` titles have ratio stopwords lower than normal."
   ]
  },
  {
   "cell_type": "code",
   "execution_count": 43,
   "metadata": {
    "hidden": true
   },
   "outputs": [
    {
     "data": {
      "text/plain": [
       "-0.21732688441539383"
      ]
     },
     "execution_count": 43,
     "metadata": {},
     "output_type": "execute_result"
    }
   ],
   "source": [
    "data['ratio_stopwords'].corr(data['is_sarcastic'])"
   ]
  },
  {
   "cell_type": "code",
   "execution_count": 44,
   "metadata": {
    "hidden": true
   },
   "outputs": [
    {
     "data": {
      "text/plain": [
       "-0.09696604646809377"
      ]
     },
     "execution_count": 44,
     "metadata": {},
     "output_type": "execute_result"
    }
   ],
   "source": [
    "data['numb_stopwords'].corr(data['is_sarcastic'])"
   ]
  },
  {
   "cell_type": "markdown",
   "metadata": {
    "heading_collapsed": true
   },
   "source": [
    "## Step 4: Capitalized Word (Not useful)"
   ]
  },
  {
   "cell_type": "code",
   "execution_count": 45,
   "metadata": {
    "hidden": true
   },
   "outputs": [
    {
     "data": {
      "text/plain": [
       "0"
      ]
     },
     "execution_count": 45,
     "metadata": {},
     "output_type": "execute_result"
    }
   ],
   "source": [
    "data['count_capital'] = data.headline.apply(lambda row: count_capitalized(row))\n",
    "data['count_capital'].sum()"
   ]
  },
  {
   "cell_type": "code",
   "execution_count": 46,
   "metadata": {
    "hidden": true
   },
   "outputs": [],
   "source": [
    "data = data.drop(columns=['count_capital'])"
   ]
  },
  {
   "cell_type": "markdown",
   "metadata": {
    "hidden": true
   },
   "source": [
    "No capitalized word in the title"
   ]
  },
  {
   "cell_type": "markdown",
   "metadata": {
    "heading_collapsed": true
   },
   "source": [
    "## Step 5: Len of each word in the Title"
   ]
  },
  {
   "cell_type": "code",
   "execution_count": 47,
   "metadata": {
    "hidden": true
   },
   "outputs": [],
   "source": [
    "data['min_len_word'] = data.headline_s1.apply(lambda row: min_len_word(row))\n",
    "data['max_len_word'] = data.headline_s1.apply(lambda row: max_len_word(row))\n",
    "data['avg_len_word'] = data.headline_s1.apply(lambda row: avg_len_word(row))"
   ]
  },
  {
   "cell_type": "code",
   "execution_count": 48,
   "metadata": {
    "hidden": true
   },
   "outputs": [
    {
     "data": {
      "text/html": [
       "<div>\n",
       "<style scoped>\n",
       "    .dataframe tbody tr th:only-of-type {\n",
       "        vertical-align: middle;\n",
       "    }\n",
       "\n",
       "    .dataframe tbody tr th {\n",
       "        vertical-align: top;\n",
       "    }\n",
       "\n",
       "    .dataframe thead th {\n",
       "        text-align: right;\n",
       "    }\n",
       "</style>\n",
       "<table border=\"1\" class=\"dataframe\">\n",
       "  <thead>\n",
       "    <tr style=\"text-align: right;\">\n",
       "      <th></th>\n",
       "      <th>is_sarcastic</th>\n",
       "      <th>headline</th>\n",
       "      <th>len_headline</th>\n",
       "      <th>headline_s1</th>\n",
       "      <th>len_headline_s1</th>\n",
       "      <th>ratio_symbol</th>\n",
       "      <th>headline_s2</th>\n",
       "      <th>len_headline_s2</th>\n",
       "      <th>count_lemmatized</th>\n",
       "      <th>ratio_lemmatized</th>\n",
       "      <th>headline_s3</th>\n",
       "      <th>len_headline_s3</th>\n",
       "      <th>numb_stopwords</th>\n",
       "      <th>ratio_stopwords</th>\n",
       "      <th>min_len_word</th>\n",
       "      <th>max_len_word</th>\n",
       "      <th>avg_len_word</th>\n",
       "    </tr>\n",
       "  </thead>\n",
       "  <tbody>\n",
       "    <tr>\n",
       "      <th>0</th>\n",
       "      <td>0</td>\n",
       "      <td>the 3 keys to building immediate rapport in a ...</td>\n",
       "      <td>11</td>\n",
       "      <td>the 3 keys to building immediate rapport in a ...</td>\n",
       "      <td>11</td>\n",
       "      <td>0.0</td>\n",
       "      <td>the 3 key to build immediate rapport in a job ...</td>\n",
       "      <td>11</td>\n",
       "      <td>2</td>\n",
       "      <td>0.181818</td>\n",
       "      <td>3 key build immediate rapport job interview</td>\n",
       "      <td>7</td>\n",
       "      <td>4</td>\n",
       "      <td>0.363636</td>\n",
       "      <td>1</td>\n",
       "      <td>9</td>\n",
       "      <td>4.454545</td>\n",
       "    </tr>\n",
       "    <tr>\n",
       "      <th>1</th>\n",
       "      <td>0</td>\n",
       "      <td>chipotle is making big changes but nobody real...</td>\n",
       "      <td>9</td>\n",
       "      <td>chipotle is making big changes but nobody real...</td>\n",
       "      <td>9</td>\n",
       "      <td>0.0</td>\n",
       "      <td>chipotle be make big change but nobody really ...</td>\n",
       "      <td>9</td>\n",
       "      <td>4</td>\n",
       "      <td>0.444444</td>\n",
       "      <td>chipotle make big change nobody really care</td>\n",
       "      <td>7</td>\n",
       "      <td>2</td>\n",
       "      <td>0.222222</td>\n",
       "      <td>2</td>\n",
       "      <td>8</td>\n",
       "      <td>5.111111</td>\n",
       "    </tr>\n",
       "    <tr>\n",
       "      <th>2</th>\n",
       "      <td>1</td>\n",
       "      <td>highway billboard urges 75-mile detour</td>\n",
       "      <td>5</td>\n",
       "      <td>highway billboard urges 75mile detour</td>\n",
       "      <td>5</td>\n",
       "      <td>0.0</td>\n",
       "      <td>highway billboard urge 75mile detour</td>\n",
       "      <td>5</td>\n",
       "      <td>1</td>\n",
       "      <td>0.200000</td>\n",
       "      <td>highway billboard urge 75mile detour</td>\n",
       "      <td>5</td>\n",
       "      <td>0</td>\n",
       "      <td>0.000000</td>\n",
       "      <td>5</td>\n",
       "      <td>9</td>\n",
       "      <td>6.600000</td>\n",
       "    </tr>\n",
       "    <tr>\n",
       "      <th>3</th>\n",
       "      <td>1</td>\n",
       "      <td>raytheon ceo sends obama another article about...</td>\n",
       "      <td>11</td>\n",
       "      <td>raytheon ceo sends obama another article about...</td>\n",
       "      <td>11</td>\n",
       "      <td>0.0</td>\n",
       "      <td>raytheon ceo send obama another article about ...</td>\n",
       "      <td>11</td>\n",
       "      <td>2</td>\n",
       "      <td>0.181818</td>\n",
       "      <td>raytheon ceo send obama another article mount ...</td>\n",
       "      <td>9</td>\n",
       "      <td>2</td>\n",
       "      <td>0.181818</td>\n",
       "      <td>2</td>\n",
       "      <td>8</td>\n",
       "      <td>5.545455</td>\n",
       "    </tr>\n",
       "    <tr>\n",
       "      <th>4</th>\n",
       "      <td>1</td>\n",
       "      <td>mcdonnell-douglas unveils new 'gay-dar'</td>\n",
       "      <td>4</td>\n",
       "      <td>mcdonnelldouglas unveils new gaydar</td>\n",
       "      <td>4</td>\n",
       "      <td>0.0</td>\n",
       "      <td>mcdonnelldouglas unveil new gaydar</td>\n",
       "      <td>4</td>\n",
       "      <td>1</td>\n",
       "      <td>0.250000</td>\n",
       "      <td>mcdonnelldouglas unveil new gaydar</td>\n",
       "      <td>4</td>\n",
       "      <td>0</td>\n",
       "      <td>0.000000</td>\n",
       "      <td>3</td>\n",
       "      <td>16</td>\n",
       "      <td>8.000000</td>\n",
       "    </tr>\n",
       "  </tbody>\n",
       "</table>\n",
       "</div>"
      ],
      "text/plain": [
       "   is_sarcastic                                           headline  \\\n",
       "0             0  the 3 keys to building immediate rapport in a ...   \n",
       "1             0  chipotle is making big changes but nobody real...   \n",
       "2             1             highway billboard urges 75-mile detour   \n",
       "3             1  raytheon ceo sends obama another article about...   \n",
       "4             1            mcdonnell-douglas unveils new 'gay-dar'   \n",
       "\n",
       "   len_headline                                        headline_s1  \\\n",
       "0            11  the 3 keys to building immediate rapport in a ...   \n",
       "1             9  chipotle is making big changes but nobody real...   \n",
       "2             5              highway billboard urges 75mile detour   \n",
       "3            11  raytheon ceo sends obama another article about...   \n",
       "4             4                mcdonnelldouglas unveils new gaydar   \n",
       "\n",
       "   len_headline_s1  ratio_symbol  \\\n",
       "0               11           0.0   \n",
       "1                9           0.0   \n",
       "2                5           0.0   \n",
       "3               11           0.0   \n",
       "4                4           0.0   \n",
       "\n",
       "                                         headline_s2  len_headline_s2  \\\n",
       "0  the 3 key to build immediate rapport in a job ...               11   \n",
       "1  chipotle be make big change but nobody really ...                9   \n",
       "2               highway billboard urge 75mile detour                5   \n",
       "3  raytheon ceo send obama another article about ...               11   \n",
       "4                 mcdonnelldouglas unveil new gaydar                4   \n",
       "\n",
       "   count_lemmatized  ratio_lemmatized  \\\n",
       "0                 2          0.181818   \n",
       "1                 4          0.444444   \n",
       "2                 1          0.200000   \n",
       "3                 2          0.181818   \n",
       "4                 1          0.250000   \n",
       "\n",
       "                                         headline_s3  len_headline_s3  \\\n",
       "0        3 key build immediate rapport job interview                7   \n",
       "1        chipotle make big change nobody really care                7   \n",
       "2               highway billboard urge 75mile detour                5   \n",
       "3  raytheon ceo send obama another article mount ...                9   \n",
       "4                 mcdonnelldouglas unveil new gaydar                4   \n",
       "\n",
       "   numb_stopwords  ratio_stopwords  min_len_word  max_len_word  avg_len_word  \n",
       "0               4         0.363636             1             9      4.454545  \n",
       "1               2         0.222222             2             8      5.111111  \n",
       "2               0         0.000000             5             9      6.600000  \n",
       "3               2         0.181818             2             8      5.545455  \n",
       "4               0         0.000000             3            16      8.000000  "
      ]
     },
     "execution_count": 48,
     "metadata": {},
     "output_type": "execute_result"
    }
   ],
   "source": [
    "data.head()"
   ]
  },
  {
   "cell_type": "code",
   "execution_count": 49,
   "metadata": {
    "hidden": true
   },
   "outputs": [
    {
     "data": {
      "text/html": [
       "<div>\n",
       "<style scoped>\n",
       "    .dataframe tbody tr th:only-of-type {\n",
       "        vertical-align: middle;\n",
       "    }\n",
       "\n",
       "    .dataframe tbody tr th {\n",
       "        vertical-align: top;\n",
       "    }\n",
       "\n",
       "    .dataframe thead th {\n",
       "        text-align: right;\n",
       "    }\n",
       "</style>\n",
       "<table border=\"1\" class=\"dataframe\">\n",
       "  <thead>\n",
       "    <tr style=\"text-align: right;\">\n",
       "      <th></th>\n",
       "      <th>is_sarcastic</th>\n",
       "      <th>count</th>\n",
       "      <th>mean</th>\n",
       "      <th>std</th>\n",
       "      <th>min</th>\n",
       "      <th>25%</th>\n",
       "      <th>50%</th>\n",
       "      <th>75%</th>\n",
       "      <th>max</th>\n",
       "    </tr>\n",
       "  </thead>\n",
       "  <tbody>\n",
       "    <tr>\n",
       "      <th>0</th>\n",
       "      <td>0</td>\n",
       "      <td>9590.0</td>\n",
       "      <td>2.063191</td>\n",
       "      <td>0.868067</td>\n",
       "      <td>1.0</td>\n",
       "      <td>2.0</td>\n",
       "      <td>2.0</td>\n",
       "      <td>2.0</td>\n",
       "      <td>13.0</td>\n",
       "    </tr>\n",
       "    <tr>\n",
       "      <th>1</th>\n",
       "      <td>1</td>\n",
       "      <td>8726.0</td>\n",
       "      <td>2.284094</td>\n",
       "      <td>0.863838</td>\n",
       "      <td>1.0</td>\n",
       "      <td>2.0</td>\n",
       "      <td>2.0</td>\n",
       "      <td>2.0</td>\n",
       "      <td>9.0</td>\n",
       "    </tr>\n",
       "  </tbody>\n",
       "</table>\n",
       "</div>"
      ],
      "text/plain": [
       "   is_sarcastic   count      mean       std  min  25%  50%  75%   max\n",
       "0             0  9590.0  2.063191  0.868067  1.0  2.0  2.0  2.0  13.0\n",
       "1             1  8726.0  2.284094  0.863838  1.0  2.0  2.0  2.0   9.0"
      ]
     },
     "execution_count": 49,
     "metadata": {},
     "output_type": "execute_result"
    }
   ],
   "source": [
    "data_temp = data.groupby(['is_sarcastic'])['min_len_word'].describe().reset_index()\n",
    "data_temp"
   ]
  },
  {
   "cell_type": "code",
   "execution_count": 50,
   "metadata": {
    "hidden": true
   },
   "outputs": [
    {
     "data": {
      "text/html": [
       "<div>\n",
       "<style scoped>\n",
       "    .dataframe tbody tr th:only-of-type {\n",
       "        vertical-align: middle;\n",
       "    }\n",
       "\n",
       "    .dataframe tbody tr th {\n",
       "        vertical-align: top;\n",
       "    }\n",
       "\n",
       "    .dataframe thead th {\n",
       "        text-align: right;\n",
       "    }\n",
       "</style>\n",
       "<table border=\"1\" class=\"dataframe\">\n",
       "  <thead>\n",
       "    <tr style=\"text-align: right;\">\n",
       "      <th></th>\n",
       "      <th>is_sarcastic</th>\n",
       "      <th>count</th>\n",
       "      <th>mean</th>\n",
       "      <th>std</th>\n",
       "      <th>min</th>\n",
       "      <th>25%</th>\n",
       "      <th>50%</th>\n",
       "      <th>75%</th>\n",
       "      <th>max</th>\n",
       "    </tr>\n",
       "  </thead>\n",
       "  <tbody>\n",
       "    <tr>\n",
       "      <th>0</th>\n",
       "      <td>0</td>\n",
       "      <td>9590.0</td>\n",
       "      <td>9.268196</td>\n",
       "      <td>2.112248</td>\n",
       "      <td>3.0</td>\n",
       "      <td>8.0</td>\n",
       "      <td>9.0</td>\n",
       "      <td>10.0</td>\n",
       "      <td>27.0</td>\n",
       "    </tr>\n",
       "    <tr>\n",
       "      <th>1</th>\n",
       "      <td>1</td>\n",
       "      <td>8726.0</td>\n",
       "      <td>9.716594</td>\n",
       "      <td>2.225307</td>\n",
       "      <td>4.0</td>\n",
       "      <td>8.0</td>\n",
       "      <td>10.0</td>\n",
       "      <td>11.0</td>\n",
       "      <td>48.0</td>\n",
       "    </tr>\n",
       "  </tbody>\n",
       "</table>\n",
       "</div>"
      ],
      "text/plain": [
       "   is_sarcastic   count      mean       std  min  25%   50%   75%   max\n",
       "0             0  9590.0  9.268196  2.112248  3.0  8.0   9.0  10.0  27.0\n",
       "1             1  8726.0  9.716594  2.225307  4.0  8.0  10.0  11.0  48.0"
      ]
     },
     "execution_count": 50,
     "metadata": {},
     "output_type": "execute_result"
    }
   ],
   "source": [
    "data_temp = data.groupby(['is_sarcastic'])['max_len_word'].describe().reset_index()\n",
    "data_temp"
   ]
  },
  {
   "cell_type": "code",
   "execution_count": 51,
   "metadata": {
    "hidden": true
   },
   "outputs": [
    {
     "data": {
      "text/html": [
       "<div>\n",
       "<style scoped>\n",
       "    .dataframe tbody tr th:only-of-type {\n",
       "        vertical-align: middle;\n",
       "    }\n",
       "\n",
       "    .dataframe tbody tr th {\n",
       "        vertical-align: top;\n",
       "    }\n",
       "\n",
       "    .dataframe thead th {\n",
       "        text-align: right;\n",
       "    }\n",
       "</style>\n",
       "<table border=\"1\" class=\"dataframe\">\n",
       "  <thead>\n",
       "    <tr style=\"text-align: right;\">\n",
       "      <th></th>\n",
       "      <th>is_sarcastic</th>\n",
       "      <th>count</th>\n",
       "      <th>mean</th>\n",
       "      <th>std</th>\n",
       "      <th>min</th>\n",
       "      <th>25%</th>\n",
       "      <th>50%</th>\n",
       "      <th>75%</th>\n",
       "      <th>max</th>\n",
       "    </tr>\n",
       "  </thead>\n",
       "  <tbody>\n",
       "    <tr>\n",
       "      <th>0</th>\n",
       "      <td>0</td>\n",
       "      <td>9590.0</td>\n",
       "      <td>5.133251</td>\n",
       "      <td>0.920002</td>\n",
       "      <td>2.500000</td>\n",
       "      <td>4.5</td>\n",
       "      <td>5.000000</td>\n",
       "      <td>5.666667</td>\n",
       "      <td>13.333333</td>\n",
       "    </tr>\n",
       "    <tr>\n",
       "      <th>1</th>\n",
       "      <td>1</td>\n",
       "      <td>8726.0</td>\n",
       "      <td>5.464712</td>\n",
       "      <td>0.960154</td>\n",
       "      <td>2.714286</td>\n",
       "      <td>4.8</td>\n",
       "      <td>5.363636</td>\n",
       "      <td>6.000000</td>\n",
       "      <td>12.285714</td>\n",
       "    </tr>\n",
       "  </tbody>\n",
       "</table>\n",
       "</div>"
      ],
      "text/plain": [
       "   is_sarcastic   count      mean       std       min  25%       50%  \\\n",
       "0             0  9590.0  5.133251  0.920002  2.500000  4.5  5.000000   \n",
       "1             1  8726.0  5.464712  0.960154  2.714286  4.8  5.363636   \n",
       "\n",
       "        75%        max  \n",
       "0  5.666667  13.333333  \n",
       "1  6.000000  12.285714  "
      ]
     },
     "execution_count": 51,
     "metadata": {},
     "output_type": "execute_result"
    }
   ],
   "source": [
    "data_temp = data.groupby(['is_sarcastic'])['avg_len_word'].describe().reset_index()\n",
    "data_temp"
   ]
  },
  {
   "cell_type": "code",
   "execution_count": 52,
   "metadata": {
    "hidden": true
   },
   "outputs": [
    {
     "data": {
      "image/png": "[encoded data removed]",
      "text/plain": [
       "<Figure size 432x288 with 1 Axes>"
      ]
     },
     "metadata": {
      "needs_background": "light"
     },
     "output_type": "display_data"
    }
   ],
   "source": [
    "ax = sns.boxplot(y=\"is_sarcastic\", x=\"avg_len_word\", data=data, orient=\"h\")"
   ]
  },
  {
   "cell_type": "code",
   "execution_count": 53,
   "metadata": {
    "hidden": true
   },
   "outputs": [
    {
     "data": {
      "text/plain": [
       "0.17357013287935222"
      ]
     },
     "execution_count": 53,
     "metadata": {},
     "output_type": "execute_result"
    }
   ],
   "source": [
    "data['avg_len_word'].corr(data['is_sarcastic'])"
   ]
  },
  {
   "cell_type": "code",
   "execution_count": 54,
   "metadata": {
    "hidden": true
   },
   "outputs": [
    {
     "data": {
      "text/plain": [
       "0.12637739969834877"
      ]
     },
     "execution_count": 54,
     "metadata": {},
     "output_type": "execute_result"
    }
   ],
   "source": [
    "data['min_len_word'].corr(data['is_sarcastic'])"
   ]
  },
  {
   "cell_type": "code",
   "execution_count": 55,
   "metadata": {
    "hidden": true
   },
   "outputs": [
    {
     "data": {
      "text/plain": [
       "0.1028106396291622"
      ]
     },
     "execution_count": 55,
     "metadata": {},
     "output_type": "execute_result"
    }
   ],
   "source": [
    "data['max_len_word'].corr(data['is_sarcastic'])"
   ]
  },
  {
   "cell_type": "markdown",
   "metadata": {
    "heading_collapsed": true
   },
   "source": [
    "## Step 6: Contain Number (Not useful)"
   ]
  },
  {
   "cell_type": "code",
   "execution_count": 56,
   "metadata": {
    "hidden": true
   },
   "outputs": [
    {
     "data": {
      "text/html": [
       "<div>\n",
       "<style scoped>\n",
       "    .dataframe tbody tr th:only-of-type {\n",
       "        vertical-align: middle;\n",
       "    }\n",
       "\n",
       "    .dataframe tbody tr th {\n",
       "        vertical-align: top;\n",
       "    }\n",
       "\n",
       "    .dataframe thead th {\n",
       "        text-align: right;\n",
       "    }\n",
       "</style>\n",
       "<table border=\"1\" class=\"dataframe\">\n",
       "  <thead>\n",
       "    <tr style=\"text-align: right;\">\n",
       "      <th></th>\n",
       "      <th>is_sarcastic</th>\n",
       "      <th>headline</th>\n",
       "      <th>len_headline</th>\n",
       "      <th>headline_s1</th>\n",
       "      <th>len_headline_s1</th>\n",
       "      <th>ratio_symbol</th>\n",
       "      <th>headline_s2</th>\n",
       "      <th>len_headline_s2</th>\n",
       "      <th>count_lemmatized</th>\n",
       "      <th>ratio_lemmatized</th>\n",
       "      <th>headline_s3</th>\n",
       "      <th>len_headline_s3</th>\n",
       "      <th>numb_stopwords</th>\n",
       "      <th>ratio_stopwords</th>\n",
       "      <th>min_len_word</th>\n",
       "      <th>max_len_word</th>\n",
       "      <th>avg_len_word</th>\n",
       "      <th>has_number</th>\n",
       "    </tr>\n",
       "  </thead>\n",
       "  <tbody>\n",
       "    <tr>\n",
       "      <th>0</th>\n",
       "      <td>0</td>\n",
       "      <td>the 3 keys to building immediate rapport in a ...</td>\n",
       "      <td>11</td>\n",
       "      <td>the 3 keys to building immediate rapport in a ...</td>\n",
       "      <td>11</td>\n",
       "      <td>0.0</td>\n",
       "      <td>the 3 key to build immediate rapport in a job ...</td>\n",
       "      <td>11</td>\n",
       "      <td>2</td>\n",
       "      <td>0.181818</td>\n",
       "      <td>3 key build immediate rapport job interview</td>\n",
       "      <td>7</td>\n",
       "      <td>4</td>\n",
       "      <td>0.363636</td>\n",
       "      <td>1</td>\n",
       "      <td>9</td>\n",
       "      <td>4.454545</td>\n",
       "      <td>1</td>\n",
       "    </tr>\n",
       "    <tr>\n",
       "      <th>1</th>\n",
       "      <td>0</td>\n",
       "      <td>chipotle is making big changes but nobody real...</td>\n",
       "      <td>9</td>\n",
       "      <td>chipotle is making big changes but nobody real...</td>\n",
       "      <td>9</td>\n",
       "      <td>0.0</td>\n",
       "      <td>chipotle be make big change but nobody really ...</td>\n",
       "      <td>9</td>\n",
       "      <td>4</td>\n",
       "      <td>0.444444</td>\n",
       "      <td>chipotle make big change nobody really care</td>\n",
       "      <td>7</td>\n",
       "      <td>2</td>\n",
       "      <td>0.222222</td>\n",
       "      <td>2</td>\n",
       "      <td>8</td>\n",
       "      <td>5.111111</td>\n",
       "      <td>0</td>\n",
       "    </tr>\n",
       "    <tr>\n",
       "      <th>2</th>\n",
       "      <td>1</td>\n",
       "      <td>highway billboard urges 75-mile detour</td>\n",
       "      <td>5</td>\n",
       "      <td>highway billboard urges 75mile detour</td>\n",
       "      <td>5</td>\n",
       "      <td>0.0</td>\n",
       "      <td>highway billboard urge 75mile detour</td>\n",
       "      <td>5</td>\n",
       "      <td>1</td>\n",
       "      <td>0.200000</td>\n",
       "      <td>highway billboard urge 75mile detour</td>\n",
       "      <td>5</td>\n",
       "      <td>0</td>\n",
       "      <td>0.000000</td>\n",
       "      <td>5</td>\n",
       "      <td>9</td>\n",
       "      <td>6.600000</td>\n",
       "      <td>1</td>\n",
       "    </tr>\n",
       "    <tr>\n",
       "      <th>3</th>\n",
       "      <td>1</td>\n",
       "      <td>raytheon ceo sends obama another article about...</td>\n",
       "      <td>11</td>\n",
       "      <td>raytheon ceo sends obama another article about...</td>\n",
       "      <td>11</td>\n",
       "      <td>0.0</td>\n",
       "      <td>raytheon ceo send obama another article about ...</td>\n",
       "      <td>11</td>\n",
       "      <td>2</td>\n",
       "      <td>0.181818</td>\n",
       "      <td>raytheon ceo send obama another article mount ...</td>\n",
       "      <td>9</td>\n",
       "      <td>2</td>\n",
       "      <td>0.181818</td>\n",
       "      <td>2</td>\n",
       "      <td>8</td>\n",
       "      <td>5.545455</td>\n",
       "      <td>0</td>\n",
       "    </tr>\n",
       "    <tr>\n",
       "      <th>4</th>\n",
       "      <td>1</td>\n",
       "      <td>mcdonnell-douglas unveils new 'gay-dar'</td>\n",
       "      <td>4</td>\n",
       "      <td>mcdonnelldouglas unveils new gaydar</td>\n",
       "      <td>4</td>\n",
       "      <td>0.0</td>\n",
       "      <td>mcdonnelldouglas unveil new gaydar</td>\n",
       "      <td>4</td>\n",
       "      <td>1</td>\n",
       "      <td>0.250000</td>\n",
       "      <td>mcdonnelldouglas unveil new gaydar</td>\n",
       "      <td>4</td>\n",
       "      <td>0</td>\n",
       "      <td>0.000000</td>\n",
       "      <td>3</td>\n",
       "      <td>16</td>\n",
       "      <td>8.000000</td>\n",
       "      <td>0</td>\n",
       "    </tr>\n",
       "  </tbody>\n",
       "</table>\n",
       "</div>"
      ],
      "text/plain": [
       "   is_sarcastic                                           headline  \\\n",
       "0             0  the 3 keys to building immediate rapport in a ...   \n",
       "1             0  chipotle is making big changes but nobody real...   \n",
       "2             1             highway billboard urges 75-mile detour   \n",
       "3             1  raytheon ceo sends obama another article about...   \n",
       "4             1            mcdonnell-douglas unveils new 'gay-dar'   \n",
       "\n",
       "   len_headline                                        headline_s1  \\\n",
       "0            11  the 3 keys to building immediate rapport in a ...   \n",
       "1             9  chipotle is making big changes but nobody real...   \n",
       "2             5              highway billboard urges 75mile detour   \n",
       "3            11  raytheon ceo sends obama another article about...   \n",
       "4             4                mcdonnelldouglas unveils new gaydar   \n",
       "\n",
       "   len_headline_s1  ratio_symbol  \\\n",
       "0               11           0.0   \n",
       "1                9           0.0   \n",
       "2                5           0.0   \n",
       "3               11           0.0   \n",
       "4                4           0.0   \n",
       "\n",
       "                                         headline_s2  len_headline_s2  \\\n",
       "0  the 3 key to build immediate rapport in a job ...               11   \n",
       "1  chipotle be make big change but nobody really ...                9   \n",
       "2               highway billboard urge 75mile detour                5   \n",
       "3  raytheon ceo send obama another article about ...               11   \n",
       "4                 mcdonnelldouglas unveil new gaydar                4   \n",
       "\n",
       "   count_lemmatized  ratio_lemmatized  \\\n",
       "0                 2          0.181818   \n",
       "1                 4          0.444444   \n",
       "2                 1          0.200000   \n",
       "3                 2          0.181818   \n",
       "4                 1          0.250000   \n",
       "\n",
       "                                         headline_s3  len_headline_s3  \\\n",
       "0        3 key build immediate rapport job interview                7   \n",
       "1        chipotle make big change nobody really care                7   \n",
       "2               highway billboard urge 75mile detour                5   \n",
       "3  raytheon ceo send obama another article mount ...                9   \n",
       "4                 mcdonnelldouglas unveil new gaydar                4   \n",
       "\n",
       "   numb_stopwords  ratio_stopwords  min_len_word  max_len_word  avg_len_word  \\\n",
       "0               4         0.363636             1             9      4.454545   \n",
       "1               2         0.222222             2             8      5.111111   \n",
       "2               0         0.000000             5             9      6.600000   \n",
       "3               2         0.181818             2             8      5.545455   \n",
       "4               0         0.000000             3            16      8.000000   \n",
       "\n",
       "   has_number  \n",
       "0           1  \n",
       "1           0  \n",
       "2           1  \n",
       "3           0  \n",
       "4           0  "
      ]
     },
     "execution_count": 56,
     "metadata": {},
     "output_type": "execute_result"
    }
   ],
   "source": [
    "data['has_number'] = data.headline.apply(lambda row: 1 if has_Number(row) else 0)\n",
    "data.head()"
   ]
  },
  {
   "cell_type": "code",
   "execution_count": 57,
   "metadata": {
    "hidden": true
   },
   "outputs": [
    {
     "data": {
      "text/plain": [
       "is_sarcastic  has_number\n",
       "0             0             8172\n",
       "              1             1418\n",
       "1             0             7444\n",
       "              1             1282\n",
       "Name: has_number, dtype: int64"
      ]
     },
     "execution_count": 57,
     "metadata": {},
     "output_type": "execute_result"
    }
   ],
   "source": [
    "data.groupby(['is_sarcastic'])['has_number'].value_counts()"
   ]
  },
  {
   "cell_type": "code",
   "execution_count": 58,
   "metadata": {
    "hidden": true
   },
   "outputs": [
    {
     "data": {
      "text/plain": [
       "(0.1478623566214807, 0.1469172587669035)"
      ]
     },
     "execution_count": 58,
     "metadata": {},
     "output_type": "execute_result"
    }
   ],
   "source": [
    "(1418/(1418+8172), 1282/(1282+7444))"
   ]
  },
  {
   "cell_type": "markdown",
   "metadata": {
    "heading_collapsed": true
   },
   "source": [
    "## Step 7: Readability"
   ]
  },
  {
   "cell_type": "markdown",
   "metadata": {
    "heading_collapsed": true,
    "hidden": true
   },
   "source": [
    "### Syllable"
   ]
  },
  {
   "cell_type": "code",
   "execution_count": 59,
   "metadata": {
    "hidden": true
   },
   "outputs": [],
   "source": [
    "data['min_syl_word'] = data.headline_s1.apply(lambda row: min_syl_word(row))\n",
    "data['max_syl_word'] = data.headline_s1.apply(lambda row: max_syl_word(row))\n",
    "data['avg_syl_word'] = data.headline_s1.apply(lambda row: avg_syl_word(row))\n",
    "data['numb_syl'] = data.headline_s1.apply(lambda row: count_syllable(row))\n",
    "data['norm_numb_syl'] = data.numb_syl / data.len_headline_s1"
   ]
  },
  {
   "cell_type": "code",
   "execution_count": 60,
   "metadata": {
    "hidden": true
   },
   "outputs": [
    {
     "data": {
      "text/html": [
       "<div>\n",
       "<style scoped>\n",
       "    .dataframe tbody tr th:only-of-type {\n",
       "        vertical-align: middle;\n",
       "    }\n",
       "\n",
       "    .dataframe tbody tr th {\n",
       "        vertical-align: top;\n",
       "    }\n",
       "\n",
       "    .dataframe thead th {\n",
       "        text-align: right;\n",
       "    }\n",
       "</style>\n",
       "<table border=\"1\" class=\"dataframe\">\n",
       "  <thead>\n",
       "    <tr style=\"text-align: right;\">\n",
       "      <th></th>\n",
       "      <th>is_sarcastic</th>\n",
       "      <th>headline</th>\n",
       "      <th>len_headline</th>\n",
       "      <th>headline_s1</th>\n",
       "      <th>len_headline_s1</th>\n",
       "      <th>ratio_symbol</th>\n",
       "      <th>headline_s2</th>\n",
       "      <th>len_headline_s2</th>\n",
       "      <th>count_lemmatized</th>\n",
       "      <th>ratio_lemmatized</th>\n",
       "      <th>...</th>\n",
       "      <th>ratio_stopwords</th>\n",
       "      <th>min_len_word</th>\n",
       "      <th>max_len_word</th>\n",
       "      <th>avg_len_word</th>\n",
       "      <th>has_number</th>\n",
       "      <th>min_syl_word</th>\n",
       "      <th>max_syl_word</th>\n",
       "      <th>avg_syl_word</th>\n",
       "      <th>numb_syl</th>\n",
       "      <th>norm_numb_syl</th>\n",
       "    </tr>\n",
       "  </thead>\n",
       "  <tbody>\n",
       "    <tr>\n",
       "      <th>0</th>\n",
       "      <td>0</td>\n",
       "      <td>the 3 keys to building immediate rapport in a ...</td>\n",
       "      <td>11</td>\n",
       "      <td>the 3 keys to building immediate rapport in a ...</td>\n",
       "      <td>11</td>\n",
       "      <td>0.0</td>\n",
       "      <td>the 3 key to build immediate rapport in a job ...</td>\n",
       "      <td>11</td>\n",
       "      <td>2</td>\n",
       "      <td>0.181818</td>\n",
       "      <td>...</td>\n",
       "      <td>0.363636</td>\n",
       "      <td>1</td>\n",
       "      <td>9</td>\n",
       "      <td>4.454545</td>\n",
       "      <td>1</td>\n",
       "      <td>1</td>\n",
       "      <td>4</td>\n",
       "      <td>1.636364</td>\n",
       "      <td>18</td>\n",
       "      <td>1.636364</td>\n",
       "    </tr>\n",
       "    <tr>\n",
       "      <th>1</th>\n",
       "      <td>0</td>\n",
       "      <td>chipotle is making big changes but nobody real...</td>\n",
       "      <td>9</td>\n",
       "      <td>chipotle is making big changes but nobody real...</td>\n",
       "      <td>9</td>\n",
       "      <td>0.0</td>\n",
       "      <td>chipotle be make big change but nobody really ...</td>\n",
       "      <td>9</td>\n",
       "      <td>4</td>\n",
       "      <td>0.444444</td>\n",
       "      <td>...</td>\n",
       "      <td>0.222222</td>\n",
       "      <td>2</td>\n",
       "      <td>8</td>\n",
       "      <td>5.111111</td>\n",
       "      <td>0</td>\n",
       "      <td>1</td>\n",
       "      <td>3</td>\n",
       "      <td>1.555556</td>\n",
       "      <td>14</td>\n",
       "      <td>1.555556</td>\n",
       "    </tr>\n",
       "    <tr>\n",
       "      <th>2</th>\n",
       "      <td>1</td>\n",
       "      <td>highway billboard urges 75-mile detour</td>\n",
       "      <td>5</td>\n",
       "      <td>highway billboard urges 75mile detour</td>\n",
       "      <td>5</td>\n",
       "      <td>0.0</td>\n",
       "      <td>highway billboard urge 75mile detour</td>\n",
       "      <td>5</td>\n",
       "      <td>1</td>\n",
       "      <td>0.200000</td>\n",
       "      <td>...</td>\n",
       "      <td>0.000000</td>\n",
       "      <td>5</td>\n",
       "      <td>9</td>\n",
       "      <td>6.600000</td>\n",
       "      <td>1</td>\n",
       "      <td>1</td>\n",
       "      <td>2</td>\n",
       "      <td>1.600000</td>\n",
       "      <td>8</td>\n",
       "      <td>1.600000</td>\n",
       "    </tr>\n",
       "    <tr>\n",
       "      <th>3</th>\n",
       "      <td>1</td>\n",
       "      <td>raytheon ceo sends obama another article about...</td>\n",
       "      <td>11</td>\n",
       "      <td>raytheon ceo sends obama another article about...</td>\n",
       "      <td>11</td>\n",
       "      <td>0.0</td>\n",
       "      <td>raytheon ceo send obama another article about ...</td>\n",
       "      <td>11</td>\n",
       "      <td>2</td>\n",
       "      <td>0.181818</td>\n",
       "      <td>...</td>\n",
       "      <td>0.181818</td>\n",
       "      <td>2</td>\n",
       "      <td>8</td>\n",
       "      <td>5.545455</td>\n",
       "      <td>0</td>\n",
       "      <td>1</td>\n",
       "      <td>3</td>\n",
       "      <td>1.636364</td>\n",
       "      <td>18</td>\n",
       "      <td>1.636364</td>\n",
       "    </tr>\n",
       "    <tr>\n",
       "      <th>4</th>\n",
       "      <td>1</td>\n",
       "      <td>mcdonnell-douglas unveils new 'gay-dar'</td>\n",
       "      <td>4</td>\n",
       "      <td>mcdonnelldouglas unveils new gaydar</td>\n",
       "      <td>4</td>\n",
       "      <td>0.0</td>\n",
       "      <td>mcdonnelldouglas unveil new gaydar</td>\n",
       "      <td>4</td>\n",
       "      <td>1</td>\n",
       "      <td>0.250000</td>\n",
       "      <td>...</td>\n",
       "      <td>0.000000</td>\n",
       "      <td>3</td>\n",
       "      <td>16</td>\n",
       "      <td>8.000000</td>\n",
       "      <td>0</td>\n",
       "      <td>1</td>\n",
       "      <td>5</td>\n",
       "      <td>2.500000</td>\n",
       "      <td>10</td>\n",
       "      <td>2.500000</td>\n",
       "    </tr>\n",
       "  </tbody>\n",
       "</table>\n",
       "<p>5 rows × 23 columns</p>\n",
       "</div>"
      ],
      "text/plain": [
       "   is_sarcastic                                           headline  \\\n",
       "0             0  the 3 keys to building immediate rapport in a ...   \n",
       "1             0  chipotle is making big changes but nobody real...   \n",
       "2             1             highway billboard urges 75-mile detour   \n",
       "3             1  raytheon ceo sends obama another article about...   \n",
       "4             1            mcdonnell-douglas unveils new 'gay-dar'   \n",
       "\n",
       "   len_headline                                        headline_s1  \\\n",
       "0            11  the 3 keys to building immediate rapport in a ...   \n",
       "1             9  chipotle is making big changes but nobody real...   \n",
       "2             5              highway billboard urges 75mile detour   \n",
       "3            11  raytheon ceo sends obama another article about...   \n",
       "4             4                mcdonnelldouglas unveils new gaydar   \n",
       "\n",
       "   len_headline_s1  ratio_symbol  \\\n",
       "0               11           0.0   \n",
       "1                9           0.0   \n",
       "2                5           0.0   \n",
       "3               11           0.0   \n",
       "4                4           0.0   \n",
       "\n",
       "                                         headline_s2  len_headline_s2  \\\n",
       "0  the 3 key to build immediate rapport in a job ...               11   \n",
       "1  chipotle be make big change but nobody really ...                9   \n",
       "2               highway billboard urge 75mile detour                5   \n",
       "3  raytheon ceo send obama another article about ...               11   \n",
       "4                 mcdonnelldouglas unveil new gaydar                4   \n",
       "\n",
       "   count_lemmatized  ratio_lemmatized  ... ratio_stopwords  min_len_word  \\\n",
       "0                 2          0.181818  ...        0.363636             1   \n",
       "1                 4          0.444444  ...        0.222222             2   \n",
       "2                 1          0.200000  ...        0.000000             5   \n",
       "3                 2          0.181818  ...        0.181818             2   \n",
       "4                 1          0.250000  ...        0.000000             3   \n",
       "\n",
       "   max_len_word  avg_len_word  has_number  min_syl_word  max_syl_word  \\\n",
       "0             9      4.454545           1             1             4   \n",
       "1             8      5.111111           0             1             3   \n",
       "2             9      6.600000           1             1             2   \n",
       "3             8      5.545455           0             1             3   \n",
       "4            16      8.000000           0             1             5   \n",
       "\n",
       "   avg_syl_word  numb_syl  norm_numb_syl  \n",
       "0      1.636364        18       1.636364  \n",
       "1      1.555556        14       1.555556  \n",
       "2      1.600000         8       1.600000  \n",
       "3      1.636364        18       1.636364  \n",
       "4      2.500000        10       2.500000  \n",
       "\n",
       "[5 rows x 23 columns]"
      ]
     },
     "execution_count": 60,
     "metadata": {},
     "output_type": "execute_result"
    }
   ],
   "source": [
    "data.head()"
   ]
  },
  {
   "cell_type": "code",
   "execution_count": 61,
   "metadata": {
    "hidden": true
   },
   "outputs": [
    {
     "data": {
      "text/plain": [
       "0.030072954200869174"
      ]
     },
     "execution_count": 61,
     "metadata": {},
     "output_type": "execute_result"
    }
   ],
   "source": [
    "data['min_syl_word'].corr(data['is_sarcastic'])"
   ]
  },
  {
   "cell_type": "code",
   "execution_count": 62,
   "metadata": {
    "hidden": true
   },
   "outputs": [
    {
     "data": {
      "text/plain": [
       "0.09150957448661082"
      ]
     },
     "execution_count": 62,
     "metadata": {},
     "output_type": "execute_result"
    }
   ],
   "source": [
    "data['max_syl_word'].corr(data['is_sarcastic'])"
   ]
  },
  {
   "cell_type": "code",
   "execution_count": 63,
   "metadata": {
    "hidden": true
   },
   "outputs": [
    {
     "data": {
      "text/plain": [
       "0.15568435599672417"
      ]
     },
     "execution_count": 63,
     "metadata": {},
     "output_type": "execute_result"
    }
   ],
   "source": [
    "data['avg_syl_word'].corr(data['is_sarcastic'])"
   ]
  },
  {
   "cell_type": "code",
   "execution_count": 64,
   "metadata": {
    "hidden": true
   },
   "outputs": [
    {
     "data": {
      "text/plain": [
       "0.14993987440630346"
      ]
     },
     "execution_count": 64,
     "metadata": {},
     "output_type": "execute_result"
    }
   ],
   "source": [
    "data['numb_syl'].corr(data['is_sarcastic'])"
   ]
  },
  {
   "cell_type": "code",
   "execution_count": 65,
   "metadata": {
    "hidden": true
   },
   "outputs": [
    {
     "data": {
      "text/plain": [
       "0.15211688834361267"
      ]
     },
     "execution_count": 65,
     "metadata": {},
     "output_type": "execute_result"
    }
   ],
   "source": [
    "data['norm_numb_syl'].corr(data['is_sarcastic'])"
   ]
  },
  {
   "cell_type": "markdown",
   "metadata": {
    "hidden": true
   },
   "source": [
    "```sarcastic``` tend to use words with longer syllabel"
   ]
  },
  {
   "cell_type": "markdown",
   "metadata": {
    "heading_collapsed": true,
    "hidden": true
   },
   "source": [
    "### Lexicon (Not Useful)"
   ]
  },
  {
   "cell_type": "code",
   "execution_count": 68,
   "metadata": {
    "hidden": true
   },
   "outputs": [
    {
     "data": {
      "text/html": [
       "<div>\n",
       "<style scoped>\n",
       "    .dataframe tbody tr th:only-of-type {\n",
       "        vertical-align: middle;\n",
       "    }\n",
       "\n",
       "    .dataframe tbody tr th {\n",
       "        vertical-align: top;\n",
       "    }\n",
       "\n",
       "    .dataframe thead th {\n",
       "        text-align: right;\n",
       "    }\n",
       "</style>\n",
       "<table border=\"1\" class=\"dataframe\">\n",
       "  <thead>\n",
       "    <tr style=\"text-align: right;\">\n",
       "      <th></th>\n",
       "      <th>is_sarcastic</th>\n",
       "      <th>headline</th>\n",
       "      <th>len_headline</th>\n",
       "      <th>headline_s1</th>\n",
       "      <th>len_headline_s1</th>\n",
       "      <th>ratio_symbol</th>\n",
       "      <th>headline_s2</th>\n",
       "      <th>len_headline_s2</th>\n",
       "      <th>count_lemmatized</th>\n",
       "      <th>ratio_lemmatized</th>\n",
       "      <th>...</th>\n",
       "      <th>max_len_word</th>\n",
       "      <th>avg_len_word</th>\n",
       "      <th>has_number</th>\n",
       "      <th>min_syl_word</th>\n",
       "      <th>max_syl_word</th>\n",
       "      <th>avg_syl_word</th>\n",
       "      <th>numb_syl</th>\n",
       "      <th>norm_numb_syl</th>\n",
       "      <th>numb_lex</th>\n",
       "      <th>norm_numb_lex</th>\n",
       "    </tr>\n",
       "  </thead>\n",
       "  <tbody>\n",
       "    <tr>\n",
       "      <th>0</th>\n",
       "      <td>0</td>\n",
       "      <td>the 3 keys to building immediate rapport in a ...</td>\n",
       "      <td>11</td>\n",
       "      <td>the 3 keys to building immediate rapport in a ...</td>\n",
       "      <td>11</td>\n",
       "      <td>0.0</td>\n",
       "      <td>the 3 key to build immediate rapport in a job ...</td>\n",
       "      <td>11</td>\n",
       "      <td>2</td>\n",
       "      <td>0.181818</td>\n",
       "      <td>...</td>\n",
       "      <td>9</td>\n",
       "      <td>4.454545</td>\n",
       "      <td>1</td>\n",
       "      <td>1</td>\n",
       "      <td>4</td>\n",
       "      <td>1.636364</td>\n",
       "      <td>18</td>\n",
       "      <td>1.636364</td>\n",
       "      <td>11</td>\n",
       "      <td>1.0</td>\n",
       "    </tr>\n",
       "    <tr>\n",
       "      <th>1</th>\n",
       "      <td>0</td>\n",
       "      <td>chipotle is making big changes but nobody real...</td>\n",
       "      <td>9</td>\n",
       "      <td>chipotle is making big changes but nobody real...</td>\n",
       "      <td>9</td>\n",
       "      <td>0.0</td>\n",
       "      <td>chipotle be make big change but nobody really ...</td>\n",
       "      <td>9</td>\n",
       "      <td>4</td>\n",
       "      <td>0.444444</td>\n",
       "      <td>...</td>\n",
       "      <td>8</td>\n",
       "      <td>5.111111</td>\n",
       "      <td>0</td>\n",
       "      <td>1</td>\n",
       "      <td>3</td>\n",
       "      <td>1.555556</td>\n",
       "      <td>14</td>\n",
       "      <td>1.555556</td>\n",
       "      <td>9</td>\n",
       "      <td>1.0</td>\n",
       "    </tr>\n",
       "    <tr>\n",
       "      <th>2</th>\n",
       "      <td>1</td>\n",
       "      <td>highway billboard urges 75-mile detour</td>\n",
       "      <td>5</td>\n",
       "      <td>highway billboard urges 75mile detour</td>\n",
       "      <td>5</td>\n",
       "      <td>0.0</td>\n",
       "      <td>highway billboard urge 75mile detour</td>\n",
       "      <td>5</td>\n",
       "      <td>1</td>\n",
       "      <td>0.200000</td>\n",
       "      <td>...</td>\n",
       "      <td>9</td>\n",
       "      <td>6.600000</td>\n",
       "      <td>1</td>\n",
       "      <td>1</td>\n",
       "      <td>2</td>\n",
       "      <td>1.600000</td>\n",
       "      <td>8</td>\n",
       "      <td>1.600000</td>\n",
       "      <td>5</td>\n",
       "      <td>1.0</td>\n",
       "    </tr>\n",
       "    <tr>\n",
       "      <th>3</th>\n",
       "      <td>1</td>\n",
       "      <td>raytheon ceo sends obama another article about...</td>\n",
       "      <td>11</td>\n",
       "      <td>raytheon ceo sends obama another article about...</td>\n",
       "      <td>11</td>\n",
       "      <td>0.0</td>\n",
       "      <td>raytheon ceo send obama another article about ...</td>\n",
       "      <td>11</td>\n",
       "      <td>2</td>\n",
       "      <td>0.181818</td>\n",
       "      <td>...</td>\n",
       "      <td>8</td>\n",
       "      <td>5.545455</td>\n",
       "      <td>0</td>\n",
       "      <td>1</td>\n",
       "      <td>3</td>\n",
       "      <td>1.636364</td>\n",
       "      <td>18</td>\n",
       "      <td>1.636364</td>\n",
       "      <td>11</td>\n",
       "      <td>1.0</td>\n",
       "    </tr>\n",
       "    <tr>\n",
       "      <th>4</th>\n",
       "      <td>1</td>\n",
       "      <td>mcdonnell-douglas unveils new 'gay-dar'</td>\n",
       "      <td>4</td>\n",
       "      <td>mcdonnelldouglas unveils new gaydar</td>\n",
       "      <td>4</td>\n",
       "      <td>0.0</td>\n",
       "      <td>mcdonnelldouglas unveil new gaydar</td>\n",
       "      <td>4</td>\n",
       "      <td>1</td>\n",
       "      <td>0.250000</td>\n",
       "      <td>...</td>\n",
       "      <td>16</td>\n",
       "      <td>8.000000</td>\n",
       "      <td>0</td>\n",
       "      <td>1</td>\n",
       "      <td>5</td>\n",
       "      <td>2.500000</td>\n",
       "      <td>10</td>\n",
       "      <td>2.500000</td>\n",
       "      <td>4</td>\n",
       "      <td>1.0</td>\n",
       "    </tr>\n",
       "  </tbody>\n",
       "</table>\n",
       "<p>5 rows × 25 columns</p>\n",
       "</div>"
      ],
      "text/plain": [
       "   is_sarcastic                                           headline  \\\n",
       "0             0  the 3 keys to building immediate rapport in a ...   \n",
       "1             0  chipotle is making big changes but nobody real...   \n",
       "2             1             highway billboard urges 75-mile detour   \n",
       "3             1  raytheon ceo sends obama another article about...   \n",
       "4             1            mcdonnell-douglas unveils new 'gay-dar'   \n",
       "\n",
       "   len_headline                                        headline_s1  \\\n",
       "0            11  the 3 keys to building immediate rapport in a ...   \n",
       "1             9  chipotle is making big changes but nobody real...   \n",
       "2             5              highway billboard urges 75mile detour   \n",
       "3            11  raytheon ceo sends obama another article about...   \n",
       "4             4                mcdonnelldouglas unveils new gaydar   \n",
       "\n",
       "   len_headline_s1  ratio_symbol  \\\n",
       "0               11           0.0   \n",
       "1                9           0.0   \n",
       "2                5           0.0   \n",
       "3               11           0.0   \n",
       "4                4           0.0   \n",
       "\n",
       "                                         headline_s2  len_headline_s2  \\\n",
       "0  the 3 key to build immediate rapport in a job ...               11   \n",
       "1  chipotle be make big change but nobody really ...                9   \n",
       "2               highway billboard urge 75mile detour                5   \n",
       "3  raytheon ceo send obama another article about ...               11   \n",
       "4                 mcdonnelldouglas unveil new gaydar                4   \n",
       "\n",
       "   count_lemmatized  ratio_lemmatized  ... max_len_word  avg_len_word  \\\n",
       "0                 2          0.181818  ...            9      4.454545   \n",
       "1                 4          0.444444  ...            8      5.111111   \n",
       "2                 1          0.200000  ...            9      6.600000   \n",
       "3                 2          0.181818  ...            8      5.545455   \n",
       "4                 1          0.250000  ...           16      8.000000   \n",
       "\n",
       "   has_number  min_syl_word  max_syl_word  avg_syl_word  numb_syl  \\\n",
       "0           1             1             4      1.636364        18   \n",
       "1           0             1             3      1.555556        14   \n",
       "2           1             1             2      1.600000         8   \n",
       "3           0             1             3      1.636364        18   \n",
       "4           0             1             5      2.500000        10   \n",
       "\n",
       "   norm_numb_syl  numb_lex  norm_numb_lex  \n",
       "0       1.636364        11            1.0  \n",
       "1       1.555556         9            1.0  \n",
       "2       1.600000         5            1.0  \n",
       "3       1.636364        11            1.0  \n",
       "4       2.500000         4            1.0  \n",
       "\n",
       "[5 rows x 25 columns]"
      ]
     },
     "execution_count": 68,
     "metadata": {},
     "output_type": "execute_result"
    }
   ],
   "source": [
    "data['numb_lex'] = data.headline_s1.apply(lambda row: count_lexicon(row))\n",
    "data['norm_numb_lex'] = data.numb_lex / data.len_headline_s1\n",
    "data.head()"
   ]
  },
  {
   "cell_type": "code",
   "execution_count": 69,
   "metadata": {
    "hidden": true
   },
   "outputs": [
    {
     "data": {
      "text/plain": [
       "0.013032827417104917"
      ]
     },
     "execution_count": 69,
     "metadata": {},
     "output_type": "execute_result"
    }
   ],
   "source": [
    "data['norm_numb_lex'].corr(data['is_sarcastic'])"
   ]
  },
  {
   "cell_type": "code",
   "execution_count": 70,
   "metadata": {
    "hidden": true
   },
   "outputs": [
    {
     "data": {
      "text/plain": [
       "0.07132936862421263"
      ]
     },
     "execution_count": 70,
     "metadata": {},
     "output_type": "execute_result"
    }
   ],
   "source": [
    "data['numb_lex'].corr(data['is_sarcastic'])"
   ]
  },
  {
   "cell_type": "markdown",
   "metadata": {
    "heading_collapsed": true,
    "hidden": true
   },
   "source": [
    "### Readability tests"
   ]
  },
  {
   "cell_type": "code",
   "execution_count": 84,
   "metadata": {
    "hidden": true
   },
   "outputs": [],
   "source": [
    "data['flesch_reading_score'] = data.headline.apply(lambda row: textstat.flesch_reading_ease(row))\n",
    "data['flesch_grade_score'] = data.headline.apply(lambda row: textstat.flesch_kincaid_grade(row))\n",
    "data['fog_score'] = data.headline.apply(lambda row: textstat.gunning_fog(row))\n",
    "data['smog_score'] = data.headline.apply(lambda row: textstat.smog_index(row))\n",
    "data['ari_score'] = data.headline.apply(lambda row: textstat.automated_readability_index(row))\n",
    "data['coleman_score'] = data.headline.apply(lambda row: textstat.coleman_liau_index(row))\n",
    "data['linsear_score'] = data.headline.apply(lambda row: textstat.linsear_write_formula(row))\n",
    "data['dale_score'] = data.headline.apply(lambda row: textstat.dale_chall_readability_score(row))\n",
    "data['standard_score'] = data.headline.apply(lambda row: textstat.text_standard(row, float_output=True))"
   ]
  },
  {
   "cell_type": "code",
   "execution_count": 85,
   "metadata": {
    "hidden": true
   },
   "outputs": [
    {
     "data": {
      "text/html": [
       "<div>\n",
       "<style scoped>\n",
       "    .dataframe tbody tr th:only-of-type {\n",
       "        vertical-align: middle;\n",
       "    }\n",
       "\n",
       "    .dataframe tbody tr th {\n",
       "        vertical-align: top;\n",
       "    }\n",
       "\n",
       "    .dataframe thead th {\n",
       "        text-align: right;\n",
       "    }\n",
       "</style>\n",
       "<table border=\"1\" class=\"dataframe\">\n",
       "  <thead>\n",
       "    <tr style=\"text-align: right;\">\n",
       "      <th></th>\n",
       "      <th>is_sarcastic</th>\n",
       "      <th>headline</th>\n",
       "      <th>len_headline</th>\n",
       "      <th>headline_s1</th>\n",
       "      <th>len_headline_s1</th>\n",
       "      <th>ratio_symbol</th>\n",
       "      <th>headline_s2</th>\n",
       "      <th>len_headline_s2</th>\n",
       "      <th>count_lemmatized</th>\n",
       "      <th>ratio_lemmatized</th>\n",
       "      <th>...</th>\n",
       "      <th>norm_numb_lex</th>\n",
       "      <th>flesch_reading_score</th>\n",
       "      <th>flesch_grade_score</th>\n",
       "      <th>fog_score</th>\n",
       "      <th>smog_score</th>\n",
       "      <th>ari_score</th>\n",
       "      <th>coleman_score</th>\n",
       "      <th>linsear_score</th>\n",
       "      <th>dale_score</th>\n",
       "      <th>standard_score</th>\n",
       "    </tr>\n",
       "  </thead>\n",
       "  <tbody>\n",
       "    <tr>\n",
       "      <th>0</th>\n",
       "      <td>0</td>\n",
       "      <td>the 3 keys to building immediate rapport in a ...</td>\n",
       "      <td>11</td>\n",
       "      <td>the 3 keys to building immediate rapport in a ...</td>\n",
       "      <td>11</td>\n",
       "      <td>0.0</td>\n",
       "      <td>the 3 key to build immediate rapport in a job ...</td>\n",
       "      <td>11</td>\n",
       "      <td>2</td>\n",
       "      <td>0.181818</td>\n",
       "      <td>...</td>\n",
       "      <td>1.0</td>\n",
       "      <td>60.31</td>\n",
       "      <td>7.6</td>\n",
       "      <td>11.67</td>\n",
       "      <td>0.0</td>\n",
       "      <td>5.0</td>\n",
       "      <td>7.35</td>\n",
       "      <td>6.5</td>\n",
       "      <td>8.49</td>\n",
       "      <td>8.0</td>\n",
       "    </tr>\n",
       "    <tr>\n",
       "      <th>1</th>\n",
       "      <td>0</td>\n",
       "      <td>chipotle is making big changes but nobody real...</td>\n",
       "      <td>9</td>\n",
       "      <td>chipotle is making big changes but nobody real...</td>\n",
       "      <td>9</td>\n",
       "      <td>0.0</td>\n",
       "      <td>chipotle be make big change but nobody really ...</td>\n",
       "      <td>9</td>\n",
       "      <td>4</td>\n",
       "      <td>0.444444</td>\n",
       "      <td>...</td>\n",
       "      <td>1.0</td>\n",
       "      <td>62.34</td>\n",
       "      <td>6.8</td>\n",
       "      <td>3.60</td>\n",
       "      <td>0.0</td>\n",
       "      <td>7.1</td>\n",
       "      <td>10.58</td>\n",
       "      <td>4.5</td>\n",
       "      <td>5.84</td>\n",
       "      <td>7.0</td>\n",
       "    </tr>\n",
       "    <tr>\n",
       "      <th>2</th>\n",
       "      <td>1</td>\n",
       "      <td>highway billboard urges 75-mile detour</td>\n",
       "      <td>5</td>\n",
       "      <td>highway billboard urges 75mile detour</td>\n",
       "      <td>5</td>\n",
       "      <td>0.0</td>\n",
       "      <td>highway billboard urge 75mile detour</td>\n",
       "      <td>5</td>\n",
       "      <td>1</td>\n",
       "      <td>0.200000</td>\n",
       "      <td>...</td>\n",
       "      <td>1.0</td>\n",
       "      <td>66.40</td>\n",
       "      <td>5.2</td>\n",
       "      <td>2.00</td>\n",
       "      <td>0.0</td>\n",
       "      <td>13.1</td>\n",
       "      <td>16.56</td>\n",
       "      <td>1.5</td>\n",
       "      <td>7.04</td>\n",
       "      <td>2.0</td>\n",
       "    </tr>\n",
       "    <tr>\n",
       "      <th>3</th>\n",
       "      <td>1</td>\n",
       "      <td>raytheon ceo sends obama another article about...</td>\n",
       "      <td>11</td>\n",
       "      <td>raytheon ceo sends obama another article about...</td>\n",
       "      <td>11</td>\n",
       "      <td>0.0</td>\n",
       "      <td>raytheon ceo send obama another article about ...</td>\n",
       "      <td>11</td>\n",
       "      <td>2</td>\n",
       "      <td>0.181818</td>\n",
       "      <td>...</td>\n",
       "      <td>1.0</td>\n",
       "      <td>60.31</td>\n",
       "      <td>7.6</td>\n",
       "      <td>8.04</td>\n",
       "      <td>0.0</td>\n",
       "      <td>10.2</td>\n",
       "      <td>13.73</td>\n",
       "      <td>6.5</td>\n",
       "      <td>9.92</td>\n",
       "      <td>8.0</td>\n",
       "    </tr>\n",
       "    <tr>\n",
       "      <th>4</th>\n",
       "      <td>1</td>\n",
       "      <td>mcdonnell-douglas unveils new 'gay-dar'</td>\n",
       "      <td>4</td>\n",
       "      <td>mcdonnelldouglas unveils new gaydar</td>\n",
       "      <td>4</td>\n",
       "      <td>0.0</td>\n",
       "      <td>mcdonnelldouglas unveil new gaydar</td>\n",
       "      <td>4</td>\n",
       "      <td>1</td>\n",
       "      <td>0.250000</td>\n",
       "      <td>...</td>\n",
       "      <td>1.0</td>\n",
       "      <td>-8.73</td>\n",
       "      <td>15.5</td>\n",
       "      <td>11.60</td>\n",
       "      <td>0.0</td>\n",
       "      <td>23.0</td>\n",
       "      <td>23.20</td>\n",
       "      <td>2.0</td>\n",
       "      <td>15.68</td>\n",
       "      <td>16.0</td>\n",
       "    </tr>\n",
       "  </tbody>\n",
       "</table>\n",
       "<p>5 rows × 34 columns</p>\n",
       "</div>"
      ],
      "text/plain": [
       "   is_sarcastic                                           headline  \\\n",
       "0             0  the 3 keys to building immediate rapport in a ...   \n",
       "1             0  chipotle is making big changes but nobody real...   \n",
       "2             1             highway billboard urges 75-mile detour   \n",
       "3             1  raytheon ceo sends obama another article about...   \n",
       "4             1            mcdonnell-douglas unveils new 'gay-dar'   \n",
       "\n",
       "   len_headline                                        headline_s1  \\\n",
       "0            11  the 3 keys to building immediate rapport in a ...   \n",
       "1             9  chipotle is making big changes but nobody real...   \n",
       "2             5              highway billboard urges 75mile detour   \n",
       "3            11  raytheon ceo sends obama another article about...   \n",
       "4             4                mcdonnelldouglas unveils new gaydar   \n",
       "\n",
       "   len_headline_s1  ratio_symbol  \\\n",
       "0               11           0.0   \n",
       "1                9           0.0   \n",
       "2                5           0.0   \n",
       "3               11           0.0   \n",
       "4                4           0.0   \n",
       "\n",
       "                                         headline_s2  len_headline_s2  \\\n",
       "0  the 3 key to build immediate rapport in a job ...               11   \n",
       "1  chipotle be make big change but nobody really ...                9   \n",
       "2               highway billboard urge 75mile detour                5   \n",
       "3  raytheon ceo send obama another article about ...               11   \n",
       "4                 mcdonnelldouglas unveil new gaydar                4   \n",
       "\n",
       "   count_lemmatized  ratio_lemmatized  ... norm_numb_lex  \\\n",
       "0                 2          0.181818  ...           1.0   \n",
       "1                 4          0.444444  ...           1.0   \n",
       "2                 1          0.200000  ...           1.0   \n",
       "3                 2          0.181818  ...           1.0   \n",
       "4                 1          0.250000  ...           1.0   \n",
       "\n",
       "   flesch_reading_score  flesch_grade_score  fog_score  smog_score  ari_score  \\\n",
       "0                 60.31                 7.6      11.67         0.0        5.0   \n",
       "1                 62.34                 6.8       3.60         0.0        7.1   \n",
       "2                 66.40                 5.2       2.00         0.0       13.1   \n",
       "3                 60.31                 7.6       8.04         0.0       10.2   \n",
       "4                 -8.73                15.5      11.60         0.0       23.0   \n",
       "\n",
       "   coleman_score  linsear_score  dale_score  standard_score  \n",
       "0           7.35            6.5        8.49             8.0  \n",
       "1          10.58            4.5        5.84             7.0  \n",
       "2          16.56            1.5        7.04             2.0  \n",
       "3          13.73            6.5        9.92             8.0  \n",
       "4          23.20            2.0       15.68            16.0  \n",
       "\n",
       "[5 rows x 34 columns]"
      ]
     },
     "execution_count": 85,
     "metadata": {},
     "output_type": "execute_result"
    }
   ],
   "source": [
    "data.head()"
   ]
  },
  {
   "cell_type": "code",
   "execution_count": 86,
   "metadata": {
    "hidden": true
   },
   "outputs": [
    {
     "data": {
      "text/plain": [
       "-0.16319503505310232"
      ]
     },
     "execution_count": 86,
     "metadata": {},
     "output_type": "execute_result"
    }
   ],
   "source": [
    "data['flesch_reading_score'].corr(data['is_sarcastic'])"
   ]
  },
  {
   "cell_type": "code",
   "execution_count": 96,
   "metadata": {
    "hidden": true
   },
   "outputs": [
    {
     "name": "stderr",
     "output_type": "stream",
     "text": [
      "/home/nmduy/anaconda3/envs/graph/lib/python3.7/site-packages/seaborn/distributions.py:2551: FutureWarning: `distplot` is a deprecated function and will be removed in a future version. Please adapt your code to use either `displot` (a figure-level function with similar flexibility) or `kdeplot` (an axes-level function for kernel density plots).\n",
      "  warnings.warn(msg, FutureWarning)\n",
      "/home/nmduy/anaconda3/envs/graph/lib/python3.7/site-packages/seaborn/distributions.py:2551: FutureWarning: `distplot` is a deprecated function and will be removed in a future version. Please adapt your code to use either `displot` (a figure-level function with similar flexibility) or `kdeplot` (an axes-level function for kernel density plots).\n",
      "  warnings.warn(msg, FutureWarning)\n"
     ]
    },
    {
     "data": {
      "text/plain": [
       "Text(0, 0.5, 'Density')"
      ]
     },
     "execution_count": 96,
     "metadata": {},
     "output_type": "execute_result"
    },
    {
     "data": {
      "image/png": "[encoded data removed]",
      "text/plain": [
       "<Figure size 432x288 with 1 Axes>"
      ]
     },
     "metadata": {
      "needs_background": "light"
     },
     "output_type": "display_data"
    }
   ],
   "source": [
    "df = data[data.is_sarcastic == 1]\n",
    "sns.distplot(df['flesch_reading_score'], hist = False, kde = True, label='sarcastic')\n",
    "df = data[data.is_sarcastic == 0]\n",
    "sns.distplot(df['flesch_reading_score'], hist = False, kde = True, label='normal')\n",
    "# Plot formatting\n",
    "plt.legend(prop={'size': 12})\n",
    "plt.title('flesch_reading_score on headlines between 2 classes')\n",
    "plt.xlabel('score')\n",
    "plt.ylabel('Density')  "
   ]
  },
  {
   "cell_type": "code",
   "execution_count": 87,
   "metadata": {
    "hidden": true
   },
   "outputs": [
    {
     "data": {
      "text/plain": [
       "0.17857554788933952"
      ]
     },
     "execution_count": 87,
     "metadata": {},
     "output_type": "execute_result"
    }
   ],
   "source": [
    "data['flesch_grade_score'].corr(data['is_sarcastic'])"
   ]
  },
  {
   "cell_type": "code",
   "execution_count": 97,
   "metadata": {
    "hidden": true
   },
   "outputs": [
    {
     "name": "stderr",
     "output_type": "stream",
     "text": [
      "/home/nmduy/anaconda3/envs/graph/lib/python3.7/site-packages/seaborn/distributions.py:2551: FutureWarning: `distplot` is a deprecated function and will be removed in a future version. Please adapt your code to use either `displot` (a figure-level function with similar flexibility) or `kdeplot` (an axes-level function for kernel density plots).\n",
      "  warnings.warn(msg, FutureWarning)\n",
      "/home/nmduy/anaconda3/envs/graph/lib/python3.7/site-packages/seaborn/distributions.py:2551: FutureWarning: `distplot` is a deprecated function and will be removed in a future version. Please adapt your code to use either `displot` (a figure-level function with similar flexibility) or `kdeplot` (an axes-level function for kernel density plots).\n",
      "  warnings.warn(msg, FutureWarning)\n"
     ]
    },
    {
     "data": {
      "text/plain": [
       "Text(0, 0.5, 'Density')"
      ]
     },
     "execution_count": 97,
     "metadata": {},
     "output_type": "execute_result"
    },
    {
     "data": {
      "image/png": "[encoded data removed]",
      "text/plain": [
       "<Figure size 432x288 with 1 Axes>"
      ]
     },
     "metadata": {
      "needs_background": "light"
     },
     "output_type": "display_data"
    }
   ],
   "source": [
    "df = data[data.is_sarcastic == 1]\n",
    "sns.distplot(df['flesch_grade_score'], hist = False, kde = True, label='sarcastic')\n",
    "df = data[data.is_sarcastic == 0]\n",
    "sns.distplot(df['flesch_grade_score'], hist = False, kde = True, label='normal')\n",
    "# Plot formatting\n",
    "plt.legend(prop={'size': 12})\n",
    "plt.title('flesch_grade_score on headlines between 2 classes')\n",
    "plt.xlabel('score')\n",
    "plt.ylabel('Density')  "
   ]
  },
  {
   "cell_type": "code",
   "execution_count": 88,
   "metadata": {
    "hidden": true
   },
   "outputs": [
    {
     "data": {
      "text/plain": [
       "0.09957961811147485"
      ]
     },
     "execution_count": 88,
     "metadata": {},
     "output_type": "execute_result"
    }
   ],
   "source": [
    "data['fog_score'].corr(data['is_sarcastic'])"
   ]
  },
  {
   "cell_type": "code",
   "execution_count": 89,
   "metadata": {
    "hidden": true
   },
   "outputs": [
    {
     "data": {
      "text/plain": [
       "nan"
      ]
     },
     "execution_count": 89,
     "metadata": {},
     "output_type": "execute_result"
    }
   ],
   "source": [
    "data['smog_score'].corr(data['is_sarcastic'])"
   ]
  },
  {
   "cell_type": "code",
   "execution_count": 90,
   "metadata": {
    "hidden": true
   },
   "outputs": [
    {
     "data": {
      "text/plain": [
       "0.18537336729825488"
      ]
     },
     "execution_count": 90,
     "metadata": {},
     "output_type": "execute_result"
    }
   ],
   "source": [
    "data['ari_score'].corr(data['is_sarcastic'])"
   ]
  },
  {
   "cell_type": "code",
   "execution_count": 98,
   "metadata": {
    "hidden": true
   },
   "outputs": [
    {
     "name": "stderr",
     "output_type": "stream",
     "text": [
      "/home/nmduy/anaconda3/envs/graph/lib/python3.7/site-packages/seaborn/distributions.py:2551: FutureWarning: `distplot` is a deprecated function and will be removed in a future version. Please adapt your code to use either `displot` (a figure-level function with similar flexibility) or `kdeplot` (an axes-level function for kernel density plots).\n",
      "  warnings.warn(msg, FutureWarning)\n",
      "/home/nmduy/anaconda3/envs/graph/lib/python3.7/site-packages/seaborn/distributions.py:2551: FutureWarning: `distplot` is a deprecated function and will be removed in a future version. Please adapt your code to use either `displot` (a figure-level function with similar flexibility) or `kdeplot` (an axes-level function for kernel density plots).\n",
      "  warnings.warn(msg, FutureWarning)\n"
     ]
    },
    {
     "data": {
      "text/plain": [
       "Text(0, 0.5, 'Density')"
      ]
     },
     "execution_count": 98,
     "metadata": {},
     "output_type": "execute_result"
    },
    {
     "data": {
      "image/png": "[encoded data removed]",
      "text/plain": [
       "<Figure size 432x288 with 1 Axes>"
      ]
     },
     "metadata": {
      "needs_background": "light"
     },
     "output_type": "display_data"
    }
   ],
   "source": [
    "df = data[data.is_sarcastic == 1]\n",
    "sns.distplot(df['ari_score'], hist = False, kde = True, label='sarcastic')\n",
    "df = data[data.is_sarcastic == 0]\n",
    "sns.distplot(df['ari_score'], hist = False, kde = True, label='normal')\n",
    "# Plot formatting\n",
    "plt.legend(prop={'size': 12})\n",
    "plt.title('ari_score on headlines between 2 classes')\n",
    "plt.xlabel('score')\n",
    "plt.ylabel('Density')  "
   ]
  },
  {
   "cell_type": "code",
   "execution_count": 91,
   "metadata": {
    "hidden": true
   },
   "outputs": [
    {
     "data": {
      "text/plain": [
       "0.18822091599262286"
      ]
     },
     "execution_count": 91,
     "metadata": {},
     "output_type": "execute_result"
    }
   ],
   "source": [
    "data['coleman_score'].corr(data['is_sarcastic'])"
   ]
  },
  {
   "cell_type": "code",
   "execution_count": 99,
   "metadata": {
    "hidden": true
   },
   "outputs": [
    {
     "name": "stderr",
     "output_type": "stream",
     "text": [
      "/home/nmduy/anaconda3/envs/graph/lib/python3.7/site-packages/seaborn/distributions.py:2551: FutureWarning: `distplot` is a deprecated function and will be removed in a future version. Please adapt your code to use either `displot` (a figure-level function with similar flexibility) or `kdeplot` (an axes-level function for kernel density plots).\n",
      "  warnings.warn(msg, FutureWarning)\n",
      "/home/nmduy/anaconda3/envs/graph/lib/python3.7/site-packages/seaborn/distributions.py:2551: FutureWarning: `distplot` is a deprecated function and will be removed in a future version. Please adapt your code to use either `displot` (a figure-level function with similar flexibility) or `kdeplot` (an axes-level function for kernel density plots).\n",
      "  warnings.warn(msg, FutureWarning)\n"
     ]
    },
    {
     "data": {
      "text/plain": [
       "Text(0, 0.5, 'Density')"
      ]
     },
     "execution_count": 99,
     "metadata": {},
     "output_type": "execute_result"
    },
    {
     "data": {
      "image/png": "[encoded data removed]",
      "text/plain": [
       "<Figure size 432x288 with 1 Axes>"
      ]
     },
     "metadata": {
      "needs_background": "light"
     },
     "output_type": "display_data"
    }
   ],
   "source": [
    "df = data[data.is_sarcastic == 1]\n",
    "sns.distplot(df['coleman_score'], hist = False, kde = True, label='sarcastic')\n",
    "df = data[data.is_sarcastic == 0]\n",
    "sns.distplot(df['coleman_score'], hist = False, kde = True, label='normal')\n",
    "# Plot formatting\n",
    "plt.legend(prop={'size': 12})\n",
    "plt.title('coleman_score on headlines between 2 classes')\n",
    "plt.xlabel('score')\n",
    "plt.ylabel('Density')  "
   ]
  },
  {
   "cell_type": "code",
   "execution_count": 92,
   "metadata": {
    "hidden": true
   },
   "outputs": [
    {
     "data": {
      "text/plain": [
       "0.12596705466683933"
      ]
     },
     "execution_count": 92,
     "metadata": {},
     "output_type": "execute_result"
    }
   ],
   "source": [
    "data['linsear_score'].corr(data['is_sarcastic'])"
   ]
  },
  {
   "cell_type": "code",
   "execution_count": 102,
   "metadata": {
    "hidden": true
   },
   "outputs": [
    {
     "name": "stderr",
     "output_type": "stream",
     "text": [
      "/home/nmduy/anaconda3/envs/graph/lib/python3.7/site-packages/seaborn/distributions.py:2551: FutureWarning: `distplot` is a deprecated function and will be removed in a future version. Please adapt your code to use either `displot` (a figure-level function with similar flexibility) or `kdeplot` (an axes-level function for kernel density plots).\n",
      "  warnings.warn(msg, FutureWarning)\n",
      "/home/nmduy/anaconda3/envs/graph/lib/python3.7/site-packages/seaborn/distributions.py:2551: FutureWarning: `distplot` is a deprecated function and will be removed in a future version. Please adapt your code to use either `displot` (a figure-level function with similar flexibility) or `kdeplot` (an axes-level function for kernel density plots).\n",
      "  warnings.warn(msg, FutureWarning)\n"
     ]
    },
    {
     "data": {
      "text/plain": [
       "Text(0, 0.5, 'Density')"
      ]
     },
     "execution_count": 102,
     "metadata": {},
     "output_type": "execute_result"
    },
    {
     "data": {
      "image/png": "[encoded data removed]",
      "text/plain": [
       "<Figure size 432x288 with 1 Axes>"
      ]
     },
     "metadata": {
      "needs_background": "light"
     },
     "output_type": "display_data"
    }
   ],
   "source": [
    "df = data[data.is_sarcastic == 1]\n",
    "sns.distplot(df['linsear_score'], hist = False, kde = True, label='sarcastic')\n",
    "df = data[data.is_sarcastic == 0]\n",
    "sns.distplot(df['linsear_score'], hist = False, kde = True, label='normal')\n",
    "# Plot formatting\n",
    "plt.legend(prop={'size': 12})\n",
    "plt.title('linsear_score on headlines between 2 classes')\n",
    "plt.xlabel('score')\n",
    "plt.ylabel('Density')  "
   ]
  },
  {
   "cell_type": "code",
   "execution_count": 93,
   "metadata": {
    "hidden": true
   },
   "outputs": [
    {
     "data": {
      "text/plain": [
       "0.10891749011923774"
      ]
     },
     "execution_count": 93,
     "metadata": {},
     "output_type": "execute_result"
    }
   ],
   "source": [
    "data['dale_score'].corr(data['is_sarcastic'])"
   ]
  },
  {
   "cell_type": "code",
   "execution_count": 101,
   "metadata": {
    "hidden": true
   },
   "outputs": [
    {
     "name": "stderr",
     "output_type": "stream",
     "text": [
      "/home/nmduy/anaconda3/envs/graph/lib/python3.7/site-packages/seaborn/distributions.py:2551: FutureWarning: `distplot` is a deprecated function and will be removed in a future version. Please adapt your code to use either `displot` (a figure-level function with similar flexibility) or `kdeplot` (an axes-level function for kernel density plots).\n",
      "  warnings.warn(msg, FutureWarning)\n",
      "/home/nmduy/anaconda3/envs/graph/lib/python3.7/site-packages/seaborn/distributions.py:2551: FutureWarning: `distplot` is a deprecated function and will be removed in a future version. Please adapt your code to use either `displot` (a figure-level function with similar flexibility) or `kdeplot` (an axes-level function for kernel density plots).\n",
      "  warnings.warn(msg, FutureWarning)\n"
     ]
    },
    {
     "data": {
      "text/plain": [
       "Text(0, 0.5, 'Density')"
      ]
     },
     "execution_count": 101,
     "metadata": {},
     "output_type": "execute_result"
    },
    {
     "data": {
      "image/png": "[encoded data removed]",
      "text/plain": [
       "<Figure size 432x288 with 1 Axes>"
      ]
     },
     "metadata": {
      "needs_background": "light"
     },
     "output_type": "display_data"
    }
   ],
   "source": [
    "df = data[data.is_sarcastic == 1]\n",
    "sns.distplot(df['dale_score'], hist = False, kde = True, label='sarcastic')\n",
    "df = data[data.is_sarcastic == 0]\n",
    "sns.distplot(df['dale_score'], hist = False, kde = True, label='normal')\n",
    "# Plot formatting\n",
    "plt.legend(prop={'size': 12})\n",
    "plt.title('dale_score on headlines between 2 classes')\n",
    "plt.xlabel('score')\n",
    "plt.ylabel('Density')  "
   ]
  },
  {
   "cell_type": "code",
   "execution_count": 94,
   "metadata": {
    "hidden": true
   },
   "outputs": [
    {
     "data": {
      "text/plain": [
       "0.14165519786266792"
      ]
     },
     "execution_count": 94,
     "metadata": {},
     "output_type": "execute_result"
    }
   ],
   "source": [
    "data['standard_score'].corr(data['is_sarcastic'])"
   ]
  },
  {
   "cell_type": "code",
   "execution_count": 100,
   "metadata": {
    "hidden": true
   },
   "outputs": [
    {
     "name": "stderr",
     "output_type": "stream",
     "text": [
      "/home/nmduy/anaconda3/envs/graph/lib/python3.7/site-packages/seaborn/distributions.py:2551: FutureWarning: `distplot` is a deprecated function and will be removed in a future version. Please adapt your code to use either `displot` (a figure-level function with similar flexibility) or `kdeplot` (an axes-level function for kernel density plots).\n",
      "  warnings.warn(msg, FutureWarning)\n",
      "/home/nmduy/anaconda3/envs/graph/lib/python3.7/site-packages/seaborn/distributions.py:2551: FutureWarning: `distplot` is a deprecated function and will be removed in a future version. Please adapt your code to use either `displot` (a figure-level function with similar flexibility) or `kdeplot` (an axes-level function for kernel density plots).\n",
      "  warnings.warn(msg, FutureWarning)\n"
     ]
    },
    {
     "data": {
      "text/plain": [
       "Text(0, 0.5, 'Density')"
      ]
     },
     "execution_count": 100,
     "metadata": {},
     "output_type": "execute_result"
    },
    {
     "data": {
      "image/png": "[encoded data removed]",
      "text/plain": [
       "<Figure size 432x288 with 1 Axes>"
      ]
     },
     "metadata": {
      "needs_background": "light"
     },
     "output_type": "display_data"
    }
   ],
   "source": [
    "df = data[data.is_sarcastic == 1]\n",
    "sns.distplot(df['standard_score'], hist = False, kde = True, label='sarcastic')\n",
    "df = data[data.is_sarcastic == 0]\n",
    "sns.distplot(df['standard_score'], hist = False, kde = True, label='normal')\n",
    "# Plot formatting\n",
    "plt.legend(prop={'size': 12})\n",
    "plt.title('standard_score on headlines between 2 classes')\n",
    "plt.xlabel('score')\n",
    "plt.ylabel('Density')  "
   ]
  },
  {
   "cell_type": "markdown",
   "metadata": {
    "heading_collapsed": true
   },
   "source": [
    "## Step 8: POS Tagging"
   ]
  },
  {
   "cell_type": "code",
   "execution_count": 126,
   "metadata": {
    "hidden": true
   },
   "outputs": [],
   "source": [
    "data['numb_NN'] = data.headline.apply(lambda row: count_noun(row))\n",
    "data['numb_VED'] = data.headline.apply(lambda row: count_verb_past(row))\n",
    "data['numb_VB'] = data.headline.apply(lambda row: count_verb_present(row))\n",
    "data['numb_VING'] = data.headline.apply(lambda row: count_verb_ing(row))\n",
    "data['numb_ADJ'] = data.headline.apply(lambda row: count_adj(row))\n",
    "data['numb_ADV'] = data.headline.apply(lambda row: count_adv(row))\n",
    "data['numb_DT'] = data.headline.apply(lambda row: count_DT(row))\n",
    "data['numb_CD'] = data.headline.apply(lambda row: count_CD(row))\n",
    "data['numb_PR'] = data.headline.apply(lambda row: count_pronoun(row))"
   ]
  },
  {
   "cell_type": "code",
   "execution_count": 127,
   "metadata": {
    "hidden": true
   },
   "outputs": [],
   "source": [
    "data['norm_numb_NN'] = data['numb_NN'] / data['len_headline']\n",
    "data['norm_numb_VED'] = data['numb_VED'] / data['len_headline']\n",
    "data['norm_numb_VB'] = data['numb_VB'] / data['len_headline']\n",
    "data['norm_numb_VING'] = data['numb_VING'] / data['len_headline']\n",
    "data['norm_numb_ADJ'] = data['numb_ADJ'] / data['len_headline']\n",
    "data['norm_numb_ADV'] = data['numb_ADV'] / data['len_headline']\n",
    "data['norm_numb_DT'] = data['numb_DT'] / data['len_headline']\n",
    "data['norm_numb_CD'] = data['numb_CD'] / data['len_headline']\n",
    "data['norm_numb_PR'] = data['numb_PR'] / data['len_headline']"
   ]
  },
  {
   "cell_type": "code",
   "execution_count": 128,
   "metadata": {
    "hidden": true
   },
   "outputs": [
    {
     "data": {
      "text/html": [
       "<div>\n",
       "<style scoped>\n",
       "    .dataframe tbody tr th:only-of-type {\n",
       "        vertical-align: middle;\n",
       "    }\n",
       "\n",
       "    .dataframe tbody tr th {\n",
       "        vertical-align: top;\n",
       "    }\n",
       "\n",
       "    .dataframe thead th {\n",
       "        text-align: right;\n",
       "    }\n",
       "</style>\n",
       "<table border=\"1\" class=\"dataframe\">\n",
       "  <thead>\n",
       "    <tr style=\"text-align: right;\">\n",
       "      <th></th>\n",
       "      <th>is_sarcastic</th>\n",
       "      <th>headline</th>\n",
       "      <th>len_headline</th>\n",
       "      <th>headline_s1</th>\n",
       "      <th>len_headline_s1</th>\n",
       "      <th>ratio_symbol</th>\n",
       "      <th>headline_s2</th>\n",
       "      <th>len_headline_s2</th>\n",
       "      <th>count_lemmatized</th>\n",
       "      <th>ratio_lemmatized</th>\n",
       "      <th>...</th>\n",
       "      <th>numb_PR</th>\n",
       "      <th>norm_numb_NN</th>\n",
       "      <th>norm_numb_VED</th>\n",
       "      <th>norm_numb_VB</th>\n",
       "      <th>norm_numb_VING</th>\n",
       "      <th>norm_numb_ADJ</th>\n",
       "      <th>norm_numb_ADV</th>\n",
       "      <th>norm_numb_DT</th>\n",
       "      <th>norm_numb_CD</th>\n",
       "      <th>norm_numb_PR</th>\n",
       "    </tr>\n",
       "  </thead>\n",
       "  <tbody>\n",
       "    <tr>\n",
       "      <th>0</th>\n",
       "      <td>0</td>\n",
       "      <td>the 3 keys to building immediate rapport in a ...</td>\n",
       "      <td>11</td>\n",
       "      <td>the 3 keys to building immediate rapport in a ...</td>\n",
       "      <td>11</td>\n",
       "      <td>0.0</td>\n",
       "      <td>the 3 key to build immediate rapport in a job ...</td>\n",
       "      <td>11</td>\n",
       "      <td>2</td>\n",
       "      <td>0.181818</td>\n",
       "      <td>...</td>\n",
       "      <td>0</td>\n",
       "      <td>0.363636</td>\n",
       "      <td>0.0</td>\n",
       "      <td>0.000000</td>\n",
       "      <td>0.090909</td>\n",
       "      <td>0.181818</td>\n",
       "      <td>0.000000</td>\n",
       "      <td>0.181818</td>\n",
       "      <td>0.090909</td>\n",
       "      <td>0.0</td>\n",
       "    </tr>\n",
       "    <tr>\n",
       "      <th>1</th>\n",
       "      <td>0</td>\n",
       "      <td>chipotle is making big changes but nobody real...</td>\n",
       "      <td>9</td>\n",
       "      <td>chipotle is making big changes but nobody real...</td>\n",
       "      <td>9</td>\n",
       "      <td>0.0</td>\n",
       "      <td>chipotle be make big change but nobody really ...</td>\n",
       "      <td>9</td>\n",
       "      <td>4</td>\n",
       "      <td>0.444444</td>\n",
       "      <td>...</td>\n",
       "      <td>0</td>\n",
       "      <td>0.444444</td>\n",
       "      <td>0.0</td>\n",
       "      <td>0.111111</td>\n",
       "      <td>0.111111</td>\n",
       "      <td>0.111111</td>\n",
       "      <td>0.111111</td>\n",
       "      <td>0.000000</td>\n",
       "      <td>0.000000</td>\n",
       "      <td>0.0</td>\n",
       "    </tr>\n",
       "    <tr>\n",
       "      <th>2</th>\n",
       "      <td>1</td>\n",
       "      <td>highway billboard urges 75-mile detour</td>\n",
       "      <td>5</td>\n",
       "      <td>highway billboard urges 75mile detour</td>\n",
       "      <td>5</td>\n",
       "      <td>0.0</td>\n",
       "      <td>highway billboard urge 75mile detour</td>\n",
       "      <td>5</td>\n",
       "      <td>1</td>\n",
       "      <td>0.200000</td>\n",
       "      <td>...</td>\n",
       "      <td>0</td>\n",
       "      <td>0.400000</td>\n",
       "      <td>0.0</td>\n",
       "      <td>0.000000</td>\n",
       "      <td>0.000000</td>\n",
       "      <td>0.400000</td>\n",
       "      <td>0.200000</td>\n",
       "      <td>0.000000</td>\n",
       "      <td>0.000000</td>\n",
       "      <td>0.0</td>\n",
       "    </tr>\n",
       "    <tr>\n",
       "      <th>3</th>\n",
       "      <td>1</td>\n",
       "      <td>raytheon ceo sends obama another article about...</td>\n",
       "      <td>11</td>\n",
       "      <td>raytheon ceo sends obama another article about...</td>\n",
       "      <td>11</td>\n",
       "      <td>0.0</td>\n",
       "      <td>raytheon ceo send obama another article about ...</td>\n",
       "      <td>11</td>\n",
       "      <td>2</td>\n",
       "      <td>0.181818</td>\n",
       "      <td>...</td>\n",
       "      <td>0</td>\n",
       "      <td>0.454545</td>\n",
       "      <td>0.0</td>\n",
       "      <td>0.090909</td>\n",
       "      <td>0.090909</td>\n",
       "      <td>0.181818</td>\n",
       "      <td>0.000000</td>\n",
       "      <td>0.090909</td>\n",
       "      <td>0.000000</td>\n",
       "      <td>0.0</td>\n",
       "    </tr>\n",
       "    <tr>\n",
       "      <th>4</th>\n",
       "      <td>1</td>\n",
       "      <td>mcdonnell-douglas unveils new 'gay-dar'</td>\n",
       "      <td>4</td>\n",
       "      <td>mcdonnelldouglas unveils new gaydar</td>\n",
       "      <td>4</td>\n",
       "      <td>0.0</td>\n",
       "      <td>mcdonnelldouglas unveil new gaydar</td>\n",
       "      <td>4</td>\n",
       "      <td>1</td>\n",
       "      <td>0.250000</td>\n",
       "      <td>...</td>\n",
       "      <td>0</td>\n",
       "      <td>0.500000</td>\n",
       "      <td>0.0</td>\n",
       "      <td>0.000000</td>\n",
       "      <td>0.000000</td>\n",
       "      <td>0.500000</td>\n",
       "      <td>0.000000</td>\n",
       "      <td>0.000000</td>\n",
       "      <td>0.000000</td>\n",
       "      <td>0.0</td>\n",
       "    </tr>\n",
       "  </tbody>\n",
       "</table>\n",
       "<p>5 rows × 52 columns</p>\n",
       "</div>"
      ],
      "text/plain": [
       "   is_sarcastic                                           headline  \\\n",
       "0             0  the 3 keys to building immediate rapport in a ...   \n",
       "1             0  chipotle is making big changes but nobody real...   \n",
       "2             1             highway billboard urges 75-mile detour   \n",
       "3             1  raytheon ceo sends obama another article about...   \n",
       "4             1            mcdonnell-douglas unveils new 'gay-dar'   \n",
       "\n",
       "   len_headline                                        headline_s1  \\\n",
       "0            11  the 3 keys to building immediate rapport in a ...   \n",
       "1             9  chipotle is making big changes but nobody real...   \n",
       "2             5              highway billboard urges 75mile detour   \n",
       "3            11  raytheon ceo sends obama another article about...   \n",
       "4             4                mcdonnelldouglas unveils new gaydar   \n",
       "\n",
       "   len_headline_s1  ratio_symbol  \\\n",
       "0               11           0.0   \n",
       "1                9           0.0   \n",
       "2                5           0.0   \n",
       "3               11           0.0   \n",
       "4                4           0.0   \n",
       "\n",
       "                                         headline_s2  len_headline_s2  \\\n",
       "0  the 3 key to build immediate rapport in a job ...               11   \n",
       "1  chipotle be make big change but nobody really ...                9   \n",
       "2               highway billboard urge 75mile detour                5   \n",
       "3  raytheon ceo send obama another article about ...               11   \n",
       "4                 mcdonnelldouglas unveil new gaydar                4   \n",
       "\n",
       "   count_lemmatized  ratio_lemmatized  ... numb_PR  norm_numb_NN  \\\n",
       "0                 2          0.181818  ...       0      0.363636   \n",
       "1                 4          0.444444  ...       0      0.444444   \n",
       "2                 1          0.200000  ...       0      0.400000   \n",
       "3                 2          0.181818  ...       0      0.454545   \n",
       "4                 1          0.250000  ...       0      0.500000   \n",
       "\n",
       "   norm_numb_VED  norm_numb_VB  norm_numb_VING  norm_numb_ADJ  norm_numb_ADV  \\\n",
       "0            0.0      0.000000        0.090909       0.181818       0.000000   \n",
       "1            0.0      0.111111        0.111111       0.111111       0.111111   \n",
       "2            0.0      0.000000        0.000000       0.400000       0.200000   \n",
       "3            0.0      0.090909        0.090909       0.181818       0.000000   \n",
       "4            0.0      0.000000        0.000000       0.500000       0.000000   \n",
       "\n",
       "   norm_numb_DT  norm_numb_CD  norm_numb_PR  \n",
       "0      0.181818      0.090909           0.0  \n",
       "1      0.000000      0.000000           0.0  \n",
       "2      0.000000      0.000000           0.0  \n",
       "3      0.090909      0.000000           0.0  \n",
       "4      0.000000      0.000000           0.0  \n",
       "\n",
       "[5 rows x 52 columns]"
      ]
     },
     "execution_count": 128,
     "metadata": {},
     "output_type": "execute_result"
    }
   ],
   "source": [
    "data.head()"
   ]
  },
  {
   "cell_type": "code",
   "execution_count": 131,
   "metadata": {
    "hidden": true
   },
   "outputs": [
    {
     "data": {
      "text/plain": [
       "0.017630790178161257"
      ]
     },
     "execution_count": 131,
     "metadata": {},
     "output_type": "execute_result"
    }
   ],
   "source": [
    "data['norm_numb_NN'].corr(data['is_sarcastic'])"
   ]
  },
  {
   "cell_type": "code",
   "execution_count": 132,
   "metadata": {
    "hidden": true
   },
   "outputs": [
    {
     "data": {
      "text/plain": [
       "0.1118618107343182"
      ]
     },
     "execution_count": 132,
     "metadata": {},
     "output_type": "execute_result"
    }
   ],
   "source": [
    "data['norm_numb_VED'].corr(data['is_sarcastic'])"
   ]
  },
  {
   "cell_type": "code",
   "execution_count": 133,
   "metadata": {
    "hidden": true
   },
   "outputs": [
    {
     "data": {
      "text/plain": [
       "-0.051146486734245225"
      ]
     },
     "execution_count": 133,
     "metadata": {},
     "output_type": "execute_result"
    }
   ],
   "source": [
    "data['norm_numb_VB'].corr(data['is_sarcastic'])"
   ]
  },
  {
   "cell_type": "code",
   "execution_count": 134,
   "metadata": {
    "hidden": true
   },
   "outputs": [
    {
     "data": {
      "text/plain": [
       "0.10653993174100762"
      ]
     },
     "execution_count": 134,
     "metadata": {},
     "output_type": "execute_result"
    }
   ],
   "source": [
    "data['norm_numb_VING'].corr(data['is_sarcastic'])"
   ]
  },
  {
   "cell_type": "code",
   "execution_count": 135,
   "metadata": {
    "hidden": true
   },
   "outputs": [
    {
     "data": {
      "text/plain": [
       "0.13162814289131652"
      ]
     },
     "execution_count": 135,
     "metadata": {},
     "output_type": "execute_result"
    }
   ],
   "source": [
    "data['norm_numb_ADJ'].corr(data['is_sarcastic'])"
   ]
  },
  {
   "cell_type": "code",
   "execution_count": 137,
   "metadata": {
    "hidden": true
   },
   "outputs": [
    {
     "data": {
      "text/plain": [
       "0.12634291254154473"
      ]
     },
     "execution_count": 137,
     "metadata": {},
     "output_type": "execute_result"
    }
   ],
   "source": [
    "data['norm_numb_ADV'].corr(data['is_sarcastic'])"
   ]
  },
  {
   "cell_type": "code",
   "execution_count": 144,
   "metadata": {
    "hidden": true
   },
   "outputs": [
    {
     "data": {
      "text/plain": [
       "-0.3215668899742273"
      ]
     },
     "execution_count": 144,
     "metadata": {},
     "output_type": "execute_result"
    }
   ],
   "source": [
    "data['norm_numb_DT'].corr(data['is_sarcastic'])"
   ]
  },
  {
   "cell_type": "code",
   "execution_count": 146,
   "metadata": {
    "hidden": true
   },
   "outputs": [
    {
     "data": {
      "image/png": "[encoded data removed]",
      "text/plain": [
       "<Figure size 432x288 with 1 Axes>"
      ]
     },
     "metadata": {
      "needs_background": "light"
     },
     "output_type": "display_data"
    }
   ],
   "source": [
    "ax = sns.boxplot(y=\"is_sarcastic\", x=\"norm_numb_DT\", data=data, orient=\"h\")"
   ]
  },
  {
   "cell_type": "code",
   "execution_count": 147,
   "metadata": {
    "hidden": true
   },
   "outputs": [
    {
     "name": "stderr",
     "output_type": "stream",
     "text": [
      "/home/nmduy/anaconda3/envs/graph/lib/python3.7/site-packages/seaborn/distributions.py:2551: FutureWarning: `distplot` is a deprecated function and will be removed in a future version. Please adapt your code to use either `displot` (a figure-level function with similar flexibility) or `kdeplot` (an axes-level function for kernel density plots).\n",
      "  warnings.warn(msg, FutureWarning)\n",
      "/home/nmduy/anaconda3/envs/graph/lib/python3.7/site-packages/seaborn/distributions.py:2551: FutureWarning: `distplot` is a deprecated function and will be removed in a future version. Please adapt your code to use either `displot` (a figure-level function with similar flexibility) or `kdeplot` (an axes-level function for kernel density plots).\n",
      "  warnings.warn(msg, FutureWarning)\n"
     ]
    },
    {
     "data": {
      "text/plain": [
       "Text(0, 0.5, 'Density')"
      ]
     },
     "execution_count": 147,
     "metadata": {},
     "output_type": "execute_result"
    },
    {
     "data": {
      "image/png": "[encoded data removed]",
      "text/plain": [
       "<Figure size 432x288 with 1 Axes>"
      ]
     },
     "metadata": {
      "needs_background": "light"
     },
     "output_type": "display_data"
    }
   ],
   "source": [
    "df = data[data.is_sarcastic == 1]\n",
    "sns.distplot(df['norm_numb_DT'], hist = False, kde = True, label='sarcastic')\n",
    "df = data[data.is_sarcastic == 0]\n",
    "sns.distplot(df['norm_numb_DT'], hist = False, kde = True, label='normal')\n",
    "# Plot formatting\n",
    "plt.legend(prop={'size': 12})\n",
    "plt.title('norm_numb_DT on headlines between 2 classes')\n",
    "plt.xlabel('numb_DT')\n",
    "plt.ylabel('Density')  "
   ]
  },
  {
   "cell_type": "code",
   "execution_count": 139,
   "metadata": {
    "hidden": true
   },
   "outputs": [
    {
     "data": {
      "text/plain": [
       "-0.051410518308543984"
      ]
     },
     "execution_count": 139,
     "metadata": {},
     "output_type": "execute_result"
    }
   ],
   "source": [
    "data['norm_numb_CD'].corr(data['is_sarcastic'])"
   ]
  },
  {
   "cell_type": "code",
   "execution_count": 140,
   "metadata": {
    "hidden": true
   },
   "outputs": [
    {
     "data": {
      "text/plain": [
       "-0.11531375643971398"
      ]
     },
     "execution_count": 140,
     "metadata": {},
     "output_type": "execute_result"
    }
   ],
   "source": [
    "data['norm_numb_PR'].corr(data['is_sarcastic'])"
   ]
  },
  {
   "cell_type": "code",
   "execution_count": 142,
   "metadata": {
    "hidden": true
   },
   "outputs": [
    {
     "data": {
      "text/plain": [
       "0.08251365064397406"
      ]
     },
     "execution_count": 142,
     "metadata": {},
     "output_type": "execute_result"
    }
   ],
   "source": [
    "(data['norm_numb_VING']+data['norm_numb_VB']+data['norm_numb_VED']).corr(data['is_sarcastic'])"
   ]
  },
  {
   "cell_type": "markdown",
   "metadata": {
    "heading_collapsed": true
   },
   "source": [
    "## Step 9: Syntax Tree"
   ]
  },
  {
   "cell_type": "code",
   "execution_count": 276,
   "metadata": {
    "hidden": true
   },
   "outputs": [],
   "source": [
    "from nltk import pos_tag, word_tokenize, RegexpParser\n",
    "chunker = RegexpParser(\"\"\" \n",
    "                       NP: {<DT>?<JJ>*<NN>}    #To extract Noun Phrases \n",
    "                       P: {<IN>}               #To extract Prepositions \n",
    "                       V: {<V.*>}              #To extract Verbs \n",
    "                       PP: {<P> <NP>}          #To extract Prepostional Phrases \n",
    "                       VP: {<V> <NP|PP>*}      #To extarct Verb Phrases \n",
    "                       \"\"\") \n",
    "\n",
    "def get_depth_syntax_tree(sent):\n",
    "    tagged = pos_tag(word_tokenize(sent))\n",
    "    tree = chunker.parse(tagged) \n",
    "    tree_sent = f\"{tree}\"\n",
    "    t = nltk.Tree.fromstring(tree_sent)\n",
    "    depth = t.height()\n",
    "    return depth"
   ]
  },
  {
   "cell_type": "code",
   "execution_count": 277,
   "metadata": {
    "hidden": true
   },
   "outputs": [
    {
     "data": {
      "text/html": [
       "<div>\n",
       "<style scoped>\n",
       "    .dataframe tbody tr th:only-of-type {\n",
       "        vertical-align: middle;\n",
       "    }\n",
       "\n",
       "    .dataframe tbody tr th {\n",
       "        vertical-align: top;\n",
       "    }\n",
       "\n",
       "    .dataframe thead th {\n",
       "        text-align: right;\n",
       "    }\n",
       "</style>\n",
       "<table border=\"1\" class=\"dataframe\">\n",
       "  <thead>\n",
       "    <tr style=\"text-align: right;\">\n",
       "      <th></th>\n",
       "      <th>is_sarcastic</th>\n",
       "      <th>headline</th>\n",
       "      <th>len_headline</th>\n",
       "      <th>headline_s1</th>\n",
       "      <th>len_headline_s1</th>\n",
       "      <th>ratio_symbol</th>\n",
       "      <th>headline_s2</th>\n",
       "      <th>len_headline_s2</th>\n",
       "      <th>count_lemmatized</th>\n",
       "      <th>ratio_lemmatized</th>\n",
       "      <th>...</th>\n",
       "      <th>norm_numb_NN</th>\n",
       "      <th>norm_numb_VED</th>\n",
       "      <th>norm_numb_VB</th>\n",
       "      <th>norm_numb_VING</th>\n",
       "      <th>norm_numb_ADJ</th>\n",
       "      <th>norm_numb_ADV</th>\n",
       "      <th>norm_numb_DT</th>\n",
       "      <th>norm_numb_CD</th>\n",
       "      <th>norm_numb_PR</th>\n",
       "      <th>depth_syntree</th>\n",
       "    </tr>\n",
       "  </thead>\n",
       "  <tbody>\n",
       "    <tr>\n",
       "      <th>0</th>\n",
       "      <td>0</td>\n",
       "      <td>the 3 keys to building immediate rapport in a ...</td>\n",
       "      <td>11</td>\n",
       "      <td>the 3 keys to building immediate rapport in a ...</td>\n",
       "      <td>11</td>\n",
       "      <td>0.0</td>\n",
       "      <td>the 3 key to build immediate rapport in a job ...</td>\n",
       "      <td>11</td>\n",
       "      <td>2</td>\n",
       "      <td>0.181818</td>\n",
       "      <td>...</td>\n",
       "      <td>0.363636</td>\n",
       "      <td>0.0</td>\n",
       "      <td>0.000000</td>\n",
       "      <td>0.090909</td>\n",
       "      <td>0.181818</td>\n",
       "      <td>0.000000</td>\n",
       "      <td>0.181818</td>\n",
       "      <td>0.090909</td>\n",
       "      <td>0.0</td>\n",
       "      <td>5</td>\n",
       "    </tr>\n",
       "    <tr>\n",
       "      <th>1</th>\n",
       "      <td>0</td>\n",
       "      <td>chipotle is making big changes but nobody real...</td>\n",
       "      <td>9</td>\n",
       "      <td>chipotle is making big changes but nobody real...</td>\n",
       "      <td>9</td>\n",
       "      <td>0.0</td>\n",
       "      <td>chipotle be make big change but nobody really ...</td>\n",
       "      <td>9</td>\n",
       "      <td>4</td>\n",
       "      <td>0.444444</td>\n",
       "      <td>...</td>\n",
       "      <td>0.444444</td>\n",
       "      <td>0.0</td>\n",
       "      <td>0.111111</td>\n",
       "      <td>0.111111</td>\n",
       "      <td>0.111111</td>\n",
       "      <td>0.111111</td>\n",
       "      <td>0.000000</td>\n",
       "      <td>0.000000</td>\n",
       "      <td>0.0</td>\n",
       "      <td>4</td>\n",
       "    </tr>\n",
       "    <tr>\n",
       "      <th>2</th>\n",
       "      <td>1</td>\n",
       "      <td>highway billboard urges 75-mile detour</td>\n",
       "      <td>5</td>\n",
       "      <td>highway billboard urges 75mile detour</td>\n",
       "      <td>5</td>\n",
       "      <td>0.0</td>\n",
       "      <td>highway billboard urge 75mile detour</td>\n",
       "      <td>5</td>\n",
       "      <td>1</td>\n",
       "      <td>0.200000</td>\n",
       "      <td>...</td>\n",
       "      <td>0.400000</td>\n",
       "      <td>0.0</td>\n",
       "      <td>0.000000</td>\n",
       "      <td>0.000000</td>\n",
       "      <td>0.400000</td>\n",
       "      <td>0.200000</td>\n",
       "      <td>0.000000</td>\n",
       "      <td>0.000000</td>\n",
       "      <td>0.0</td>\n",
       "      <td>3</td>\n",
       "    </tr>\n",
       "    <tr>\n",
       "      <th>3</th>\n",
       "      <td>1</td>\n",
       "      <td>raytheon ceo sends obama another article about...</td>\n",
       "      <td>11</td>\n",
       "      <td>raytheon ceo sends obama another article about...</td>\n",
       "      <td>11</td>\n",
       "      <td>0.0</td>\n",
       "      <td>raytheon ceo send obama another article about ...</td>\n",
       "      <td>11</td>\n",
       "      <td>2</td>\n",
       "      <td>0.181818</td>\n",
       "      <td>...</td>\n",
       "      <td>0.454545</td>\n",
       "      <td>0.0</td>\n",
       "      <td>0.090909</td>\n",
       "      <td>0.090909</td>\n",
       "      <td>0.181818</td>\n",
       "      <td>0.000000</td>\n",
       "      <td>0.090909</td>\n",
       "      <td>0.000000</td>\n",
       "      <td>0.0</td>\n",
       "      <td>5</td>\n",
       "    </tr>\n",
       "    <tr>\n",
       "      <th>4</th>\n",
       "      <td>1</td>\n",
       "      <td>mcdonnell-douglas unveils new 'gay-dar'</td>\n",
       "      <td>4</td>\n",
       "      <td>mcdonnelldouglas unveils new gaydar</td>\n",
       "      <td>4</td>\n",
       "      <td>0.0</td>\n",
       "      <td>mcdonnelldouglas unveil new gaydar</td>\n",
       "      <td>4</td>\n",
       "      <td>1</td>\n",
       "      <td>0.250000</td>\n",
       "      <td>...</td>\n",
       "      <td>0.500000</td>\n",
       "      <td>0.0</td>\n",
       "      <td>0.000000</td>\n",
       "      <td>0.000000</td>\n",
       "      <td>0.500000</td>\n",
       "      <td>0.000000</td>\n",
       "      <td>0.000000</td>\n",
       "      <td>0.000000</td>\n",
       "      <td>0.0</td>\n",
       "      <td>3</td>\n",
       "    </tr>\n",
       "  </tbody>\n",
       "</table>\n",
       "<p>5 rows × 53 columns</p>\n",
       "</div>"
      ],
      "text/plain": [
       "   is_sarcastic                                           headline  \\\n",
       "0             0  the 3 keys to building immediate rapport in a ...   \n",
       "1             0  chipotle is making big changes but nobody real...   \n",
       "2             1             highway billboard urges 75-mile detour   \n",
       "3             1  raytheon ceo sends obama another article about...   \n",
       "4             1            mcdonnell-douglas unveils new 'gay-dar'   \n",
       "\n",
       "   len_headline                                        headline_s1  \\\n",
       "0            11  the 3 keys to building immediate rapport in a ...   \n",
       "1             9  chipotle is making big changes but nobody real...   \n",
       "2             5              highway billboard urges 75mile detour   \n",
       "3            11  raytheon ceo sends obama another article about...   \n",
       "4             4                mcdonnelldouglas unveils new gaydar   \n",
       "\n",
       "   len_headline_s1  ratio_symbol  \\\n",
       "0               11           0.0   \n",
       "1                9           0.0   \n",
       "2                5           0.0   \n",
       "3               11           0.0   \n",
       "4                4           0.0   \n",
       "\n",
       "                                         headline_s2  len_headline_s2  \\\n",
       "0  the 3 key to build immediate rapport in a job ...               11   \n",
       "1  chipotle be make big change but nobody really ...                9   \n",
       "2               highway billboard urge 75mile detour                5   \n",
       "3  raytheon ceo send obama another article about ...               11   \n",
       "4                 mcdonnelldouglas unveil new gaydar                4   \n",
       "\n",
       "   count_lemmatized  ratio_lemmatized  ... norm_numb_NN  norm_numb_VED  \\\n",
       "0                 2          0.181818  ...     0.363636            0.0   \n",
       "1                 4          0.444444  ...     0.444444            0.0   \n",
       "2                 1          0.200000  ...     0.400000            0.0   \n",
       "3                 2          0.181818  ...     0.454545            0.0   \n",
       "4                 1          0.250000  ...     0.500000            0.0   \n",
       "\n",
       "   norm_numb_VB  norm_numb_VING  norm_numb_ADJ  norm_numb_ADV  norm_numb_DT  \\\n",
       "0      0.000000        0.090909       0.181818       0.000000      0.181818   \n",
       "1      0.111111        0.111111       0.111111       0.111111      0.000000   \n",
       "2      0.000000        0.000000       0.400000       0.200000      0.000000   \n",
       "3      0.090909        0.090909       0.181818       0.000000      0.090909   \n",
       "4      0.000000        0.000000       0.500000       0.000000      0.000000   \n",
       "\n",
       "   norm_numb_CD  norm_numb_PR  depth_syntree  \n",
       "0      0.090909           0.0              5  \n",
       "1      0.000000           0.0              4  \n",
       "2      0.000000           0.0              3  \n",
       "3      0.000000           0.0              5  \n",
       "4      0.000000           0.0              3  \n",
       "\n",
       "[5 rows x 53 columns]"
      ]
     },
     "execution_count": 277,
     "metadata": {},
     "output_type": "execute_result"
    }
   ],
   "source": [
    "data['depth_syntree'] = data.headline_s1.apply(lambda row: get_depth_syntax_tree(row))\n",
    "data['norm_depth_syntree'] = data['depth_syntree'] / data.len_headline_s1\n",
    "data.head()"
   ]
  },
  {
   "cell_type": "code",
   "execution_count": 284,
   "metadata": {
    "hidden": true
   },
   "outputs": [
    {
     "data": {
      "text/plain": [
       "0.07639069337551128"
      ]
     },
     "execution_count": 284,
     "metadata": {},
     "output_type": "execute_result"
    }
   ],
   "source": [
    "data['depth_syntree'].corr(data['is_sarcastic'])"
   ]
  },
  {
   "cell_type": "code",
   "execution_count": 281,
   "metadata": {
    "hidden": true
   },
   "outputs": [
    {
     "data": {
      "image/png": "[encoded data removed]",
      "text/plain": [
       "<Figure size 432x288 with 1 Axes>"
      ]
     },
     "metadata": {
      "needs_background": "light"
     },
     "output_type": "display_data"
    }
   ],
   "source": [
    "ax = sns.boxplot(y=\"is_sarcastic\", x=\"norm_depth_syntree\", data=data, orient=\"h\")"
   ]
  },
  {
   "cell_type": "code",
   "execution_count": 282,
   "metadata": {
    "hidden": true
   },
   "outputs": [
    {
     "name": "stderr",
     "output_type": "stream",
     "text": [
      "/home/nmduy/anaconda3/envs/graph/lib/python3.7/site-packages/seaborn/distributions.py:2551: FutureWarning: `distplot` is a deprecated function and will be removed in a future version. Please adapt your code to use either `displot` (a figure-level function with similar flexibility) or `kdeplot` (an axes-level function for kernel density plots).\n",
      "  warnings.warn(msg, FutureWarning)\n",
      "/home/nmduy/anaconda3/envs/graph/lib/python3.7/site-packages/seaborn/distributions.py:2551: FutureWarning: `distplot` is a deprecated function and will be removed in a future version. Please adapt your code to use either `displot` (a figure-level function with similar flexibility) or `kdeplot` (an axes-level function for kernel density plots).\n",
      "  warnings.warn(msg, FutureWarning)\n"
     ]
    },
    {
     "data": {
      "text/plain": [
       "Text(0, 0.5, 'Density')"
      ]
     },
     "execution_count": 282,
     "metadata": {},
     "output_type": "execute_result"
    },
    {
     "data": {
      "image/png": "[encoded data removed]",
      "text/plain": [
       "<Figure size 432x288 with 1 Axes>"
      ]
     },
     "metadata": {
      "needs_background": "light"
     },
     "output_type": "display_data"
    }
   ],
   "source": [
    "df = data[data.is_sarcastic == 1]\n",
    "sns.distplot(df['norm_depth_syntree'], hist = False, kde = True, label='sarcastic')\n",
    "df = data[data.is_sarcastic == 0]\n",
    "sns.distplot(df['norm_depth_syntree'], hist = False, kde = True, label='normal')\n",
    "# Plot formatting\n",
    "plt.legend(prop={'size': 12})\n",
    "plt.title('norm_depth_syntree on headlines between 2 classes')\n",
    "plt.xlabel('norm_depth_syntree')\n",
    "plt.ylabel('Density')  "
   ]
  },
  {
   "cell_type": "markdown",
   "metadata": {},
   "source": [
    "## Get pd feature only"
   ]
  },
  {
   "cell_type": "code",
   "execution_count": 290,
   "metadata": {},
   "outputs": [
    {
     "name": "stdout",
     "output_type": "stream",
     "text": [
      "Extract Features Training ...\n",
      "Extract Features Validating ...\n"
     ]
    }
   ],
   "source": [
    "print('Extract Features Training ...')\n",
    "data_train_ft = extract_feature_basic(df_train)\n",
    "print('Extract Features Validating ...')\n",
    "data_validate_ft = extract_feature_basic(df_validate)"
   ]
  },
  {
   "cell_type": "code",
   "execution_count": 292,
   "metadata": {},
   "outputs": [
    {
     "data": {
      "text/html": [
       "<div>\n",
       "<style scoped>\n",
       "    .dataframe tbody tr th:only-of-type {\n",
       "        vertical-align: middle;\n",
       "    }\n",
       "\n",
       "    .dataframe tbody tr th {\n",
       "        vertical-align: top;\n",
       "    }\n",
       "\n",
       "    .dataframe thead th {\n",
       "        text-align: right;\n",
       "    }\n",
       "</style>\n",
       "<table border=\"1\" class=\"dataframe\">\n",
       "  <thead>\n",
       "    <tr style=\"text-align: right;\">\n",
       "      <th></th>\n",
       "      <th>is_sarcastic</th>\n",
       "      <th>len_headline</th>\n",
       "      <th>len_headline_s1</th>\n",
       "      <th>count_symbol</th>\n",
       "      <th>contain_symbol</th>\n",
       "      <th>ratio_symbol</th>\n",
       "      <th>len_headline_s2</th>\n",
       "      <th>count_lemmatized</th>\n",
       "      <th>ratio_lemmatized</th>\n",
       "      <th>len_headline_s3</th>\n",
       "      <th>...</th>\n",
       "      <th>norm_numb_VED</th>\n",
       "      <th>norm_numb_VB</th>\n",
       "      <th>norm_numb_VING</th>\n",
       "      <th>norm_numb_ADJ</th>\n",
       "      <th>norm_numb_ADV</th>\n",
       "      <th>norm_numb_DT</th>\n",
       "      <th>norm_numb_CD</th>\n",
       "      <th>norm_numb_PR</th>\n",
       "      <th>depth_syntree</th>\n",
       "      <th>norm_depth_syntree</th>\n",
       "    </tr>\n",
       "  </thead>\n",
       "  <tbody>\n",
       "    <tr>\n",
       "      <th>0</th>\n",
       "      <td>0</td>\n",
       "      <td>11</td>\n",
       "      <td>11</td>\n",
       "      <td>0</td>\n",
       "      <td>0</td>\n",
       "      <td>0.0</td>\n",
       "      <td>11</td>\n",
       "      <td>2</td>\n",
       "      <td>0.181818</td>\n",
       "      <td>7</td>\n",
       "      <td>...</td>\n",
       "      <td>0.000000</td>\n",
       "      <td>0.000000</td>\n",
       "      <td>0.090909</td>\n",
       "      <td>0.181818</td>\n",
       "      <td>0.000000</td>\n",
       "      <td>0.181818</td>\n",
       "      <td>0.090909</td>\n",
       "      <td>0.000000</td>\n",
       "      <td>5</td>\n",
       "      <td>0.454545</td>\n",
       "    </tr>\n",
       "    <tr>\n",
       "      <th>1</th>\n",
       "      <td>0</td>\n",
       "      <td>9</td>\n",
       "      <td>9</td>\n",
       "      <td>0</td>\n",
       "      <td>0</td>\n",
       "      <td>0.0</td>\n",
       "      <td>9</td>\n",
       "      <td>4</td>\n",
       "      <td>0.444444</td>\n",
       "      <td>7</td>\n",
       "      <td>...</td>\n",
       "      <td>0.000000</td>\n",
       "      <td>0.111111</td>\n",
       "      <td>0.111111</td>\n",
       "      <td>0.111111</td>\n",
       "      <td>0.111111</td>\n",
       "      <td>0.000000</td>\n",
       "      <td>0.000000</td>\n",
       "      <td>0.000000</td>\n",
       "      <td>4</td>\n",
       "      <td>0.444444</td>\n",
       "    </tr>\n",
       "    <tr>\n",
       "      <th>2</th>\n",
       "      <td>1</td>\n",
       "      <td>5</td>\n",
       "      <td>5</td>\n",
       "      <td>0</td>\n",
       "      <td>0</td>\n",
       "      <td>0.0</td>\n",
       "      <td>5</td>\n",
       "      <td>1</td>\n",
       "      <td>0.200000</td>\n",
       "      <td>5</td>\n",
       "      <td>...</td>\n",
       "      <td>0.000000</td>\n",
       "      <td>0.000000</td>\n",
       "      <td>0.000000</td>\n",
       "      <td>0.400000</td>\n",
       "      <td>0.200000</td>\n",
       "      <td>0.000000</td>\n",
       "      <td>0.000000</td>\n",
       "      <td>0.000000</td>\n",
       "      <td>3</td>\n",
       "      <td>0.600000</td>\n",
       "    </tr>\n",
       "    <tr>\n",
       "      <th>3</th>\n",
       "      <td>1</td>\n",
       "      <td>11</td>\n",
       "      <td>11</td>\n",
       "      <td>0</td>\n",
       "      <td>0</td>\n",
       "      <td>0.0</td>\n",
       "      <td>11</td>\n",
       "      <td>2</td>\n",
       "      <td>0.181818</td>\n",
       "      <td>9</td>\n",
       "      <td>...</td>\n",
       "      <td>0.000000</td>\n",
       "      <td>0.090909</td>\n",
       "      <td>0.090909</td>\n",
       "      <td>0.181818</td>\n",
       "      <td>0.000000</td>\n",
       "      <td>0.090909</td>\n",
       "      <td>0.000000</td>\n",
       "      <td>0.000000</td>\n",
       "      <td>5</td>\n",
       "      <td>0.454545</td>\n",
       "    </tr>\n",
       "    <tr>\n",
       "      <th>4</th>\n",
       "      <td>1</td>\n",
       "      <td>4</td>\n",
       "      <td>4</td>\n",
       "      <td>0</td>\n",
       "      <td>0</td>\n",
       "      <td>0.0</td>\n",
       "      <td>4</td>\n",
       "      <td>1</td>\n",
       "      <td>0.250000</td>\n",
       "      <td>4</td>\n",
       "      <td>...</td>\n",
       "      <td>0.000000</td>\n",
       "      <td>0.000000</td>\n",
       "      <td>0.000000</td>\n",
       "      <td>0.500000</td>\n",
       "      <td>0.000000</td>\n",
       "      <td>0.000000</td>\n",
       "      <td>0.000000</td>\n",
       "      <td>0.000000</td>\n",
       "      <td>3</td>\n",
       "      <td>0.750000</td>\n",
       "    </tr>\n",
       "    <tr>\n",
       "      <th>...</th>\n",
       "      <td>...</td>\n",
       "      <td>...</td>\n",
       "      <td>...</td>\n",
       "      <td>...</td>\n",
       "      <td>...</td>\n",
       "      <td>...</td>\n",
       "      <td>...</td>\n",
       "      <td>...</td>\n",
       "      <td>...</td>\n",
       "      <td>...</td>\n",
       "      <td>...</td>\n",
       "      <td>...</td>\n",
       "      <td>...</td>\n",
       "      <td>...</td>\n",
       "      <td>...</td>\n",
       "      <td>...</td>\n",
       "      <td>...</td>\n",
       "      <td>...</td>\n",
       "      <td>...</td>\n",
       "      <td>...</td>\n",
       "      <td>...</td>\n",
       "    </tr>\n",
       "    <tr>\n",
       "      <th>18311</th>\n",
       "      <td>0</td>\n",
       "      <td>8</td>\n",
       "      <td>8</td>\n",
       "      <td>0</td>\n",
       "      <td>0</td>\n",
       "      <td>0.0</td>\n",
       "      <td>8</td>\n",
       "      <td>2</td>\n",
       "      <td>0.250000</td>\n",
       "      <td>6</td>\n",
       "      <td>...</td>\n",
       "      <td>0.000000</td>\n",
       "      <td>0.000000</td>\n",
       "      <td>0.000000</td>\n",
       "      <td>0.375000</td>\n",
       "      <td>0.000000</td>\n",
       "      <td>0.125000</td>\n",
       "      <td>0.125000</td>\n",
       "      <td>0.000000</td>\n",
       "      <td>3</td>\n",
       "      <td>0.375000</td>\n",
       "    </tr>\n",
       "    <tr>\n",
       "      <th>18312</th>\n",
       "      <td>0</td>\n",
       "      <td>3</td>\n",
       "      <td>3</td>\n",
       "      <td>0</td>\n",
       "      <td>0</td>\n",
       "      <td>0.0</td>\n",
       "      <td>3</td>\n",
       "      <td>0</td>\n",
       "      <td>0.000000</td>\n",
       "      <td>1</td>\n",
       "      <td>...</td>\n",
       "      <td>0.000000</td>\n",
       "      <td>0.000000</td>\n",
       "      <td>0.000000</td>\n",
       "      <td>0.000000</td>\n",
       "      <td>0.000000</td>\n",
       "      <td>0.000000</td>\n",
       "      <td>0.000000</td>\n",
       "      <td>0.333333</td>\n",
       "      <td>3</td>\n",
       "      <td>1.000000</td>\n",
       "    </tr>\n",
       "    <tr>\n",
       "      <th>18313</th>\n",
       "      <td>1</td>\n",
       "      <td>7</td>\n",
       "      <td>7</td>\n",
       "      <td>0</td>\n",
       "      <td>0</td>\n",
       "      <td>0.0</td>\n",
       "      <td>7</td>\n",
       "      <td>2</td>\n",
       "      <td>0.285714</td>\n",
       "      <td>7</td>\n",
       "      <td>...</td>\n",
       "      <td>0.000000</td>\n",
       "      <td>0.000000</td>\n",
       "      <td>0.142857</td>\n",
       "      <td>0.142857</td>\n",
       "      <td>0.000000</td>\n",
       "      <td>0.000000</td>\n",
       "      <td>0.000000</td>\n",
       "      <td>0.000000</td>\n",
       "      <td>4</td>\n",
       "      <td>0.571429</td>\n",
       "    </tr>\n",
       "    <tr>\n",
       "      <th>18314</th>\n",
       "      <td>1</td>\n",
       "      <td>8</td>\n",
       "      <td>8</td>\n",
       "      <td>0</td>\n",
       "      <td>0</td>\n",
       "      <td>0.0</td>\n",
       "      <td>8</td>\n",
       "      <td>1</td>\n",
       "      <td>0.125000</td>\n",
       "      <td>6</td>\n",
       "      <td>...</td>\n",
       "      <td>0.125000</td>\n",
       "      <td>0.000000</td>\n",
       "      <td>0.000000</td>\n",
       "      <td>0.250000</td>\n",
       "      <td>0.000000</td>\n",
       "      <td>0.000000</td>\n",
       "      <td>0.000000</td>\n",
       "      <td>0.000000</td>\n",
       "      <td>5</td>\n",
       "      <td>0.625000</td>\n",
       "    </tr>\n",
       "    <tr>\n",
       "      <th>18315</th>\n",
       "      <td>0</td>\n",
       "      <td>6</td>\n",
       "      <td>6</td>\n",
       "      <td>0</td>\n",
       "      <td>0</td>\n",
       "      <td>0.0</td>\n",
       "      <td>6</td>\n",
       "      <td>3</td>\n",
       "      <td>0.500000</td>\n",
       "      <td>4</td>\n",
       "      <td>...</td>\n",
       "      <td>0.333333</td>\n",
       "      <td>0.166667</td>\n",
       "      <td>0.000000</td>\n",
       "      <td>0.000000</td>\n",
       "      <td>0.166667</td>\n",
       "      <td>0.000000</td>\n",
       "      <td>0.000000</td>\n",
       "      <td>0.166667</td>\n",
       "      <td>4</td>\n",
       "      <td>0.666667</td>\n",
       "    </tr>\n",
       "  </tbody>\n",
       "</table>\n",
       "<p>18316 rows × 52 columns</p>\n",
       "</div>"
      ],
      "text/plain": [
       "       is_sarcastic  len_headline  len_headline_s1  count_symbol  \\\n",
       "0                 0            11               11             0   \n",
       "1                 0             9                9             0   \n",
       "2                 1             5                5             0   \n",
       "3                 1            11               11             0   \n",
       "4                 1             4                4             0   \n",
       "...             ...           ...              ...           ...   \n",
       "18311             0             8                8             0   \n",
       "18312             0             3                3             0   \n",
       "18313             1             7                7             0   \n",
       "18314             1             8                8             0   \n",
       "18315             0             6                6             0   \n",
       "\n",
       "       contain_symbol  ratio_symbol  len_headline_s2  count_lemmatized  \\\n",
       "0                   0           0.0               11                 2   \n",
       "1                   0           0.0                9                 4   \n",
       "2                   0           0.0                5                 1   \n",
       "3                   0           0.0               11                 2   \n",
       "4                   0           0.0                4                 1   \n",
       "...               ...           ...              ...               ...   \n",
       "18311               0           0.0                8                 2   \n",
       "18312               0           0.0                3                 0   \n",
       "18313               0           0.0                7                 2   \n",
       "18314               0           0.0                8                 1   \n",
       "18315               0           0.0                6                 3   \n",
       "\n",
       "       ratio_lemmatized  len_headline_s3  ...  norm_numb_VED  norm_numb_VB  \\\n",
       "0              0.181818                7  ...       0.000000      0.000000   \n",
       "1              0.444444                7  ...       0.000000      0.111111   \n",
       "2              0.200000                5  ...       0.000000      0.000000   \n",
       "3              0.181818                9  ...       0.000000      0.090909   \n",
       "4              0.250000                4  ...       0.000000      0.000000   \n",
       "...                 ...              ...  ...            ...           ...   \n",
       "18311          0.250000                6  ...       0.000000      0.000000   \n",
       "18312          0.000000                1  ...       0.000000      0.000000   \n",
       "18313          0.285714                7  ...       0.000000      0.000000   \n",
       "18314          0.125000                6  ...       0.125000      0.000000   \n",
       "18315          0.500000                4  ...       0.333333      0.166667   \n",
       "\n",
       "       norm_numb_VING  norm_numb_ADJ  norm_numb_ADV  norm_numb_DT  \\\n",
       "0            0.090909       0.181818       0.000000      0.181818   \n",
       "1            0.111111       0.111111       0.111111      0.000000   \n",
       "2            0.000000       0.400000       0.200000      0.000000   \n",
       "3            0.090909       0.181818       0.000000      0.090909   \n",
       "4            0.000000       0.500000       0.000000      0.000000   \n",
       "...               ...            ...            ...           ...   \n",
       "18311        0.000000       0.375000       0.000000      0.125000   \n",
       "18312        0.000000       0.000000       0.000000      0.000000   \n",
       "18313        0.142857       0.142857       0.000000      0.000000   \n",
       "18314        0.000000       0.250000       0.000000      0.000000   \n",
       "18315        0.000000       0.000000       0.166667      0.000000   \n",
       "\n",
       "       norm_numb_CD  norm_numb_PR  depth_syntree  norm_depth_syntree  \n",
       "0          0.090909      0.000000              5            0.454545  \n",
       "1          0.000000      0.000000              4            0.444444  \n",
       "2          0.000000      0.000000              3            0.600000  \n",
       "3          0.000000      0.000000              5            0.454545  \n",
       "4          0.000000      0.000000              3            0.750000  \n",
       "...             ...           ...            ...                 ...  \n",
       "18311      0.125000      0.000000              3            0.375000  \n",
       "18312      0.000000      0.333333              3            1.000000  \n",
       "18313      0.000000      0.000000              4            0.571429  \n",
       "18314      0.000000      0.000000              5            0.625000  \n",
       "18315      0.000000      0.166667              4            0.666667  \n",
       "\n",
       "[18316 rows x 52 columns]"
      ]
     },
     "execution_count": 292,
     "metadata": {},
     "output_type": "execute_result"
    }
   ],
   "source": [
    "data_train_ft"
   ]
  },
  {
   "cell_type": "code",
   "execution_count": null,
   "metadata": {},
   "outputs": [],
   "source": [
    "X_train = data_train_ft.drop(columns=['is_sarcastic'])\n",
    "y_train = data_train_ft['is_sarcastic']\n",
    "X_train = np.asarray(X_train)\n",
    "y_train = np.asarray(y_train)"
   ]
  },
  {
   "cell_type": "code",
   "execution_count": 305,
   "metadata": {},
   "outputs": [],
   "source": [
    "X_validate = data_validate_ft.drop(columns=['is_sarcastic'])\n",
    "y_validate = data_validate_ft['is_sarcastic']\n",
    "X_validate = np.asarray(X_validate)\n",
    "y_validate = np.asarray(y_validate)"
   ]
  },
  {
   "cell_type": "code",
   "execution_count": 367,
   "metadata": {},
   "outputs": [],
   "source": [
    "feature_names = list(data_validate_ft.drop(columns=['is_sarcastic']).columns)"
   ]
  },
  {
   "cell_type": "markdown",
   "metadata": {},
   "source": [
    "## RF"
   ]
  },
  {
   "cell_type": "markdown",
   "metadata": {
    "heading_collapsed": true
   },
   "source": [
    "### GridSearch"
   ]
  },
  {
   "cell_type": "code",
   "execution_count": 331,
   "metadata": {
    "hidden": true
   },
   "outputs": [
    {
     "name": "stdout",
     "output_type": "stream",
     "text": [
      "Fitting 5 folds for each of 54 candidates, totalling 270 fits\n"
     ]
    },
    {
     "name": "stderr",
     "output_type": "stream",
     "text": [
      "[Parallel(n_jobs=-1)]: Using backend LokyBackend with 16 concurrent workers.\n",
      "[Parallel(n_jobs=-1)]: Done  18 tasks      | elapsed:   16.2s\n",
      "[Parallel(n_jobs=-1)]: Done 168 tasks      | elapsed:  1.8min\n",
      "[Parallel(n_jobs=-1)]: Done 270 out of 270 | elapsed:  2.8min finished\n"
     ]
    },
    {
     "data": {
      "text/plain": [
       "GridSearchCV(estimator=RandomForestClassifier(), n_jobs=-1,\n",
       "             param_grid={'max_depth': [30, 40, 50], 'min_samples_leaf': [2, 5],\n",
       "                         'min_samples_split': [5, 7, 10],\n",
       "                         'n_estimators': [200, 250, 300]},\n",
       "             verbose=1)"
      ]
     },
     "execution_count": 331,
     "metadata": {},
     "output_type": "execute_result"
    }
   ],
   "source": [
    "from sklearn.model_selection import GridSearchCV\n",
    "\n",
    "hypara = {\n",
    "    'max_depth': [30, 40, 50],\n",
    "    'n_estimators': [200, 250, 300],\n",
    "    'min_samples_split': [5, 7, 10],\n",
    "    'min_samples_leaf': [2, 5],\n",
    "}\n",
    "\n",
    "model_cv_rf = GridSearchCV(RandomForestClassifier(), hypara, verbose=1, n_jobs=-1)\n",
    "model_cv_rf.fit(X_train, y_train)"
   ]
  },
  {
   "cell_type": "code",
   "execution_count": 332,
   "metadata": {
    "hidden": true
   },
   "outputs": [
    {
     "data": {
      "text/plain": [
       "0.7186612525586324"
      ]
     },
     "execution_count": 332,
     "metadata": {},
     "output_type": "execute_result"
    }
   ],
   "source": [
    "model_cv_rf.best_score_"
   ]
  },
  {
   "cell_type": "code",
   "execution_count": 334,
   "metadata": {
    "hidden": true
   },
   "outputs": [
    {
     "data": {
      "text/plain": [
       "{'max_depth': 40,\n",
       " 'min_samples_leaf': 5,\n",
       " 'min_samples_split': 7,\n",
       " 'n_estimators': 250}"
      ]
     },
     "execution_count": 334,
     "metadata": {},
     "output_type": "execute_result"
    }
   ],
   "source": [
    "model_cv_rf.best_params_"
   ]
  },
  {
   "cell_type": "code",
   "execution_count": 333,
   "metadata": {
    "hidden": true
   },
   "outputs": [
    {
     "data": {
      "text/plain": [
       "{'accuracy': 0.7097619567591177,\n",
       " 'precision': 0.6943430656934306,\n",
       " 'recall': 0.69784502521779,\n",
       " 'f1': 0.696089640978733,\n",
       " 'tp': 1522,\n",
       " 'tn': 1728,\n",
       " 'fp': 670,\n",
       " 'fn': 659,\n",
       " 'auc': 0.7869657926003596}"
      ]
     },
     "execution_count": 333,
     "metadata": {},
     "output_type": "execute_result"
    }
   ],
   "source": [
    "validate_pred = model_cv_rf.predict_proba(X_validate)\n",
    "validate_pred = validate_pred[:,1]\n",
    "metrics = calculate_metric(y_validate, validate_pred)\n",
    "metrics"
   ]
  },
  {
   "cell_type": "markdown",
   "metadata": {},
   "source": [
    "### Train RF"
   ]
  },
  {
   "cell_type": "code",
   "execution_count": 363,
   "metadata": {},
   "outputs": [
    {
     "data": {
      "text/plain": [
       "RandomForestClassifier(max_depth=30, min_samples_leaf=5, min_samples_split=7,\n",
       "                       n_estimators=250, random_state=1509)"
      ]
     },
     "execution_count": 363,
     "metadata": {},
     "output_type": "execute_result"
    }
   ],
   "source": [
    "from sklearn.ensemble import RandomForestClassifier\n",
    "\n",
    "hypara = {\n",
    "    'random_state': 1509,\n",
    "    'max_depth': 30,\n",
    "    'n_estimators': 250,\n",
    "    'min_samples_split': 7,\n",
    "    'min_samples_leaf': 5,\n",
    "    \n",
    "}\n",
    "model_rf = RandomForestClassifier(**hypara)\n",
    "model_rf.fit(X_train, y_train)"
   ]
  },
  {
   "cell_type": "code",
   "execution_count": 364,
   "metadata": {},
   "outputs": [
    {
     "data": {
      "text/plain": [
       "{'accuracy': 0.8994867875081896,\n",
       " 'precision': 0.9017388260007002,\n",
       " 'recall': 0.8855145542058217,\n",
       " 'f1': 0.893553050014455,\n",
       " 'tp': 7727,\n",
       " 'tn': 8748,\n",
       " 'fp': 842,\n",
       " 'fn': 999,\n",
       " 'auc': 0.9660450281385535}"
      ]
     },
     "execution_count": 364,
     "metadata": {},
     "output_type": "execute_result"
    }
   ],
   "source": [
    "train_pred = model_rf.predict_proba(X_train)\n",
    "train_pred = train_pred[:,1]\n",
    "metrics = calculate_metric(y_train, train_pred)\n",
    "metrics"
   ]
  },
  {
   "cell_type": "code",
   "execution_count": 365,
   "metadata": {},
   "outputs": [
    {
     "data": {
      "text/plain": [
       "{'accuracy': 0.7082332386984058,\n",
       " 'precision': 0.6930105070808589,\n",
       " 'recall': 0.6955524988537368,\n",
       " 'f1': 0.694279176201373,\n",
       " 'tp': 1517,\n",
       " 'tn': 1726,\n",
       " 'fp': 672,\n",
       " 'fn': 664,\n",
       " 'auc': 0.7865405566842918}"
      ]
     },
     "execution_count": 365,
     "metadata": {},
     "output_type": "execute_result"
    }
   ],
   "source": [
    "validate_pred = model_rf.predict_proba(X_validate)\n",
    "validate_pred = validate_pred[:,1]\n",
    "metrics = calculate_metric(y_validate, validate_pred)\n",
    "metrics"
   ]
  },
  {
   "cell_type": "markdown",
   "metadata": {},
   "source": [
    "### Feature Importance"
   ]
  },
  {
   "cell_type": "code",
   "execution_count": 380,
   "metadata": {},
   "outputs": [],
   "source": [
    "from sklearn.inspection import permutation_importance\n",
    "\n",
    "result = permutation_importance(model_rf, X_train, y_train, n_repeats=10,\n",
    "                                random_state=1509, n_jobs=-1)\n",
    "sorted_idx = result.importances_mean.argsort()"
   ]
  },
  {
   "cell_type": "code",
   "execution_count": 381,
   "metadata": {},
   "outputs": [
    {
     "data": {
      "image/png": "[encoded data removed]",
      "text/plain": [
       "<Figure size 1440x720 with 1 Axes>"
      ]
     },
     "metadata": {
      "needs_background": "light"
     },
     "output_type": "display_data"
    }
   ],
   "source": [
    "fig, ax = plt.subplots(figsize=(20, 10))\n",
    "ax.boxplot(result.importances[sorted_idx].T,\n",
    "           vert=False, labels=np.asarray(feature_names)[sorted_idx])\n",
    "ax.set_title(\"Permutation Importances (validate set)\")\n",
    "fig.tight_layout()\n",
    "plt.show()"
   ]
  },
  {
   "cell_type": "markdown",
   "metadata": {},
   "source": [
    "## SVM"
   ]
  },
  {
   "cell_type": "code",
   "execution_count": 384,
   "metadata": {},
   "outputs": [
    {
     "name": "stderr",
     "output_type": "stream",
     "text": [
      "/home/nmduy/anaconda3/envs/graph/lib/python3.7/site-packages/sklearn/model_selection/_search.py:849: FutureWarning: The parameter 'iid' is deprecated in 0.22 and will be removed in 0.24.\n",
      "  \"removed in 0.24.\", FutureWarning\n"
     ]
    },
    {
     "data": {
      "text/plain": [
       "GridSearchCV(cv=10,\n",
       "             estimator=Pipeline(steps=[('preprocess', StandardScaler()),\n",
       "                                       ('svm', SVC(gamma='auto'))]),\n",
       "             iid=False, param_grid={'svm__C': [0.1, 0.5, 1, 2, 5, 10]})"
      ]
     },
     "execution_count": 384,
     "metadata": {},
     "output_type": "execute_result"
    }
   ],
   "source": [
    "from sklearn.pipeline import make_pipeline, Pipeline\n",
    "from sklearn.preprocessing import StandardScaler\n",
    "from sklearn.svm import SVC\n",
    "\n",
    "pipe = Pipeline(steps=[('preprocess', StandardScaler()), ('svm', SVC(gamma='auto'))])\n",
    "\n",
    "param_grid = {\n",
    "    'svm__C' : [0.1, 0.5, 1, 2, 5, 10],\n",
    "}\n",
    "\n",
    "search = GridSearchCV(pipe, param_grid, cv=10, iid=False, refit=True)\n",
    "search.fit(X_train, y_train)\n"
   ]
  },
  {
   "cell_type": "code",
   "execution_count": null,
   "metadata": {},
   "outputs": [],
   "source": []
  }
 ],
 "metadata": {
  "kernelspec": {
   "display_name": "Python 3",
   "language": "python",
   "name": "python3"
  },
  "language_info": {
   "codemirror_mode": {
    "name": "ipython",
    "version": 3
   },
   "file_extension": ".py",
   "mimetype": "text/x-python",
   "name": "python",
   "nbconvert_exporter": "python",
   "pygments_lexer": "ipython3",
   "version": "3.7.9"
  }
 },
 "nbformat": 4,
 "nbformat_minor": 4
}
